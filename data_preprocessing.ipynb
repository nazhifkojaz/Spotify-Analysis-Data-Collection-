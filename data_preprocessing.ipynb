{
 "cells": [
  {
   "cell_type": "markdown",
   "metadata": {},
   "source": [
    "# Library Imports"
   ]
  },
  {
   "cell_type": "code",
   "execution_count": 2,
   "metadata": {},
   "outputs": [],
   "source": [
    "import pandas as pd\n",
    "import seaborn as sns\n",
    "import numpy as np\n",
    "import matplotlib.pyplot as plt"
   ]
  },
  {
   "cell_type": "code",
   "execution_count": 171,
   "metadata": {},
   "outputs": [],
   "source": [
    "pd.set_option('display.max_rows', 500)"
   ]
  },
  {
   "cell_type": "markdown",
   "metadata": {},
   "source": [
    "# Tracks Streaming Data"
   ]
  },
  {
   "cell_type": "markdown",
   "metadata": {},
   "source": [
    "## Data Exploration / EDA"
   ]
  },
  {
   "cell_type": "code",
   "execution_count": 218,
   "metadata": {},
   "outputs": [
    {
     "name": "stderr",
     "output_type": "stream",
     "text": [
      "C:\\Users\\Kim\\AppData\\Local\\Temp\\ipykernel_18888\\4189168743.py:2: DtypeWarning: Columns (14) have mixed types. Specify dtype option on import or set low_memory=False.\n",
      "  tracks_df = pd.read_csv('datasets/tracks_df.csv')\n"
     ]
    },
    {
     "data": {
      "text/html": [
       "<div>\n",
       "<style scoped>\n",
       "    .dataframe tbody tr th:only-of-type {\n",
       "        vertical-align: middle;\n",
       "    }\n",
       "\n",
       "    .dataframe tbody tr th {\n",
       "        vertical-align: top;\n",
       "    }\n",
       "\n",
       "    .dataframe thead th {\n",
       "        text-align: right;\n",
       "    }\n",
       "</style>\n",
       "<table border=\"1\" class=\"dataframe\">\n",
       "  <thead>\n",
       "    <tr style=\"text-align: right;\">\n",
       "      <th></th>\n",
       "      <th>ts</th>\n",
       "      <th>platform</th>\n",
       "      <th>ms_played</th>\n",
       "      <th>conn_country</th>\n",
       "      <th>master_metadata_track_name</th>\n",
       "      <th>master_metadata_album_artist_name</th>\n",
       "      <th>master_metadata_album_album_name</th>\n",
       "      <th>spotify_track_uri</th>\n",
       "      <th>episode_name</th>\n",
       "      <th>episode_show_name</th>\n",
       "      <th>spotify_episode_uri</th>\n",
       "      <th>reason_start</th>\n",
       "      <th>reason_end</th>\n",
       "      <th>shuffle</th>\n",
       "      <th>skipped</th>\n",
       "      <th>offline</th>\n",
       "      <th>offline_timestamp</th>\n",
       "      <th>incognito_mode</th>\n",
       "    </tr>\n",
       "  </thead>\n",
       "  <tbody>\n",
       "    <tr>\n",
       "      <th>101494</th>\n",
       "      <td>2022-08-17T04:05:18Z</td>\n",
       "      <td>Android OS 11 API 30 (OnePlus, HD1910)</td>\n",
       "      <td>152898</td>\n",
       "      <td>JP</td>\n",
       "      <td>Fuck The Pain Away (From \"Sex Education\")</td>\n",
       "      <td>Geek Music</td>\n",
       "      <td>Fuck The Pain Away (From \"Sex Education\")</td>\n",
       "      <td>spotify:track:7lerqaaEpBrlzmP0p1jyXn</td>\n",
       "      <td>NaN</td>\n",
       "      <td>NaN</td>\n",
       "      <td>NaN</td>\n",
       "      <td>trackdone</td>\n",
       "      <td>trackdone</td>\n",
       "      <td>False</td>\n",
       "      <td>NaN</td>\n",
       "      <td>False</td>\n",
       "      <td>1660708963043</td>\n",
       "      <td>False</td>\n",
       "    </tr>\n",
       "    <tr>\n",
       "      <th>97481</th>\n",
       "      <td>2022-06-19T23:34:00Z</td>\n",
       "      <td>Android OS 11 API 30 (OnePlus, HD1910)</td>\n",
       "      <td>218335</td>\n",
       "      <td>ID</td>\n",
       "      <td>U Deserve</td>\n",
       "      <td>Wasia Project</td>\n",
       "      <td>U Deserve</td>\n",
       "      <td>spotify:track:1muiZAUjjzd3KShPWYspQM</td>\n",
       "      <td>NaN</td>\n",
       "      <td>NaN</td>\n",
       "      <td>NaN</td>\n",
       "      <td>trackdone</td>\n",
       "      <td>trackdone</td>\n",
       "      <td>False</td>\n",
       "      <td>NaN</td>\n",
       "      <td>True</td>\n",
       "      <td>1655678016107</td>\n",
       "      <td>False</td>\n",
       "    </tr>\n",
       "    <tr>\n",
       "      <th>124946</th>\n",
       "      <td>2023-08-27T19:05:14Z</td>\n",
       "      <td>android</td>\n",
       "      <td>169723</td>\n",
       "      <td>JP</td>\n",
       "      <td>Interlude III</td>\n",
       "      <td>Tessa Violet</td>\n",
       "      <td>Bad Ideas</td>\n",
       "      <td>spotify:track:2gKFOjYqtJpSsIXdRxZQfH</td>\n",
       "      <td>NaN</td>\n",
       "      <td>NaN</td>\n",
       "      <td>NaN</td>\n",
       "      <td>trackdone</td>\n",
       "      <td>trackdone</td>\n",
       "      <td>True</td>\n",
       "      <td>False</td>\n",
       "      <td>True</td>\n",
       "      <td>1693162943</td>\n",
       "      <td>False</td>\n",
       "    </tr>\n",
       "    <tr>\n",
       "      <th>80873</th>\n",
       "      <td>2021-08-01T04:19:28Z</td>\n",
       "      <td>Android OS 10 API 29 (OnePlus, ONEPLUS A5010)</td>\n",
       "      <td>166024</td>\n",
       "      <td>JP</td>\n",
       "      <td>Head &amp; Heart (feat. MNEK)</td>\n",
       "      <td>Joel Corry</td>\n",
       "      <td>Head &amp; Heart (feat. MNEK)</td>\n",
       "      <td>spotify:track:6cx06DFPPHchuUAcTxznu9</td>\n",
       "      <td>NaN</td>\n",
       "      <td>NaN</td>\n",
       "      <td>NaN</td>\n",
       "      <td>trackdone</td>\n",
       "      <td>trackdone</td>\n",
       "      <td>False</td>\n",
       "      <td>NaN</td>\n",
       "      <td>False</td>\n",
       "      <td>1627791400184</td>\n",
       "      <td>False</td>\n",
       "    </tr>\n",
       "    <tr>\n",
       "      <th>12923</th>\n",
       "      <td>2017-10-21T14:51:55Z</td>\n",
       "      <td>Windows 10 (10.0.14393; x64)</td>\n",
       "      <td>0</td>\n",
       "      <td>ID</td>\n",
       "      <td>Dirty Harry</td>\n",
       "      <td>Gorillaz</td>\n",
       "      <td>Demon Days</td>\n",
       "      <td>spotify:track:2bfGNzdiRa1jXZRdfssSzR</td>\n",
       "      <td>NaN</td>\n",
       "      <td>NaN</td>\n",
       "      <td>NaN</td>\n",
       "      <td>fwdbtn</td>\n",
       "      <td>NaN</td>\n",
       "      <td>True</td>\n",
       "      <td>NaN</td>\n",
       "      <td>False</td>\n",
       "      <td>1508596904708</td>\n",
       "      <td>False</td>\n",
       "    </tr>\n",
       "  </tbody>\n",
       "</table>\n",
       "</div>"
      ],
      "text/plain": [
       "                          ts                                       platform  \\\n",
       "101494  2022-08-17T04:05:18Z         Android OS 11 API 30 (OnePlus, HD1910)   \n",
       "97481   2022-06-19T23:34:00Z         Android OS 11 API 30 (OnePlus, HD1910)   \n",
       "124946  2023-08-27T19:05:14Z                                        android   \n",
       "80873   2021-08-01T04:19:28Z  Android OS 10 API 29 (OnePlus, ONEPLUS A5010)   \n",
       "12923   2017-10-21T14:51:55Z                   Windows 10 (10.0.14393; x64)   \n",
       "\n",
       "        ms_played conn_country                 master_metadata_track_name  \\\n",
       "101494     152898           JP  Fuck The Pain Away (From \"Sex Education\")   \n",
       "97481      218335           ID                                  U Deserve   \n",
       "124946     169723           JP                              Interlude III   \n",
       "80873      166024           JP                  Head & Heart (feat. MNEK)   \n",
       "12923           0           ID                                Dirty Harry   \n",
       "\n",
       "       master_metadata_album_artist_name  \\\n",
       "101494                        Geek Music   \n",
       "97481                      Wasia Project   \n",
       "124946                      Tessa Violet   \n",
       "80873                         Joel Corry   \n",
       "12923                           Gorillaz   \n",
       "\n",
       "                 master_metadata_album_album_name  \\\n",
       "101494  Fuck The Pain Away (From \"Sex Education\")   \n",
       "97481                                   U Deserve   \n",
       "124946                                  Bad Ideas   \n",
       "80873                   Head & Heart (feat. MNEK)   \n",
       "12923                                  Demon Days   \n",
       "\n",
       "                           spotify_track_uri  episode_name  episode_show_name  \\\n",
       "101494  spotify:track:7lerqaaEpBrlzmP0p1jyXn           NaN                NaN   \n",
       "97481   spotify:track:1muiZAUjjzd3KShPWYspQM           NaN                NaN   \n",
       "124946  spotify:track:2gKFOjYqtJpSsIXdRxZQfH           NaN                NaN   \n",
       "80873   spotify:track:6cx06DFPPHchuUAcTxznu9           NaN                NaN   \n",
       "12923   spotify:track:2bfGNzdiRa1jXZRdfssSzR           NaN                NaN   \n",
       "\n",
       "        spotify_episode_uri reason_start reason_end  shuffle skipped  offline  \\\n",
       "101494                  NaN    trackdone  trackdone    False     NaN    False   \n",
       "97481                   NaN    trackdone  trackdone    False     NaN     True   \n",
       "124946                  NaN    trackdone  trackdone     True   False     True   \n",
       "80873                   NaN    trackdone  trackdone    False     NaN    False   \n",
       "12923                   NaN       fwdbtn        NaN     True     NaN    False   \n",
       "\n",
       "        offline_timestamp  incognito_mode  \n",
       "101494      1660708963043           False  \n",
       "97481       1655678016107           False  \n",
       "124946         1693162943           False  \n",
       "80873       1627791400184           False  \n",
       "12923       1508596904708           False  "
      ]
     },
     "execution_count": 218,
     "metadata": {},
     "output_type": "execute_result"
    }
   ],
   "source": [
    "# let's load the tracks_df again\n",
    "tracks_df = pd.read_csv('datasets/tracks_df.csv')\n",
    "tracks_df.sample(5)"
   ]
  },
  {
   "cell_type": "code",
   "execution_count": 3,
   "metadata": {},
   "outputs": [
    {
     "name": "stdout",
     "output_type": "stream",
     "text": [
      "(129393, 18)\n",
      "Index(['ts', 'platform', 'ms_played', 'conn_country',\n",
      "       'master_metadata_track_name', 'master_metadata_album_artist_name',\n",
      "       'master_metadata_album_album_name', 'spotify_track_uri', 'episode_name',\n",
      "       'episode_show_name', 'spotify_episode_uri', 'reason_start',\n",
      "       'reason_end', 'shuffle', 'skipped', 'offline', 'offline_timestamp',\n",
      "       'incognito_mode'],\n",
      "      dtype='object')\n"
     ]
    }
   ],
   "source": [
    "print(tracks_df.shape)\n",
    "print(tracks_df.columns)"
   ]
  },
  {
   "cell_type": "code",
   "execution_count": 4,
   "metadata": {},
   "outputs": [
    {
     "name": "stdout",
     "output_type": "stream",
     "text": [
      "<class 'pandas.core.frame.DataFrame'>\n",
      "RangeIndex: 129393 entries, 0 to 129392\n",
      "Data columns (total 18 columns):\n",
      " #   Column                             Non-Null Count   Dtype  \n",
      "---  ------                             --------------   -----  \n",
      " 0   ts                                 129393 non-null  object \n",
      " 1   platform                           129393 non-null  object \n",
      " 2   ms_played                          129393 non-null  int64  \n",
      " 3   conn_country                       129393 non-null  object \n",
      " 4   master_metadata_track_name         129393 non-null  object \n",
      " 5   master_metadata_album_artist_name  129393 non-null  object \n",
      " 6   master_metadata_album_album_name   129393 non-null  object \n",
      " 7   spotify_track_uri                  129393 non-null  object \n",
      " 8   episode_name                       0 non-null       float64\n",
      " 9   episode_show_name                  0 non-null       float64\n",
      " 10  spotify_episode_uri                0 non-null       float64\n",
      " 11  reason_start                       129393 non-null  object \n",
      " 12  reason_end                         108855 non-null  object \n",
      " 13  shuffle                            129393 non-null  bool   \n",
      " 14  skipped                            23972 non-null   object \n",
      " 15  offline                            129393 non-null  bool   \n",
      " 16  offline_timestamp                  129393 non-null  int64  \n",
      " 17  incognito_mode                     129393 non-null  bool   \n",
      "dtypes: bool(3), float64(3), int64(2), object(10)\n",
      "memory usage: 15.2+ MB\n"
     ]
    }
   ],
   "source": [
    "# let's take a look at the tracks_df again\n",
    "tracks_df.info()"
   ]
  },
  {
   "cell_type": "markdown",
   "metadata": {},
   "source": [
    "Columns description\n",
    "- ts : timestamp played\n",
    "- ms_played : duration the track is played (ms)\n",
    "- conn_country : country where the track was played\n",
    "- master_metadata_track_name / artist_name / album_name : self explained\n",
    "- spotify_track_uri : unique identifier for each track\n",
    "- episode_name, episode_show_name, spotify_episode_uri : columns used for podcasts-related rows, might need to remove this later\n",
    "- reason_start / end : a value telling why track is played\n",
    "- shuffle / skipped / offline / incognito_mode : value whether the track if shuffle mode is used when the track is played, track skipped or when the track is played in offline mode or incognito_mode\n",
    "- offline_timestamp : timestamp when the offline mode is used"
   ]
  },
  {
   "cell_type": "code",
   "execution_count": 5,
   "metadata": {},
   "outputs": [
    {
     "data": {
      "text/plain": [
       "ts                                   121914\n",
       "platform                                 32\n",
       "ms_played                             26468\n",
       "conn_country                              9\n",
       "master_metadata_track_name             4783\n",
       "master_metadata_album_artist_name      1646\n",
       "master_metadata_album_album_name       2700\n",
       "spotify_track_uri                      5245\n",
       "episode_name                              0\n",
       "episode_show_name                         0\n",
       "spotify_episode_uri                       0\n",
       "reason_start                              8\n",
       "reason_end                               10\n",
       "shuffle                                   2\n",
       "skipped                                   4\n",
       "offline                                   2\n",
       "offline_timestamp                    127519\n",
       "incognito_mode                            2\n",
       "dtype: int64"
      ]
     },
     "execution_count": 5,
     "metadata": {},
     "output_type": "execute_result"
    }
   ],
   "source": [
    "# checking the number of unique from each column\n",
    "tracks_df.nunique()"
   ]
  },
  {
   "cell_type": "code",
   "execution_count": 6,
   "metadata": {},
   "outputs": [
    {
     "data": {
      "text/html": [
       "<div>\n",
       "<style scoped>\n",
       "    .dataframe tbody tr th:only-of-type {\n",
       "        vertical-align: middle;\n",
       "    }\n",
       "\n",
       "    .dataframe tbody tr th {\n",
       "        vertical-align: top;\n",
       "    }\n",
       "\n",
       "    .dataframe thead th {\n",
       "        text-align: right;\n",
       "    }\n",
       "</style>\n",
       "<table border=\"1\" class=\"dataframe\">\n",
       "  <thead>\n",
       "    <tr style=\"text-align: right;\">\n",
       "      <th></th>\n",
       "      <th>ts</th>\n",
       "      <th>platform</th>\n",
       "      <th>conn_country</th>\n",
       "      <th>master_metadata_track_name</th>\n",
       "      <th>master_metadata_album_artist_name</th>\n",
       "      <th>master_metadata_album_album_name</th>\n",
       "      <th>spotify_track_uri</th>\n",
       "      <th>reason_start</th>\n",
       "      <th>reason_end</th>\n",
       "      <th>skipped</th>\n",
       "    </tr>\n",
       "  </thead>\n",
       "  <tbody>\n",
       "    <tr>\n",
       "      <th>count</th>\n",
       "      <td>129393</td>\n",
       "      <td>129393</td>\n",
       "      <td>129393</td>\n",
       "      <td>129393</td>\n",
       "      <td>129393</td>\n",
       "      <td>129393</td>\n",
       "      <td>129393</td>\n",
       "      <td>129393</td>\n",
       "      <td>108855</td>\n",
       "      <td>23972</td>\n",
       "    </tr>\n",
       "    <tr>\n",
       "      <th>unique</th>\n",
       "      <td>121914</td>\n",
       "      <td>32</td>\n",
       "      <td>9</td>\n",
       "      <td>4783</td>\n",
       "      <td>1646</td>\n",
       "      <td>2700</td>\n",
       "      <td>5245</td>\n",
       "      <td>8</td>\n",
       "      <td>10</td>\n",
       "      <td>4</td>\n",
       "    </tr>\n",
       "    <tr>\n",
       "      <th>top</th>\n",
       "      <td>2019-06-28T06:57:01Z</td>\n",
       "      <td>Android OS 11 API 30 (OnePlus, HD1910)</td>\n",
       "      <td>JP</td>\n",
       "      <td>Interdimensional Portal Leading to a Cute Plac...</td>\n",
       "      <td>In Love With a Ghost</td>\n",
       "      <td>Church Of Scars</td>\n",
       "      <td>spotify:track:1HW1arhhmKY3jI7QyARvsf</td>\n",
       "      <td>trackdone</td>\n",
       "      <td>trackdone</td>\n",
       "      <td>False</td>\n",
       "    </tr>\n",
       "    <tr>\n",
       "      <th>freq</th>\n",
       "      <td>208</td>\n",
       "      <td>21563</td>\n",
       "      <td>103209</td>\n",
       "      <td>762</td>\n",
       "      <td>11074</td>\n",
       "      <td>3173</td>\n",
       "      <td>762</td>\n",
       "      <td>96588</td>\n",
       "      <td>82153</td>\n",
       "      <td>17475</td>\n",
       "    </tr>\n",
       "  </tbody>\n",
       "</table>\n",
       "</div>"
      ],
      "text/plain": [
       "                          ts                                platform  \\\n",
       "count                 129393                                  129393   \n",
       "unique                121914                                      32   \n",
       "top     2019-06-28T06:57:01Z  Android OS 11 API 30 (OnePlus, HD1910)   \n",
       "freq                     208                                   21563   \n",
       "\n",
       "       conn_country                         master_metadata_track_name  \\\n",
       "count        129393                                             129393   \n",
       "unique            9                                               4783   \n",
       "top              JP  Interdimensional Portal Leading to a Cute Plac...   \n",
       "freq         103209                                                762   \n",
       "\n",
       "       master_metadata_album_artist_name master_metadata_album_album_name  \\\n",
       "count                             129393                           129393   \n",
       "unique                              1646                             2700   \n",
       "top                 In Love With a Ghost                  Church Of Scars   \n",
       "freq                               11074                             3173   \n",
       "\n",
       "                           spotify_track_uri reason_start reason_end skipped  \n",
       "count                                 129393       129393     108855   23972  \n",
       "unique                                  5245            8         10       4  \n",
       "top     spotify:track:1HW1arhhmKY3jI7QyARvsf    trackdone  trackdone   False  \n",
       "freq                                     762        96588      82153   17475  "
      ]
     },
     "execution_count": 6,
     "metadata": {},
     "output_type": "execute_result"
    }
   ],
   "source": [
    "# descriptive analysis for categorical data\n",
    "tracks_df.describe(include='object')"
   ]
  },
  {
   "cell_type": "code",
   "execution_count": 7,
   "metadata": {},
   "outputs": [
    {
     "data": {
      "text/html": [
       "<div>\n",
       "<style scoped>\n",
       "    .dataframe tbody tr th:only-of-type {\n",
       "        vertical-align: middle;\n",
       "    }\n",
       "\n",
       "    .dataframe tbody tr th {\n",
       "        vertical-align: top;\n",
       "    }\n",
       "\n",
       "    .dataframe thead th {\n",
       "        text-align: right;\n",
       "    }\n",
       "</style>\n",
       "<table border=\"1\" class=\"dataframe\">\n",
       "  <thead>\n",
       "    <tr style=\"text-align: right;\">\n",
       "      <th></th>\n",
       "      <th>ms_played</th>\n",
       "      <th>episode_name</th>\n",
       "      <th>episode_show_name</th>\n",
       "      <th>spotify_episode_uri</th>\n",
       "      <th>offline_timestamp</th>\n",
       "    </tr>\n",
       "  </thead>\n",
       "  <tbody>\n",
       "    <tr>\n",
       "      <th>count</th>\n",
       "      <td>1.293930e+05</td>\n",
       "      <td>0.0</td>\n",
       "      <td>0.0</td>\n",
       "      <td>0.0</td>\n",
       "      <td>1.293930e+05</td>\n",
       "    </tr>\n",
       "    <tr>\n",
       "      <th>mean</th>\n",
       "      <td>1.569280e+05</td>\n",
       "      <td>NaN</td>\n",
       "      <td>NaN</td>\n",
       "      <td>NaN</td>\n",
       "      <td>1.268591e+12</td>\n",
       "    </tr>\n",
       "    <tr>\n",
       "      <th>std</th>\n",
       "      <td>9.212008e+04</td>\n",
       "      <td>NaN</td>\n",
       "      <td>NaN</td>\n",
       "      <td>NaN</td>\n",
       "      <td>6.274175e+11</td>\n",
       "    </tr>\n",
       "    <tr>\n",
       "      <th>min</th>\n",
       "      <td>0.000000e+00</td>\n",
       "      <td>NaN</td>\n",
       "      <td>NaN</td>\n",
       "      <td>NaN</td>\n",
       "      <td>0.000000e+00</td>\n",
       "    </tr>\n",
       "    <tr>\n",
       "      <th>25%</th>\n",
       "      <td>9.120000e+04</td>\n",
       "      <td>NaN</td>\n",
       "      <td>NaN</td>\n",
       "      <td>NaN</td>\n",
       "      <td>1.498709e+12</td>\n",
       "    </tr>\n",
       "    <tr>\n",
       "      <th>50%</th>\n",
       "      <td>1.829730e+05</td>\n",
       "      <td>NaN</td>\n",
       "      <td>NaN</td>\n",
       "      <td>NaN</td>\n",
       "      <td>1.551874e+12</td>\n",
       "    </tr>\n",
       "    <tr>\n",
       "      <th>75%</th>\n",
       "      <td>2.162130e+05</td>\n",
       "      <td>NaN</td>\n",
       "      <td>NaN</td>\n",
       "      <td>NaN</td>\n",
       "      <td>1.610864e+12</td>\n",
       "    </tr>\n",
       "    <tr>\n",
       "      <th>max</th>\n",
       "      <td>1.082813e+06</td>\n",
       "      <td>NaN</td>\n",
       "      <td>NaN</td>\n",
       "      <td>NaN</td>\n",
       "      <td>1.665763e+12</td>\n",
       "    </tr>\n",
       "  </tbody>\n",
       "</table>\n",
       "</div>"
      ],
      "text/plain": [
       "          ms_played  episode_name  episode_show_name  spotify_episode_uri  \\\n",
       "count  1.293930e+05           0.0                0.0                  0.0   \n",
       "mean   1.569280e+05           NaN                NaN                  NaN   \n",
       "std    9.212008e+04           NaN                NaN                  NaN   \n",
       "min    0.000000e+00           NaN                NaN                  NaN   \n",
       "25%    9.120000e+04           NaN                NaN                  NaN   \n",
       "50%    1.829730e+05           NaN                NaN                  NaN   \n",
       "75%    2.162130e+05           NaN                NaN                  NaN   \n",
       "max    1.082813e+06           NaN                NaN                  NaN   \n",
       "\n",
       "       offline_timestamp  \n",
       "count       1.293930e+05  \n",
       "mean        1.268591e+12  \n",
       "std         6.274175e+11  \n",
       "min         0.000000e+00  \n",
       "25%         1.498709e+12  \n",
       "50%         1.551874e+12  \n",
       "75%         1.610864e+12  \n",
       "max         1.665763e+12  "
      ]
     },
     "execution_count": 7,
     "metadata": {},
     "output_type": "execute_result"
    }
   ],
   "source": [
    "# descriptive analysis for numerical data\n",
    "tracks_df.describe()"
   ]
  },
  {
   "cell_type": "code",
   "execution_count": 8,
   "metadata": {},
   "outputs": [
    {
     "data": {
      "text/plain": [
       "<Axes: xlabel='ms_played', ylabel='Count'>"
      ]
     },
     "execution_count": 8,
     "metadata": {},
     "output_type": "execute_result"
    },
    {
     "data": {
      "image/png": "[encoded data removed]",
      "text/plain": [
       "<Figure size 640x480 with 1 Axes>"
      ]
     },
     "metadata": {},
     "output_type": "display_data"
    }
   ],
   "source": [
    "# histogram for ms_played rounded to nearest 1000 (in seconds) to see the distribution\n",
    "sns.histplot(tracks_df['ms_played'].round(-3), kde = True, bins=100)"
   ]
  },
  {
   "cell_type": "code",
   "execution_count": 9,
   "metadata": {},
   "outputs": [
    {
     "data": {
      "text/html": [
       "<div>\n",
       "<style scoped>\n",
       "    .dataframe tbody tr th:only-of-type {\n",
       "        vertical-align: middle;\n",
       "    }\n",
       "\n",
       "    .dataframe tbody tr th {\n",
       "        vertical-align: top;\n",
       "    }\n",
       "\n",
       "    .dataframe thead th {\n",
       "        text-align: right;\n",
       "    }\n",
       "</style>\n",
       "<table border=\"1\" class=\"dataframe\">\n",
       "  <thead>\n",
       "    <tr style=\"text-align: right;\">\n",
       "      <th></th>\n",
       "      <th>ts</th>\n",
       "      <th>platform</th>\n",
       "      <th>ms_played</th>\n",
       "      <th>conn_country</th>\n",
       "      <th>master_metadata_track_name</th>\n",
       "      <th>master_metadata_album_artist_name</th>\n",
       "      <th>master_metadata_album_album_name</th>\n",
       "      <th>spotify_track_uri</th>\n",
       "      <th>episode_name</th>\n",
       "      <th>episode_show_name</th>\n",
       "      <th>spotify_episode_uri</th>\n",
       "      <th>reason_start</th>\n",
       "      <th>reason_end</th>\n",
       "      <th>shuffle</th>\n",
       "      <th>skipped</th>\n",
       "      <th>offline</th>\n",
       "      <th>offline_timestamp</th>\n",
       "      <th>incognito_mode</th>\n",
       "    </tr>\n",
       "  </thead>\n",
       "  <tbody>\n",
       "    <tr>\n",
       "      <th>8849</th>\n",
       "      <td>2017-07-07T11:55:12Z</td>\n",
       "      <td>Android OS 7.1.1 API 25 (Sony, E6683)</td>\n",
       "      <td>0</td>\n",
       "      <td>ID</td>\n",
       "      <td>I Don't Know and I Don't Want to Know</td>\n",
       "      <td>In Love With a Ghost</td>\n",
       "      <td>Discography 2015-2016</td>\n",
       "      <td>spotify:track:600wewdSes7BMxXmm6UD7M</td>\n",
       "      <td>NaN</td>\n",
       "      <td>NaN</td>\n",
       "      <td>NaN</td>\n",
       "      <td>fwdbtn</td>\n",
       "      <td>NaN</td>\n",
       "      <td>True</td>\n",
       "      <td>NaN</td>\n",
       "      <td>False</td>\n",
       "      <td>1499428511363</td>\n",
       "      <td>False</td>\n",
       "    </tr>\n",
       "    <tr>\n",
       "      <th>128754</th>\n",
       "      <td>2023-11-06T06:09:01Z</td>\n",
       "      <td>android</td>\n",
       "      <td>0</td>\n",
       "      <td>JP</td>\n",
       "      <td>how can i pretend? - Demo</td>\n",
       "      <td>Wasia Project</td>\n",
       "      <td>how can i pretend?</td>\n",
       "      <td>spotify:track:4TKxkBv9vy8MgvHUUFVbH0</td>\n",
       "      <td>NaN</td>\n",
       "      <td>NaN</td>\n",
       "      <td>NaN</td>\n",
       "      <td>fwdbtn</td>\n",
       "      <td>backbtn</td>\n",
       "      <td>True</td>\n",
       "      <td>True</td>\n",
       "      <td>False</td>\n",
       "      <td>1699250939</td>\n",
       "      <td>False</td>\n",
       "    </tr>\n",
       "    <tr>\n",
       "      <th>13544</th>\n",
       "      <td>2017-11-06T11:51:33Z</td>\n",
       "      <td>Android OS 7.1.1 API 25 (Sony, E6683)</td>\n",
       "      <td>0</td>\n",
       "      <td>ID</td>\n",
       "      <td>Castle on the Hill</td>\n",
       "      <td>Ed Sheeran</td>\n",
       "      <td>÷</td>\n",
       "      <td>spotify:track:6PCUP3dWmTjcTtXY02oFdT</td>\n",
       "      <td>NaN</td>\n",
       "      <td>NaN</td>\n",
       "      <td>NaN</td>\n",
       "      <td>appload</td>\n",
       "      <td>NaN</td>\n",
       "      <td>True</td>\n",
       "      <td>NaN</td>\n",
       "      <td>False</td>\n",
       "      <td>1509969061690</td>\n",
       "      <td>False</td>\n",
       "    </tr>\n",
       "    <tr>\n",
       "      <th>22856</th>\n",
       "      <td>2018-05-26T13:39:37Z</td>\n",
       "      <td>Android OS 8.1.0 API 27 (OnePlus, ONEPLUS A5010)</td>\n",
       "      <td>0</td>\n",
       "      <td>JP</td>\n",
       "      <td>Mr. Blue Sky</td>\n",
       "      <td>Electric Light Orchestra</td>\n",
       "      <td>Out of the Blue</td>\n",
       "      <td>spotify:track:2RlgNHKcydI9sayD2Df2xp</td>\n",
       "      <td>NaN</td>\n",
       "      <td>NaN</td>\n",
       "      <td>NaN</td>\n",
       "      <td>fwdbtn</td>\n",
       "      <td>fwdbtn</td>\n",
       "      <td>True</td>\n",
       "      <td>NaN</td>\n",
       "      <td>False</td>\n",
       "      <td>1527341975948</td>\n",
       "      <td>False</td>\n",
       "    </tr>\n",
       "    <tr>\n",
       "      <th>24049</th>\n",
       "      <td>2018-06-09T08:30:40Z</td>\n",
       "      <td>Android OS 8.1.0 API 27 (OnePlus, ONEPLUS A5010)</td>\n",
       "      <td>0</td>\n",
       "      <td>JP</td>\n",
       "      <td>I Just Loved You (feat. Tomppabeats &amp; Oiseaubi...</td>\n",
       "      <td>In Love With a Ghost</td>\n",
       "      <td>Discography 2015-2016</td>\n",
       "      <td>spotify:track:51NwEhU00taacC9npdji7W</td>\n",
       "      <td>NaN</td>\n",
       "      <td>NaN</td>\n",
       "      <td>NaN</td>\n",
       "      <td>fwdbtn</td>\n",
       "      <td>fwdbtn</td>\n",
       "      <td>False</td>\n",
       "      <td>NaN</td>\n",
       "      <td>False</td>\n",
       "      <td>1528533036354</td>\n",
       "      <td>False</td>\n",
       "    </tr>\n",
       "  </tbody>\n",
       "</table>\n",
       "</div>"
      ],
      "text/plain": [
       "                          ts  \\\n",
       "8849    2017-07-07T11:55:12Z   \n",
       "128754  2023-11-06T06:09:01Z   \n",
       "13544   2017-11-06T11:51:33Z   \n",
       "22856   2018-05-26T13:39:37Z   \n",
       "24049   2018-06-09T08:30:40Z   \n",
       "\n",
       "                                                platform  ms_played  \\\n",
       "8849               Android OS 7.1.1 API 25 (Sony, E6683)          0   \n",
       "128754                                           android          0   \n",
       "13544              Android OS 7.1.1 API 25 (Sony, E6683)          0   \n",
       "22856   Android OS 8.1.0 API 27 (OnePlus, ONEPLUS A5010)          0   \n",
       "24049   Android OS 8.1.0 API 27 (OnePlus, ONEPLUS A5010)          0   \n",
       "\n",
       "       conn_country                         master_metadata_track_name  \\\n",
       "8849             ID              I Don't Know and I Don't Want to Know   \n",
       "128754           JP                          how can i pretend? - Demo   \n",
       "13544            ID                                 Castle on the Hill   \n",
       "22856            JP                                       Mr. Blue Sky   \n",
       "24049            JP  I Just Loved You (feat. Tomppabeats & Oiseaubi...   \n",
       "\n",
       "       master_metadata_album_artist_name master_metadata_album_album_name  \\\n",
       "8849                In Love With a Ghost            Discography 2015-2016   \n",
       "128754                     Wasia Project               how can i pretend?   \n",
       "13544                         Ed Sheeran                                ÷   \n",
       "22856           Electric Light Orchestra                  Out of the Blue   \n",
       "24049               In Love With a Ghost            Discography 2015-2016   \n",
       "\n",
       "                           spotify_track_uri  episode_name  episode_show_name  \\\n",
       "8849    spotify:track:600wewdSes7BMxXmm6UD7M           NaN                NaN   \n",
       "128754  spotify:track:4TKxkBv9vy8MgvHUUFVbH0           NaN                NaN   \n",
       "13544   spotify:track:6PCUP3dWmTjcTtXY02oFdT           NaN                NaN   \n",
       "22856   spotify:track:2RlgNHKcydI9sayD2Df2xp           NaN                NaN   \n",
       "24049   spotify:track:51NwEhU00taacC9npdji7W           NaN                NaN   \n",
       "\n",
       "        spotify_episode_uri reason_start reason_end  shuffle skipped  offline  \\\n",
       "8849                    NaN       fwdbtn        NaN     True     NaN    False   \n",
       "128754                  NaN       fwdbtn    backbtn     True    True    False   \n",
       "13544                   NaN      appload        NaN     True     NaN    False   \n",
       "22856                   NaN       fwdbtn     fwdbtn     True     NaN    False   \n",
       "24049                   NaN       fwdbtn     fwdbtn    False     NaN    False   \n",
       "\n",
       "        offline_timestamp  incognito_mode  \n",
       "8849        1499428511363           False  \n",
       "128754         1699250939           False  \n",
       "13544       1509969061690           False  \n",
       "22856       1527341975948           False  \n",
       "24049       1528533036354           False  "
      ]
     },
     "metadata": {},
     "output_type": "display_data"
    },
    {
     "name": "stdout",
     "output_type": "stream",
     "text": [
      "(3759, 18)\n"
     ]
    }
   ],
   "source": [
    "display(tracks_df[tracks_df['ms_played'] == 0].sample(5))\n",
    "print(tracks_df[tracks_df['ms_played'] == 0].shape)"
   ]
  },
  {
   "cell_type": "markdown",
   "metadata": {},
   "source": [
    "there are surprisingly a lot of rows with 0 ms_played, might need to check it later"
   ]
  },
  {
   "cell_type": "code",
   "execution_count": 10,
   "metadata": {},
   "outputs": [
    {
     "data": {
      "text/plain": [
       "platform\n",
       "Android OS 11 API 30 (OnePlus, HD1910)                       21563\n",
       "android                                                      20780\n",
       "Android OS 9 API 28 (OnePlus, ONEPLUS A5010)                 15578\n",
       "Android OS 10 API 29 (OnePlus, ONEPLUS A5010)                15124\n",
       "Android OS 8.1.0 API 27 (OnePlus, ONEPLUS A5010)             10919\n",
       "Windows 10 (10.0.17134; x64)                                  7099\n",
       "Android OS 7.1.1 API 25 (Sony, E6683)                         6847\n",
       "Windows 10 (10.0.14393; x64)                                  6764\n",
       "Windows 10 (10.0.18363; x64)                                  6702\n",
       "Android OS 7.0 API 24 (Sony, E6683)                           4074\n",
       "windows                                                       3192\n",
       "Windows 10 (10.0.18362; x64)                                  2858\n",
       "Android OS 8.0.0 API 26 (OnePlus, ONEPLUS A5010)              1049\n",
       "Windows 10 (10.0.16299; x64)                                  1011\n",
       "Android OS 6.0.1 API 23 (Sony, E6683)                          896\n",
       "Windows 10 (10.0.19044; x64; AppX)                             812\n",
       "Windows 10 (10.0.22000; x64)                                   733\n",
       "Windows 10 (10.0.18362; x64; AppX)                             591\n",
       "Windows 10 (10.0.17134; x64; AppX)                             520\n",
       "Android OS 7.1.1 API 25 (OnePlus, ONEPLUS A5010)               463\n",
       "Windows 10 (10.0.16299; x64; AppX)                             408\n",
       "Windows 10 (10.0.22621; x64)                                   368\n",
       "Windows 10 (10.0.19042; x64)                                   367\n",
       "Windows 10 (10.0.10586; x64)                                   234\n",
       "Windows 10 (10.0.22622; x64)                                   200\n",
       "Windows 10 (10.0.22598; x64)                                   156\n",
       "web_player windows 10;microsoft edge 95.0.1020.40;desktop       66\n",
       "Android OS 6.0 API 23 (Sony, E6683)                              8\n",
       "web_player windows 10;firefox 84.0;desktop                       6\n",
       "Partner spotify web_player                                       2\n",
       "web_player windows 10;firefox 61.0;desktop                       2\n",
       "web_player windows 10;firefox 69.0;desktop                       1\n",
       "Name: count, dtype: int64"
      ]
     },
     "execution_count": 10,
     "metadata": {},
     "output_type": "execute_result"
    }
   ],
   "source": [
    "# checking platform unique values\n",
    "tracks_df['platform'].value_counts(dropna=False)"
   ]
  },
  {
   "cell_type": "markdown",
   "metadata": {},
   "source": [
    "it seems there are just 3 unique values in platform column (android, windows, web_player), we need to handle this value"
   ]
  },
  {
   "cell_type": "code",
   "execution_count": 11,
   "metadata": {},
   "outputs": [
    {
     "data": {
      "text/plain": [
       "skipped\n",
       "NaN      105421\n",
       "False     17475\n",
       "0.0        3581\n",
       "True       2065\n",
       "1.0         851\n",
       "Name: count, dtype: int64"
      ]
     },
     "execution_count": 11,
     "metadata": {},
     "output_type": "execute_result"
    }
   ],
   "source": [
    "# checking the unique values in 'skipped' column, including 'NaN'\n",
    "tracks_df['skipped'].value_counts(dropna=False)"
   ]
  },
  {
   "cell_type": "code",
   "execution_count": 13,
   "metadata": {},
   "outputs": [
    {
     "data": {
      "text/plain": [
       "reason_end\n",
       "trackdone                       62298\n",
       "NaN                             20538\n",
       "fwdbtn                           9239\n",
       "backbtn                          4805\n",
       "logout                           3845\n",
       "endplay                          3118\n",
       "remote                            966\n",
       "unexpected-exit-while-paused      433\n",
       "unexpected-exit                    64\n",
       "trackerror                         63\n",
       "unknown                            52\n",
       "Name: count, dtype: int64"
      ]
     },
     "execution_count": 13,
     "metadata": {},
     "output_type": "execute_result"
    }
   ],
   "source": [
    "# show the rows with 'skipped' value of 'NaN'\n",
    "tracks_df[tracks_df['skipped'].isna()]['reason_end'].value_counts(dropna=False)"
   ]
  },
  {
   "cell_type": "code",
   "execution_count": 15,
   "metadata": {},
   "outputs": [
    {
     "data": {
      "text/plain": [
       "Index(['ts', 'platform', 'ms_played', 'conn_country',\n",
       "       'master_metadata_track_name', 'master_metadata_album_artist_name',\n",
       "       'master_metadata_album_album_name', 'spotify_track_uri', 'episode_name',\n",
       "       'episode_show_name', 'spotify_episode_uri', 'reason_start',\n",
       "       'reason_end', 'shuffle', 'skipped', 'offline', 'offline_timestamp',\n",
       "       'incognito_mode'],\n",
       "      dtype='object')"
      ]
     },
     "execution_count": 15,
     "metadata": {},
     "output_type": "execute_result"
    }
   ],
   "source": [
    "tracks_df.columns"
   ]
  },
  {
   "cell_type": "code",
   "execution_count": 23,
   "metadata": {},
   "outputs": [
    {
     "data": {
      "text/html": [
       "<div>\n",
       "<style scoped>\n",
       "    .dataframe tbody tr th:only-of-type {\n",
       "        vertical-align: middle;\n",
       "    }\n",
       "\n",
       "    .dataframe tbody tr th {\n",
       "        vertical-align: top;\n",
       "    }\n",
       "\n",
       "    .dataframe thead th {\n",
       "        text-align: right;\n",
       "    }\n",
       "</style>\n",
       "<table border=\"1\" class=\"dataframe\">\n",
       "  <thead>\n",
       "    <tr style=\"text-align: right;\">\n",
       "      <th></th>\n",
       "      <th>master_metadata_track_name</th>\n",
       "      <th>master_metadata_album_artist_name</th>\n",
       "      <th>reason_end</th>\n",
       "      <th>skipped</th>\n",
       "      <th>ms_played</th>\n",
       "    </tr>\n",
       "  </thead>\n",
       "  <tbody>\n",
       "    <tr>\n",
       "      <th>632</th>\n",
       "      <td>Time Stops</td>\n",
       "      <td>Virtual Riot</td>\n",
       "      <td>NaN</td>\n",
       "      <td>NaN</td>\n",
       "      <td>262725</td>\n",
       "    </tr>\n",
       "    <tr>\n",
       "      <th>14612</th>\n",
       "      <td>Interdimensional Portal Leading to a Cute Plac...</td>\n",
       "      <td>In Love With a Ghost</td>\n",
       "      <td>NaN</td>\n",
       "      <td>NaN</td>\n",
       "      <td>148500</td>\n",
       "    </tr>\n",
       "    <tr>\n",
       "      <th>993</th>\n",
       "      <td>The Cabin</td>\n",
       "      <td>Ylvis</td>\n",
       "      <td>NaN</td>\n",
       "      <td>NaN</td>\n",
       "      <td>248158</td>\n",
       "    </tr>\n",
       "    <tr>\n",
       "      <th>12599</th>\n",
       "      <td>Everything Is Gonna Be Alright</td>\n",
       "      <td>Wyolica</td>\n",
       "      <td>NaN</td>\n",
       "      <td>NaN</td>\n",
       "      <td>234200</td>\n",
       "    </tr>\n",
       "    <tr>\n",
       "      <th>15564</th>\n",
       "      <td>Breathe (feat. Danyka Nadeau)</td>\n",
       "      <td>Tut Tut Child</td>\n",
       "      <td>NaN</td>\n",
       "      <td>NaN</td>\n",
       "      <td>275121</td>\n",
       "    </tr>\n",
       "  </tbody>\n",
       "</table>\n",
       "</div>"
      ],
      "text/plain": [
       "                              master_metadata_track_name  \\\n",
       "632                                           Time Stops   \n",
       "14612  Interdimensional Portal Leading to a Cute Plac...   \n",
       "993                                            The Cabin   \n",
       "12599                     Everything Is Gonna Be Alright   \n",
       "15564                      Breathe (feat. Danyka Nadeau)   \n",
       "\n",
       "      master_metadata_album_artist_name reason_end skipped  ms_played  \n",
       "632                        Virtual Riot        NaN     NaN     262725  \n",
       "14612              In Love With a Ghost        NaN     NaN     148500  \n",
       "993                               Ylvis        NaN     NaN     248158  \n",
       "12599                           Wyolica        NaN     NaN     234200  \n",
       "15564                     Tut Tut Child        NaN     NaN     275121  "
      ]
     },
     "execution_count": 23,
     "metadata": {},
     "output_type": "execute_result"
    }
   ],
   "source": [
    "tracks_df[tracks_df['skipped'].isna() & tracks_df['reason_end'].isna()] \\\n",
    "[['master_metadata_track_name', 'master_metadata_album_artist_name', 'reason_end', 'skipped', 'ms_played']].sample(5)"
   ]
  },
  {
   "cell_type": "markdown",
   "metadata": {},
   "source": [
    "we also need to handle 'skipped' value as it seems they are just a boolean data type and handle the NaN values"
   ]
  },
  {
   "cell_type": "code",
   "execution_count": 20,
   "metadata": {},
   "outputs": [
    {
     "data": {
      "text/plain": [
       "shuffle\n",
       "True     77246\n",
       "False    52147\n",
       "Name: count, dtype: int64"
      ]
     },
     "execution_count": 20,
     "metadata": {},
     "output_type": "execute_result"
    }
   ],
   "source": [
    "# checking the unique values in 'shuffle' column\n",
    "tracks_df['shuffle'].value_counts(dropna=False)"
   ]
  },
  {
   "cell_type": "code",
   "execution_count": 21,
   "metadata": {},
   "outputs": [
    {
     "data": {
      "text/plain": [
       "offline\n",
       "False    123422\n",
       "True       5971\n",
       "Name: count, dtype: int64"
      ]
     },
     "execution_count": 21,
     "metadata": {},
     "output_type": "execute_result"
    }
   ],
   "source": [
    "# checking the unique values in 'offline' column\n",
    "tracks_df['offline'].value_counts(dropna=False)"
   ]
  },
  {
   "cell_type": "code",
   "execution_count": 22,
   "metadata": {},
   "outputs": [
    {
     "data": {
      "text/plain": [
       "incognito_mode\n",
       "False    129076\n",
       "True        317\n",
       "Name: count, dtype: int64"
      ]
     },
     "execution_count": 22,
     "metadata": {},
     "output_type": "execute_result"
    }
   ],
   "source": [
    "# checking the unique values in 'incognito_mode' column\n",
    "tracks_df['incognito_mode'].value_counts(dropna=False)"
   ]
  },
  {
   "cell_type": "markdown",
   "metadata": {},
   "source": [
    "shuffle, offline and incognito_mode's value are pretty much complete and has no NaN values"
   ]
  },
  {
   "cell_type": "code",
   "execution_count": null,
   "metadata": {},
   "outputs": [
    {
     "name": "stdout",
     "output_type": "stream",
     "text": [
      "reason_start\n",
      "trackdone     96588\n",
      "fwdbtn        13695\n",
      "backbtn        7344\n",
      "clickrow       5919\n",
      "appload        4161\n",
      "remote          690\n",
      "playbtn         649\n",
      "trackerror      347\n",
      "Name: count, dtype: int64\n"
     ]
    }
   ],
   "source": [
    "# checking the unique values in 'reason_start' column\n",
    "print(tracks_df['reason_start'].value_counts(dropna=False))"
   ]
  },
  {
   "cell_type": "code",
   "execution_count": null,
   "metadata": {},
   "outputs": [
    {
     "name": "stdout",
     "output_type": "stream",
     "text": [
      "reason_end\n",
      "trackdone                       82153\n",
      "NaN                             20538\n",
      "fwdbtn                          11078\n",
      "backbtn                          5250\n",
      "logout                           4835\n",
      "endplay                          3750\n",
      "remote                           1071\n",
      "unexpected-exit-while-paused      533\n",
      "unexpected-exit                    68\n",
      "trackerror                         63\n",
      "unknown                            54\n",
      "Name: count, dtype: int64\n"
     ]
    }
   ],
   "source": [
    "# checking the unique values in 'reason_end' column\n",
    "print(tracks_df['reason_end'].value_counts(dropna=False))"
   ]
  },
  {
   "cell_type": "markdown",
   "metadata": {},
   "source": [
    "based on what we've seen, there are some things that we need to handle:\n",
    "- drop podcasts related columns [DONE]\n",
    "- drop offline_timestamp column [DONE]\n",
    "- ~~drop conn_country column since I think what _platform_ the track was streamed is more important than the _country_ it was streamed~~\n",
    "- convert 'ts' column into datetime datatype [DONE]\n",
    "- convert 'ts' based on the conn_country [DONE]\n",
    "- create 'hour' and 'day_of_week\" columns based on the local time\n",
    "- rename columns with long label (master_metadata_artist_name, etc) into shorter form [DONE]\n",
    "- trim spotify_track_uri to only track ids [DONE]\n",
    "- handle _platform_ into three values (web_player, android, windows) [DONE]\n",
    "- handle _skipped_ into True or False\n",
    "- handle _skipped_'s NaN value based on _reason end_\n",
    "- take a look on rows with 0 ms_played "
   ]
  },
  {
   "cell_type": "markdown",
   "metadata": {},
   "source": [
    "## Data Preprocessing"
   ]
  },
  {
   "cell_type": "markdown",
   "metadata": {},
   "source": [
    "### dropping unimportant columns"
   ]
  },
  {
   "cell_type": "code",
   "execution_count": 219,
   "metadata": {},
   "outputs": [],
   "source": [
    "# dropping the columns that are not useful\n",
    "tracks_df.drop(columns=['offline_timestamp', 'episode_name', 'episode_show_name', 'spotify_episode_uri'], inplace=True)\n"
   ]
  },
  {
   "cell_type": "markdown",
   "metadata": {},
   "source": [
    "### handling 'ts' and 'conn_country' column\n",
    "there are some things that we need to do here:\n",
    "- convert 'ts' to datetime\n",
    "- check unique values of conn_country\n",
    "- fix the mislabelled rows\n",
    "- convert 'ts' into its proper timezone"
   ]
  },
  {
   "cell_type": "code",
   "execution_count": 220,
   "metadata": {},
   "outputs": [],
   "source": [
    "# converting 'ts' to datetime format\n",
    "tracks_df['ts'] = pd.to_datetime(tracks_df['ts'])"
   ]
  },
  {
   "cell_type": "code",
   "execution_count": 221,
   "metadata": {},
   "outputs": [
    {
     "data": {
      "text/plain": [
       "conn_country\n",
       "JP    103209\n",
       "ID     24904\n",
       "SG       614\n",
       "MY       334\n",
       "PH       279\n",
       "CA        32\n",
       "US        13\n",
       "ZZ         5\n",
       "BV         3\n",
       "Name: count, dtype: int64"
      ]
     },
     "execution_count": 221,
     "metadata": {},
     "output_type": "execute_result"
    }
   ],
   "source": [
    "tracks_df['conn_country'].value_counts(dropna=False)"
   ]
  },
  {
   "cell_type": "markdown",
   "metadata": {},
   "source": [
    "it appears that conn_country are mislabelled, because I have never been to CA / US / ZZ / BV.\n",
    "this mislabelling might caused by some error or because I happened to be on vpn while listening to spotify.\n",
    "since the quantity of mislabelled rows are not that significant, we can just remove these rows.\n",
    "\n",
    "but I will see if we can assign them accordingly (since the quantity is also not that many)"
   ]
  },
  {
   "cell_type": "code",
   "execution_count": 222,
   "metadata": {},
   "outputs": [],
   "source": [
    "# store the date of rows with 'conn_country' value of CA, US, ZZ and BV into a list\n",
    "mislabelled_conn_country_date = tracks_df[tracks_df['conn_country'].isin(['CA', 'US', 'ZZ', 'BV'])]['ts'].dt.date.unique().tolist()"
   ]
  },
  {
   "cell_type": "code",
   "execution_count": 223,
   "metadata": {},
   "outputs": [
    {
     "data": {
      "text/plain": [
       "[datetime.date(2017, 8, 25),\n",
       " datetime.date(2017, 11, 6),\n",
       " datetime.date(2018, 7, 27),\n",
       " datetime.date(2019, 10, 22),\n",
       " datetime.date(2021, 8, 31),\n",
       " datetime.date(2021, 9, 1),\n",
       " datetime.date(2021, 11, 28),\n",
       " datetime.date(2021, 12, 2),\n",
       " datetime.date(2022, 6, 17),\n",
       " datetime.date(2022, 7, 17),\n",
       " datetime.date(2022, 8, 25),\n",
       " datetime.date(2022, 12, 10),\n",
       " datetime.date(2023, 1, 19),\n",
       " datetime.date(2023, 1, 29)]"
      ]
     },
     "execution_count": 223,
     "metadata": {},
     "output_type": "execute_result"
    }
   ],
   "source": [
    "mislabelled_conn_country_date"
   ]
  },
  {
   "cell_type": "code",
   "execution_count": 224,
   "metadata": {},
   "outputs": [],
   "source": [
    "# show the unique value of conn_country on each day in the list and store the most frequent value into a dictionary of date:country\n",
    "conn_country_dict = {}\n",
    "for date in mislabelled_conn_country_date:\n",
    "    conn_country_dict[date] = tracks_df[tracks_df['ts'].dt.date == date]['conn_country'].value_counts().index[0]"
   ]
  },
  {
   "cell_type": "code",
   "execution_count": 225,
   "metadata": {},
   "outputs": [
    {
     "data": {
      "text/plain": [
       "{datetime.date(2017, 8, 25): 'ID',\n",
       " datetime.date(2017, 11, 6): 'ID',\n",
       " datetime.date(2018, 7, 27): 'JP',\n",
       " datetime.date(2019, 10, 22): 'JP',\n",
       " datetime.date(2021, 8, 31): 'JP',\n",
       " datetime.date(2021, 9, 1): 'JP',\n",
       " datetime.date(2021, 11, 28): 'JP',\n",
       " datetime.date(2021, 12, 2): 'JP',\n",
       " datetime.date(2022, 6, 17): 'JP',\n",
       " datetime.date(2022, 7, 17): 'ID',\n",
       " datetime.date(2022, 8, 25): 'JP',\n",
       " datetime.date(2022, 12, 10): 'JP',\n",
       " datetime.date(2023, 1, 19): 'JP',\n",
       " datetime.date(2023, 1, 29): 'JP'}"
      ]
     },
     "execution_count": 225,
     "metadata": {},
     "output_type": "execute_result"
    }
   ],
   "source": [
    "conn_country_dict"
   ]
  },
  {
   "cell_type": "code",
   "execution_count": 226,
   "metadata": {},
   "outputs": [],
   "source": [
    "# replace the mislabelled conn_country with the correct country\n",
    "tracks_df['conn_country'] = tracks_df.apply(lambda x: conn_country_dict[x['ts'].date()] if x['conn_country'] in ['CA', 'US', 'ZZ', 'BV'] else x['conn_country'], axis=1)"
   ]
  },
  {
   "cell_type": "code",
   "execution_count": 227,
   "metadata": {},
   "outputs": [
    {
     "data": {
      "text/plain": [
       "conn_country\n",
       "JP    103256\n",
       "ID     24910\n",
       "SG       614\n",
       "MY       334\n",
       "PH       279\n",
       "Name: count, dtype: int64"
      ]
     },
     "execution_count": 227,
     "metadata": {},
     "output_type": "execute_result"
    }
   ],
   "source": [
    "# check the unique values in 'conn_country' column again\n",
    "tracks_df['conn_country'].value_counts(dropna=False)"
   ]
  },
  {
   "cell_type": "code",
   "execution_count": 228,
   "metadata": {},
   "outputs": [],
   "source": [
    "import pytz"
   ]
  },
  {
   "cell_type": "code",
   "execution_count": 229,
   "metadata": {},
   "outputs": [],
   "source": [
    "# Function to convert timezone and extract hour and day of week\n",
    "def convert_and_extract(row):\n",
    "    # Get the appropriate timezone\n",
    "    country_tz = pytz.country_timezones(row['conn_country'])[0]\n",
    "    local_time = row['ts'].tz_convert(pytz.timezone(country_tz))\n",
    "    \n",
    "    # Extract the information\n",
    "    hour = local_time.hour\n",
    "    day_of_week_str = local_time.strftime('%A')\n",
    "    day_of_week_int = local_time.weekday()\n",
    "    local_date = local_time.day\n",
    "    local_month = local_time.month\n",
    "    local_year = local_time.year\n",
    "    \n",
    "    return pd.Series([local_time, hour, day_of_week_str, day_of_week_int, local_date, local_month, local_year])\n"
   ]
  },
  {
   "cell_type": "code",
   "execution_count": 230,
   "metadata": {},
   "outputs": [],
   "source": [
    "# Apply the function to extract local time, hour, and day of week\n",
    "tracks_df[['ts_local', 'hour', 'day_of_week_str', 'day_of_week_int', 'local_date', 'local_month', 'local_year']] = tracks_df.apply(convert_and_extract, axis=1)"
   ]
  },
  {
   "cell_type": "code",
   "execution_count": 231,
   "metadata": {},
   "outputs": [
    {
     "data": {
      "text/html": [
       "<div>\n",
       "<style scoped>\n",
       "    .dataframe tbody tr th:only-of-type {\n",
       "        vertical-align: middle;\n",
       "    }\n",
       "\n",
       "    .dataframe tbody tr th {\n",
       "        vertical-align: top;\n",
       "    }\n",
       "\n",
       "    .dataframe thead th {\n",
       "        text-align: right;\n",
       "    }\n",
       "</style>\n",
       "<table border=\"1\" class=\"dataframe\">\n",
       "  <thead>\n",
       "    <tr style=\"text-align: right;\">\n",
       "      <th></th>\n",
       "      <th>ts</th>\n",
       "      <th>platform</th>\n",
       "      <th>ms_played</th>\n",
       "      <th>conn_country</th>\n",
       "      <th>master_metadata_track_name</th>\n",
       "      <th>master_metadata_album_artist_name</th>\n",
       "      <th>master_metadata_album_album_name</th>\n",
       "      <th>spotify_track_uri</th>\n",
       "      <th>reason_start</th>\n",
       "      <th>reason_end</th>\n",
       "      <th>...</th>\n",
       "      <th>skipped</th>\n",
       "      <th>offline</th>\n",
       "      <th>incognito_mode</th>\n",
       "      <th>ts_local</th>\n",
       "      <th>hour</th>\n",
       "      <th>day_of_week_str</th>\n",
       "      <th>day_of_week_int</th>\n",
       "      <th>local_date</th>\n",
       "      <th>local_month</th>\n",
       "      <th>local_year</th>\n",
       "    </tr>\n",
       "  </thead>\n",
       "  <tbody>\n",
       "    <tr>\n",
       "      <th>124856</th>\n",
       "      <td>2023-08-27 00:53:09+00:00</td>\n",
       "      <td>android</td>\n",
       "      <td>169723</td>\n",
       "      <td>JP</td>\n",
       "      <td>Interlude III</td>\n",
       "      <td>Tessa Violet</td>\n",
       "      <td>Bad Ideas</td>\n",
       "      <td>spotify:track:2gKFOjYqtJpSsIXdRxZQfH</td>\n",
       "      <td>trackdone</td>\n",
       "      <td>trackdone</td>\n",
       "      <td>...</td>\n",
       "      <td>False</td>\n",
       "      <td>False</td>\n",
       "      <td>False</td>\n",
       "      <td>2023-08-27 09:53:09+09:00</td>\n",
       "      <td>9</td>\n",
       "      <td>Sunday</td>\n",
       "      <td>6</td>\n",
       "      <td>27</td>\n",
       "      <td>8</td>\n",
       "      <td>2023</td>\n",
       "    </tr>\n",
       "    <tr>\n",
       "      <th>27308</th>\n",
       "      <td>2018-07-25 18:02:17+00:00</td>\n",
       "      <td>Android OS 8.1.0 API 27 (OnePlus, ONEPLUS A5010)</td>\n",
       "      <td>169859</td>\n",
       "      <td>JP</td>\n",
       "      <td>Odyssey (feat Danyka Nadeau) - Jimny Remix</td>\n",
       "      <td>Televisor</td>\n",
       "      <td>Odyssey (ft.Danyka Nadeau) The Remixes</td>\n",
       "      <td>spotify:track:43xM2BybusaJcpm01yCuO0</td>\n",
       "      <td>trackdone</td>\n",
       "      <td>trackdone</td>\n",
       "      <td>...</td>\n",
       "      <td>NaN</td>\n",
       "      <td>False</td>\n",
       "      <td>False</td>\n",
       "      <td>2018-07-26 03:02:17+09:00</td>\n",
       "      <td>3</td>\n",
       "      <td>Thursday</td>\n",
       "      <td>3</td>\n",
       "      <td>26</td>\n",
       "      <td>7</td>\n",
       "      <td>2018</td>\n",
       "    </tr>\n",
       "    <tr>\n",
       "      <th>54502</th>\n",
       "      <td>2020-01-17 20:45:42+00:00</td>\n",
       "      <td>Windows 10 (10.0.18362; x64)</td>\n",
       "      <td>126693</td>\n",
       "      <td>JP</td>\n",
       "      <td>Jagoan</td>\n",
       "      <td>Sherina Munaf</td>\n",
       "      <td>PETUALANGAN Sherina: Lihatlah Lebih Dekat</td>\n",
       "      <td>spotify:track:1Yqn7WFPxB5FoKmFJfNCV4</td>\n",
       "      <td>trackdone</td>\n",
       "      <td>trackdone</td>\n",
       "      <td>...</td>\n",
       "      <td>NaN</td>\n",
       "      <td>False</td>\n",
       "      <td>False</td>\n",
       "      <td>2020-01-18 05:45:42+09:00</td>\n",
       "      <td>5</td>\n",
       "      <td>Saturday</td>\n",
       "      <td>5</td>\n",
       "      <td>18</td>\n",
       "      <td>1</td>\n",
       "      <td>2020</td>\n",
       "    </tr>\n",
       "    <tr>\n",
       "      <th>20042</th>\n",
       "      <td>2018-03-20 06:39:50+00:00</td>\n",
       "      <td>Android OS 8.0.0 API 26 (OnePlus, ONEPLUS A5010)</td>\n",
       "      <td>109240</td>\n",
       "      <td>ID</td>\n",
       "      <td>Ververg</td>\n",
       "      <td>Onoken</td>\n",
       "      <td>Testimony Cytus | Deemo</td>\n",
       "      <td>spotify:track:4qi8cFqQCICowuvtSCre1U</td>\n",
       "      <td>trackdone</td>\n",
       "      <td>NaN</td>\n",
       "      <td>...</td>\n",
       "      <td>NaN</td>\n",
       "      <td>False</td>\n",
       "      <td>False</td>\n",
       "      <td>2018-03-20 13:39:50+07:00</td>\n",
       "      <td>13</td>\n",
       "      <td>Tuesday</td>\n",
       "      <td>1</td>\n",
       "      <td>20</td>\n",
       "      <td>3</td>\n",
       "      <td>2018</td>\n",
       "    </tr>\n",
       "    <tr>\n",
       "      <th>106718</th>\n",
       "      <td>2022-11-15 08:38:58+00:00</td>\n",
       "      <td>android</td>\n",
       "      <td>195081</td>\n",
       "      <td>JP</td>\n",
       "      <td>No Big Deal (I Love You)</td>\n",
       "      <td>dodie</td>\n",
       "      <td>Hot Mess</td>\n",
       "      <td>spotify:track:71kcVvSxf0QVp2uto4EsHn</td>\n",
       "      <td>trackdone</td>\n",
       "      <td>trackdone</td>\n",
       "      <td>...</td>\n",
       "      <td>0.0</td>\n",
       "      <td>False</td>\n",
       "      <td>False</td>\n",
       "      <td>2022-11-15 17:38:58+09:00</td>\n",
       "      <td>17</td>\n",
       "      <td>Tuesday</td>\n",
       "      <td>1</td>\n",
       "      <td>15</td>\n",
       "      <td>11</td>\n",
       "      <td>2022</td>\n",
       "    </tr>\n",
       "  </tbody>\n",
       "</table>\n",
       "<p>5 rows × 21 columns</p>\n",
       "</div>"
      ],
      "text/plain": [
       "                              ts  \\\n",
       "124856 2023-08-27 00:53:09+00:00   \n",
       "27308  2018-07-25 18:02:17+00:00   \n",
       "54502  2020-01-17 20:45:42+00:00   \n",
       "20042  2018-03-20 06:39:50+00:00   \n",
       "106718 2022-11-15 08:38:58+00:00   \n",
       "\n",
       "                                                platform  ms_played  \\\n",
       "124856                                           android     169723   \n",
       "27308   Android OS 8.1.0 API 27 (OnePlus, ONEPLUS A5010)     169859   \n",
       "54502                       Windows 10 (10.0.18362; x64)     126693   \n",
       "20042   Android OS 8.0.0 API 26 (OnePlus, ONEPLUS A5010)     109240   \n",
       "106718                                           android     195081   \n",
       "\n",
       "       conn_country                  master_metadata_track_name  \\\n",
       "124856           JP                               Interlude III   \n",
       "27308            JP  Odyssey (feat Danyka Nadeau) - Jimny Remix   \n",
       "54502            JP                                      Jagoan   \n",
       "20042            ID                                     Ververg   \n",
       "106718           JP                    No Big Deal (I Love You)   \n",
       "\n",
       "       master_metadata_album_artist_name  \\\n",
       "124856                      Tessa Violet   \n",
       "27308                          Televisor   \n",
       "54502                      Sherina Munaf   \n",
       "20042                             Onoken   \n",
       "106718                             dodie   \n",
       "\n",
       "                 master_metadata_album_album_name  \\\n",
       "124856                                  Bad Ideas   \n",
       "27308      Odyssey (ft.Danyka Nadeau) The Remixes   \n",
       "54502   PETUALANGAN Sherina: Lihatlah Lebih Dekat   \n",
       "20042                     Testimony Cytus | Deemo   \n",
       "106718                                   Hot Mess   \n",
       "\n",
       "                           spotify_track_uri reason_start reason_end  ...  \\\n",
       "124856  spotify:track:2gKFOjYqtJpSsIXdRxZQfH    trackdone  trackdone  ...   \n",
       "27308   spotify:track:43xM2BybusaJcpm01yCuO0    trackdone  trackdone  ...   \n",
       "54502   spotify:track:1Yqn7WFPxB5FoKmFJfNCV4    trackdone  trackdone  ...   \n",
       "20042   spotify:track:4qi8cFqQCICowuvtSCre1U    trackdone        NaN  ...   \n",
       "106718  spotify:track:71kcVvSxf0QVp2uto4EsHn    trackdone  trackdone  ...   \n",
       "\n",
       "        skipped offline  incognito_mode                   ts_local hour  \\\n",
       "124856    False   False           False  2023-08-27 09:53:09+09:00    9   \n",
       "27308       NaN   False           False  2018-07-26 03:02:17+09:00    3   \n",
       "54502       NaN   False           False  2020-01-18 05:45:42+09:00    5   \n",
       "20042       NaN   False           False  2018-03-20 13:39:50+07:00   13   \n",
       "106718      0.0   False           False  2022-11-15 17:38:58+09:00   17   \n",
       "\n",
       "        day_of_week_str day_of_week_int  local_date  local_month  local_year  \n",
       "124856           Sunday               6          27            8        2023  \n",
       "27308          Thursday               3          26            7        2018  \n",
       "54502          Saturday               5          18            1        2020  \n",
       "20042           Tuesday               1          20            3        2018  \n",
       "106718          Tuesday               1          15           11        2022  \n",
       "\n",
       "[5 rows x 21 columns]"
      ]
     },
     "execution_count": 231,
     "metadata": {},
     "output_type": "execute_result"
    }
   ],
   "source": [
    "tracks_df.sample(5)"
   ]
  },
  {
   "cell_type": "code",
   "execution_count": 232,
   "metadata": {},
   "outputs": [
    {
     "name": "stdout",
     "output_type": "stream",
     "text": [
      "ID\n"
     ]
    },
    {
     "data": {
      "text/html": [
       "<div>\n",
       "<style scoped>\n",
       "    .dataframe tbody tr th:only-of-type {\n",
       "        vertical-align: middle;\n",
       "    }\n",
       "\n",
       "    .dataframe tbody tr th {\n",
       "        vertical-align: top;\n",
       "    }\n",
       "\n",
       "    .dataframe thead th {\n",
       "        text-align: right;\n",
       "    }\n",
       "</style>\n",
       "<table border=\"1\" class=\"dataframe\">\n",
       "  <thead>\n",
       "    <tr style=\"text-align: right;\">\n",
       "      <th></th>\n",
       "      <th>ts</th>\n",
       "      <th>ts_local</th>\n",
       "      <th>hour</th>\n",
       "      <th>day_of_week_str</th>\n",
       "      <th>conn_country</th>\n",
       "    </tr>\n",
       "  </thead>\n",
       "  <tbody>\n",
       "    <tr>\n",
       "      <th>4136</th>\n",
       "      <td>2017-04-10 15:57:58+00:00</td>\n",
       "      <td>2017-04-10 22:57:58+07:00</td>\n",
       "      <td>22</td>\n",
       "      <td>Monday</td>\n",
       "      <td>ID</td>\n",
       "    </tr>\n",
       "    <tr>\n",
       "      <th>2836</th>\n",
       "      <td>2017-03-18 08:50:35+00:00</td>\n",
       "      <td>2017-03-18 15:50:35+07:00</td>\n",
       "      <td>15</td>\n",
       "      <td>Saturday</td>\n",
       "      <td>ID</td>\n",
       "    </tr>\n",
       "    <tr>\n",
       "      <th>99358</th>\n",
       "      <td>2022-07-15 02:23:55+00:00</td>\n",
       "      <td>2022-07-15 09:23:55+07:00</td>\n",
       "      <td>9</td>\n",
       "      <td>Friday</td>\n",
       "      <td>ID</td>\n",
       "    </tr>\n",
       "    <tr>\n",
       "      <th>10863</th>\n",
       "      <td>2017-09-20 04:56:57+00:00</td>\n",
       "      <td>2017-09-20 11:56:57+07:00</td>\n",
       "      <td>11</td>\n",
       "      <td>Wednesday</td>\n",
       "      <td>ID</td>\n",
       "    </tr>\n",
       "    <tr>\n",
       "      <th>5982</th>\n",
       "      <td>2017-05-10 07:57:45+00:00</td>\n",
       "      <td>2017-05-10 14:57:45+07:00</td>\n",
       "      <td>14</td>\n",
       "      <td>Wednesday</td>\n",
       "      <td>ID</td>\n",
       "    </tr>\n",
       "  </tbody>\n",
       "</table>\n",
       "</div>"
      ],
      "text/plain": [
       "                             ts                   ts_local  hour  \\\n",
       "4136  2017-04-10 15:57:58+00:00  2017-04-10 22:57:58+07:00    22   \n",
       "2836  2017-03-18 08:50:35+00:00  2017-03-18 15:50:35+07:00    15   \n",
       "99358 2022-07-15 02:23:55+00:00  2022-07-15 09:23:55+07:00     9   \n",
       "10863 2017-09-20 04:56:57+00:00  2017-09-20 11:56:57+07:00    11   \n",
       "5982  2017-05-10 07:57:45+00:00  2017-05-10 14:57:45+07:00    14   \n",
       "\n",
       "      day_of_week_str conn_country  \n",
       "4136           Monday           ID  \n",
       "2836         Saturday           ID  \n",
       "99358          Friday           ID  \n",
       "10863       Wednesday           ID  \n",
       "5982        Wednesday           ID  "
      ]
     },
     "metadata": {},
     "output_type": "display_data"
    },
    {
     "name": "stdout",
     "output_type": "stream",
     "text": [
      "JP\n"
     ]
    },
    {
     "data": {
      "text/html": [
       "<div>\n",
       "<style scoped>\n",
       "    .dataframe tbody tr th:only-of-type {\n",
       "        vertical-align: middle;\n",
       "    }\n",
       "\n",
       "    .dataframe tbody tr th {\n",
       "        vertical-align: top;\n",
       "    }\n",
       "\n",
       "    .dataframe thead th {\n",
       "        text-align: right;\n",
       "    }\n",
       "</style>\n",
       "<table border=\"1\" class=\"dataframe\">\n",
       "  <thead>\n",
       "    <tr style=\"text-align: right;\">\n",
       "      <th></th>\n",
       "      <th>ts</th>\n",
       "      <th>ts_local</th>\n",
       "      <th>hour</th>\n",
       "      <th>day_of_week_str</th>\n",
       "      <th>conn_country</th>\n",
       "    </tr>\n",
       "  </thead>\n",
       "  <tbody>\n",
       "    <tr>\n",
       "      <th>54267</th>\n",
       "      <td>2020-01-08 05:48:05+00:00</td>\n",
       "      <td>2020-01-08 14:48:05+09:00</td>\n",
       "      <td>14</td>\n",
       "      <td>Wednesday</td>\n",
       "      <td>JP</td>\n",
       "    </tr>\n",
       "    <tr>\n",
       "      <th>44098</th>\n",
       "      <td>2019-05-01 09:30:12+00:00</td>\n",
       "      <td>2019-05-01 18:30:12+09:00</td>\n",
       "      <td>18</td>\n",
       "      <td>Wednesday</td>\n",
       "      <td>JP</td>\n",
       "    </tr>\n",
       "    <tr>\n",
       "      <th>106636</th>\n",
       "      <td>2022-11-11 17:46:10+00:00</td>\n",
       "      <td>2022-11-12 02:46:10+09:00</td>\n",
       "      <td>2</td>\n",
       "      <td>Saturday</td>\n",
       "      <td>JP</td>\n",
       "    </tr>\n",
       "    <tr>\n",
       "      <th>123647</th>\n",
       "      <td>2023-08-07 08:29:17+00:00</td>\n",
       "      <td>2023-08-07 17:29:17+09:00</td>\n",
       "      <td>17</td>\n",
       "      <td>Monday</td>\n",
       "      <td>JP</td>\n",
       "    </tr>\n",
       "    <tr>\n",
       "      <th>67692</th>\n",
       "      <td>2020-10-09 06:49:34+00:00</td>\n",
       "      <td>2020-10-09 15:49:34+09:00</td>\n",
       "      <td>15</td>\n",
       "      <td>Friday</td>\n",
       "      <td>JP</td>\n",
       "    </tr>\n",
       "  </tbody>\n",
       "</table>\n",
       "</div>"
      ],
      "text/plain": [
       "                              ts                   ts_local  hour  \\\n",
       "54267  2020-01-08 05:48:05+00:00  2020-01-08 14:48:05+09:00    14   \n",
       "44098  2019-05-01 09:30:12+00:00  2019-05-01 18:30:12+09:00    18   \n",
       "106636 2022-11-11 17:46:10+00:00  2022-11-12 02:46:10+09:00     2   \n",
       "123647 2023-08-07 08:29:17+00:00  2023-08-07 17:29:17+09:00    17   \n",
       "67692  2020-10-09 06:49:34+00:00  2020-10-09 15:49:34+09:00    15   \n",
       "\n",
       "       day_of_week_str conn_country  \n",
       "54267        Wednesday           JP  \n",
       "44098        Wednesday           JP  \n",
       "106636        Saturday           JP  \n",
       "123647          Monday           JP  \n",
       "67692           Friday           JP  "
      ]
     },
     "metadata": {},
     "output_type": "display_data"
    },
    {
     "name": "stdout",
     "output_type": "stream",
     "text": [
      "MY\n"
     ]
    },
    {
     "data": {
      "text/html": [
       "<div>\n",
       "<style scoped>\n",
       "    .dataframe tbody tr th:only-of-type {\n",
       "        vertical-align: middle;\n",
       "    }\n",
       "\n",
       "    .dataframe tbody tr th {\n",
       "        vertical-align: top;\n",
       "    }\n",
       "\n",
       "    .dataframe thead th {\n",
       "        text-align: right;\n",
       "    }\n",
       "</style>\n",
       "<table border=\"1\" class=\"dataframe\">\n",
       "  <thead>\n",
       "    <tr style=\"text-align: right;\">\n",
       "      <th></th>\n",
       "      <th>ts</th>\n",
       "      <th>ts_local</th>\n",
       "      <th>hour</th>\n",
       "      <th>day_of_week_str</th>\n",
       "      <th>conn_country</th>\n",
       "    </tr>\n",
       "  </thead>\n",
       "  <tbody>\n",
       "    <tr>\n",
       "      <th>43197</th>\n",
       "      <td>2019-04-15 19:53:09+00:00</td>\n",
       "      <td>2019-04-16 03:53:09+08:00</td>\n",
       "      <td>3</td>\n",
       "      <td>Tuesday</td>\n",
       "      <td>MY</td>\n",
       "    </tr>\n",
       "    <tr>\n",
       "      <th>119905</th>\n",
       "      <td>2023-06-15 04:18:02+00:00</td>\n",
       "      <td>2023-06-15 12:18:02+08:00</td>\n",
       "      <td>12</td>\n",
       "      <td>Thursday</td>\n",
       "      <td>MY</td>\n",
       "    </tr>\n",
       "    <tr>\n",
       "      <th>43122</th>\n",
       "      <td>2019-04-15 19:53:09+00:00</td>\n",
       "      <td>2019-04-16 03:53:09+08:00</td>\n",
       "      <td>3</td>\n",
       "      <td>Tuesday</td>\n",
       "      <td>MY</td>\n",
       "    </tr>\n",
       "    <tr>\n",
       "      <th>43813</th>\n",
       "      <td>2019-04-28 02:27:59+00:00</td>\n",
       "      <td>2019-04-28 10:27:59+08:00</td>\n",
       "      <td>10</td>\n",
       "      <td>Sunday</td>\n",
       "      <td>MY</td>\n",
       "    </tr>\n",
       "    <tr>\n",
       "      <th>43211</th>\n",
       "      <td>2019-04-15 19:53:10+00:00</td>\n",
       "      <td>2019-04-16 03:53:10+08:00</td>\n",
       "      <td>3</td>\n",
       "      <td>Tuesday</td>\n",
       "      <td>MY</td>\n",
       "    </tr>\n",
       "  </tbody>\n",
       "</table>\n",
       "</div>"
      ],
      "text/plain": [
       "                              ts                   ts_local  hour  \\\n",
       "43197  2019-04-15 19:53:09+00:00  2019-04-16 03:53:09+08:00     3   \n",
       "119905 2023-06-15 04:18:02+00:00  2023-06-15 12:18:02+08:00    12   \n",
       "43122  2019-04-15 19:53:09+00:00  2019-04-16 03:53:09+08:00     3   \n",
       "43813  2019-04-28 02:27:59+00:00  2019-04-28 10:27:59+08:00    10   \n",
       "43211  2019-04-15 19:53:10+00:00  2019-04-16 03:53:10+08:00     3   \n",
       "\n",
       "       day_of_week_str conn_country  \n",
       "43197          Tuesday           MY  \n",
       "119905        Thursday           MY  \n",
       "43122          Tuesday           MY  \n",
       "43813           Sunday           MY  \n",
       "43211          Tuesday           MY  "
      ]
     },
     "metadata": {},
     "output_type": "display_data"
    },
    {
     "name": "stdout",
     "output_type": "stream",
     "text": [
      "SG\n"
     ]
    },
    {
     "data": {
      "text/html": [
       "<div>\n",
       "<style scoped>\n",
       "    .dataframe tbody tr th:only-of-type {\n",
       "        vertical-align: middle;\n",
       "    }\n",
       "\n",
       "    .dataframe tbody tr th {\n",
       "        vertical-align: top;\n",
       "    }\n",
       "\n",
       "    .dataframe thead th {\n",
       "        text-align: right;\n",
       "    }\n",
       "</style>\n",
       "<table border=\"1\" class=\"dataframe\">\n",
       "  <thead>\n",
       "    <tr style=\"text-align: right;\">\n",
       "      <th></th>\n",
       "      <th>ts</th>\n",
       "      <th>ts_local</th>\n",
       "      <th>hour</th>\n",
       "      <th>day_of_week_str</th>\n",
       "      <th>conn_country</th>\n",
       "    </tr>\n",
       "  </thead>\n",
       "  <tbody>\n",
       "    <tr>\n",
       "      <th>110985</th>\n",
       "      <td>2023-01-30 03:55:26+00:00</td>\n",
       "      <td>2023-01-30 11:55:26+08:00</td>\n",
       "      <td>11</td>\n",
       "      <td>Monday</td>\n",
       "      <td>SG</td>\n",
       "    </tr>\n",
       "    <tr>\n",
       "      <th>111049</th>\n",
       "      <td>2023-01-30 09:09:28+00:00</td>\n",
       "      <td>2023-01-30 17:09:28+08:00</td>\n",
       "      <td>17</td>\n",
       "      <td>Monday</td>\n",
       "      <td>SG</td>\n",
       "    </tr>\n",
       "    <tr>\n",
       "      <th>111087</th>\n",
       "      <td>2023-01-30 11:14:03+00:00</td>\n",
       "      <td>2023-01-30 19:14:03+08:00</td>\n",
       "      <td>19</td>\n",
       "      <td>Monday</td>\n",
       "      <td>SG</td>\n",
       "    </tr>\n",
       "    <tr>\n",
       "      <th>121159</th>\n",
       "      <td>2023-06-27 13:23:09+00:00</td>\n",
       "      <td>2023-06-27 21:23:09+08:00</td>\n",
       "      <td>21</td>\n",
       "      <td>Tuesday</td>\n",
       "      <td>SG</td>\n",
       "    </tr>\n",
       "    <tr>\n",
       "      <th>121199</th>\n",
       "      <td>2023-06-27 18:42:32+00:00</td>\n",
       "      <td>2023-06-28 02:42:32+08:00</td>\n",
       "      <td>2</td>\n",
       "      <td>Wednesday</td>\n",
       "      <td>SG</td>\n",
       "    </tr>\n",
       "  </tbody>\n",
       "</table>\n",
       "</div>"
      ],
      "text/plain": [
       "                              ts                   ts_local  hour  \\\n",
       "110985 2023-01-30 03:55:26+00:00  2023-01-30 11:55:26+08:00    11   \n",
       "111049 2023-01-30 09:09:28+00:00  2023-01-30 17:09:28+08:00    17   \n",
       "111087 2023-01-30 11:14:03+00:00  2023-01-30 19:14:03+08:00    19   \n",
       "121159 2023-06-27 13:23:09+00:00  2023-06-27 21:23:09+08:00    21   \n",
       "121199 2023-06-27 18:42:32+00:00  2023-06-28 02:42:32+08:00     2   \n",
       "\n",
       "       day_of_week_str conn_country  \n",
       "110985          Monday           SG  \n",
       "111049          Monday           SG  \n",
       "111087          Monday           SG  \n",
       "121159         Tuesday           SG  \n",
       "121199       Wednesday           SG  "
      ]
     },
     "metadata": {},
     "output_type": "display_data"
    },
    {
     "name": "stdout",
     "output_type": "stream",
     "text": [
      "PH\n"
     ]
    },
    {
     "data": {
      "text/html": [
       "<div>\n",
       "<style scoped>\n",
       "    .dataframe tbody tr th:only-of-type {\n",
       "        vertical-align: middle;\n",
       "    }\n",
       "\n",
       "    .dataframe tbody tr th {\n",
       "        vertical-align: top;\n",
       "    }\n",
       "\n",
       "    .dataframe thead th {\n",
       "        text-align: right;\n",
       "    }\n",
       "</style>\n",
       "<table border=\"1\" class=\"dataframe\">\n",
       "  <thead>\n",
       "    <tr style=\"text-align: right;\">\n",
       "      <th></th>\n",
       "      <th>ts</th>\n",
       "      <th>ts_local</th>\n",
       "      <th>hour</th>\n",
       "      <th>day_of_week_str</th>\n",
       "      <th>conn_country</th>\n",
       "    </tr>\n",
       "  </thead>\n",
       "  <tbody>\n",
       "    <tr>\n",
       "      <th>99869</th>\n",
       "      <td>2022-07-20 23:26:05+00:00</td>\n",
       "      <td>2022-07-21 07:26:05+08:00</td>\n",
       "      <td>7</td>\n",
       "      <td>Thursday</td>\n",
       "      <td>PH</td>\n",
       "    </tr>\n",
       "    <tr>\n",
       "      <th>97363</th>\n",
       "      <td>2022-06-19 11:55:55+00:00</td>\n",
       "      <td>2022-06-19 19:55:55+08:00</td>\n",
       "      <td>19</td>\n",
       "      <td>Sunday</td>\n",
       "      <td>PH</td>\n",
       "    </tr>\n",
       "    <tr>\n",
       "      <th>97328</th>\n",
       "      <td>2022-06-19 11:55:55+00:00</td>\n",
       "      <td>2022-06-19 19:55:55+08:00</td>\n",
       "      <td>19</td>\n",
       "      <td>Sunday</td>\n",
       "      <td>PH</td>\n",
       "    </tr>\n",
       "    <tr>\n",
       "      <th>97312</th>\n",
       "      <td>2022-06-19 11:55:55+00:00</td>\n",
       "      <td>2022-06-19 19:55:55+08:00</td>\n",
       "      <td>19</td>\n",
       "      <td>Sunday</td>\n",
       "      <td>PH</td>\n",
       "    </tr>\n",
       "    <tr>\n",
       "      <th>97264</th>\n",
       "      <td>2022-06-19 11:55:55+00:00</td>\n",
       "      <td>2022-06-19 19:55:55+08:00</td>\n",
       "      <td>19</td>\n",
       "      <td>Sunday</td>\n",
       "      <td>PH</td>\n",
       "    </tr>\n",
       "  </tbody>\n",
       "</table>\n",
       "</div>"
      ],
      "text/plain": [
       "                             ts                   ts_local  hour  \\\n",
       "99869 2022-07-20 23:26:05+00:00  2022-07-21 07:26:05+08:00     7   \n",
       "97363 2022-06-19 11:55:55+00:00  2022-06-19 19:55:55+08:00    19   \n",
       "97328 2022-06-19 11:55:55+00:00  2022-06-19 19:55:55+08:00    19   \n",
       "97312 2022-06-19 11:55:55+00:00  2022-06-19 19:55:55+08:00    19   \n",
       "97264 2022-06-19 11:55:55+00:00  2022-06-19 19:55:55+08:00    19   \n",
       "\n",
       "      day_of_week_str conn_country  \n",
       "99869        Thursday           PH  \n",
       "97363          Sunday           PH  \n",
       "97328          Sunday           PH  \n",
       "97312          Sunday           PH  \n",
       "97264          Sunday           PH  "
      ]
     },
     "metadata": {},
     "output_type": "display_data"
    }
   ],
   "source": [
    "# show 5 rows for each conn_country\n",
    "for country in tracks_df['conn_country'].unique():\n",
    "    print(country)\n",
    "    display(tracks_df[tracks_df['conn_country'] == country][['ts', 'ts_local', 'hour', 'day_of_week_str', 'conn_country']].sample(5))"
   ]
  },
  {
   "cell_type": "markdown",
   "metadata": {},
   "source": [
    "### renaming columns with long label"
   ]
  },
  {
   "cell_type": "code",
   "execution_count": 233,
   "metadata": {},
   "outputs": [],
   "source": [
    "# renaming master_metadata_track_name, master_metadata_album_artist_name, and master_metadata_album_album_name into track_name, artist_name, and album_name\n",
    "tracks_df.rename(columns={'master_metadata_track_name':'track_name', 'master_metadata_album_artist_name':'artist_name', 'master_metadata_album_album_name':'album_name'}, inplace=True)"
   ]
  },
  {
   "cell_type": "code",
   "execution_count": 234,
   "metadata": {},
   "outputs": [
    {
     "data": {
      "text/html": [
       "<div>\n",
       "<style scoped>\n",
       "    .dataframe tbody tr th:only-of-type {\n",
       "        vertical-align: middle;\n",
       "    }\n",
       "\n",
       "    .dataframe tbody tr th {\n",
       "        vertical-align: top;\n",
       "    }\n",
       "\n",
       "    .dataframe thead th {\n",
       "        text-align: right;\n",
       "    }\n",
       "</style>\n",
       "<table border=\"1\" class=\"dataframe\">\n",
       "  <thead>\n",
       "    <tr style=\"text-align: right;\">\n",
       "      <th></th>\n",
       "      <th>ts</th>\n",
       "      <th>platform</th>\n",
       "      <th>ms_played</th>\n",
       "      <th>conn_country</th>\n",
       "      <th>track_name</th>\n",
       "      <th>artist_name</th>\n",
       "      <th>album_name</th>\n",
       "      <th>spotify_track_uri</th>\n",
       "      <th>reason_start</th>\n",
       "      <th>reason_end</th>\n",
       "      <th>...</th>\n",
       "      <th>skipped</th>\n",
       "      <th>offline</th>\n",
       "      <th>incognito_mode</th>\n",
       "      <th>ts_local</th>\n",
       "      <th>hour</th>\n",
       "      <th>day_of_week_str</th>\n",
       "      <th>day_of_week_int</th>\n",
       "      <th>local_date</th>\n",
       "      <th>local_month</th>\n",
       "      <th>local_year</th>\n",
       "    </tr>\n",
       "  </thead>\n",
       "  <tbody>\n",
       "    <tr>\n",
       "      <th>57393</th>\n",
       "      <td>2020-04-10 06:08:44+00:00</td>\n",
       "      <td>Android OS 9 API 28 (OnePlus, ONEPLUS A5010)</td>\n",
       "      <td>139785</td>\n",
       "      <td>JP</td>\n",
       "      <td>Bella Ciao - Música Original de la Serie la Ca...</td>\n",
       "      <td>Manu Pilas</td>\n",
       "      <td>Bella Ciao (Música Original de la Serie la Cas...</td>\n",
       "      <td>spotify:track:3lWzVNe1yFZlkeBBzUuZYu</td>\n",
       "      <td>trackdone</td>\n",
       "      <td>trackdone</td>\n",
       "      <td>...</td>\n",
       "      <td>NaN</td>\n",
       "      <td>False</td>\n",
       "      <td>False</td>\n",
       "      <td>2020-04-10 15:08:44+09:00</td>\n",
       "      <td>15</td>\n",
       "      <td>Friday</td>\n",
       "      <td>4</td>\n",
       "      <td>10</td>\n",
       "      <td>4</td>\n",
       "      <td>2020</td>\n",
       "    </tr>\n",
       "    <tr>\n",
       "      <th>47125</th>\n",
       "      <td>2019-07-06 02:08:26+00:00</td>\n",
       "      <td>Android OS 9 API 28 (OnePlus, ONEPLUS A5010)</td>\n",
       "      <td>5614</td>\n",
       "      <td>JP</td>\n",
       "      <td>Melompat Lebih Tinggi</td>\n",
       "      <td>Sheila On 7</td>\n",
       "      <td>OST. 30 Hari Mencari Cinta</td>\n",
       "      <td>spotify:track:7Hun5YHQ5TEe9j97cU5XPg</td>\n",
       "      <td>trackdone</td>\n",
       "      <td>backbtn</td>\n",
       "      <td>...</td>\n",
       "      <td>NaN</td>\n",
       "      <td>False</td>\n",
       "      <td>False</td>\n",
       "      <td>2019-07-06 11:08:26+09:00</td>\n",
       "      <td>11</td>\n",
       "      <td>Saturday</td>\n",
       "      <td>5</td>\n",
       "      <td>6</td>\n",
       "      <td>7</td>\n",
       "      <td>2019</td>\n",
       "    </tr>\n",
       "    <tr>\n",
       "      <th>85161</th>\n",
       "      <td>2021-10-26 04:38:41+00:00</td>\n",
       "      <td>Android OS 11 API 30 (OnePlus, HD1910)</td>\n",
       "      <td>124766</td>\n",
       "      <td>JP</td>\n",
       "      <td>Like I Did with You - Acoustic</td>\n",
       "      <td>Us The Duo</td>\n",
       "      <td>Like I Did with You (Acoustic)</td>\n",
       "      <td>spotify:track:5rCphRwV7QvlV1agT8ZYgc</td>\n",
       "      <td>trackdone</td>\n",
       "      <td>trackdone</td>\n",
       "      <td>...</td>\n",
       "      <td>NaN</td>\n",
       "      <td>False</td>\n",
       "      <td>False</td>\n",
       "      <td>2021-10-26 13:38:41+09:00</td>\n",
       "      <td>13</td>\n",
       "      <td>Tuesday</td>\n",
       "      <td>1</td>\n",
       "      <td>26</td>\n",
       "      <td>10</td>\n",
       "      <td>2021</td>\n",
       "    </tr>\n",
       "    <tr>\n",
       "      <th>10655</th>\n",
       "      <td>2017-08-30 16:55:15+00:00</td>\n",
       "      <td>Windows 10 (10.0.14393; x64)</td>\n",
       "      <td>221520</td>\n",
       "      <td>ID</td>\n",
       "      <td>Paris</td>\n",
       "      <td>The Chainsmokers</td>\n",
       "      <td>Paris</td>\n",
       "      <td>spotify:track:15vzANxN8G9wWfwAJLLMCg</td>\n",
       "      <td>trackdone</td>\n",
       "      <td>NaN</td>\n",
       "      <td>...</td>\n",
       "      <td>NaN</td>\n",
       "      <td>False</td>\n",
       "      <td>False</td>\n",
       "      <td>2017-08-30 23:55:15+07:00</td>\n",
       "      <td>23</td>\n",
       "      <td>Wednesday</td>\n",
       "      <td>2</td>\n",
       "      <td>30</td>\n",
       "      <td>8</td>\n",
       "      <td>2017</td>\n",
       "    </tr>\n",
       "    <tr>\n",
       "      <th>65594</th>\n",
       "      <td>2020-09-10 22:12:04+00:00</td>\n",
       "      <td>Android OS 10 API 29 (OnePlus, ONEPLUS A5010)</td>\n",
       "      <td>210049</td>\n",
       "      <td>JP</td>\n",
       "      <td>Jarak</td>\n",
       "      <td>Novécaine</td>\n",
       "      <td>Jarak</td>\n",
       "      <td>spotify:track:5buqrm5InTWtAqI4eQtbMb</td>\n",
       "      <td>trackdone</td>\n",
       "      <td>trackdone</td>\n",
       "      <td>...</td>\n",
       "      <td>NaN</td>\n",
       "      <td>False</td>\n",
       "      <td>False</td>\n",
       "      <td>2020-09-11 07:12:04+09:00</td>\n",
       "      <td>7</td>\n",
       "      <td>Friday</td>\n",
       "      <td>4</td>\n",
       "      <td>11</td>\n",
       "      <td>9</td>\n",
       "      <td>2020</td>\n",
       "    </tr>\n",
       "  </tbody>\n",
       "</table>\n",
       "<p>5 rows × 21 columns</p>\n",
       "</div>"
      ],
      "text/plain": [
       "                             ts  \\\n",
       "57393 2020-04-10 06:08:44+00:00   \n",
       "47125 2019-07-06 02:08:26+00:00   \n",
       "85161 2021-10-26 04:38:41+00:00   \n",
       "10655 2017-08-30 16:55:15+00:00   \n",
       "65594 2020-09-10 22:12:04+00:00   \n",
       "\n",
       "                                            platform  ms_played conn_country  \\\n",
       "57393   Android OS 9 API 28 (OnePlus, ONEPLUS A5010)     139785           JP   \n",
       "47125   Android OS 9 API 28 (OnePlus, ONEPLUS A5010)       5614           JP   \n",
       "85161         Android OS 11 API 30 (OnePlus, HD1910)     124766           JP   \n",
       "10655                   Windows 10 (10.0.14393; x64)     221520           ID   \n",
       "65594  Android OS 10 API 29 (OnePlus, ONEPLUS A5010)     210049           JP   \n",
       "\n",
       "                                              track_name       artist_name  \\\n",
       "57393  Bella Ciao - Música Original de la Serie la Ca...        Manu Pilas   \n",
       "47125                              Melompat Lebih Tinggi       Sheila On 7   \n",
       "85161                     Like I Did with You - Acoustic        Us The Duo   \n",
       "10655                                              Paris  The Chainsmokers   \n",
       "65594                                              Jarak         Novécaine   \n",
       "\n",
       "                                              album_name  \\\n",
       "57393  Bella Ciao (Música Original de la Serie la Cas...   \n",
       "47125                         OST. 30 Hari Mencari Cinta   \n",
       "85161                     Like I Did with You (Acoustic)   \n",
       "10655                                              Paris   \n",
       "65594                                              Jarak   \n",
       "\n",
       "                          spotify_track_uri reason_start reason_end  ...  \\\n",
       "57393  spotify:track:3lWzVNe1yFZlkeBBzUuZYu    trackdone  trackdone  ...   \n",
       "47125  spotify:track:7Hun5YHQ5TEe9j97cU5XPg    trackdone    backbtn  ...   \n",
       "85161  spotify:track:5rCphRwV7QvlV1agT8ZYgc    trackdone  trackdone  ...   \n",
       "10655  spotify:track:15vzANxN8G9wWfwAJLLMCg    trackdone        NaN  ...   \n",
       "65594  spotify:track:5buqrm5InTWtAqI4eQtbMb    trackdone  trackdone  ...   \n",
       "\n",
       "       skipped offline  incognito_mode                   ts_local hour  \\\n",
       "57393      NaN   False           False  2020-04-10 15:08:44+09:00   15   \n",
       "47125      NaN   False           False  2019-07-06 11:08:26+09:00   11   \n",
       "85161      NaN   False           False  2021-10-26 13:38:41+09:00   13   \n",
       "10655      NaN   False           False  2017-08-30 23:55:15+07:00   23   \n",
       "65594      NaN   False           False  2020-09-11 07:12:04+09:00    7   \n",
       "\n",
       "       day_of_week_str day_of_week_int  local_date  local_month  local_year  \n",
       "57393           Friday               4          10            4        2020  \n",
       "47125         Saturday               5           6            7        2019  \n",
       "85161          Tuesday               1          26           10        2021  \n",
       "10655        Wednesday               2          30            8        2017  \n",
       "65594           Friday               4          11            9        2020  \n",
       "\n",
       "[5 rows x 21 columns]"
      ]
     },
     "execution_count": 234,
     "metadata": {},
     "output_type": "execute_result"
    }
   ],
   "source": [
    "tracks_df.sample(5)"
   ]
  },
  {
   "cell_type": "markdown",
   "metadata": {},
   "source": [
    "### handling platform columns"
   ]
  },
  {
   "cell_type": "code",
   "execution_count": 235,
   "metadata": {},
   "outputs": [
    {
     "name": "stderr",
     "output_type": "stream",
     "text": [
      "C:\\Users\\Kim\\AppData\\Local\\Temp\\ipykernel_18888\\3275832675.py:5: FutureWarning: A value is trying to be set on a copy of a DataFrame or Series through chained assignment using an inplace method.\n",
      "The behavior will change in pandas 3.0. This inplace method will never work because the intermediate object on which we are setting values always behaves as a copy.\n",
      "\n",
      "For example, when doing 'df[col].method(value, inplace=True)', try using 'df.method({col: value}, inplace=True)' or df[col] = df[col].method(value) instead, to perform the operation inplace on the original object.\n",
      "\n",
      "\n",
      "  tracks_df['platform'].replace('partner', 'web_player', inplace=True)\n"
     ]
    }
   ],
   "source": [
    "# trim the platform values to only the first word and make it lowercase\n",
    "tracks_df['platform'] = tracks_df['platform'].str.split().str[0].str.lower()\n",
    "\n",
    "# replace 'partner' value in platform column with 'web_player'\n",
    "tracks_df['platform'].replace('partner', 'web_player', inplace=True)"
   ]
  },
  {
   "cell_type": "code",
   "execution_count": 236,
   "metadata": {},
   "outputs": [
    {
     "data": {
      "text/plain": [
       "platform\n",
       "android       97301\n",
       "windows       32015\n",
       "web_player       77\n",
       "Name: count, dtype: int64"
      ]
     },
     "execution_count": 236,
     "metadata": {},
     "output_type": "execute_result"
    }
   ],
   "source": [
    "tracks_df['platform'].value_counts()"
   ]
  },
  {
   "cell_type": "markdown",
   "metadata": {},
   "source": [
    "### handling spotify_track_uri to only track_id"
   ]
  },
  {
   "cell_type": "code",
   "execution_count": 237,
   "metadata": {},
   "outputs": [],
   "source": [
    "# trim spotify_track_uri to only the track id and rename the column into track_id\n",
    "tracks_df['spotify_track_uri'] = tracks_df['spotify_track_uri'].str.split(':').str[2]\n",
    "tracks_df.rename(columns={'spotify_track_uri':'track_id'}, inplace=True)"
   ]
  },
  {
   "cell_type": "code",
   "execution_count": 238,
   "metadata": {},
   "outputs": [
    {
     "data": {
      "text/html": [
       "<div>\n",
       "<style scoped>\n",
       "    .dataframe tbody tr th:only-of-type {\n",
       "        vertical-align: middle;\n",
       "    }\n",
       "\n",
       "    .dataframe tbody tr th {\n",
       "        vertical-align: top;\n",
       "    }\n",
       "\n",
       "    .dataframe thead th {\n",
       "        text-align: right;\n",
       "    }\n",
       "</style>\n",
       "<table border=\"1\" class=\"dataframe\">\n",
       "  <thead>\n",
       "    <tr style=\"text-align: right;\">\n",
       "      <th></th>\n",
       "      <th>ts</th>\n",
       "      <th>platform</th>\n",
       "      <th>ms_played</th>\n",
       "      <th>conn_country</th>\n",
       "      <th>track_name</th>\n",
       "      <th>artist_name</th>\n",
       "      <th>album_name</th>\n",
       "      <th>track_id</th>\n",
       "      <th>reason_start</th>\n",
       "      <th>reason_end</th>\n",
       "      <th>...</th>\n",
       "      <th>skipped</th>\n",
       "      <th>offline</th>\n",
       "      <th>incognito_mode</th>\n",
       "      <th>ts_local</th>\n",
       "      <th>hour</th>\n",
       "      <th>day_of_week_str</th>\n",
       "      <th>day_of_week_int</th>\n",
       "      <th>local_date</th>\n",
       "      <th>local_month</th>\n",
       "      <th>local_year</th>\n",
       "    </tr>\n",
       "  </thead>\n",
       "  <tbody>\n",
       "    <tr>\n",
       "      <th>62892</th>\n",
       "      <td>2020-07-31 12:55:30+00:00</td>\n",
       "      <td>android</td>\n",
       "      <td>71286</td>\n",
       "      <td>JP</td>\n",
       "      <td>the end (rejected demo)</td>\n",
       "      <td>In Love With a Ghost</td>\n",
       "      <td>Playful Spirits</td>\n",
       "      <td>2U2gdT333c0wq5FOLm8JQE</td>\n",
       "      <td>trackdone</td>\n",
       "      <td>trackdone</td>\n",
       "      <td>...</td>\n",
       "      <td>NaN</td>\n",
       "      <td>False</td>\n",
       "      <td>False</td>\n",
       "      <td>2020-07-31 21:55:30+09:00</td>\n",
       "      <td>21</td>\n",
       "      <td>Friday</td>\n",
       "      <td>4</td>\n",
       "      <td>31</td>\n",
       "      <td>7</td>\n",
       "      <td>2020</td>\n",
       "    </tr>\n",
       "    <tr>\n",
       "      <th>7544</th>\n",
       "      <td>2017-06-02 13:15:30+00:00</td>\n",
       "      <td>android</td>\n",
       "      <td>234666</td>\n",
       "      <td>ID</td>\n",
       "      <td>We'll Be Together</td>\n",
       "      <td>In Love With a Ghost</td>\n",
       "      <td>Discography 2015-2016</td>\n",
       "      <td>3nhBvq3wC6zsNf23cYvXFT</td>\n",
       "      <td>trackdone</td>\n",
       "      <td>NaN</td>\n",
       "      <td>...</td>\n",
       "      <td>NaN</td>\n",
       "      <td>False</td>\n",
       "      <td>False</td>\n",
       "      <td>2017-06-02 20:15:30+07:00</td>\n",
       "      <td>20</td>\n",
       "      <td>Friday</td>\n",
       "      <td>4</td>\n",
       "      <td>2</td>\n",
       "      <td>6</td>\n",
       "      <td>2017</td>\n",
       "    </tr>\n",
       "    <tr>\n",
       "      <th>45047</th>\n",
       "      <td>2019-05-18 08:52:47+00:00</td>\n",
       "      <td>android</td>\n",
       "      <td>82385</td>\n",
       "      <td>JP</td>\n",
       "      <td>Sentient</td>\n",
       "      <td>Riouth</td>\n",
       "      <td>Sentient</td>\n",
       "      <td>6hJVB5crm0kZqOH1ZeTmly</td>\n",
       "      <td>appload</td>\n",
       "      <td>trackdone</td>\n",
       "      <td>...</td>\n",
       "      <td>NaN</td>\n",
       "      <td>False</td>\n",
       "      <td>False</td>\n",
       "      <td>2019-05-18 17:52:47+09:00</td>\n",
       "      <td>17</td>\n",
       "      <td>Saturday</td>\n",
       "      <td>5</td>\n",
       "      <td>18</td>\n",
       "      <td>5</td>\n",
       "      <td>2019</td>\n",
       "    </tr>\n",
       "    <tr>\n",
       "      <th>92396</th>\n",
       "      <td>2022-03-08 09:47:16+00:00</td>\n",
       "      <td>android</td>\n",
       "      <td>201875</td>\n",
       "      <td>JP</td>\n",
       "      <td>Digital Persona</td>\n",
       "      <td>Chilli Beans.</td>\n",
       "      <td>d a n c i n g a l o n e</td>\n",
       "      <td>23O1hrpAhAvw8zCmO6izy9</td>\n",
       "      <td>trackdone</td>\n",
       "      <td>trackdone</td>\n",
       "      <td>...</td>\n",
       "      <td>NaN</td>\n",
       "      <td>False</td>\n",
       "      <td>False</td>\n",
       "      <td>2022-03-08 18:47:16+09:00</td>\n",
       "      <td>18</td>\n",
       "      <td>Tuesday</td>\n",
       "      <td>1</td>\n",
       "      <td>8</td>\n",
       "      <td>3</td>\n",
       "      <td>2022</td>\n",
       "    </tr>\n",
       "    <tr>\n",
       "      <th>30258</th>\n",
       "      <td>2018-09-19 15:52:21+00:00</td>\n",
       "      <td>windows</td>\n",
       "      <td>263448</td>\n",
       "      <td>JP</td>\n",
       "      <td>The Imperial March - Pegboard Nerds Remix</td>\n",
       "      <td>Celldweller</td>\n",
       "      <td>The Imperial March</td>\n",
       "      <td>7cE8VabTiFSjD2FSf6xrOx</td>\n",
       "      <td>trackdone</td>\n",
       "      <td>trackdone</td>\n",
       "      <td>...</td>\n",
       "      <td>NaN</td>\n",
       "      <td>False</td>\n",
       "      <td>False</td>\n",
       "      <td>2018-09-20 00:52:21+09:00</td>\n",
       "      <td>0</td>\n",
       "      <td>Thursday</td>\n",
       "      <td>3</td>\n",
       "      <td>20</td>\n",
       "      <td>9</td>\n",
       "      <td>2018</td>\n",
       "    </tr>\n",
       "  </tbody>\n",
       "</table>\n",
       "<p>5 rows × 21 columns</p>\n",
       "</div>"
      ],
      "text/plain": [
       "                             ts platform  ms_played conn_country  \\\n",
       "62892 2020-07-31 12:55:30+00:00  android      71286           JP   \n",
       "7544  2017-06-02 13:15:30+00:00  android     234666           ID   \n",
       "45047 2019-05-18 08:52:47+00:00  android      82385           JP   \n",
       "92396 2022-03-08 09:47:16+00:00  android     201875           JP   \n",
       "30258 2018-09-19 15:52:21+00:00  windows     263448           JP   \n",
       "\n",
       "                                      track_name           artist_name  \\\n",
       "62892                    the end (rejected demo)  In Love With a Ghost   \n",
       "7544                           We'll Be Together  In Love With a Ghost   \n",
       "45047                                   Sentient                Riouth   \n",
       "92396                            Digital Persona         Chilli Beans.   \n",
       "30258  The Imperial March - Pegboard Nerds Remix           Celldweller   \n",
       "\n",
       "                    album_name                track_id reason_start  \\\n",
       "62892          Playful Spirits  2U2gdT333c0wq5FOLm8JQE    trackdone   \n",
       "7544     Discography 2015-2016  3nhBvq3wC6zsNf23cYvXFT    trackdone   \n",
       "45047                 Sentient  6hJVB5crm0kZqOH1ZeTmly      appload   \n",
       "92396  d a n c i n g a l o n e  23O1hrpAhAvw8zCmO6izy9    trackdone   \n",
       "30258       The Imperial March  7cE8VabTiFSjD2FSf6xrOx    trackdone   \n",
       "\n",
       "      reason_end  ...  skipped offline  incognito_mode  \\\n",
       "62892  trackdone  ...      NaN   False           False   \n",
       "7544         NaN  ...      NaN   False           False   \n",
       "45047  trackdone  ...      NaN   False           False   \n",
       "92396  trackdone  ...      NaN   False           False   \n",
       "30258  trackdone  ...      NaN   False           False   \n",
       "\n",
       "                        ts_local hour  day_of_week_str day_of_week_int  \\\n",
       "62892  2020-07-31 21:55:30+09:00   21           Friday               4   \n",
       "7544   2017-06-02 20:15:30+07:00   20           Friday               4   \n",
       "45047  2019-05-18 17:52:47+09:00   17         Saturday               5   \n",
       "92396  2022-03-08 18:47:16+09:00   18          Tuesday               1   \n",
       "30258  2018-09-20 00:52:21+09:00    0         Thursday               3   \n",
       "\n",
       "       local_date  local_month  local_year  \n",
       "62892          31            7        2020  \n",
       "7544            2            6        2017  \n",
       "45047          18            5        2019  \n",
       "92396           8            3        2022  \n",
       "30258          20            9        2018  \n",
       "\n",
       "[5 rows x 21 columns]"
      ]
     },
     "execution_count": 238,
     "metadata": {},
     "output_type": "execute_result"
    }
   ],
   "source": [
    "tracks_df.sample(5)"
   ]
  },
  {
   "cell_type": "code",
   "execution_count": 239,
   "metadata": {},
   "outputs": [],
   "source": [
    "# let's save the current tracks_df into a new csv file\n",
    "tracks_df.to_csv('datasets/tracks_df_cleaned.csv', index=False)"
   ]
  },
  {
   "cell_type": "markdown",
   "metadata": {},
   "source": [
    "### handling 'skipped' column\n",
    "there are few things that we need to do here:\n",
    "- turn the values into True/False to make it uniform with other columns\n",
    "- assign NaN rows with its correct value as many as possible using reason_end and track's duration "
   ]
  },
  {
   "cell_type": "code",
   "execution_count": 402,
   "metadata": {},
   "outputs": [
    {
     "data": {
      "text/plain": [
       "skipped\n",
       "NaN      105421\n",
       "False     17475\n",
       "0.0        3581\n",
       "True       2065\n",
       "1.0         851\n",
       "Name: count, dtype: int64"
      ]
     },
     "execution_count": 402,
     "metadata": {},
     "output_type": "execute_result"
    }
   ],
   "source": [
    "tracks_df['skipped'].value_counts(dropna=False)"
   ]
  },
  {
   "cell_type": "code",
   "execution_count": 403,
   "metadata": {},
   "outputs": [],
   "source": [
    "# transform the 'skipped' column into boolean type so that it is easier to work with\n",
    "tracks_df['skipped'] = tracks_df['skipped'].replace({'False': False, '0.0': False, 'True': True, '1.0': True})\n",
    "tracks_df['skipped'] = tracks_df['skipped'].astype('boolean') #so that it can store True, False, and NaN"
   ]
  },
  {
   "cell_type": "code",
   "execution_count": 404,
   "metadata": {},
   "outputs": [
    {
     "data": {
      "text/plain": [
       "skipped\n",
       "<NA>     105421\n",
       "False     21056\n",
       "True       2916\n",
       "Name: count, dtype: Int64"
      ]
     },
     "execution_count": 404,
     "metadata": {},
     "output_type": "execute_result"
    }
   ],
   "source": [
    "tracks_df['skipped'].value_counts(dropna=False)"
   ]
  },
  {
   "cell_type": "code",
   "execution_count": 405,
   "metadata": {},
   "outputs": [
    {
     "data": {
      "text/html": [
       "<div>\n",
       "<style scoped>\n",
       "    .dataframe tbody tr th:only-of-type {\n",
       "        vertical-align: middle;\n",
       "    }\n",
       "\n",
       "    .dataframe tbody tr th {\n",
       "        vertical-align: top;\n",
       "    }\n",
       "\n",
       "    .dataframe thead th {\n",
       "        text-align: right;\n",
       "    }\n",
       "</style>\n",
       "<table border=\"1\" class=\"dataframe\">\n",
       "  <thead>\n",
       "    <tr style=\"text-align: right;\">\n",
       "      <th>reason_end</th>\n",
       "      <th>backbtn</th>\n",
       "      <th>endplay</th>\n",
       "      <th>fwdbtn</th>\n",
       "      <th>logout</th>\n",
       "      <th>remote</th>\n",
       "      <th>trackdone</th>\n",
       "      <th>trackerror</th>\n",
       "      <th>unexpected-exit</th>\n",
       "      <th>unexpected-exit-while-paused</th>\n",
       "      <th>unknown</th>\n",
       "      <th>NaN</th>\n",
       "    </tr>\n",
       "    <tr>\n",
       "      <th>skipped</th>\n",
       "      <th></th>\n",
       "      <th></th>\n",
       "      <th></th>\n",
       "      <th></th>\n",
       "      <th></th>\n",
       "      <th></th>\n",
       "      <th></th>\n",
       "      <th></th>\n",
       "      <th></th>\n",
       "      <th></th>\n",
       "      <th></th>\n",
       "    </tr>\n",
       "  </thead>\n",
       "  <tbody>\n",
       "    <tr>\n",
       "      <th>False</th>\n",
       "      <td>NaN</td>\n",
       "      <td>NaN</td>\n",
       "      <td>NaN</td>\n",
       "      <td>990.0</td>\n",
       "      <td>105.0</td>\n",
       "      <td>19855.0</td>\n",
       "      <td>NaN</td>\n",
       "      <td>4.0</td>\n",
       "      <td>100.0</td>\n",
       "      <td>2.0</td>\n",
       "      <td>NaN</td>\n",
       "    </tr>\n",
       "    <tr>\n",
       "      <th>True</th>\n",
       "      <td>445.0</td>\n",
       "      <td>632.0</td>\n",
       "      <td>1839.0</td>\n",
       "      <td>NaN</td>\n",
       "      <td>NaN</td>\n",
       "      <td>NaN</td>\n",
       "      <td>NaN</td>\n",
       "      <td>NaN</td>\n",
       "      <td>NaN</td>\n",
       "      <td>NaN</td>\n",
       "      <td>NaN</td>\n",
       "    </tr>\n",
       "    <tr>\n",
       "      <th>&lt;NA&gt;</th>\n",
       "      <td>4805.0</td>\n",
       "      <td>3118.0</td>\n",
       "      <td>9239.0</td>\n",
       "      <td>3845.0</td>\n",
       "      <td>966.0</td>\n",
       "      <td>62298.0</td>\n",
       "      <td>63.0</td>\n",
       "      <td>64.0</td>\n",
       "      <td>433.0</td>\n",
       "      <td>52.0</td>\n",
       "      <td>20538.0</td>\n",
       "    </tr>\n",
       "  </tbody>\n",
       "</table>\n",
       "</div>"
      ],
      "text/plain": [
       "reason_end  backbtn  endplay  fwdbtn  logout  remote  trackdone  trackerror  \\\n",
       "skipped                                                                       \n",
       "False           NaN      NaN     NaN   990.0   105.0    19855.0         NaN   \n",
       "True          445.0    632.0  1839.0     NaN     NaN        NaN         NaN   \n",
       "<NA>         4805.0   3118.0  9239.0  3845.0   966.0    62298.0        63.0   \n",
       "\n",
       "reason_end  unexpected-exit  unexpected-exit-while-paused  unknown      NaN  \n",
       "skipped                                                                      \n",
       "False                   4.0                         100.0      2.0      NaN  \n",
       "True                    NaN                           NaN      NaN      NaN  \n",
       "<NA>                   64.0                         433.0     52.0  20538.0  "
      ]
     },
     "execution_count": 405,
     "metadata": {},
     "output_type": "execute_result"
    }
   ],
   "source": [
    "# first, let's see the combination of 'skipped' and 'reason_end' values, including 'NaN'\n",
    "tracks_df.groupby(['skipped', 'reason_end'], dropna=False).size().unstack()"
   ]
  },
  {
   "cell_type": "markdown",
   "metadata": {},
   "source": [
    "based on the table above, we can see that:\n",
    "- Skipped == False happens mostly when the reason_end of the track is either trackdone, or the user exit the apps\n",
    "- Skipped == True happens when the user pressed the backbutton, endplay or forwardbutton to either navigate to other song, pause or replay the song (pressing backbutton here means that the track will be replayed from the beginning)\n",
    "based on this finding, we can fill a part of NaN value of the 'skipped' columns"
   ]
  },
  {
   "cell_type": "code",
   "execution_count": 406,
   "metadata": {},
   "outputs": [],
   "source": [
    "# Define a function to fill NaN in 'skipped' based on 'reason_end'\n",
    "def fill_skipped(row):\n",
    "    if pd.isna(row['skipped']):\n",
    "        if row['reason_end'] in ['fwdbtn', 'backbtn', 'endplay']:\n",
    "            return True \n",
    "        elif row['reason_end'] in ['logout', 'remote', 'trackdone', 'trackerror', 'unexpected-exit', 'unexpected-exit-while-paused']:\n",
    "            return False\n",
    "    return row['skipped'] # Return the original value if not NaN or reason_end is not in the specified list\n"
   ]
  },
  {
   "cell_type": "code",
   "execution_count": 407,
   "metadata": {},
   "outputs": [],
   "source": [
    "# Apply the function row by row\n",
    "tracks_df['skipped'] = tracks_df.apply(fill_skipped, axis=1)"
   ]
  },
  {
   "cell_type": "code",
   "execution_count": 408,
   "metadata": {},
   "outputs": [
    {
     "data": {
      "text/plain": [
       "skipped\n",
       "False    88725\n",
       "<NA>     20590\n",
       "True     20078\n",
       "Name: count, dtype: int64"
      ]
     },
     "execution_count": 408,
     "metadata": {},
     "output_type": "execute_result"
    }
   ],
   "source": [
    "tracks_df['skipped'].value_counts(dropna=False)"
   ]
  },
  {
   "cell_type": "code",
   "execution_count": 409,
   "metadata": {},
   "outputs": [
    {
     "data": {
      "text/plain": [
       "reason_end\n",
       "NaN        20538\n",
       "unknown       52\n",
       "Name: count, dtype: int64"
      ]
     },
     "execution_count": 409,
     "metadata": {},
     "output_type": "execute_result"
    }
   ],
   "source": [
    "tracks_df[tracks_df['skipped'].isna()]['reason_end'].value_counts(dropna=False)"
   ]
  },
  {
   "cell_type": "markdown",
   "metadata": {},
   "source": [
    "we managed to fill some missing information based on reason_end, let's continue filling the rest using track's duration"
   ]
  },
  {
   "cell_type": "code",
   "execution_count": 410,
   "metadata": {},
   "outputs": [
    {
     "data": {
      "text/html": [
       "<div>\n",
       "<style scoped>\n",
       "    .dataframe tbody tr th:only-of-type {\n",
       "        vertical-align: middle;\n",
       "    }\n",
       "\n",
       "    .dataframe tbody tr th {\n",
       "        vertical-align: top;\n",
       "    }\n",
       "\n",
       "    .dataframe thead th {\n",
       "        text-align: right;\n",
       "    }\n",
       "</style>\n",
       "<table border=\"1\" class=\"dataframe\">\n",
       "  <thead>\n",
       "    <tr style=\"text-align: right;\">\n",
       "      <th></th>\n",
       "      <th>track_id</th>\n",
       "      <th>duration_ms</th>\n",
       "    </tr>\n",
       "  </thead>\n",
       "  <tbody>\n",
       "    <tr>\n",
       "      <th>3923</th>\n",
       "      <td>086zmc265JWZZij1KpxQOb</td>\n",
       "      <td>231373</td>\n",
       "    </tr>\n",
       "    <tr>\n",
       "      <th>646</th>\n",
       "      <td>1hWrl3T1kIH5b9zRHLfCOn</td>\n",
       "      <td>148573</td>\n",
       "    </tr>\n",
       "    <tr>\n",
       "      <th>1222</th>\n",
       "      <td>2tbzFKHqykyCWAbzFKcc9v</td>\n",
       "      <td>119076</td>\n",
       "    </tr>\n",
       "    <tr>\n",
       "      <th>3476</th>\n",
       "      <td>3iDS9nw8qwFe74VROaORZC</td>\n",
       "      <td>110117</td>\n",
       "    </tr>\n",
       "    <tr>\n",
       "      <th>4731</th>\n",
       "      <td>1Cxx2ec6iADMThJFeKSOzl</td>\n",
       "      <td>162046</td>\n",
       "    </tr>\n",
       "  </tbody>\n",
       "</table>\n",
       "</div>"
      ],
      "text/plain": [
       "                    track_id  duration_ms\n",
       "3923  086zmc265JWZZij1KpxQOb       231373\n",
       "646   1hWrl3T1kIH5b9zRHLfCOn       148573\n",
       "1222  2tbzFKHqykyCWAbzFKcc9v       119076\n",
       "3476  3iDS9nw8qwFe74VROaORZC       110117\n",
       "4731  1Cxx2ec6iADMThJFeKSOzl       162046"
      ]
     },
     "metadata": {},
     "output_type": "display_data"
    }
   ],
   "source": [
    "# get track_info to get each track information\n",
    "track_info = pd.read_csv('datasets/tracks_info_df.csv')\n",
    "# let's keep the columns that we need only\n",
    "track_info = track_info[['track_id', 'duration_ms']]\n",
    "display(track_info.sample(5))"
   ]
  },
  {
   "cell_type": "code",
   "execution_count": 411,
   "metadata": {},
   "outputs": [
    {
     "data": {
      "text/plain": [
       "Index(['ts', 'platform', 'ms_played', 'conn_country', 'track_name',\n",
       "       'artist_name', 'album_name', 'track_id', 'reason_start', 'reason_end',\n",
       "       'shuffle', 'skipped', 'offline', 'incognito_mode', 'ts_local', 'hour',\n",
       "       'day_of_week_str', 'day_of_week_int', 'local_date', 'local_month',\n",
       "       'local_year', 'duration_ms'],\n",
       "      dtype='object')"
      ]
     },
     "execution_count": 411,
     "metadata": {},
     "output_type": "execute_result"
    }
   ],
   "source": [
    "# get the duration from track_info and merge it with tracks_df based on track_id\n",
    "tracks_df = tracks_df.merge(track_info, on='track_id', how='left')\n",
    "tracks_df.columns"
   ]
  },
  {
   "cell_type": "code",
   "execution_count": 412,
   "metadata": {},
   "outputs": [],
   "source": [
    "tracks_df['ms_played_ratio'] = tracks_df['ms_played'] / tracks_df['duration_ms']"
   ]
  },
  {
   "cell_type": "code",
   "execution_count": 413,
   "metadata": {},
   "outputs": [],
   "source": [
    "# store a label for a shorter syntax\n",
    "skipped_labels = ['track_id', 'artist_name', 'track_name', 'reason_start', 'reason_end', 'skipped', 'ms_played', 'duration_ms']"
   ]
  },
  {
   "cell_type": "code",
   "execution_count": 414,
   "metadata": {},
   "outputs": [
    {
     "data": {
      "text/html": [
       "<div>\n",
       "<style scoped>\n",
       "    .dataframe tbody tr th:only-of-type {\n",
       "        vertical-align: middle;\n",
       "    }\n",
       "\n",
       "    .dataframe tbody tr th {\n",
       "        vertical-align: top;\n",
       "    }\n",
       "\n",
       "    .dataframe thead th {\n",
       "        text-align: right;\n",
       "    }\n",
       "</style>\n",
       "<table border=\"1\" class=\"dataframe\">\n",
       "  <thead>\n",
       "    <tr style=\"text-align: right;\">\n",
       "      <th></th>\n",
       "      <th>track_id</th>\n",
       "      <th>artist_name</th>\n",
       "      <th>track_name</th>\n",
       "      <th>reason_start</th>\n",
       "      <th>reason_end</th>\n",
       "      <th>skipped</th>\n",
       "      <th>ms_played</th>\n",
       "      <th>duration_ms</th>\n",
       "    </tr>\n",
       "  </thead>\n",
       "  <tbody>\n",
       "    <tr>\n",
       "      <th>71680</th>\n",
       "      <td>5M8tCPBRAGdAVAyKIaEh9l</td>\n",
       "      <td>Darren Korb</td>\n",
       "      <td>In the Blood</td>\n",
       "      <td>trackdone</td>\n",
       "      <td>trackdone</td>\n",
       "      <td>False</td>\n",
       "      <td>250219</td>\n",
       "      <td>250237</td>\n",
       "    </tr>\n",
       "    <tr>\n",
       "      <th>87218</th>\n",
       "      <td>1WBAKisvCxR2IQ2knIAlyw</td>\n",
       "      <td>Sheila On 7</td>\n",
       "      <td>Pejantan Tangguh</td>\n",
       "      <td>fwdbtn</td>\n",
       "      <td>trackdone</td>\n",
       "      <td>False</td>\n",
       "      <td>207123</td>\n",
       "      <td>207133</td>\n",
       "    </tr>\n",
       "    <tr>\n",
       "      <th>78751</th>\n",
       "      <td>2QDiQ50Xv9ICj8lINq1YDK</td>\n",
       "      <td>The Star-Lord’s</td>\n",
       "      <td>Come and Get Your Love</td>\n",
       "      <td>trackdone</td>\n",
       "      <td>trackdone</td>\n",
       "      <td>False</td>\n",
       "      <td>210977</td>\n",
       "      <td>211000</td>\n",
       "    </tr>\n",
       "    <tr>\n",
       "      <th>93704</th>\n",
       "      <td>7iKZd4d4JEPfAYdIKtRLYH</td>\n",
       "      <td>Bishop Briggs</td>\n",
       "      <td>Art of Survival</td>\n",
       "      <td>trackdone</td>\n",
       "      <td>trackdone</td>\n",
       "      <td>False</td>\n",
       "      <td>181674</td>\n",
       "      <td>181686</td>\n",
       "    </tr>\n",
       "    <tr>\n",
       "      <th>73931</th>\n",
       "      <td>0G25jiypLyljfwPI6L0U6T</td>\n",
       "      <td>Daniela Andrade</td>\n",
       "      <td>Telegraph Ave / Sober</td>\n",
       "      <td>trackdone</td>\n",
       "      <td>trackdone</td>\n",
       "      <td>False</td>\n",
       "      <td>166534</td>\n",
       "      <td>166542</td>\n",
       "    </tr>\n",
       "  </tbody>\n",
       "</table>\n",
       "</div>"
      ],
      "text/plain": [
       "                     track_id      artist_name              track_name  \\\n",
       "71680  5M8tCPBRAGdAVAyKIaEh9l      Darren Korb            In the Blood   \n",
       "87218  1WBAKisvCxR2IQ2knIAlyw      Sheila On 7        Pejantan Tangguh   \n",
       "78751  2QDiQ50Xv9ICj8lINq1YDK  The Star-Lord’s  Come and Get Your Love   \n",
       "93704  7iKZd4d4JEPfAYdIKtRLYH    Bishop Briggs         Art of Survival   \n",
       "73931  0G25jiypLyljfwPI6L0U6T  Daniela Andrade   Telegraph Ave / Sober   \n",
       "\n",
       "      reason_start reason_end skipped  ms_played  duration_ms  \n",
       "71680    trackdone  trackdone   False     250219       250237  \n",
       "87218       fwdbtn  trackdone   False     207123       207133  \n",
       "78751    trackdone  trackdone   False     210977       211000  \n",
       "93704    trackdone  trackdone   False     181674       181686  \n",
       "73931    trackdone  trackdone   False     166534       166542  "
      ]
     },
     "execution_count": 414,
     "metadata": {},
     "output_type": "execute_result"
    }
   ],
   "source": [
    "tracks_df[(tracks_df['reason_end'] == 'trackdone')\n",
    "          & (tracks_df['ms_played'] < tracks_df['duration_ms'])] \\\n",
    "            [skipped_labels].sample(5)"
   ]
  },
  {
   "cell_type": "code",
   "execution_count": 415,
   "metadata": {},
   "outputs": [
    {
     "data": {
      "text/html": [
       "<div>\n",
       "<style scoped>\n",
       "    .dataframe tbody tr th:only-of-type {\n",
       "        vertical-align: middle;\n",
       "    }\n",
       "\n",
       "    .dataframe tbody tr th {\n",
       "        vertical-align: top;\n",
       "    }\n",
       "\n",
       "    .dataframe thead th {\n",
       "        text-align: right;\n",
       "    }\n",
       "</style>\n",
       "<table border=\"1\" class=\"dataframe\">\n",
       "  <thead>\n",
       "    <tr style=\"text-align: right;\">\n",
       "      <th></th>\n",
       "      <th>track_id</th>\n",
       "      <th>artist_name</th>\n",
       "      <th>track_name</th>\n",
       "      <th>reason_start</th>\n",
       "      <th>reason_end</th>\n",
       "      <th>skipped</th>\n",
       "      <th>ms_played</th>\n",
       "      <th>duration_ms</th>\n",
       "      <th>ms_played_ratio</th>\n",
       "    </tr>\n",
       "  </thead>\n",
       "  <tbody>\n",
       "    <tr>\n",
       "      <th>6561</th>\n",
       "      <td>6SFV8lSwWqAOtitaFzEoaF</td>\n",
       "      <td>In Love With a Ghost</td>\n",
       "      <td>Crystal</td>\n",
       "      <td>backbtn</td>\n",
       "      <td>NaN</td>\n",
       "      <td>&lt;NA&gt;</td>\n",
       "      <td>0</td>\n",
       "      <td>171182</td>\n",
       "      <td>0.0</td>\n",
       "    </tr>\n",
       "    <tr>\n",
       "      <th>6733</th>\n",
       "      <td>2F8nJ7yF9GN5ONBHnmzy1h</td>\n",
       "      <td>The Changcuters</td>\n",
       "      <td>Racun Dunia</td>\n",
       "      <td>fwdbtn</td>\n",
       "      <td>NaN</td>\n",
       "      <td>&lt;NA&gt;</td>\n",
       "      <td>0</td>\n",
       "      <td>274466</td>\n",
       "      <td>0.0</td>\n",
       "    </tr>\n",
       "    <tr>\n",
       "      <th>6734</th>\n",
       "      <td>6dNXnOl9Oj7wPLjXG13Ar4</td>\n",
       "      <td>Nike Ardilla</td>\n",
       "      <td>Bintang Kehidupan</td>\n",
       "      <td>fwdbtn</td>\n",
       "      <td>NaN</td>\n",
       "      <td>&lt;NA&gt;</td>\n",
       "      <td>0</td>\n",
       "      <td>266919</td>\n",
       "      <td>0.0</td>\n",
       "    </tr>\n",
       "    <tr>\n",
       "      <th>6735</th>\n",
       "      <td>3M0RfjqAJZ1f6qXJkP1Uej</td>\n",
       "      <td>Efek Rumah Kaca</td>\n",
       "      <td>Sebelah Mata</td>\n",
       "      <td>fwdbtn</td>\n",
       "      <td>NaN</td>\n",
       "      <td>&lt;NA&gt;</td>\n",
       "      <td>0</td>\n",
       "      <td>269757</td>\n",
       "      <td>0.0</td>\n",
       "    </tr>\n",
       "    <tr>\n",
       "      <th>6736</th>\n",
       "      <td>2oTDOIAdsxPTE7yAp4YOcv</td>\n",
       "      <td>House Of Pain</td>\n",
       "      <td>Jump Around</td>\n",
       "      <td>fwdbtn</td>\n",
       "      <td>NaN</td>\n",
       "      <td>&lt;NA&gt;</td>\n",
       "      <td>0</td>\n",
       "      <td>214946</td>\n",
       "      <td>0.0</td>\n",
       "    </tr>\n",
       "    <tr>\n",
       "      <th>6476</th>\n",
       "      <td>2COBMrpsGXEagCGkjp2Siz</td>\n",
       "      <td>Limes</td>\n",
       "      <td>Jovial</td>\n",
       "      <td>trackdone</td>\n",
       "      <td>NaN</td>\n",
       "      <td>&lt;NA&gt;</td>\n",
       "      <td>0</td>\n",
       "      <td>142727</td>\n",
       "      <td>0.0</td>\n",
       "    </tr>\n",
       "    <tr>\n",
       "      <th>6621</th>\n",
       "      <td>2j3g68OQNQKEmQW7kDJeKO</td>\n",
       "      <td>Pink Guy</td>\n",
       "      <td>Goofy's Trial</td>\n",
       "      <td>appload</td>\n",
       "      <td>NaN</td>\n",
       "      <td>&lt;NA&gt;</td>\n",
       "      <td>0</td>\n",
       "      <td>166402</td>\n",
       "      <td>0.0</td>\n",
       "    </tr>\n",
       "    <tr>\n",
       "      <th>6747</th>\n",
       "      <td>3821tdFqPQeJNYxryIqIev</td>\n",
       "      <td>The Changcuters</td>\n",
       "      <td>Hijrah Ke London</td>\n",
       "      <td>fwdbtn</td>\n",
       "      <td>NaN</td>\n",
       "      <td>&lt;NA&gt;</td>\n",
       "      <td>0</td>\n",
       "      <td>205706</td>\n",
       "      <td>0.0</td>\n",
       "    </tr>\n",
       "    <tr>\n",
       "      <th>2228</th>\n",
       "      <td>4AP0fHeJ9MRGiS1i1xlw7Y</td>\n",
       "      <td>Rootkit</td>\n",
       "      <td>Real Love (feat. Danyka Nadeau)</td>\n",
       "      <td>fwdbtn</td>\n",
       "      <td>NaN</td>\n",
       "      <td>&lt;NA&gt;</td>\n",
       "      <td>0</td>\n",
       "      <td>275409</td>\n",
       "      <td>0.0</td>\n",
       "    </tr>\n",
       "    <tr>\n",
       "      <th>2229</th>\n",
       "      <td>204PudWeSLHxVwOkune8mr</td>\n",
       "      <td>Au5</td>\n",
       "      <td>Inside (feat. Danyka Nadeau)</td>\n",
       "      <td>fwdbtn</td>\n",
       "      <td>NaN</td>\n",
       "      <td>&lt;NA&gt;</td>\n",
       "      <td>0</td>\n",
       "      <td>289970</td>\n",
       "      <td>0.0</td>\n",
       "    </tr>\n",
       "  </tbody>\n",
       "</table>\n",
       "</div>"
      ],
      "text/plain": [
       "                    track_id           artist_name  \\\n",
       "6561  6SFV8lSwWqAOtitaFzEoaF  In Love With a Ghost   \n",
       "6733  2F8nJ7yF9GN5ONBHnmzy1h       The Changcuters   \n",
       "6734  6dNXnOl9Oj7wPLjXG13Ar4          Nike Ardilla   \n",
       "6735  3M0RfjqAJZ1f6qXJkP1Uej       Efek Rumah Kaca   \n",
       "6736  2oTDOIAdsxPTE7yAp4YOcv         House Of Pain   \n",
       "6476  2COBMrpsGXEagCGkjp2Siz                 Limes   \n",
       "6621  2j3g68OQNQKEmQW7kDJeKO              Pink Guy   \n",
       "6747  3821tdFqPQeJNYxryIqIev       The Changcuters   \n",
       "2228  4AP0fHeJ9MRGiS1i1xlw7Y               Rootkit   \n",
       "2229  204PudWeSLHxVwOkune8mr                   Au5   \n",
       "\n",
       "                           track_name reason_start reason_end skipped  \\\n",
       "6561                          Crystal      backbtn        NaN    <NA>   \n",
       "6733                      Racun Dunia       fwdbtn        NaN    <NA>   \n",
       "6734                Bintang Kehidupan       fwdbtn        NaN    <NA>   \n",
       "6735                     Sebelah Mata       fwdbtn        NaN    <NA>   \n",
       "6736                      Jump Around       fwdbtn        NaN    <NA>   \n",
       "6476                           Jovial    trackdone        NaN    <NA>   \n",
       "6621                    Goofy's Trial      appload        NaN    <NA>   \n",
       "6747                 Hijrah Ke London       fwdbtn        NaN    <NA>   \n",
       "2228  Real Love (feat. Danyka Nadeau)       fwdbtn        NaN    <NA>   \n",
       "2229     Inside (feat. Danyka Nadeau)       fwdbtn        NaN    <NA>   \n",
       "\n",
       "      ms_played  duration_ms  ms_played_ratio  \n",
       "6561          0       171182              0.0  \n",
       "6733          0       274466              0.0  \n",
       "6734          0       266919              0.0  \n",
       "6735          0       269757              0.0  \n",
       "6736          0       214946              0.0  \n",
       "6476          0       142727              0.0  \n",
       "6621          0       166402              0.0  \n",
       "6747          0       205706              0.0  \n",
       "2228          0       275409              0.0  \n",
       "2229          0       289970              0.0  "
      ]
     },
     "execution_count": 415,
     "metadata": {},
     "output_type": "execute_result"
    }
   ],
   "source": [
    "tracks_df[(tracks_df['reason_end'].isna())] \\\n",
    "            [skipped_labels + ['ms_played_ratio']].sort_values('ms_played_ratio', ascending=True).head(10)"
   ]
  },
  {
   "cell_type": "code",
   "execution_count": 416,
   "metadata": {},
   "outputs": [
    {
     "data": {
      "text/plain": [
       "<Axes: xlabel='ms_played_ratio', ylabel='Count'>"
      ]
     },
     "execution_count": 416,
     "metadata": {},
     "output_type": "execute_result"
    },
    {
     "data": {
      "image/png": "[encoded data removed]",
      "text/plain": [
       "<Figure size 640x480 with 1 Axes>"
      ]
     },
     "metadata": {},
     "output_type": "display_data"
    }
   ],
   "source": [
    "# visualize the distribution of ms_played_diff for skipped == nan\n",
    "sns.histplot(tracks_df[(tracks_df['skipped'].isna()) &\n",
    "                       (tracks_df['ms_played_ratio'] < 0.8)]['ms_played_ratio'], kde=True, bins=100)"
   ]
  },
  {
   "cell_type": "code",
   "execution_count": 419,
   "metadata": {},
   "outputs": [
    {
     "data": {
      "text/html": [
       "<div>\n",
       "<style scoped>\n",
       "    .dataframe tbody tr th:only-of-type {\n",
       "        vertical-align: middle;\n",
       "    }\n",
       "\n",
       "    .dataframe tbody tr th {\n",
       "        vertical-align: top;\n",
       "    }\n",
       "\n",
       "    .dataframe thead th {\n",
       "        text-align: right;\n",
       "    }\n",
       "</style>\n",
       "<table border=\"1\" class=\"dataframe\">\n",
       "  <thead>\n",
       "    <tr style=\"text-align: right;\">\n",
       "      <th></th>\n",
       "      <th>track_id</th>\n",
       "      <th>artist_name</th>\n",
       "      <th>track_name</th>\n",
       "      <th>reason_start</th>\n",
       "      <th>reason_end</th>\n",
       "      <th>skipped</th>\n",
       "      <th>ms_played</th>\n",
       "      <th>duration_ms</th>\n",
       "      <th>ms_played_ratio</th>\n",
       "    </tr>\n",
       "  </thead>\n",
       "  <tbody>\n",
       "    <tr>\n",
       "      <th>3286</th>\n",
       "      <td>12mGwph2YzDIlChtq3EdXP</td>\n",
       "      <td>Marshmello</td>\n",
       "      <td>Alone</td>\n",
       "      <td>trackdone</td>\n",
       "      <td>NaN</td>\n",
       "      <td>&lt;NA&gt;</td>\n",
       "      <td>23012</td>\n",
       "      <td>273802</td>\n",
       "      <td>0.084046</td>\n",
       "    </tr>\n",
       "    <tr>\n",
       "      <th>4634</th>\n",
       "      <td>7zvKFw17XyoBUx9mHiwzPy</td>\n",
       "      <td>Pink Guy</td>\n",
       "      <td>Rice Balls</td>\n",
       "      <td>trackdone</td>\n",
       "      <td>NaN</td>\n",
       "      <td>&lt;NA&gt;</td>\n",
       "      <td>17248</td>\n",
       "      <td>196173</td>\n",
       "      <td>0.087922</td>\n",
       "    </tr>\n",
       "    <tr>\n",
       "      <th>4705</th>\n",
       "      <td>5hYTyyh2odQKphUbMqc5gN</td>\n",
       "      <td>Alessia Cara</td>\n",
       "      <td>How Far I'll Go - From \"Moana\"</td>\n",
       "      <td>trackdone</td>\n",
       "      <td>NaN</td>\n",
       "      <td>&lt;NA&gt;</td>\n",
       "      <td>147511</td>\n",
       "      <td>175517</td>\n",
       "      <td>0.840437</td>\n",
       "    </tr>\n",
       "    <tr>\n",
       "      <th>8766</th>\n",
       "      <td>3gfBrvyk35gtmZhjbSvNyb</td>\n",
       "      <td>In Love With a Ghost</td>\n",
       "      <td>Don't Cry Kate</td>\n",
       "      <td>fwdbtn</td>\n",
       "      <td>NaN</td>\n",
       "      <td>&lt;NA&gt;</td>\n",
       "      <td>2827</td>\n",
       "      <td>192000</td>\n",
       "      <td>0.014724</td>\n",
       "    </tr>\n",
       "    <tr>\n",
       "      <th>10010</th>\n",
       "      <td>6HH1qlyyVAAJzbctS0OYKB</td>\n",
       "      <td>Kana Nishino</td>\n",
       "      <td>No.1</td>\n",
       "      <td>trackdone</td>\n",
       "      <td>NaN</td>\n",
       "      <td>&lt;NA&gt;</td>\n",
       "      <td>223009</td>\n",
       "      <td>252000</td>\n",
       "      <td>0.884956</td>\n",
       "    </tr>\n",
       "    <tr>\n",
       "      <th>7053</th>\n",
       "      <td>5VnaOLeK1lKfULuNwet8ck</td>\n",
       "      <td>In Love With a Ghost</td>\n",
       "      <td>Flowers</td>\n",
       "      <td>trackdone</td>\n",
       "      <td>NaN</td>\n",
       "      <td>&lt;NA&gt;</td>\n",
       "      <td>3939</td>\n",
       "      <td>252121</td>\n",
       "      <td>0.015623</td>\n",
       "    </tr>\n",
       "    <tr>\n",
       "      <th>12751</th>\n",
       "      <td>0SxZpiF1BfbLiKJAamelYz</td>\n",
       "      <td>Fight Like Apes</td>\n",
       "      <td>I'm Beginning To Think You Prefer Beverly Hill...</td>\n",
       "      <td>clickrow</td>\n",
       "      <td>NaN</td>\n",
       "      <td>&lt;NA&gt;</td>\n",
       "      <td>34100</td>\n",
       "      <td>203413</td>\n",
       "      <td>0.167639</td>\n",
       "    </tr>\n",
       "    <tr>\n",
       "      <th>2631</th>\n",
       "      <td>5Dk2YjSwm9U2WC1nsFuwrD</td>\n",
       "      <td>Excision</td>\n",
       "      <td>Bring the Madness (Noisestorm Remix) [feat. Ma...</td>\n",
       "      <td>trackdone</td>\n",
       "      <td>NaN</td>\n",
       "      <td>&lt;NA&gt;</td>\n",
       "      <td>4853</td>\n",
       "      <td>240000</td>\n",
       "      <td>0.020221</td>\n",
       "    </tr>\n",
       "    <tr>\n",
       "      <th>5995</th>\n",
       "      <td>1xxlEIFljtiUYVXufYup84</td>\n",
       "      <td>In Love With a Ghost</td>\n",
       "      <td>Can I Be Your Internet Crush</td>\n",
       "      <td>trackdone</td>\n",
       "      <td>NaN</td>\n",
       "      <td>&lt;NA&gt;</td>\n",
       "      <td>37702</td>\n",
       "      <td>205090</td>\n",
       "      <td>0.183831</td>\n",
       "    </tr>\n",
       "    <tr>\n",
       "      <th>8157</th>\n",
       "      <td>51NwEhU00taacC9npdji7W</td>\n",
       "      <td>In Love With a Ghost</td>\n",
       "      <td>I Just Loved You (feat. Tomppabeats &amp; Oiseaubi...</td>\n",
       "      <td>fwdbtn</td>\n",
       "      <td>NaN</td>\n",
       "      <td>&lt;NA&gt;</td>\n",
       "      <td>810</td>\n",
       "      <td>114000</td>\n",
       "      <td>0.007105</td>\n",
       "    </tr>\n",
       "  </tbody>\n",
       "</table>\n",
       "</div>"
      ],
      "text/plain": [
       "                     track_id           artist_name  \\\n",
       "3286   12mGwph2YzDIlChtq3EdXP            Marshmello   \n",
       "4634   7zvKFw17XyoBUx9mHiwzPy              Pink Guy   \n",
       "4705   5hYTyyh2odQKphUbMqc5gN          Alessia Cara   \n",
       "8766   3gfBrvyk35gtmZhjbSvNyb  In Love With a Ghost   \n",
       "10010  6HH1qlyyVAAJzbctS0OYKB          Kana Nishino   \n",
       "7053   5VnaOLeK1lKfULuNwet8ck  In Love With a Ghost   \n",
       "12751  0SxZpiF1BfbLiKJAamelYz       Fight Like Apes   \n",
       "2631   5Dk2YjSwm9U2WC1nsFuwrD              Excision   \n",
       "5995   1xxlEIFljtiUYVXufYup84  In Love With a Ghost   \n",
       "8157   51NwEhU00taacC9npdji7W  In Love With a Ghost   \n",
       "\n",
       "                                              track_name reason_start  \\\n",
       "3286                                               Alone    trackdone   \n",
       "4634                                          Rice Balls    trackdone   \n",
       "4705                      How Far I'll Go - From \"Moana\"    trackdone   \n",
       "8766                                      Don't Cry Kate       fwdbtn   \n",
       "10010                                               No.1    trackdone   \n",
       "7053                                             Flowers    trackdone   \n",
       "12751  I'm Beginning To Think You Prefer Beverly Hill...     clickrow   \n",
       "2631   Bring the Madness (Noisestorm Remix) [feat. Ma...    trackdone   \n",
       "5995                        Can I Be Your Internet Crush    trackdone   \n",
       "8157   I Just Loved You (feat. Tomppabeats & Oiseaubi...       fwdbtn   \n",
       "\n",
       "      reason_end skipped  ms_played  duration_ms  ms_played_ratio  \n",
       "3286         NaN    <NA>      23012       273802         0.084046  \n",
       "4634         NaN    <NA>      17248       196173         0.087922  \n",
       "4705         NaN    <NA>     147511       175517         0.840437  \n",
       "8766         NaN    <NA>       2827       192000         0.014724  \n",
       "10010        NaN    <NA>     223009       252000         0.884956  \n",
       "7053         NaN    <NA>       3939       252121         0.015623  \n",
       "12751        NaN    <NA>      34100       203413         0.167639  \n",
       "2631         NaN    <NA>       4853       240000         0.020221  \n",
       "5995         NaN    <NA>      37702       205090         0.183831  \n",
       "8157         NaN    <NA>        810       114000         0.007105  "
      ]
     },
     "execution_count": 419,
     "metadata": {},
     "output_type": "execute_result"
    }
   ],
   "source": [
    "tracks_df[(tracks_df['ms_played_ratio'] < 0.9) &\n",
    "          (tracks_df['skipped'].isna())][skipped_labels + ['ms_played_ratio']].sample(10)"
   ]
  },
  {
   "cell_type": "code",
   "execution_count": 420,
   "metadata": {},
   "outputs": [
    {
     "data": {
      "text/html": [
       "<div>\n",
       "<style scoped>\n",
       "    .dataframe tbody tr th:only-of-type {\n",
       "        vertical-align: middle;\n",
       "    }\n",
       "\n",
       "    .dataframe tbody tr th {\n",
       "        vertical-align: top;\n",
       "    }\n",
       "\n",
       "    .dataframe thead th {\n",
       "        text-align: right;\n",
       "    }\n",
       "</style>\n",
       "<table border=\"1\" class=\"dataframe\">\n",
       "  <thead>\n",
       "    <tr style=\"text-align: right;\">\n",
       "      <th></th>\n",
       "      <th>track_id</th>\n",
       "      <th>artist_name</th>\n",
       "      <th>track_name</th>\n",
       "      <th>reason_start</th>\n",
       "      <th>reason_end</th>\n",
       "      <th>skipped</th>\n",
       "      <th>ms_played</th>\n",
       "      <th>duration_ms</th>\n",
       "      <th>ms_played_ratio</th>\n",
       "    </tr>\n",
       "  </thead>\n",
       "  <tbody>\n",
       "    <tr>\n",
       "      <th>89259</th>\n",
       "      <td>2O7FC4XbIrJ6Ib8bsq0FYC</td>\n",
       "      <td>Us The Duo</td>\n",
       "      <td>Near Or Far</td>\n",
       "      <td>trackdone</td>\n",
       "      <td>fwdbtn</td>\n",
       "      <td>True</td>\n",
       "      <td>1044406</td>\n",
       "      <td>219306</td>\n",
       "      <td>4.762323</td>\n",
       "    </tr>\n",
       "    <tr>\n",
       "      <th>116668</th>\n",
       "      <td>2TF4PgOMbINYKMdQpCO1bm</td>\n",
       "      <td>Pomplamoose</td>\n",
       "      <td>Sweet Dreams Seven Nation Army Mashup</td>\n",
       "      <td>trackdone</td>\n",
       "      <td>fwdbtn</td>\n",
       "      <td>True</td>\n",
       "      <td>314805</td>\n",
       "      <td>153000</td>\n",
       "      <td>2.057549</td>\n",
       "    </tr>\n",
       "    <tr>\n",
       "      <th>97229</th>\n",
       "      <td>4X1heoe3QkaLpCCvx7mmmV</td>\n",
       "      <td>Wasia Project</td>\n",
       "      <td>how can i pretend? - Demo</td>\n",
       "      <td>trackdone</td>\n",
       "      <td>backbtn</td>\n",
       "      <td>True</td>\n",
       "      <td>225060</td>\n",
       "      <td>84624</td>\n",
       "      <td>2.659529</td>\n",
       "    </tr>\n",
       "    <tr>\n",
       "      <th>114077</th>\n",
       "      <td>5DGgATX8r6d53OU6eT0Dzt</td>\n",
       "      <td>Lawrence</td>\n",
       "      <td>Don't Lose Sight (Acoustic)</td>\n",
       "      <td>trackdone</td>\n",
       "      <td>fwdbtn</td>\n",
       "      <td>True</td>\n",
       "      <td>1082813</td>\n",
       "      <td>406186</td>\n",
       "      <td>2.665806</td>\n",
       "    </tr>\n",
       "    <tr>\n",
       "      <th>111393</th>\n",
       "      <td>2YIsnl3xxvV34QgnT9HLCY</td>\n",
       "      <td>dodie</td>\n",
       "      <td>Special Girl</td>\n",
       "      <td>trackdone</td>\n",
       "      <td>backbtn</td>\n",
       "      <td>True</td>\n",
       "      <td>413311</td>\n",
       "      <td>193423</td>\n",
       "      <td>2.136824</td>\n",
       "    </tr>\n",
       "  </tbody>\n",
       "</table>\n",
       "</div>"
      ],
      "text/plain": [
       "                      track_id    artist_name  \\\n",
       "89259   2O7FC4XbIrJ6Ib8bsq0FYC     Us The Duo   \n",
       "116668  2TF4PgOMbINYKMdQpCO1bm    Pomplamoose   \n",
       "97229   4X1heoe3QkaLpCCvx7mmmV  Wasia Project   \n",
       "114077  5DGgATX8r6d53OU6eT0Dzt       Lawrence   \n",
       "111393  2YIsnl3xxvV34QgnT9HLCY          dodie   \n",
       "\n",
       "                                   track_name reason_start reason_end skipped  \\\n",
       "89259                             Near Or Far    trackdone     fwdbtn    True   \n",
       "116668  Sweet Dreams Seven Nation Army Mashup    trackdone     fwdbtn    True   \n",
       "97229               how can i pretend? - Demo    trackdone    backbtn    True   \n",
       "114077            Don't Lose Sight (Acoustic)    trackdone     fwdbtn    True   \n",
       "111393                           Special Girl    trackdone    backbtn    True   \n",
       "\n",
       "        ms_played  duration_ms  ms_played_ratio  \n",
       "89259     1044406       219306         4.762323  \n",
       "116668     314805       153000         2.057549  \n",
       "97229      225060        84624         2.659529  \n",
       "114077    1082813       406186         2.665806  \n",
       "111393     413311       193423         2.136824  "
      ]
     },
     "execution_count": 420,
     "metadata": {},
     "output_type": "execute_result"
    }
   ],
   "source": [
    "tracks_df[(tracks_df['ms_played_ratio'] > 2) &\n",
    "          (tracks_df['skipped'] == True)][skipped_labels + ['ms_played_ratio']].sample(5)"
   ]
  },
  {
   "cell_type": "code",
   "execution_count": 421,
   "metadata": {},
   "outputs": [],
   "source": [
    "# let's fill the rest of NaN with an assumption that if the ms_played_ratio is less than 0.9, then the track is considered skipped\n",
    "def fill_skipped_nan(row):\n",
    "    if row['ms_played_ratio'] < 0.9:\n",
    "        return True\n",
    "    return False"
   ]
  },
  {
   "cell_type": "code",
   "execution_count": 422,
   "metadata": {},
   "outputs": [],
   "source": [
    "tracks_df.loc[tracks_df['skipped'].isna(), 'skipped'] = tracks_df[tracks_df['skipped'].isna()].apply(fill_skipped_nan, axis=1)"
   ]
  },
  {
   "cell_type": "code",
   "execution_count": 423,
   "metadata": {},
   "outputs": [
    {
     "data": {
      "text/plain": [
       "skipped\n",
       "False    103095\n",
       "True      26298\n",
       "Name: count, dtype: int64"
      ]
     },
     "execution_count": 423,
     "metadata": {},
     "output_type": "execute_result"
    }
   ],
   "source": [
    "tracks_df['skipped'].value_counts(dropna=False)"
   ]
  },
  {
   "cell_type": "markdown",
   "metadata": {},
   "source": [
    "### (optional) replacing 'skipped' column from spotify entirely with 'is_skipped' based on ms_played_ratio\n",
    "tbh, the number of missing information in 'skipped' column is too many and some might think it's too much hassle to fill the missing information and even if we did, the data might not be that reliable because the value is filled using different assumption\n",
    "we can also create an entire new column of 'is_skipped' based on previous ms_played_ratio assumption so that we have a generalized assumption"
   ]
  },
  {
   "cell_type": "code",
   "execution_count": 424,
   "metadata": {},
   "outputs": [],
   "source": [
    "# using ms_played_ratio to create 'is_skipped' column\n",
    "tracks_df['is_skipped'] = tracks_df['ms_played_ratio'] < 0.9"
   ]
  },
  {
   "cell_type": "code",
   "execution_count": 426,
   "metadata": {},
   "outputs": [
    {
     "data": {
      "text/plain": [
       "skipped  is_skipped\n",
       "False    False         94955\n",
       "True     True          25798\n",
       "False    True           8140\n",
       "True     False           500\n",
       "Name: count, dtype: int64"
      ]
     },
     "execution_count": 426,
     "metadata": {},
     "output_type": "execute_result"
    }
   ],
   "source": [
    "# let's compare the 'skipped' and 'is_skipped' columns\n",
    "tracks_df[['skipped', 'is_skipped']].value_counts()"
   ]
  },
  {
   "cell_type": "markdown",
   "metadata": {},
   "source": [
    "# Lyrics data"
   ]
  },
  {
   "cell_type": "markdown",
   "metadata": {},
   "source": [
    "## Data Cleaning/Preprocessing"
   ]
  },
  {
   "cell_type": "code",
   "execution_count": 3,
   "metadata": {},
   "outputs": [],
   "source": [
    "# let's load the lyrics data that we have scraped from Genius (through LyricsGenius)\n",
    "lyrics_df = pd.read_csv('datasets/lyrics_data.csv')\n",
    "lyrics_df.rename(columns={'Unnamed: 0':'track_id'}, inplace=True)"
   ]
  },
  {
   "cell_type": "code",
   "execution_count": 4,
   "metadata": {},
   "outputs": [
    {
     "data": {
      "text/plain": [
       "track_id             0\n",
       "title_genius      1574\n",
       "artist_genius     1574\n",
       "title_spotify        0\n",
       "artist_spotify       0\n",
       "lyrics            1574\n",
       "dtype: int64"
      ]
     },
     "execution_count": 4,
     "metadata": {},
     "output_type": "execute_result"
    }
   ],
   "source": [
    "lyrics_df.isna().sum()"
   ]
  },
  {
   "cell_type": "code",
   "execution_count": 5,
   "metadata": {},
   "outputs": [],
   "source": [
    "# remove rows with NaN in lyrics column\n",
    "lyrics_df.dropna(subset=['lyrics'], inplace=True)"
   ]
  },
  {
   "cell_type": "code",
   "execution_count": 6,
   "metadata": {},
   "outputs": [
    {
     "data": {
      "text/html": [
       "<div>\n",
       "<style scoped>\n",
       "    .dataframe tbody tr th:only-of-type {\n",
       "        vertical-align: middle;\n",
       "    }\n",
       "\n",
       "    .dataframe tbody tr th {\n",
       "        vertical-align: top;\n",
       "    }\n",
       "\n",
       "    .dataframe thead th {\n",
       "        text-align: right;\n",
       "    }\n",
       "</style>\n",
       "<table border=\"1\" class=\"dataframe\">\n",
       "  <thead>\n",
       "    <tr style=\"text-align: right;\">\n",
       "      <th></th>\n",
       "      <th>track_id</th>\n",
       "      <th>title_genius</th>\n",
       "      <th>artist_genius</th>\n",
       "      <th>title_spotify</th>\n",
       "      <th>artist_spotify</th>\n",
       "      <th>lyrics</th>\n",
       "    </tr>\n",
       "  </thead>\n",
       "  <tbody>\n",
       "    <tr>\n",
       "      <th>7</th>\n",
       "      <td>1ip1SN4tWX0qMgE1KgIF52</td>\n",
       "      <td>Collision Mix</td>\n",
       "      <td>Monstercat</td>\n",
       "      <td>Calling Out (feat. KG &amp; Skyelle)</td>\n",
       "      <td>MUZZ</td>\n",
       "      <td>3 ContributorsCollision Mix Lyrics00:00TimeSna...</td>\n",
       "    </tr>\n",
       "    <tr>\n",
       "      <th>9</th>\n",
       "      <td>1uy20tUwglZ4hapeq50jSL</td>\n",
       "      <td>Essays of Michel de Montaigne (Chap. 2.12)</td>\n",
       "      <td>Michel de Montaigne</td>\n",
       "      <td>Saving My Love - Stfu Mix</td>\n",
       "      <td>Twin Pack</td>\n",
       "      <td>4 ContributorsEssays of Michel de Montaigne (C...</td>\n",
       "    </tr>\n",
       "    <tr>\n",
       "      <th>11</th>\n",
       "      <td>2nYxM6Di7mhBTv26K887fQ</td>\n",
       "      <td>Drinks Up</td>\n",
       "      <td>G-Eazy</td>\n",
       "      <td>Sky</td>\n",
       "      <td>Goose house</td>\n",
       "      <td>7 ContributorsDrinks Up Lyrics[Chorus]\\r\\nGot ...</td>\n",
       "    </tr>\n",
       "    <tr>\n",
       "      <th>13</th>\n",
       "      <td>6mPGkCjfAZ1PR52RBxXumL</td>\n",
       "      <td>En Privado</td>\n",
       "      <td>Mike Oxlong</td>\n",
       "      <td>”JUST FRIENDS”?</td>\n",
       "      <td>Goose house</td>\n",
       "      <td>1 ContributorEn Privado Lyrics[Intro: RJ Ghost...</td>\n",
       "    </tr>\n",
       "    <tr>\n",
       "      <th>14</th>\n",
       "      <td>167PWPhEUGgTXuRkRCCCSD</td>\n",
       "      <td>The Recession Lesson</td>\n",
       "      <td>Khushal Kalidindi, Ashwin Kumar</td>\n",
       "      <td>Fly High, So High</td>\n",
       "      <td>Goose house</td>\n",
       "      <td>2 ContributorsThe Recession Lesson Lyrics[Vers...</td>\n",
       "    </tr>\n",
       "  </tbody>\n",
       "</table>\n",
       "</div>"
      ],
      "text/plain": [
       "                  track_id                                title_genius  \\\n",
       "7   1ip1SN4tWX0qMgE1KgIF52                               Collision Mix   \n",
       "9   1uy20tUwglZ4hapeq50jSL  Essays of Michel de Montaigne (Chap. 2.12)   \n",
       "11  2nYxM6Di7mhBTv26K887fQ                                   Drinks Up   \n",
       "13  6mPGkCjfAZ1PR52RBxXumL                                  En Privado   \n",
       "14  167PWPhEUGgTXuRkRCCCSD                        The Recession Lesson   \n",
       "\n",
       "                      artist_genius                     title_spotify  \\\n",
       "7                        Monstercat  Calling Out (feat. KG & Skyelle)   \n",
       "9               Michel de Montaigne         Saving My Love - Stfu Mix   \n",
       "11                           G-Eazy                               Sky   \n",
       "13                      Mike Oxlong                   ”JUST FRIENDS”?   \n",
       "14  Khushal Kalidindi, Ashwin Kumar                 Fly High, So High   \n",
       "\n",
       "   artist_spotify                                             lyrics  \n",
       "7            MUZZ  3 ContributorsCollision Mix Lyrics00:00TimeSna...  \n",
       "9       Twin Pack  4 ContributorsEssays of Michel de Montaigne (C...  \n",
       "11    Goose house  7 ContributorsDrinks Up Lyrics[Chorus]\\r\\nGot ...  \n",
       "13    Goose house  1 ContributorEn Privado Lyrics[Intro: RJ Ghost...  \n",
       "14    Goose house  2 ContributorsThe Recession Lesson Lyrics[Vers...  "
      ]
     },
     "metadata": {},
     "output_type": "display_data"
    },
    {
     "data": {
      "text/plain": [
       "(1837, 6)"
      ]
     },
     "metadata": {},
     "output_type": "display_data"
    }
   ],
   "source": [
    "# rows mismatched artist_genius and artist_spotify\n",
    "mismatched_artists = lyrics_df[lyrics_df['artist_genius'] != lyrics_df['artist_spotify']]\n",
    "display(mismatched_artists.head(5))\n",
    "display(mismatched_artists.shape)"
   ]
  },
  {
   "cell_type": "code",
   "execution_count": 7,
   "metadata": {},
   "outputs": [
    {
     "data": {
      "text/plain": [
       "(542, 6)"
      ]
     },
     "execution_count": 7,
     "metadata": {},
     "output_type": "execute_result"
    }
   ],
   "source": [
    "# rows where artist_genius and artist_spotify are different, but one is a substring of the other\n",
    "within_substring = mismatched_artists.apply(lambda row: row['artist_spotify'].lower() in row['artist_genius'].lower() \n",
    "                            or row['artist_genius'].lower() in row['artist_spotify'].lower(), axis=1)\n",
    "mismatched_artists[within_substring].shape"
   ]
  },
  {
   "cell_type": "code",
   "execution_count": 8,
   "metadata": {},
   "outputs": [
    {
     "data": {
      "text/html": [
       "<div>\n",
       "<style scoped>\n",
       "    .dataframe tbody tr th:only-of-type {\n",
       "        vertical-align: middle;\n",
       "    }\n",
       "\n",
       "    .dataframe tbody tr th {\n",
       "        vertical-align: top;\n",
       "    }\n",
       "\n",
       "    .dataframe thead th {\n",
       "        text-align: right;\n",
       "    }\n",
       "</style>\n",
       "<table border=\"1\" class=\"dataframe\">\n",
       "  <thead>\n",
       "    <tr style=\"text-align: right;\">\n",
       "      <th></th>\n",
       "      <th>artist_genius</th>\n",
       "      <th>artist_spotify</th>\n",
       "    </tr>\n",
       "  </thead>\n",
       "  <tbody>\n",
       "    <tr>\n",
       "      <th>855</th>\n",
       "      <td>ゆのみ (Yunomi)</td>\n",
       "      <td>Yunomi</td>\n",
       "    </tr>\n",
       "    <tr>\n",
       "      <th>4655</th>\n",
       "      <td>​ella jane</td>\n",
       "      <td>ella jane</td>\n",
       "    </tr>\n",
       "    <tr>\n",
       "      <th>5061</th>\n",
       "      <td>Stealth (UK)</td>\n",
       "      <td>Stealth</td>\n",
       "    </tr>\n",
       "    <tr>\n",
       "      <th>4799</th>\n",
       "      <td>beabadoobee &amp; Oscar Lang</td>\n",
       "      <td>beabadoobee</td>\n",
       "    </tr>\n",
       "    <tr>\n",
       "      <th>2727</th>\n",
       "      <td>​sad boy with a laptop</td>\n",
       "      <td>sad boy with a laptop</td>\n",
       "    </tr>\n",
       "  </tbody>\n",
       "</table>\n",
       "</div>"
      ],
      "text/plain": [
       "                 artist_genius         artist_spotify\n",
       "855               ゆのみ (Yunomi)                 Yunomi\n",
       "4655                ​ella jane              ella jane\n",
       "5061              Stealth (UK)                Stealth\n",
       "4799  beabadoobee & Oscar Lang            beabadoobee\n",
       "2727    ​sad boy with a laptop  sad boy with a laptop"
      ]
     },
     "execution_count": 8,
     "metadata": {},
     "output_type": "execute_result"
    }
   ],
   "source": [
    "mismatched_artists[within_substring][['artist_genius', 'artist_spotify']].sample(5)"
   ]
  },
  {
   "cell_type": "code",
   "execution_count": 9,
   "metadata": {},
   "outputs": [],
   "source": [
    "# get the rows with matched artist_genius and artist_spotify, and the rows in within_substring\n",
    "correct_artist_lyrics = lyrics_df[(lyrics_df['artist_genius'] == lyrics_df['artist_spotify']) | within_substring]"
   ]
  },
  {
   "cell_type": "code",
   "execution_count": 10,
   "metadata": {},
   "outputs": [
    {
     "data": {
      "text/html": [
       "<div>\n",
       "<style scoped>\n",
       "    .dataframe tbody tr th:only-of-type {\n",
       "        vertical-align: middle;\n",
       "    }\n",
       "\n",
       "    .dataframe tbody tr th {\n",
       "        vertical-align: top;\n",
       "    }\n",
       "\n",
       "    .dataframe thead th {\n",
       "        text-align: right;\n",
       "    }\n",
       "</style>\n",
       "<table border=\"1\" class=\"dataframe\">\n",
       "  <thead>\n",
       "    <tr style=\"text-align: right;\">\n",
       "      <th></th>\n",
       "      <th>track_id</th>\n",
       "      <th>title_genius</th>\n",
       "      <th>artist_genius</th>\n",
       "      <th>title_spotify</th>\n",
       "      <th>artist_spotify</th>\n",
       "      <th>lyrics</th>\n",
       "    </tr>\n",
       "  </thead>\n",
       "  <tbody>\n",
       "    <tr>\n",
       "      <th>4882</th>\n",
       "      <td>1LIaXS82jVxkZQdXbfM5QH</td>\n",
       "      <td>Astronaut Kids</td>\n",
       "      <td>Hotel Fiction</td>\n",
       "      <td>Astronaut Kids</td>\n",
       "      <td>Hotel Fiction</td>\n",
       "      <td>3 ContributorsAstronaut Kids Lyrics[Verse 1]\\n...</td>\n",
       "    </tr>\n",
       "    <tr>\n",
       "      <th>4181</th>\n",
       "      <td>6oPbtiso9fJpfJ3Z6hqnX9</td>\n",
       "      <td>眠りの森 (Nemuri no Mori)</td>\n",
       "      <td>Aimer</td>\n",
       "      <td>眠りの森</td>\n",
       "      <td>Aimer</td>\n",
       "      <td>1 ContributorTranslationsRomanization眠りの森 (Nem...</td>\n",
       "    </tr>\n",
       "    <tr>\n",
       "      <th>4825</th>\n",
       "      <td>6huaXgODnR4m9rfVhGqsGf</td>\n",
       "      <td>Allie</td>\n",
       "      <td>NoSo</td>\n",
       "      <td>Allie</td>\n",
       "      <td>NoSo</td>\n",
       "      <td>3 ContributorsAllie LyricsPaint\\nBlue stars on...</td>\n",
       "    </tr>\n",
       "    <tr>\n",
       "      <th>1025</th>\n",
       "      <td>0DW3HWn2qCPc5e0Chh8cOU</td>\n",
       "      <td>Can’t Forget You</td>\n",
       "      <td>San Holo</td>\n",
       "      <td>Can't Forget You (feat. The Nicholas)</td>\n",
       "      <td>San Holo</td>\n",
       "      <td>6 ContributorsCan’t Forget You Lyrics[Verse 1]...</td>\n",
       "    </tr>\n",
       "    <tr>\n",
       "      <th>4886</th>\n",
       "      <td>3BmaFHt6q91CmMrA7fLLRC</td>\n",
       "      <td>Petals on the Moon</td>\n",
       "      <td>Wasia Project</td>\n",
       "      <td>Petals on the Moon</td>\n",
       "      <td>Wasia Project</td>\n",
       "      <td>8 ContributorsPetals on the Moon Lyrics[Verse ...</td>\n",
       "    </tr>\n",
       "  </tbody>\n",
       "</table>\n",
       "</div>"
      ],
      "text/plain": [
       "                    track_id           title_genius  artist_genius  \\\n",
       "4882  1LIaXS82jVxkZQdXbfM5QH         Astronaut Kids  Hotel Fiction   \n",
       "4181  6oPbtiso9fJpfJ3Z6hqnX9  眠りの森 (Nemuri no Mori)          Aimer   \n",
       "4825  6huaXgODnR4m9rfVhGqsGf                  Allie           NoSo   \n",
       "1025  0DW3HWn2qCPc5e0Chh8cOU       Can’t Forget You       San Holo   \n",
       "4886  3BmaFHt6q91CmMrA7fLLRC     Petals on the Moon  Wasia Project   \n",
       "\n",
       "                              title_spotify artist_spotify  \\\n",
       "4882                         Astronaut Kids  Hotel Fiction   \n",
       "4181                                   眠りの森          Aimer   \n",
       "4825                                  Allie           NoSo   \n",
       "1025  Can't Forget You (feat. The Nicholas)       San Holo   \n",
       "4886                     Petals on the Moon  Wasia Project   \n",
       "\n",
       "                                                 lyrics  \n",
       "4882  3 ContributorsAstronaut Kids Lyrics[Verse 1]\\n...  \n",
       "4181  1 ContributorTranslationsRomanization眠りの森 (Nem...  \n",
       "4825  3 ContributorsAllie LyricsPaint\\nBlue stars on...  \n",
       "1025  6 ContributorsCan’t Forget You Lyrics[Verse 1]...  \n",
       "4886  8 ContributorsPetals on the Moon Lyrics[Verse ...  "
      ]
     },
     "metadata": {},
     "output_type": "display_data"
    },
    {
     "data": {
      "text/plain": [
       "(2374, 6)"
      ]
     },
     "metadata": {},
     "output_type": "display_data"
    }
   ],
   "source": [
    "display(correct_artist_lyrics.sample(5))\n",
    "display(correct_artist_lyrics.shape)"
   ]
  },
  {
   "cell_type": "code",
   "execution_count": 11,
   "metadata": {},
   "outputs": [
    {
     "data": {
      "text/plain": [
       "\"13 ContributorsTranslationsRomanization\\u200bninelie Lyrics[Aimer「ninelie (feat. chelly from EGOIST)」歌詞]\\n\\n[Verse 1: Aimer]\\n君を繋ぐ空の星が\\n一つ音を立てても\\nどれも同じ雨に濡れた\\n夢ばかり 乾くだけの光\\n\\n[Pre-Chorus: chelly, chelly & Aimer]\\n相手をなぞる答えに疲れた\\n繰り返す陽の無い夜明けに崩れた朝\\n\\n[Chorus: Aimer, chelly]\\n捕まえた daydream\\n出遅れたストーリーと\\n栄光がどこへ叫び唱えても\\n荒れたトンネル\\n声もくぐれない\\nだからサイレンス 灯すためと\\n\\n[Verse 2: chelly]\\n外とパズルのようにハマる\\nピースが必要としても\\n影もない偽りと同じだ\\n捨て去られ並ぶだけの賞\\nSee Aimer LiveGet tickets as low as $102You might also like[Pre-Chorus: Aimer, Aimer & chelly]\\n箱の中に 揃えた苛立\\n順番待ちさらし 誤魔化しのゴール\\n\\n[Chorus: chelly, Aimer]\\nDon't be above your daydream\\n角が取れた vision\\n君の夢が横で外れても\\n僕は歌い\\n橋をかけよう\\nだからサイレンス 鳴らすためと\\n\\n[Bridge: Aimer]\\nどこまでも片側に沿ったリズム\\n過ぎた町並みは終わりの愛と遠くへ\\n伝えれない歪みかけのイメージに\\n目が覚めた抵抗 型落ちの衝動\\n\\n[Chorus: All]\\n砕けた cry and dream\\n扉だけの理想\\n街が雑音に溺れ はしゃいでも\\n僕は歌い\\n舵を捨てよう\\nだからサイレンス 響くためと\\n\\n[Outro: All]\\nDon't be afraid, daybreak has come\\nDon't be afraid, daybreak has come\\nDon't be afraid, daybreak has come\\nDon't be afraid, daybreak has come1Embed\""
      ]
     },
     "execution_count": 11,
     "metadata": {},
     "output_type": "execute_result"
    }
   ],
   "source": [
    "# let's see one of the lyrics\n",
    "correct_artist_lyrics.iloc[47]['lyrics']"
   ]
  },
  {
   "cell_type": "markdown",
   "metadata": {},
   "source": [
    "since the lyrics is scraped from Genius, the data isn't that clean, it has some garbage information like 'contributors', etc that needs to be cleaned."
   ]
  },
  {
   "cell_type": "code",
   "execution_count": 35,
   "metadata": {},
   "outputs": [],
   "source": [
    "import re\n",
    "def clean_lyrics(lyrics):\n",
    "    # Regex to remove unwanted patterns\n",
    "    unwanted_patterns = [\n",
    "        r\"Translations?.*\",                       # translations\n",
    "        r\"Contributors?.*\",                        # contributors\n",
    "        r\"Romanization.*\",                         # romanization\n",
    "        r\"(\\[.*?\\])\",                              # brackets and their contents\n",
    "        r\"(lyrics provided by genius|embed|you might also like)\",  # footer/random text\n",
    "        r\"\\d+\",                                    # numbers\n",
    "    ]\n",
    "    \n",
    "    # Remove unwanted patterns\n",
    "    for pattern in unwanted_patterns:\n",
    "        lyrics = re.sub(pattern, '', lyrics, flags=re.IGNORECASE)\n",
    "    \n",
    "    # Remove specific unwanted characters and excessive whitespace\n",
    "    lyrics = re.sub(r'[\\r\\t]+', ' ', lyrics)  # Replace carriage returns, and tabs with a space\n",
    "    lyrics = re.sub(r'\\n+', '\\n', lyrics) # Replace multiple newlines with a single newline\n",
    "    lyrics = lyrics.strip() # Remove leading and trailing whitespace\n",
    "    \n",
    "    return lyrics"
   ]
  },
  {
   "cell_type": "code",
   "execution_count": 109,
   "metadata": {},
   "outputs": [
    {
     "data": {
      "text/plain": [
       "'遠く離れた場所にいる時も 僕らの声が届きますように 迷ったときはオトノナルホウヘ→ 笑う門にはちゃんと (ちゃんと) 福はやって来るから (Yeah, yeah!) 泣いて腫らしたその目だって ほら笑顔が似合う (Ah-ah-ah-ah) 息が詰まるこんな世の中で 出会えたんだ (Oh, oh, oh) 色とりどりの世界を一緒に見に (ホイ!) 行こう 頑張り屋の君だから 壁にもぶつかるでしょう でももう平気 ひとりでは背負わないでいいんだよ (Yeah, yeah, yeah, yeah) 君が笑えば 僕も笑うから (Yeah, yeah!) めぐりめぐりまた違う誰かのとこまで (Fu!) 遠く離れた場所にいる時も 僕らの声が届きますように 迷ったときはオトノナルホウヘ→ (One, two, three, go!) 季節変わり新しい日々 賑やかな駅のホームにひとり 上がり (上がり) 下がり (下がり) 慣れない環境ココロ戸惑う (もういっちょ!) 早歩きする街を うまく歩けないけど ビルの隙間にはほら 今日も空は広がっている 誰にも見せない涙 拭いて歩いてゆけ 風が動き出す 髪がなびく 未来がはじまる (Yeah, yeah, yeah, yeah) 君が歌えば 僕も歌うから (Yeah, yeah!) うまくなくてもいい 君の声を聞かせて (Fu!) ひとりひとりの音は違うから (Yeah, yeah!) ヒカリが届かなくなったって君を見つけるよ (Oh yeah!!) 君が笑えば 僕も笑うから (Yeah, yeah!) めぐりめぐりまた違う誰かのとこまで (飛ばせ) 遠く離れた場所にいる時も 僕らの声が届きますように 迷ったときはオトノナルホウヘ→ オトノナルホウヘ→'"
      ]
     },
     "execution_count": 109,
     "metadata": {},
     "output_type": "execute_result"
    }
   ],
   "source": [
    "correct_artist_lyrics['lyrics'].apply(clean_lyrics).iloc[4]"
   ]
  },
  {
   "cell_type": "code",
   "execution_count": 36,
   "metadata": {},
   "outputs": [
    {
     "name": "stderr",
     "output_type": "stream",
     "text": [
      "C:\\Users\\nazhi\\AppData\\Local\\Temp\\ipykernel_4772\\692614525.py:1: SettingWithCopyWarning: \n",
      "A value is trying to be set on a copy of a slice from a DataFrame.\n",
      "Try using .loc[row_indexer,col_indexer] = value instead\n",
      "\n",
      "See the caveats in the documentation: https://pandas.pydata.org/pandas-docs/stable/user_guide/indexing.html#returning-a-view-versus-a-copy\n",
      "  correct_artist_lyrics['cleaned_lyrics'] = correct_artist_lyrics['lyrics'].apply(clean_lyrics)\n"
     ]
    }
   ],
   "source": [
    "correct_artist_lyrics['cleaned_lyrics'] = correct_artist_lyrics['lyrics'].apply(clean_lyrics)"
   ]
  },
  {
   "cell_type": "code",
   "execution_count": 37,
   "metadata": {},
   "outputs": [
    {
     "data": {
      "text/plain": [
       "\"10 ContributorsCall On Me (Ryan Riback Remix) Lyrics[Verse 1]\\nWhen you're low\\nAnd your knees can't rise\\nYou feel helpless\\nAnd you're looking to the sky\\nSome people would say\\nTo accept defeat\\nWell, if this is fate then we'll find a way to cheat\\n\\n[Pre-Chorus]\\nCause, oh, oh, oh, oh, we'll say a little prayer\\nBut, oh, oh, oh, oh, if the answer isn't fair\\n\\n[Chorus]\\nYou know you can call on me\\nWhen you need somebody\\nYou know you can call on me\\nWhen you can't stop the tears from falling down, d-down\\nYou know you can call on me\\nCall on me, darling\\nYou know you can call on me\\nYou can’t stop the tears from falling down\\n\\n[Verse 2]\\nWhen you're weary\\nAnd the road is dark\\nAnd I'll guide you\\nWith the beating of my heart\\nAnd if the cavalry\\nAnd the help don't come\\nWell, then we'll find a way\\nTo dodge a smoking gun\\nYou might also like[Pre-Chorus]\\nCause, oh, oh, oh, oh, we'll say a little prayer\\nBut, oh, oh, oh, oh, if the answer isn't fair (then call on me)\\n\\n[Chorus]\\nYou know you can call on me\\nWhen you need somebody\\nYou know you can call on me\\nWhen you can't stop the tears from falling down, d-down\\nYou know you can call on me\\nCall on me, darling\\nYou know you can call on me\\nYou can’t stop the tears from falling down\\n\\n[Bridge]\\nWhen you're, you need someone (Just call on me)\\nYou need somebody to cling to (Call on me)\\nWhen you're, you need someone (Just call on me)\\nYou need somebody to dry your tears\\nWhen you're, you need someone (You can call me)\\nYou need somebody to cling to (Just call on me)\\n\\n[Outro]\\nJust call on me, love (Just call on me)\\nJust call on me, love (Call on me)\\nJust call on me, love (Just call on me)\\nJust call on me, love (Call on me)\\nJust call on me, love, on me1Embed\""
      ]
     },
     "execution_count": 37,
     "metadata": {},
     "output_type": "execute_result"
    }
   ],
   "source": [
    "# let's see one of the lyrics\n",
    "correct_artist_lyrics.iloc[58]['lyrics']"
   ]
  },
  {
   "cell_type": "code",
   "execution_count": 39,
   "metadata": {},
   "outputs": [
    {
     "data": {
      "text/plain": [
       "\"When you're low\\nAnd your knees can't rise\\nYou feel helpless\\nAnd you're looking to the sky\\nSome people would say\\nTo accept defeat\\nWell, if this is fate then we'll find a way to cheat\\nCause, oh, oh, oh, oh, we'll say a little prayer\\nBut, oh, oh, oh, oh, if the answer isn't fair\\nYou know you can call on me\\nWhen you need somebody\\nYou know you can call on me\\nWhen you can't stop the tears from falling down, d-down\\nYou know you can call on me\\nCall on me, darling\\nYou know you can call on me\\nYou can’t stop the tears from falling down\\nWhen you're weary\\nAnd the road is dark\\nAnd I'll guide you\\nWith the beating of my heart\\nAnd if the cavalry\\nAnd the help don't come\\nWell, then we'll find a way\\nTo dodge a smoking gun\\nCause, oh, oh, oh, oh, we'll say a little prayer\\nBut, oh, oh, oh, oh, if the answer isn't fair (then call on me)\\nYou know you can call on me\\nWhen you need somebody\\nYou know you can call on me\\nWhen you can't stop the tears from falling down, d-down\\nYou know you can call on me\\nCall on me, darling\\nYou know you can call on me\\nYou can’t stop the tears from falling down\\nWhen you're, you need someone (Just call on me)\\nYou need somebody to cling to (Call on me)\\nWhen you're, you need someone (Just call on me)\\nYou need somebody to dry your tears\\nWhen you're, you need someone (You can call me)\\nYou need somebody to cling to (Just call on me)\\nJust call on me, love (Just call on me)\\nJust call on me, love (Call on me)\\nJust call on me, love (Just call on me)\\nJust call on me, love (Call on me)\\nJust call on me, love, on me\""
      ]
     },
     "execution_count": 39,
     "metadata": {},
     "output_type": "execute_result"
    }
   ],
   "source": [
    "# let's see one of the lyrics\n",
    "correct_artist_lyrics.iloc[58]['cleaned_lyrics']"
   ]
  },
  {
   "cell_type": "code",
   "execution_count": 41,
   "metadata": {},
   "outputs": [],
   "source": [
    "# I kinda want to filter off some lyrics that are too short\n",
    "def count_words_and_sentences(lyrics):\n",
    "    sentences = lyrics.split('\\n')\n",
    "    sentences = [sentence for sentence in sentences if sentence.strip()]\n",
    "    num_sentences = len(sentences)\n",
    "    \n",
    "    words = re.findall(r'\\b\\w+\\b', lyrics)\n",
    "    num_words = len(words)\n",
    "    \n",
    "    return num_words, num_sentences"
   ]
  },
  {
   "cell_type": "code",
   "execution_count": 42,
   "metadata": {},
   "outputs": [
    {
     "name": "stderr",
     "output_type": "stream",
     "text": [
      "C:\\Users\\nazhi\\AppData\\Local\\Temp\\ipykernel_4772\\2534676162.py:1: SettingWithCopyWarning: \n",
      "A value is trying to be set on a copy of a slice from a DataFrame.\n",
      "Try using .loc[row_indexer,col_indexer] = value instead\n",
      "\n",
      "See the caveats in the documentation: https://pandas.pydata.org/pandas-docs/stable/user_guide/indexing.html#returning-a-view-versus-a-copy\n",
      "  correct_artist_lyrics[['num_words', 'num_sentences']] = correct_artist_lyrics['cleaned_lyrics'].apply(count_words_and_sentences).apply(pd.Series)\n",
      "C:\\Users\\nazhi\\AppData\\Local\\Temp\\ipykernel_4772\\2534676162.py:1: SettingWithCopyWarning: \n",
      "A value is trying to be set on a copy of a slice from a DataFrame.\n",
      "Try using .loc[row_indexer,col_indexer] = value instead\n",
      "\n",
      "See the caveats in the documentation: https://pandas.pydata.org/pandas-docs/stable/user_guide/indexing.html#returning-a-view-versus-a-copy\n",
      "  correct_artist_lyrics[['num_words', 'num_sentences']] = correct_artist_lyrics['cleaned_lyrics'].apply(count_words_and_sentences).apply(pd.Series)\n"
     ]
    }
   ],
   "source": [
    "correct_artist_lyrics[['num_words', 'num_sentences']] = correct_artist_lyrics['cleaned_lyrics'].apply(count_words_and_sentences).apply(pd.Series)"
   ]
  },
  {
   "cell_type": "code",
   "execution_count": null,
   "metadata": {},
   "outputs": [],
   "source": [
    "correct_artist_lyrics.sort_values('num_words', ascending=True).head(100)"
   ]
  },
  {
   "cell_type": "code",
   "execution_count": 46,
   "metadata": {},
   "outputs": [],
   "source": [
    "# let's save this for now\n",
    "correct_artist_lyrics.to_csv('datasets/lyrics_data_cleaned.csv', index=False)"
   ]
  }
 ],
 "metadata": {
  "kernelspec": {
   "display_name": "my-spotify-usage-analysis-NVlvvVsM-py3.11",
   "language": "python",
   "name": "python3"
  },
  "language_info": {
   "codemirror_mode": {
    "name": "ipython",
    "version": 3
   },
   "file_extension": ".py",
   "mimetype": "text/x-python",
   "name": "python",
   "nbconvert_exporter": "python",
   "pygments_lexer": "ipython3",
   "version": "3.11.9"
  }
 },
 "nbformat": 4,
 "nbformat_minor": 2
}
