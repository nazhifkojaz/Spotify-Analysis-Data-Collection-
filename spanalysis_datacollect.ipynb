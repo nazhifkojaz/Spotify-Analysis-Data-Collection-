{
 "cells": [
  {
   "cell_type": "markdown",
   "metadata": {},
   "source": [
    "# Library Imports"
   ]
  },
  {
   "cell_type": "code",
   "execution_count": 19,
   "metadata": {},
   "outputs": [],
   "source": [
    "import pandas as pd\n",
    "import glob\n",
    "import requests\n",
    "import time"
   ]
  },
  {
   "cell_type": "code",
   "execution_count": 20,
   "metadata": {},
   "outputs": [],
   "source": [
    "import seaborn as sns"
   ]
  },
  {
   "cell_type": "markdown",
   "metadata": {},
   "source": [
    "# Data Imports / Exports"
   ]
  },
  {
   "cell_type": "code",
   "execution_count": 23,
   "metadata": {},
   "outputs": [],
   "source": [
    "# THESE FILES ARE EXCLUDED FROM THE REPOSITORY\n",
    "stream_json = glob.glob('datasets/v2/Streaming_History_Audio*.json')"
   ]
  },
  {
   "cell_type": "code",
   "execution_count": 24,
   "metadata": {},
   "outputs": [
    {
     "data": {
      "text/plain": [
       "['datasets/v2\\\\Streaming_History_Audio_2016-2017_0.json',\n",
       " 'datasets/v2\\\\Streaming_History_Audio_2017-2018_1.json',\n",
       " 'datasets/v2\\\\Streaming_History_Audio_2018-2019_2.json',\n",
       " 'datasets/v2\\\\Streaming_History_Audio_2019-2020_3.json',\n",
       " 'datasets/v2\\\\Streaming_History_Audio_2020-2021_4.json',\n",
       " 'datasets/v2\\\\Streaming_History_Audio_2021-2022_5.json',\n",
       " 'datasets/v2\\\\Streaming_History_Audio_2022-2023_6.json',\n",
       " 'datasets/v2\\\\Streaming_History_Audio_2023_7.json',\n",
       " 'datasets/v2\\\\Streaming_History_Audio_2023_8.json']"
      ]
     },
     "execution_count": 24,
     "metadata": {},
     "output_type": "execute_result"
    }
   ],
   "source": [
    "# see the list of globbed files\n",
    "stream_json"
   ]
  },
  {
   "cell_type": "code",
   "execution_count": 25,
   "metadata": {},
   "outputs": [],
   "source": [
    "# load the globbed files into a dataframe\n",
    "stream_df = pd.concat([pd.read_json(f) for f in stream_json])"
   ]
  },
  {
   "cell_type": "code",
   "execution_count": 3,
   "metadata": {},
   "outputs": [
    {
     "name": "stderr",
     "output_type": "stream",
     "text": [
      "C:\\Users\\Kim\\AppData\\Local\\Temp\\ipykernel_20844\\2056156176.py:1: DtypeWarning: Columns (14) have mixed types. Specify dtype option on import or set low_memory=False.\n",
      "  tracks_df = pd.read_csv('datasets/tracks_df.csv')\n"
     ]
    }
   ],
   "source": [
    "tracks_df = pd.read_csv('datasets/tracks_df.csv')\n",
    "podcasts_df = pd.read_csv('datasets/podcasts_df.csv')"
   ]
  },
  {
   "cell_type": "markdown",
   "metadata": {},
   "source": [
    "# Preparing for Data Collection\n",
    "we need 4 things here.\n",
    "1. tracks streaming history\n",
    "2. podcasts streaming history\n",
    "3. list of unique tracks streamed\n",
    "4. ~~list of unique podcasts streamed~~ not really needed actually"
   ]
  },
  {
   "cell_type": "code",
   "execution_count": 26,
   "metadata": {},
   "outputs": [
    {
     "name": "stdout",
     "output_type": "stream",
     "text": [
      "(130209, 21)\n",
      "Index(['ts', 'username', 'platform', 'ms_played', 'conn_country',\n",
      "       'ip_addr_decrypted', 'user_agent_decrypted',\n",
      "       'master_metadata_track_name', 'master_metadata_album_artist_name',\n",
      "       'master_metadata_album_album_name', 'spotify_track_uri', 'episode_name',\n",
      "       'episode_show_name', 'spotify_episode_uri', 'reason_start',\n",
      "       'reason_end', 'shuffle', 'skipped', 'offline', 'offline_timestamp',\n",
      "       'incognito_mode'],\n",
      "      dtype='object')\n"
     ]
    }
   ],
   "source": [
    "print(stream_df.shape)\n",
    "print(stream_df.columns)"
   ]
  },
  {
   "cell_type": "code",
   "execution_count": 27,
   "metadata": {},
   "outputs": [
    {
     "name": "stdout",
     "output_type": "stream",
     "text": [
      "<class 'pandas.core.frame.DataFrame'>\n",
      "Index: 130209 entries, 0 to 2979\n",
      "Data columns (total 21 columns):\n",
      " #   Column                             Non-Null Count   Dtype \n",
      "---  ------                             --------------   ----- \n",
      " 0   ts                                 130209 non-null  object\n",
      " 1   username                           130209 non-null  object\n",
      " 2   platform                           130209 non-null  object\n",
      " 3   ms_played                          130209 non-null  int64 \n",
      " 4   conn_country                       130209 non-null  object\n",
      " 5   ip_addr_decrypted                  109601 non-null  object\n",
      " 6   user_agent_decrypted               109601 non-null  object\n",
      " 7   master_metadata_track_name         129393 non-null  object\n",
      " 8   master_metadata_album_artist_name  129393 non-null  object\n",
      " 9   master_metadata_album_album_name   129393 non-null  object\n",
      " 10  spotify_track_uri                  129393 non-null  object\n",
      " 11  episode_name                       641 non-null     object\n",
      " 12  episode_show_name                  641 non-null     object\n",
      " 13  spotify_episode_uri                641 non-null     object\n",
      " 14  reason_start                       130209 non-null  object\n",
      " 15  reason_end                         109601 non-null  object\n",
      " 16  shuffle                            130209 non-null  bool  \n",
      " 17  skipped                            24014 non-null   object\n",
      " 18  offline                            130209 non-null  bool  \n",
      " 19  offline_timestamp                  130209 non-null  int64 \n",
      " 20  incognito_mode                     130209 non-null  bool  \n",
      "dtypes: bool(3), int64(2), object(16)\n",
      "memory usage: 19.2+ MB\n"
     ]
    }
   ],
   "source": [
    "stream_df.info()"
   ]
  },
  {
   "cell_type": "code",
   "execution_count": 28,
   "metadata": {},
   "outputs": [
    {
     "data": {
      "text/plain": [
       "ts                                   122712\n",
       "username                                  1\n",
       "platform                                 33\n",
       "ms_played                             27030\n",
       "conn_country                              9\n",
       "ip_addr_decrypted                      2750\n",
       "user_agent_decrypted                      6\n",
       "master_metadata_track_name             4783\n",
       "master_metadata_album_artist_name      1646\n",
       "master_metadata_album_album_name       2700\n",
       "spotify_track_uri                      5245\n",
       "episode_name                            297\n",
       "episode_show_name                        31\n",
       "spotify_episode_uri                     297\n",
       "reason_start                              8\n",
       "reason_end                               10\n",
       "shuffle                                   2\n",
       "skipped                                   2\n",
       "offline                                   2\n",
       "offline_timestamp                    128332\n",
       "incognito_mode                            2\n",
       "dtype: int64"
      ]
     },
     "execution_count": 28,
     "metadata": {},
     "output_type": "execute_result"
    }
   ],
   "source": [
    "# number of unique values in each column\n",
    "stream_df.nunique()"
   ]
  },
  {
   "cell_type": "code",
   "execution_count": 29,
   "metadata": {},
   "outputs": [
    {
     "data": {
      "text/plain": [
       "ts                                        0\n",
       "username                                  0\n",
       "platform                                  0\n",
       "ms_played                                 0\n",
       "conn_country                              0\n",
       "ip_addr_decrypted                     20608\n",
       "user_agent_decrypted                  20608\n",
       "master_metadata_track_name              816\n",
       "master_metadata_album_artist_name       816\n",
       "master_metadata_album_album_name        816\n",
       "spotify_track_uri                       816\n",
       "episode_name                         129568\n",
       "episode_show_name                    129568\n",
       "spotify_episode_uri                  129568\n",
       "reason_start                              0\n",
       "reason_end                            20608\n",
       "shuffle                                   0\n",
       "skipped                              106195\n",
       "offline                                   0\n",
       "offline_timestamp                         0\n",
       "incognito_mode                            0\n",
       "dtype: int64"
      ]
     },
     "execution_count": 29,
     "metadata": {},
     "output_type": "execute_result"
    }
   ],
   "source": [
    "stream_df.isna().sum()"
   ]
  },
  {
   "cell_type": "code",
   "execution_count": 30,
   "metadata": {},
   "outputs": [
    {
     "data": {
      "text/plain": [
       "user_agent_decrypted\n",
       "unknown                                                                                                                                                                  109525\n",
       "Mozilla%2F5.0%20(Windows%20NT%2010.0;%20Win64;%20x64)%20AppleWebKit%2F537.36%20(KHTML,%20like%20Gecko)%20Chrome%2F95.0.4638.54%20Safari%2F537.36%20Edg%2F95.0.1020.40        66\n",
       "Mozilla%2F5.0%20(Windows%20NT%2010.0;%20Win64;%20x64;%20rv:84.0)%20Gecko%2F20100101%20Firefox%2F84.0                                                                          6\n",
       "Mozilla%2F5.0%20(Windows%20NT%2010.0;%20Win64;%20x64;%20rv:61.0)%20Gecko%2F20100101%20Firefox%2F61.0                                                                          2\n",
       "Mozilla%2F5.0%20(Windows%20NT%2010.0;%20Win64;%20x64;%20rv:69.0)%20Gecko%2F20100101%20Firefox%2F69.0                                                                          1\n",
       "Mozilla%2F5.0%20(Windows%20NT%2010.0;%20Win64;%20x64;%20rv:83.0)%20Gecko%2F20100101%20Firefox%2F83.0                                                                          1\n",
       "Name: count, dtype: int64"
      ]
     },
     "execution_count": 30,
     "metadata": {},
     "output_type": "execute_result"
    }
   ],
   "source": [
    "stream_df['user_agent_decrypted'].value_counts()"
   ]
  },
  {
   "cell_type": "code",
   "execution_count": 31,
   "metadata": {},
   "outputs": [],
   "source": [
    "# dropping some columns that might cnotain sensitive information or just not useful\n",
    "stream_df.drop(columns=['username', 'ip_addr_decrypted', 'user_agent_decrypted'], inplace=True)"
   ]
  },
  {
   "cell_type": "markdown",
   "metadata": {},
   "source": [
    "there are a huge number of null value of 'spotify_episode_uri', indicating that tracks/songs and podcasts don't share same uri, we need to separate this into its own dataframe (for tracks and podcasts)"
   ]
  },
  {
   "cell_type": "code",
   "execution_count": 32,
   "metadata": {},
   "outputs": [
    {
     "name": "stdout",
     "output_type": "stream",
     "text": [
      "(175, 18)\n",
      "(0, 18)\n"
     ]
    }
   ],
   "source": [
    "# rows with null in both spotify_track_uri and spotify_episode_uri\n",
    "print(stream_df[stream_df['spotify_episode_uri'].isna() & stream_df['spotify_track_uri'].isna()].shape)\n",
    "print(stream_df[stream_df['spotify_episode_uri'].notna() & stream_df['spotify_track_uri'].notna()].shape)"
   ]
  },
  {
   "cell_type": "markdown",
   "metadata": {},
   "source": [
    "so apparently there exists some rows are null on both spotify_episode_uri and spotify_track_uri, so those should be excluded as well"
   ]
  },
  {
   "cell_type": "code",
   "execution_count": 33,
   "metadata": {},
   "outputs": [],
   "source": [
    "# get rows with null values in 'spotify_episode_uri' column and put it into a new dataframe\n",
    "tracks_df = stream_df[stream_df['spotify_track_uri'].notna()]\n",
    "podcasts_df = stream_df[stream_df['spotify_episode_uri'].notna()]"
   ]
  },
  {
   "cell_type": "code",
   "execution_count": 34,
   "metadata": {},
   "outputs": [
    {
     "name": "stdout",
     "output_type": "stream",
     "text": [
      "(129393, 18)\n",
      "(641, 18)\n"
     ]
    }
   ],
   "source": [
    "print(tracks_df.shape)\n",
    "print(podcasts_df.shape)"
   ]
  },
  {
   "cell_type": "code",
   "execution_count": 35,
   "metadata": {},
   "outputs": [],
   "source": [
    "# list of tracks, containing unique values in 'spotify_track_uri' column\n",
    "tracks_uri_list = tracks_df['spotify_track_uri'].unique().tolist()\n",
    "podcasts_uri_list = podcasts_df['spotify_episode_uri'].unique().tolist()"
   ]
  },
  {
   "cell_type": "code",
   "execution_count": 36,
   "metadata": {},
   "outputs": [
    {
     "name": "stdout",
     "output_type": "stream",
     "text": [
      "5245\n",
      "297\n"
     ]
    }
   ],
   "source": [
    "print(len(tracks_uri_list))\n",
    "print(len(podcasts_uri_list))"
   ]
  },
  {
   "cell_type": "code",
   "execution_count": 37,
   "metadata": {},
   "outputs": [],
   "source": [
    "# save tracks_df and podcasts_df into csv\n",
    "tracks_df.to_csv('datasets/tracks_df.csv', index=False)\n",
    "podcasts_df.to_csv('datasets/podcasts_df.csv', index=False)"
   ]
  },
  {
   "cell_type": "markdown",
   "metadata": {},
   "source": [
    "# Data Collection (Spotipy)\n",
    "now we're going to collect the using [Spotipy](https://spotipy.readthedocs.io/en/2.22.1/), it'll require user credentials (client_id and client_secret) which you can get [here](https://developer.spotify.com/dashboard) by registering your app at the dashboard"
   ]
  },
  {
   "cell_type": "code",
   "execution_count": 38,
   "metadata": {},
   "outputs": [],
   "source": [
    "import spotipy\n",
    "from spotipy.oauth2 import SpotifyClientCredentials"
   ]
  },
  {
   "cell_type": "code",
   "execution_count": 72,
   "metadata": {},
   "outputs": [],
   "source": [
    "# Spotify API credentials (client_id and client_secret used will be excluded from the repository)\n",
    "client_id = 'INSERT CLIENT ID HERE'\n",
    "client_secret = 'INSERT CLIENT SECRET HERE'"
   ]
  },
  {
   "cell_type": "code",
   "execution_count": 40,
   "metadata": {},
   "outputs": [],
   "source": [
    "#Authentication - without user\n",
    "client_credentials_manager = SpotifyClientCredentials(client_id=client_id, client_secret=client_secret)\n",
    "sp = spotipy.Spotify(client_credentials_manager = client_credentials_manager)"
   ]
  },
  {
   "cell_type": "markdown",
   "metadata": {},
   "source": [
    "## get track info"
   ]
  },
  {
   "cell_type": "code",
   "execution_count": 41,
   "metadata": {},
   "outputs": [],
   "source": [
    "# since they have the batch request limit of 50, we need to split the list into batches of 50\n",
    "track_info = {}\n",
    "for i in range(0, len(tracks_uri_list), 50):\n",
    "    track_batch = tracks_uri_list[i:i+50]\n",
    "    sapi = sp.tracks(track_batch)\n",
    "    for track in sapi['tracks']:\n",
    "        track_info[track['id']] = {'name':track['name'], 'artistName':track['artists'][0]['name'], 'release_date':track['album']['release_date'], 'popularity':track['popularity'], 'duration_ms':track['duration_ms']}\n",
    "    time.sleep(1)\n",
    "    "
   ]
  },
  {
   "cell_type": "code",
   "execution_count": 42,
   "metadata": {},
   "outputs": [
    {
     "data": {
      "text/plain": [
       "5245"
      ]
     },
     "execution_count": 42,
     "metadata": {},
     "output_type": "execute_result"
    }
   ],
   "source": [
    "len(track_info)"
   ]
  },
  {
   "cell_type": "code",
   "execution_count": 43,
   "metadata": {},
   "outputs": [
    {
     "data": {
      "text/plain": [
       "[('6tAM5c0bJOwRqGAEgiNMpI',\n",
       "  {'name': 'Solace Album Mix',\n",
       "   'artistName': 'Monstercat',\n",
       "   'release_date': '2012-06-06',\n",
       "   'popularity': 0,\n",
       "   'duration_ms': 3538579}),\n",
       " ('4mjgNE8R31AzxWfPNGtVMf',\n",
       "  {'name': 'Best of 2015 (Album Mix)',\n",
       "   'artistName': 'Monstercat',\n",
       "   'release_date': '2016-01-22',\n",
       "   'popularity': 0,\n",
       "   'duration_ms': 9158194}),\n",
       " ('5Q0P0cX3e42PgKd8LLS3ms',\n",
       "  {'name': 'Horizon Album Mix',\n",
       "   'artistName': 'Monstercat',\n",
       "   'release_date': '2014-08-06',\n",
       "   'popularity': 0,\n",
       "   'duration_ms': 3623121}),\n",
       " ('6jvMmRtSzoEibQGrQkSISQ',\n",
       "  {'name': 'Monstercat Best of 2012',\n",
       "   'artistName': 'Monstercat',\n",
       "   'release_date': '2013-02-04',\n",
       "   'popularity': 0,\n",
       "   'duration_ms': 6348017}),\n",
       " ('1KzLyjpjIRHuuj4iX8QsC2',\n",
       "  {'name': 'Monstercat Podcast EP. 100',\n",
       "   'artistName': 'Monstercat',\n",
       "   'release_date': '2016-04-05',\n",
       "   'popularity': 0,\n",
       "   'duration_ms': 9744610})]"
      ]
     },
     "execution_count": 43,
     "metadata": {},
     "output_type": "execute_result"
    }
   ],
   "source": [
    "list(track_info.items())[:5]"
   ]
  },
  {
   "cell_type": "code",
   "execution_count": 44,
   "metadata": {},
   "outputs": [],
   "source": [
    "track_info_df = pd.DataFrame.from_dict(track_info, orient='index')"
   ]
  },
  {
   "cell_type": "code",
   "execution_count": 45,
   "metadata": {},
   "outputs": [],
   "source": [
    "track_info_df.to_csv('datasets/tracks_info_df.csv')"
   ]
  },
  {
   "cell_type": "markdown",
   "metadata": {},
   "source": [
    "## get track features"
   ]
  },
  {
   "cell_type": "code",
   "execution_count": 46,
   "metadata": {},
   "outputs": [],
   "source": [
    "track_features = {}\n",
    "for i in range(0, len(tracks_uri_list), 50):\n",
    "    track_batch = tracks_uri_list[i:i+50]\n",
    "    sapi = sp.audio_features(track_batch)\n",
    "    for track in sapi:\n",
    "        if track is not None:\n",
    "            track_features[track['id']] = {'danceability':track['danceability'], 'energy':track['energy'], 'key':track['key'], 'loudness':track['loudness'], 'mode':track['mode'], 'speechiness':track['speechiness'], 'acousticness':track['acousticness'], 'instrumentalness':track['instrumentalness'], 'liveness':track['liveness'], 'valence':track['valence'], 'tempo':track['tempo'], 'time_signature':track['time_signature']}\n",
    "        # we'll skip it if the track has no audio features data\n",
    "    time.sleep(1)"
   ]
  },
  {
   "cell_type": "code",
   "execution_count": 47,
   "metadata": {},
   "outputs": [
    {
     "data": {
      "text/plain": [
       "5238"
      ]
     },
     "execution_count": 47,
     "metadata": {},
     "output_type": "execute_result"
    }
   ],
   "source": [
    "len(track_features)"
   ]
  },
  {
   "cell_type": "code",
   "execution_count": 48,
   "metadata": {},
   "outputs": [
    {
     "data": {
      "text/plain": [
       "[('6tAM5c0bJOwRqGAEgiNMpI',\n",
       "  {'danceability': 0.446,\n",
       "   'energy': 0.823,\n",
       "   'key': 11,\n",
       "   'loudness': -5.279,\n",
       "   'mode': 0,\n",
       "   'speechiness': 0.0859,\n",
       "   'acousticness': 0.00256,\n",
       "   'instrumentalness': 0.0748,\n",
       "   'liveness': 0.117,\n",
       "   'valence': 0.263,\n",
       "   'tempo': 128.198,\n",
       "   'time_signature': 4}),\n",
       " ('5Q0P0cX3e42PgKd8LLS3ms',\n",
       "  {'danceability': 0.402,\n",
       "   'energy': 0.856,\n",
       "   'key': 1,\n",
       "   'loudness': -4.256,\n",
       "   'mode': 1,\n",
       "   'speechiness': 0.0659,\n",
       "   'acousticness': 0.00504,\n",
       "   'instrumentalness': 0.0164,\n",
       "   'liveness': 0.253,\n",
       "   'valence': 0.247,\n",
       "   'tempo': 140.028,\n",
       "   'time_signature': 4}),\n",
       " ('4VrdksXJVhAOLW49qV0VTQ',\n",
       "  {'danceability': 0.426,\n",
       "   'energy': 0.915,\n",
       "   'key': 11,\n",
       "   'loudness': -3.881,\n",
       "   'mode': 0,\n",
       "   'speechiness': 0.143,\n",
       "   'acousticness': 0.000899,\n",
       "   'instrumentalness': 0.108,\n",
       "   'liveness': 0.495,\n",
       "   'valence': 0.271,\n",
       "   'tempo': 130.405,\n",
       "   'time_signature': 4}),\n",
       " ('0ng42pTjKgskmobNzhnEUa',\n",
       "  {'danceability': 0.434,\n",
       "   'energy': 0.839,\n",
       "   'key': 8,\n",
       "   'loudness': -4.493,\n",
       "   'mode': 1,\n",
       "   'speechiness': 0.119,\n",
       "   'acousticness': 0.0284,\n",
       "   'instrumentalness': 0.00103,\n",
       "   'liveness': 0.605,\n",
       "   'valence': 0.4,\n",
       "   'tempo': 127.67,\n",
       "   'time_signature': 4}),\n",
       " ('1ip1SN4tWX0qMgE1KgIF52',\n",
       "  {'danceability': 0.457,\n",
       "   'energy': 0.911,\n",
       "   'key': 1,\n",
       "   'loudness': -3.315,\n",
       "   'mode': 1,\n",
       "   'speechiness': 0.0498,\n",
       "   'acousticness': 0.00339,\n",
       "   'instrumentalness': 0.592,\n",
       "   'liveness': 0.0752,\n",
       "   'valence': 0.33,\n",
       "   'tempo': 175.002,\n",
       "   'time_signature': 4})]"
      ]
     },
     "execution_count": 48,
     "metadata": {},
     "output_type": "execute_result"
    }
   ],
   "source": [
    "# get first 5 items in the dictionary\n",
    "list(track_features.items())[:5]"
   ]
  },
  {
   "cell_type": "code",
   "execution_count": 49,
   "metadata": {},
   "outputs": [],
   "source": [
    "track_features_df = pd.DataFrame.from_dict(track_features, orient='index')\n",
    "track_features_df.to_csv('datasets/tracks_features_df.csv')"
   ]
  },
  {
   "cell_type": "markdown",
   "metadata": {},
   "source": [
    "# Tracks Streaming Data"
   ]
  },
  {
   "cell_type": "markdown",
   "metadata": {},
   "source": [
    "## Data Exploration / EDA"
   ]
  },
  {
   "cell_type": "code",
   "execution_count": 172,
   "metadata": {},
   "outputs": [
    {
     "name": "stderr",
     "output_type": "stream",
     "text": [
      "C:\\Users\\Kim\\AppData\\Local\\Temp\\ipykernel_14320\\4189168743.py:2: DtypeWarning: Columns (14) have mixed types. Specify dtype option on import or set low_memory=False.\n",
      "  tracks_df = pd.read_csv('datasets/tracks_df.csv')\n"
     ]
    },
    {
     "data": {
      "text/html": [
       "<div>\n",
       "<style scoped>\n",
       "    .dataframe tbody tr th:only-of-type {\n",
       "        vertical-align: middle;\n",
       "    }\n",
       "\n",
       "    .dataframe tbody tr th {\n",
       "        vertical-align: top;\n",
       "    }\n",
       "\n",
       "    .dataframe thead th {\n",
       "        text-align: right;\n",
       "    }\n",
       "</style>\n",
       "<table border=\"1\" class=\"dataframe\">\n",
       "  <thead>\n",
       "    <tr style=\"text-align: right;\">\n",
       "      <th></th>\n",
       "      <th>ts</th>\n",
       "      <th>platform</th>\n",
       "      <th>ms_played</th>\n",
       "      <th>conn_country</th>\n",
       "      <th>master_metadata_track_name</th>\n",
       "      <th>master_metadata_album_artist_name</th>\n",
       "      <th>master_metadata_album_album_name</th>\n",
       "      <th>spotify_track_uri</th>\n",
       "      <th>episode_name</th>\n",
       "      <th>episode_show_name</th>\n",
       "      <th>spotify_episode_uri</th>\n",
       "      <th>reason_start</th>\n",
       "      <th>reason_end</th>\n",
       "      <th>shuffle</th>\n",
       "      <th>skipped</th>\n",
       "      <th>offline</th>\n",
       "      <th>offline_timestamp</th>\n",
       "      <th>incognito_mode</th>\n",
       "    </tr>\n",
       "  </thead>\n",
       "  <tbody>\n",
       "    <tr>\n",
       "      <th>116162</th>\n",
       "      <td>2023-05-02T03:58:50Z</td>\n",
       "      <td>android</td>\n",
       "      <td>267300</td>\n",
       "      <td>JP</td>\n",
       "      <td>Sick of Losing Soulmates</td>\n",
       "      <td>dodie</td>\n",
       "      <td>Intertwined - EP</td>\n",
       "      <td>spotify:track:7a9udNo0GU97xnMAkjLdmE</td>\n",
       "      <td>NaN</td>\n",
       "      <td>NaN</td>\n",
       "      <td>NaN</td>\n",
       "      <td>trackdone</td>\n",
       "      <td>trackdone</td>\n",
       "      <td>True</td>\n",
       "      <td>False</td>\n",
       "      <td>False</td>\n",
       "      <td>1682999662</td>\n",
       "      <td>False</td>\n",
       "    </tr>\n",
       "    <tr>\n",
       "      <th>95640</th>\n",
       "      <td>2022-05-30T08:35:40Z</td>\n",
       "      <td>Android OS 11 API 30 (OnePlus, HD1910)</td>\n",
       "      <td>5048</td>\n",
       "      <td>JP</td>\n",
       "      <td>おもかげ (produced by Vaundy)</td>\n",
       "      <td>milet</td>\n",
       "      <td>おもかげ (produced by Vaundy)</td>\n",
       "      <td>spotify:track:6ts1KCOudfDYXYfyWtq0k1</td>\n",
       "      <td>NaN</td>\n",
       "      <td>NaN</td>\n",
       "      <td>NaN</td>\n",
       "      <td>trackdone</td>\n",
       "      <td>backbtn</td>\n",
       "      <td>False</td>\n",
       "      <td>NaN</td>\n",
       "      <td>False</td>\n",
       "      <td>1653899732733</td>\n",
       "      <td>False</td>\n",
       "    </tr>\n",
       "    <tr>\n",
       "      <th>3438</th>\n",
       "      <td>2017-03-26T21:06:11Z</td>\n",
       "      <td>Windows 10 (10.0.10586; x64)</td>\n",
       "      <td>178124</td>\n",
       "      <td>ID</td>\n",
       "      <td>Swordland (From \"Sword Art Online\")</td>\n",
       "      <td>Taylor Davis</td>\n",
       "      <td>Swordland (From \"Sword Art Online\")</td>\n",
       "      <td>spotify:track:1IbqahgWSIgMcgUxbupT19</td>\n",
       "      <td>NaN</td>\n",
       "      <td>NaN</td>\n",
       "      <td>NaN</td>\n",
       "      <td>trackdone</td>\n",
       "      <td>NaN</td>\n",
       "      <td>False</td>\n",
       "      <td>NaN</td>\n",
       "      <td>False</td>\n",
       "      <td>1490562191806</td>\n",
       "      <td>False</td>\n",
       "    </tr>\n",
       "    <tr>\n",
       "      <th>35760</th>\n",
       "      <td>2018-12-12T08:00:55Z</td>\n",
       "      <td>Windows 10 (10.0.17134; x64)</td>\n",
       "      <td>198693</td>\n",
       "      <td>JP</td>\n",
       "      <td>Dream - Acoustic</td>\n",
       "      <td>Bishop Briggs</td>\n",
       "      <td>Dream</td>\n",
       "      <td>spotify:track:67l1tytshju3Ily8uIAVKH</td>\n",
       "      <td>NaN</td>\n",
       "      <td>NaN</td>\n",
       "      <td>NaN</td>\n",
       "      <td>trackdone</td>\n",
       "      <td>trackdone</td>\n",
       "      <td>True</td>\n",
       "      <td>NaN</td>\n",
       "      <td>False</td>\n",
       "      <td>1544601453776</td>\n",
       "      <td>False</td>\n",
       "    </tr>\n",
       "    <tr>\n",
       "      <th>55510</th>\n",
       "      <td>2020-02-03T10:00:36Z</td>\n",
       "      <td>Windows 10 (10.0.18362; x64; AppX)</td>\n",
       "      <td>189346</td>\n",
       "      <td>JP</td>\n",
       "      <td>Wild Horses</td>\n",
       "      <td>Bishop Briggs</td>\n",
       "      <td>Bishop Briggs</td>\n",
       "      <td>spotify:track:0XyeD5XgusMHQlEVlUfxSn</td>\n",
       "      <td>NaN</td>\n",
       "      <td>NaN</td>\n",
       "      <td>NaN</td>\n",
       "      <td>trackdone</td>\n",
       "      <td>trackdone</td>\n",
       "      <td>True</td>\n",
       "      <td>NaN</td>\n",
       "      <td>False</td>\n",
       "      <td>1580723846279</td>\n",
       "      <td>False</td>\n",
       "    </tr>\n",
       "  </tbody>\n",
       "</table>\n",
       "</div>"
      ],
      "text/plain": [
       "                          ts                                platform  \\\n",
       "116162  2023-05-02T03:58:50Z                                 android   \n",
       "95640   2022-05-30T08:35:40Z  Android OS 11 API 30 (OnePlus, HD1910)   \n",
       "3438    2017-03-26T21:06:11Z            Windows 10 (10.0.10586; x64)   \n",
       "35760   2018-12-12T08:00:55Z            Windows 10 (10.0.17134; x64)   \n",
       "55510   2020-02-03T10:00:36Z      Windows 10 (10.0.18362; x64; AppX)   \n",
       "\n",
       "        ms_played conn_country           master_metadata_track_name  \\\n",
       "116162     267300           JP             Sick of Losing Soulmates   \n",
       "95640        5048           JP            おもかげ (produced by Vaundy)   \n",
       "3438       178124           ID  Swordland (From \"Sword Art Online\")   \n",
       "35760      198693           JP                     Dream - Acoustic   \n",
       "55510      189346           JP                          Wild Horses   \n",
       "\n",
       "       master_metadata_album_artist_name     master_metadata_album_album_name  \\\n",
       "116162                             dodie                     Intertwined - EP   \n",
       "95640                              milet            おもかげ (produced by Vaundy)   \n",
       "3438                        Taylor Davis  Swordland (From \"Sword Art Online\")   \n",
       "35760                      Bishop Briggs                                Dream   \n",
       "55510                      Bishop Briggs                        Bishop Briggs   \n",
       "\n",
       "                           spotify_track_uri  episode_name  episode_show_name  \\\n",
       "116162  spotify:track:7a9udNo0GU97xnMAkjLdmE           NaN                NaN   \n",
       "95640   spotify:track:6ts1KCOudfDYXYfyWtq0k1           NaN                NaN   \n",
       "3438    spotify:track:1IbqahgWSIgMcgUxbupT19           NaN                NaN   \n",
       "35760   spotify:track:67l1tytshju3Ily8uIAVKH           NaN                NaN   \n",
       "55510   spotify:track:0XyeD5XgusMHQlEVlUfxSn           NaN                NaN   \n",
       "\n",
       "        spotify_episode_uri reason_start reason_end  shuffle skipped  offline  \\\n",
       "116162                  NaN    trackdone  trackdone     True   False    False   \n",
       "95640                   NaN    trackdone    backbtn    False     NaN    False   \n",
       "3438                    NaN    trackdone        NaN    False     NaN    False   \n",
       "35760                   NaN    trackdone  trackdone     True     NaN    False   \n",
       "55510                   NaN    trackdone  trackdone     True     NaN    False   \n",
       "\n",
       "        offline_timestamp  incognito_mode  \n",
       "116162         1682999662           False  \n",
       "95640       1653899732733           False  \n",
       "3438        1490562191806           False  \n",
       "35760       1544601453776           False  \n",
       "55510       1580723846279           False  "
      ]
     },
     "execution_count": 172,
     "metadata": {},
     "output_type": "execute_result"
    }
   ],
   "source": [
    "# let's load the tracks_df again\n",
    "tracks_df = pd.read_csv('datasets/tracks_df.csv')\n",
    "tracks_df.sample(5)"
   ]
  },
  {
   "cell_type": "code",
   "execution_count": 51,
   "metadata": {},
   "outputs": [
    {
     "name": "stdout",
     "output_type": "stream",
     "text": [
      "(129393, 18)\n",
      "Index(['ts', 'platform', 'ms_played', 'conn_country',\n",
      "       'master_metadata_track_name', 'master_metadata_album_artist_name',\n",
      "       'master_metadata_album_album_name', 'spotify_track_uri', 'episode_name',\n",
      "       'episode_show_name', 'spotify_episode_uri', 'reason_start',\n",
      "       'reason_end', 'shuffle', 'skipped', 'offline', 'offline_timestamp',\n",
      "       'incognito_mode'],\n",
      "      dtype='object')\n"
     ]
    }
   ],
   "source": [
    "print(tracks_df.shape)\n",
    "print(tracks_df.columns)"
   ]
  },
  {
   "cell_type": "code",
   "execution_count": 52,
   "metadata": {},
   "outputs": [
    {
     "name": "stdout",
     "output_type": "stream",
     "text": [
      "<class 'pandas.core.frame.DataFrame'>\n",
      "Index: 129393 entries, 0 to 2979\n",
      "Data columns (total 18 columns):\n",
      " #   Column                             Non-Null Count   Dtype \n",
      "---  ------                             --------------   ----- \n",
      " 0   ts                                 129393 non-null  object\n",
      " 1   platform                           129393 non-null  object\n",
      " 2   ms_played                          129393 non-null  int64 \n",
      " 3   conn_country                       129393 non-null  object\n",
      " 4   master_metadata_track_name         129393 non-null  object\n",
      " 5   master_metadata_album_artist_name  129393 non-null  object\n",
      " 6   master_metadata_album_album_name   129393 non-null  object\n",
      " 7   spotify_track_uri                  129393 non-null  object\n",
      " 8   episode_name                       0 non-null       object\n",
      " 9   episode_show_name                  0 non-null       object\n",
      " 10  spotify_episode_uri                0 non-null       object\n",
      " 11  reason_start                       129393 non-null  object\n",
      " 12  reason_end                         108855 non-null  object\n",
      " 13  shuffle                            129393 non-null  bool  \n",
      " 14  skipped                            23972 non-null   object\n",
      " 15  offline                            129393 non-null  bool  \n",
      " 16  offline_timestamp                  129393 non-null  int64 \n",
      " 17  incognito_mode                     129393 non-null  bool  \n",
      "dtypes: bool(3), int64(2), object(13)\n",
      "memory usage: 16.2+ MB\n"
     ]
    }
   ],
   "source": [
    "# let's take a look at the tracks_df again\n",
    "tracks_df.info()"
   ]
  },
  {
   "cell_type": "markdown",
   "metadata": {},
   "source": [
    "Columns description\n",
    "- ts : timestamp played\n",
    "- ms_played : duration the track is played (ms)\n",
    "- conn_country : country where the track was played\n",
    "- master_metadata_track_name / artist_name / album_name : self explained\n",
    "- spotify_track_uri : unique identifier for each track\n",
    "- episode_name, episode_show_name, spotify_episode_uri : columns used for podcasts-related rows, might need to remove this later\n",
    "- reason_start / end : a value telling why track is played\n",
    "- shuffle / skipped / offline / incognito_mode : value whether the track if shuffle mode is used when the track is played, track skipped or when the track is played in offline mode or incognito_mode\n",
    "- offline_timestamp : timestamp when the offline mode is used"
   ]
  },
  {
   "cell_type": "code",
   "execution_count": 53,
   "metadata": {},
   "outputs": [
    {
     "data": {
      "text/plain": [
       "ts                                   121914\n",
       "platform                                 32\n",
       "ms_played                             26468\n",
       "conn_country                              9\n",
       "master_metadata_track_name             4783\n",
       "master_metadata_album_artist_name      1646\n",
       "master_metadata_album_album_name       2700\n",
       "spotify_track_uri                      5245\n",
       "episode_name                              0\n",
       "episode_show_name                         0\n",
       "spotify_episode_uri                       0\n",
       "reason_start                              8\n",
       "reason_end                               10\n",
       "shuffle                                   2\n",
       "skipped                                   2\n",
       "offline                                   2\n",
       "offline_timestamp                    127519\n",
       "incognito_mode                            2\n",
       "dtype: int64"
      ]
     },
     "execution_count": 53,
     "metadata": {},
     "output_type": "execute_result"
    }
   ],
   "source": [
    "# checking the number of unique from each column\n",
    "tracks_df.nunique()"
   ]
  },
  {
   "cell_type": "code",
   "execution_count": 54,
   "metadata": {},
   "outputs": [
    {
     "data": {
      "text/html": [
       "<div>\n",
       "<style scoped>\n",
       "    .dataframe tbody tr th:only-of-type {\n",
       "        vertical-align: middle;\n",
       "    }\n",
       "\n",
       "    .dataframe tbody tr th {\n",
       "        vertical-align: top;\n",
       "    }\n",
       "\n",
       "    .dataframe thead th {\n",
       "        text-align: right;\n",
       "    }\n",
       "</style>\n",
       "<table border=\"1\" class=\"dataframe\">\n",
       "  <thead>\n",
       "    <tr style=\"text-align: right;\">\n",
       "      <th></th>\n",
       "      <th>ts</th>\n",
       "      <th>platform</th>\n",
       "      <th>conn_country</th>\n",
       "      <th>master_metadata_track_name</th>\n",
       "      <th>master_metadata_album_artist_name</th>\n",
       "      <th>master_metadata_album_album_name</th>\n",
       "      <th>spotify_track_uri</th>\n",
       "      <th>episode_name</th>\n",
       "      <th>episode_show_name</th>\n",
       "      <th>spotify_episode_uri</th>\n",
       "      <th>reason_start</th>\n",
       "      <th>reason_end</th>\n",
       "      <th>skipped</th>\n",
       "    </tr>\n",
       "  </thead>\n",
       "  <tbody>\n",
       "    <tr>\n",
       "      <th>count</th>\n",
       "      <td>129393</td>\n",
       "      <td>129393</td>\n",
       "      <td>129393</td>\n",
       "      <td>129393</td>\n",
       "      <td>129393</td>\n",
       "      <td>129393</td>\n",
       "      <td>129393</td>\n",
       "      <td>0</td>\n",
       "      <td>0</td>\n",
       "      <td>0</td>\n",
       "      <td>129393</td>\n",
       "      <td>108855</td>\n",
       "      <td>23972.0</td>\n",
       "    </tr>\n",
       "    <tr>\n",
       "      <th>unique</th>\n",
       "      <td>121914</td>\n",
       "      <td>32</td>\n",
       "      <td>9</td>\n",
       "      <td>4783</td>\n",
       "      <td>1646</td>\n",
       "      <td>2700</td>\n",
       "      <td>5245</td>\n",
       "      <td>0</td>\n",
       "      <td>0</td>\n",
       "      <td>0</td>\n",
       "      <td>8</td>\n",
       "      <td>10</td>\n",
       "      <td>2.0</td>\n",
       "    </tr>\n",
       "    <tr>\n",
       "      <th>top</th>\n",
       "      <td>2019-06-28T06:57:01Z</td>\n",
       "      <td>Android OS 11 API 30 (OnePlus, HD1910)</td>\n",
       "      <td>JP</td>\n",
       "      <td>Interdimensional Portal Leading to a Cute Plac...</td>\n",
       "      <td>In Love With a Ghost</td>\n",
       "      <td>Church Of Scars</td>\n",
       "      <td>spotify:track:1HW1arhhmKY3jI7QyARvsf</td>\n",
       "      <td>NaN</td>\n",
       "      <td>NaN</td>\n",
       "      <td>NaN</td>\n",
       "      <td>trackdone</td>\n",
       "      <td>trackdone</td>\n",
       "      <td>0.0</td>\n",
       "    </tr>\n",
       "    <tr>\n",
       "      <th>freq</th>\n",
       "      <td>208</td>\n",
       "      <td>21563</td>\n",
       "      <td>103209</td>\n",
       "      <td>762</td>\n",
       "      <td>11074</td>\n",
       "      <td>3173</td>\n",
       "      <td>762</td>\n",
       "      <td>NaN</td>\n",
       "      <td>NaN</td>\n",
       "      <td>NaN</td>\n",
       "      <td>96588</td>\n",
       "      <td>82153</td>\n",
       "      <td>21056.0</td>\n",
       "    </tr>\n",
       "  </tbody>\n",
       "</table>\n",
       "</div>"
      ],
      "text/plain": [
       "                          ts                                platform  \\\n",
       "count                 129393                                  129393   \n",
       "unique                121914                                      32   \n",
       "top     2019-06-28T06:57:01Z  Android OS 11 API 30 (OnePlus, HD1910)   \n",
       "freq                     208                                   21563   \n",
       "\n",
       "       conn_country                         master_metadata_track_name  \\\n",
       "count        129393                                             129393   \n",
       "unique            9                                               4783   \n",
       "top              JP  Interdimensional Portal Leading to a Cute Plac...   \n",
       "freq         103209                                                762   \n",
       "\n",
       "       master_metadata_album_artist_name master_metadata_album_album_name  \\\n",
       "count                             129393                           129393   \n",
       "unique                              1646                             2700   \n",
       "top                 In Love With a Ghost                  Church Of Scars   \n",
       "freq                               11074                             3173   \n",
       "\n",
       "                           spotify_track_uri episode_name episode_show_name  \\\n",
       "count                                 129393            0                 0   \n",
       "unique                                  5245            0                 0   \n",
       "top     spotify:track:1HW1arhhmKY3jI7QyARvsf          NaN               NaN   \n",
       "freq                                     762          NaN               NaN   \n",
       "\n",
       "       spotify_episode_uri reason_start reason_end  skipped  \n",
       "count                    0       129393     108855  23972.0  \n",
       "unique                   0            8         10      2.0  \n",
       "top                    NaN    trackdone  trackdone      0.0  \n",
       "freq                   NaN        96588      82153  21056.0  "
      ]
     },
     "execution_count": 54,
     "metadata": {},
     "output_type": "execute_result"
    }
   ],
   "source": [
    "# descriptive analysis for categorical data\n",
    "tracks_df.describe(include='object')"
   ]
  },
  {
   "cell_type": "code",
   "execution_count": 55,
   "metadata": {},
   "outputs": [
    {
     "data": {
      "text/html": [
       "<div>\n",
       "<style scoped>\n",
       "    .dataframe tbody tr th:only-of-type {\n",
       "        vertical-align: middle;\n",
       "    }\n",
       "\n",
       "    .dataframe tbody tr th {\n",
       "        vertical-align: top;\n",
       "    }\n",
       "\n",
       "    .dataframe thead th {\n",
       "        text-align: right;\n",
       "    }\n",
       "</style>\n",
       "<table border=\"1\" class=\"dataframe\">\n",
       "  <thead>\n",
       "    <tr style=\"text-align: right;\">\n",
       "      <th></th>\n",
       "      <th>ms_played</th>\n",
       "      <th>offline_timestamp</th>\n",
       "    </tr>\n",
       "  </thead>\n",
       "  <tbody>\n",
       "    <tr>\n",
       "      <th>count</th>\n",
       "      <td>1.293930e+05</td>\n",
       "      <td>1.293930e+05</td>\n",
       "    </tr>\n",
       "    <tr>\n",
       "      <th>mean</th>\n",
       "      <td>1.569280e+05</td>\n",
       "      <td>1.268591e+12</td>\n",
       "    </tr>\n",
       "    <tr>\n",
       "      <th>std</th>\n",
       "      <td>9.212008e+04</td>\n",
       "      <td>6.274175e+11</td>\n",
       "    </tr>\n",
       "    <tr>\n",
       "      <th>min</th>\n",
       "      <td>0.000000e+00</td>\n",
       "      <td>0.000000e+00</td>\n",
       "    </tr>\n",
       "    <tr>\n",
       "      <th>25%</th>\n",
       "      <td>9.120000e+04</td>\n",
       "      <td>1.498709e+12</td>\n",
       "    </tr>\n",
       "    <tr>\n",
       "      <th>50%</th>\n",
       "      <td>1.829730e+05</td>\n",
       "      <td>1.551874e+12</td>\n",
       "    </tr>\n",
       "    <tr>\n",
       "      <th>75%</th>\n",
       "      <td>2.162130e+05</td>\n",
       "      <td>1.610864e+12</td>\n",
       "    </tr>\n",
       "    <tr>\n",
       "      <th>max</th>\n",
       "      <td>1.082813e+06</td>\n",
       "      <td>1.665763e+12</td>\n",
       "    </tr>\n",
       "  </tbody>\n",
       "</table>\n",
       "</div>"
      ],
      "text/plain": [
       "          ms_played  offline_timestamp\n",
       "count  1.293930e+05       1.293930e+05\n",
       "mean   1.569280e+05       1.268591e+12\n",
       "std    9.212008e+04       6.274175e+11\n",
       "min    0.000000e+00       0.000000e+00\n",
       "25%    9.120000e+04       1.498709e+12\n",
       "50%    1.829730e+05       1.551874e+12\n",
       "75%    2.162130e+05       1.610864e+12\n",
       "max    1.082813e+06       1.665763e+12"
      ]
     },
     "execution_count": 55,
     "metadata": {},
     "output_type": "execute_result"
    }
   ],
   "source": [
    "# descriptive analysis for numerical data\n",
    "tracks_df.describe()"
   ]
  },
  {
   "cell_type": "code",
   "execution_count": 56,
   "metadata": {},
   "outputs": [
    {
     "data": {
      "text/plain": [
       "<Axes: xlabel='ms_played', ylabel='Count'>"
      ]
     },
     "execution_count": 56,
     "metadata": {},
     "output_type": "execute_result"
    },
    {
     "data": {
      "image/png": "[encoded data removed]",
      "text/plain": [
       "<Figure size 640x480 with 1 Axes>"
      ]
     },
     "metadata": {},
     "output_type": "display_data"
    }
   ],
   "source": [
    "# histogram for ms_played rounded to nearest 1000 (in seconds) to see the distribution\n",
    "sns.histplot(tracks_df['ms_played'].round(-3), kde = True, bins=100)"
   ]
  },
  {
   "cell_type": "code",
   "execution_count": 57,
   "metadata": {},
   "outputs": [
    {
     "data": {
      "text/html": [
       "<div>\n",
       "<style scoped>\n",
       "    .dataframe tbody tr th:only-of-type {\n",
       "        vertical-align: middle;\n",
       "    }\n",
       "\n",
       "    .dataframe tbody tr th {\n",
       "        vertical-align: top;\n",
       "    }\n",
       "\n",
       "    .dataframe thead th {\n",
       "        text-align: right;\n",
       "    }\n",
       "</style>\n",
       "<table border=\"1\" class=\"dataframe\">\n",
       "  <thead>\n",
       "    <tr style=\"text-align: right;\">\n",
       "      <th></th>\n",
       "      <th>ts</th>\n",
       "      <th>platform</th>\n",
       "      <th>ms_played</th>\n",
       "      <th>conn_country</th>\n",
       "      <th>master_metadata_track_name</th>\n",
       "      <th>master_metadata_album_artist_name</th>\n",
       "      <th>master_metadata_album_album_name</th>\n",
       "      <th>spotify_track_uri</th>\n",
       "      <th>episode_name</th>\n",
       "      <th>episode_show_name</th>\n",
       "      <th>spotify_episode_uri</th>\n",
       "      <th>reason_start</th>\n",
       "      <th>reason_end</th>\n",
       "      <th>shuffle</th>\n",
       "      <th>skipped</th>\n",
       "      <th>offline</th>\n",
       "      <th>offline_timestamp</th>\n",
       "      <th>incognito_mode</th>\n",
       "    </tr>\n",
       "  </thead>\n",
       "  <tbody>\n",
       "    <tr>\n",
       "      <th>1777</th>\n",
       "      <td>2021-07-22T07:48:48Z</td>\n",
       "      <td>Android OS 10 API 29 (OnePlus, ONEPLUS A5010)</td>\n",
       "      <td>0</td>\n",
       "      <td>JP</td>\n",
       "      <td>Nothing's Real</td>\n",
       "      <td>Shura</td>\n",
       "      <td>Nothing's Real</td>\n",
       "      <td>spotify:track:7xTLGXEvVlTu0ugHJyaFAs</td>\n",
       "      <td>None</td>\n",
       "      <td>None</td>\n",
       "      <td>None</td>\n",
       "      <td>backbtn</td>\n",
       "      <td>backbtn</td>\n",
       "      <td>False</td>\n",
       "      <td>NaN</td>\n",
       "      <td>False</td>\n",
       "      <td>1626940128709</td>\n",
       "      <td>False</td>\n",
       "    </tr>\n",
       "    <tr>\n",
       "      <th>15278</th>\n",
       "      <td>2018-10-03T06:17:23Z</td>\n",
       "      <td>Android OS 8.1.0 API 27 (OnePlus, ONEPLUS A5010)</td>\n",
       "      <td>0</td>\n",
       "      <td>ID</td>\n",
       "      <td>Forbidden Codex</td>\n",
       "      <td>Hoskey</td>\n",
       "      <td>Chapter K (From \"Cytus\")</td>\n",
       "      <td>spotify:track:6vI9b0UZMbje1SHlIEir5Z</td>\n",
       "      <td>None</td>\n",
       "      <td>None</td>\n",
       "      <td>None</td>\n",
       "      <td>backbtn</td>\n",
       "      <td>backbtn</td>\n",
       "      <td>False</td>\n",
       "      <td>NaN</td>\n",
       "      <td>False</td>\n",
       "      <td>1538547441859</td>\n",
       "      <td>False</td>\n",
       "    </tr>\n",
       "    <tr>\n",
       "      <th>35</th>\n",
       "      <td>2017-12-15T13:54:26Z</td>\n",
       "      <td>Windows 10 (10.0.14393; x64)</td>\n",
       "      <td>0</td>\n",
       "      <td>ID</td>\n",
       "      <td>Why</td>\n",
       "      <td>ayaka</td>\n",
       "      <td>Sing to the Sky</td>\n",
       "      <td>spotify:track:21qxrmTwQkOF5MivDaMvuX</td>\n",
       "      <td>None</td>\n",
       "      <td>None</td>\n",
       "      <td>None</td>\n",
       "      <td>clickrow</td>\n",
       "      <td>None</td>\n",
       "      <td>True</td>\n",
       "      <td>NaN</td>\n",
       "      <td>False</td>\n",
       "      <td>1513305026857</td>\n",
       "      <td>False</td>\n",
       "    </tr>\n",
       "    <tr>\n",
       "      <th>2018</th>\n",
       "      <td>2017-03-05T04:08:27Z</td>\n",
       "      <td>Windows 10 (10.0.14393; x64)</td>\n",
       "      <td>0</td>\n",
       "      <td>ID</td>\n",
       "      <td>I'm Beginning To Think You Prefer Beverly Hill...</td>\n",
       "      <td>Fight Like Apes</td>\n",
       "      <td>Fight Like Apes and The Mystery of The Golden ...</td>\n",
       "      <td>spotify:track:0SxZpiF1BfbLiKJAamelYz</td>\n",
       "      <td>NaN</td>\n",
       "      <td>NaN</td>\n",
       "      <td>NaN</td>\n",
       "      <td>trackdone</td>\n",
       "      <td>None</td>\n",
       "      <td>True</td>\n",
       "      <td>NaN</td>\n",
       "      <td>False</td>\n",
       "      <td>1488653178484</td>\n",
       "      <td>False</td>\n",
       "    </tr>\n",
       "    <tr>\n",
       "      <th>9274</th>\n",
       "      <td>2020-03-05T12:29:37Z</td>\n",
       "      <td>Android OS 9 API 28 (OnePlus, ONEPLUS A5010)</td>\n",
       "      <td>0</td>\n",
       "      <td>ID</td>\n",
       "      <td>Lyin'</td>\n",
       "      <td>Bishop Briggs</td>\n",
       "      <td>Church Of Scars</td>\n",
       "      <td>spotify:track:3Xq94gH5xsWHSBAdfG8GaO</td>\n",
       "      <td>None</td>\n",
       "      <td>None</td>\n",
       "      <td>None</td>\n",
       "      <td>fwdbtn</td>\n",
       "      <td>fwdbtn</td>\n",
       "      <td>True</td>\n",
       "      <td>NaN</td>\n",
       "      <td>False</td>\n",
       "      <td>1583411373848</td>\n",
       "      <td>False</td>\n",
       "    </tr>\n",
       "  </tbody>\n",
       "</table>\n",
       "</div>"
      ],
      "text/plain": [
       "                         ts                                          platform  \\\n",
       "1777   2021-07-22T07:48:48Z     Android OS 10 API 29 (OnePlus, ONEPLUS A5010)   \n",
       "15278  2018-10-03T06:17:23Z  Android OS 8.1.0 API 27 (OnePlus, ONEPLUS A5010)   \n",
       "35     2017-12-15T13:54:26Z                      Windows 10 (10.0.14393; x64)   \n",
       "2018   2017-03-05T04:08:27Z                      Windows 10 (10.0.14393; x64)   \n",
       "9274   2020-03-05T12:29:37Z      Android OS 9 API 28 (OnePlus, ONEPLUS A5010)   \n",
       "\n",
       "       ms_played conn_country  \\\n",
       "1777           0           JP   \n",
       "15278          0           ID   \n",
       "35             0           ID   \n",
       "2018           0           ID   \n",
       "9274           0           ID   \n",
       "\n",
       "                              master_metadata_track_name  \\\n",
       "1777                                      Nothing's Real   \n",
       "15278                                    Forbidden Codex   \n",
       "35                                                   Why   \n",
       "2018   I'm Beginning To Think You Prefer Beverly Hill...   \n",
       "9274                                               Lyin'   \n",
       "\n",
       "      master_metadata_album_artist_name  \\\n",
       "1777                              Shura   \n",
       "15278                            Hoskey   \n",
       "35                                ayaka   \n",
       "2018                    Fight Like Apes   \n",
       "9274                      Bishop Briggs   \n",
       "\n",
       "                        master_metadata_album_album_name  \\\n",
       "1777                                      Nothing's Real   \n",
       "15278                           Chapter K (From \"Cytus\")   \n",
       "35                                       Sing to the Sky   \n",
       "2018   Fight Like Apes and The Mystery of The Golden ...   \n",
       "9274                                     Church Of Scars   \n",
       "\n",
       "                          spotify_track_uri episode_name episode_show_name  \\\n",
       "1777   spotify:track:7xTLGXEvVlTu0ugHJyaFAs         None              None   \n",
       "15278  spotify:track:6vI9b0UZMbje1SHlIEir5Z         None              None   \n",
       "35     spotify:track:21qxrmTwQkOF5MivDaMvuX         None              None   \n",
       "2018   spotify:track:0SxZpiF1BfbLiKJAamelYz          NaN               NaN   \n",
       "9274   spotify:track:3Xq94gH5xsWHSBAdfG8GaO         None              None   \n",
       "\n",
       "      spotify_episode_uri reason_start reason_end  shuffle skipped  offline  \\\n",
       "1777                 None      backbtn    backbtn    False     NaN    False   \n",
       "15278                None      backbtn    backbtn    False     NaN    False   \n",
       "35                   None     clickrow       None     True     NaN    False   \n",
       "2018                  NaN    trackdone       None     True     NaN    False   \n",
       "9274                 None       fwdbtn     fwdbtn     True     NaN    False   \n",
       "\n",
       "       offline_timestamp  incognito_mode  \n",
       "1777       1626940128709           False  \n",
       "15278      1538547441859           False  \n",
       "35         1513305026857           False  \n",
       "2018       1488653178484           False  \n",
       "9274       1583411373848           False  "
      ]
     },
     "metadata": {},
     "output_type": "display_data"
    },
    {
     "name": "stdout",
     "output_type": "stream",
     "text": [
      "(3759, 18)\n"
     ]
    }
   ],
   "source": [
    "display(tracks_df[tracks_df['ms_played'] == 0].sample(5))\n",
    "print(tracks_df[tracks_df['ms_played'] == 0].shape)"
   ]
  },
  {
   "cell_type": "markdown",
   "metadata": {},
   "source": [
    "there are surprisingly a lot of rows with 0 ms_played, might need to check it later"
   ]
  },
  {
   "cell_type": "code",
   "execution_count": 58,
   "metadata": {},
   "outputs": [
    {
     "data": {
      "text/plain": [
       "platform\n",
       "Android OS 11 API 30 (OnePlus, HD1910)                       21563\n",
       "android                                                      20780\n",
       "Android OS 9 API 28 (OnePlus, ONEPLUS A5010)                 15578\n",
       "Android OS 10 API 29 (OnePlus, ONEPLUS A5010)                15124\n",
       "Android OS 8.1.0 API 27 (OnePlus, ONEPLUS A5010)             10919\n",
       "Windows 10 (10.0.17134; x64)                                  7099\n",
       "Android OS 7.1.1 API 25 (Sony, E6683)                         6847\n",
       "Windows 10 (10.0.14393; x64)                                  6764\n",
       "Windows 10 (10.0.18363; x64)                                  6702\n",
       "Android OS 7.0 API 24 (Sony, E6683)                           4074\n",
       "windows                                                       3192\n",
       "Windows 10 (10.0.18362; x64)                                  2858\n",
       "Android OS 8.0.0 API 26 (OnePlus, ONEPLUS A5010)              1049\n",
       "Windows 10 (10.0.16299; x64)                                  1011\n",
       "Android OS 6.0.1 API 23 (Sony, E6683)                          896\n",
       "Windows 10 (10.0.19044; x64; AppX)                             812\n",
       "Windows 10 (10.0.22000; x64)                                   733\n",
       "Windows 10 (10.0.18362; x64; AppX)                             591\n",
       "Windows 10 (10.0.17134; x64; AppX)                             520\n",
       "Android OS 7.1.1 API 25 (OnePlus, ONEPLUS A5010)               463\n",
       "Windows 10 (10.0.16299; x64; AppX)                             408\n",
       "Windows 10 (10.0.22621; x64)                                   368\n",
       "Windows 10 (10.0.19042; x64)                                   367\n",
       "Windows 10 (10.0.10586; x64)                                   234\n",
       "Windows 10 (10.0.22622; x64)                                   200\n",
       "Windows 10 (10.0.22598; x64)                                   156\n",
       "web_player windows 10;microsoft edge 95.0.1020.40;desktop       66\n",
       "Android OS 6.0 API 23 (Sony, E6683)                              8\n",
       "web_player windows 10;firefox 84.0;desktop                       6\n",
       "Partner spotify web_player                                       2\n",
       "web_player windows 10;firefox 61.0;desktop                       2\n",
       "web_player windows 10;firefox 69.0;desktop                       1\n",
       "Name: count, dtype: int64"
      ]
     },
     "execution_count": 58,
     "metadata": {},
     "output_type": "execute_result"
    }
   ],
   "source": [
    "# checking platform unique values\n",
    "tracks_df['platform'].value_counts()"
   ]
  },
  {
   "cell_type": "markdown",
   "metadata": {},
   "source": [
    "in hindsight, it seems there are just 3 unique values in platform column (android, windows, web_player), we need to handle this value"
   ]
  },
  {
   "cell_type": "markdown",
   "metadata": {},
   "source": [
    "based on what we've seen, there are some things that we need to handle:\n",
    "- drop podcasts related columns\n",
    "- drop offline_timestamp column\n",
    "- ~~drop conn_country column since I think what _platform_ the track was streamed is more important than the _country_ it was streamed~~\n",
    "- drop incognito_mode column\n",
    "- convert 'ts' column into datetime datatype\n",
    "- rename columns with long label (master_metadata_artist_name, etc) into shorter form\n",
    "- trim spotify_track_uri to only track ids\n",
    "- handle _platform_ into three values (web_player, android, windows)\n",
    "- take a look on rows with 0 ms_played "
   ]
  },
  {
   "cell_type": "markdown",
   "metadata": {},
   "source": [
    "## Data Preprocessing"
   ]
  },
  {
   "cell_type": "markdown",
   "metadata": {},
   "source": [
    "### dropping unimportant columns"
   ]
  },
  {
   "cell_type": "code",
   "execution_count": 68,
   "metadata": {},
   "outputs": [
    {
     "name": "stderr",
     "output_type": "stream",
     "text": [
      "C:\\Users\\Kim\\AppData\\Local\\Temp\\ipykernel_20844\\1729471834.py:2: SettingWithCopyWarning: \n",
      "A value is trying to be set on a copy of a slice from a DataFrame\n",
      "\n",
      "See the caveats in the documentation: https://pandas.pydata.org/pandas-docs/stable/user_guide/indexing.html#returning-a-view-versus-a-copy\n",
      "  tracks_df.drop(columns=['offline_timestamp', 'episode_name', 'episode_show_name', 'spotify_episode_uri'], inplace=True)\n"
     ]
    }
   ],
   "source": [
    "# dropping the columns that are not useful\n",
    "tracks_df.drop(columns=['offline_timestamp', 'episode_name', 'episode_show_name', 'spotify_episode_uri'], inplace=True)\n"
   ]
  },
  {
   "cell_type": "code",
   "execution_count": 69,
   "metadata": {},
   "outputs": [
    {
     "name": "stderr",
     "output_type": "stream",
     "text": [
      "C:\\Users\\Kim\\AppData\\Local\\Temp\\ipykernel_20844\\3684800831.py:1: SettingWithCopyWarning: \n",
      "A value is trying to be set on a copy of a slice from a DataFrame\n",
      "\n",
      "See the caveats in the documentation: https://pandas.pydata.org/pandas-docs/stable/user_guide/indexing.html#returning-a-view-versus-a-copy\n",
      "  tracks_df.drop(columns=['incognito_mode'], inplace=True)\n"
     ]
    }
   ],
   "source": [
    "tracks_df.drop(columns=['incognito_mode'], inplace=True)"
   ]
  },
  {
   "cell_type": "markdown",
   "metadata": {},
   "source": [
    "### converting 'ts' column to datetime datatype"
   ]
  },
  {
   "cell_type": "code",
   "execution_count": 67,
   "metadata": {},
   "outputs": [
    {
     "name": "stderr",
     "output_type": "stream",
     "text": [
      "C:\\Users\\Kim\\AppData\\Local\\Temp\\ipykernel_20844\\3193864608.py:2: SettingWithCopyWarning: \n",
      "A value is trying to be set on a copy of a slice from a DataFrame.\n",
      "Try using .loc[row_indexer,col_indexer] = value instead\n",
      "\n",
      "See the caveats in the documentation: https://pandas.pydata.org/pandas-docs/stable/user_guide/indexing.html#returning-a-view-versus-a-copy\n",
      "  tracks_df['ts'] = pd.to_datetime(tracks_df['ts'])\n"
     ]
    }
   ],
   "source": [
    "# converting 'ts' to datetime format\n",
    "tracks_df['ts'] = pd.to_datetime(tracks_df['ts'])"
   ]
  },
  {
   "cell_type": "markdown",
   "metadata": {},
   "source": [
    "### renaming columns with long label"
   ]
  },
  {
   "cell_type": "code",
   "execution_count": 65,
   "metadata": {},
   "outputs": [
    {
     "name": "stderr",
     "output_type": "stream",
     "text": [
      "C:\\Users\\Kim\\AppData\\Local\\Temp\\ipykernel_20844\\224574095.py:2: SettingWithCopyWarning: \n",
      "A value is trying to be set on a copy of a slice from a DataFrame\n",
      "\n",
      "See the caveats in the documentation: https://pandas.pydata.org/pandas-docs/stable/user_guide/indexing.html#returning-a-view-versus-a-copy\n",
      "  tracks_df.rename(columns={'master_metadata_track_name':'track_name', 'master_metadata_album_artist_name':'artist_name', 'master_metadata_album_album_name':'album_name'}, inplace=True)\n"
     ]
    }
   ],
   "source": [
    "# renaming master_metadata_track_name, master_metadata_album_artist_name, and master_metadata_album_album_name into track_name, artist_name, and album_name\n",
    "tracks_df.rename(columns={'master_metadata_track_name':'track_name', 'master_metadata_album_artist_name':'artist_name', 'master_metadata_album_album_name':'album_name'}, inplace=True)"
   ]
  },
  {
   "cell_type": "code",
   "execution_count": 66,
   "metadata": {},
   "outputs": [
    {
     "data": {
      "text/html": [
       "<div>\n",
       "<style scoped>\n",
       "    .dataframe tbody tr th:only-of-type {\n",
       "        vertical-align: middle;\n",
       "    }\n",
       "\n",
       "    .dataframe tbody tr th {\n",
       "        vertical-align: top;\n",
       "    }\n",
       "\n",
       "    .dataframe thead th {\n",
       "        text-align: right;\n",
       "    }\n",
       "</style>\n",
       "<table border=\"1\" class=\"dataframe\">\n",
       "  <thead>\n",
       "    <tr style=\"text-align: right;\">\n",
       "      <th></th>\n",
       "      <th>ts</th>\n",
       "      <th>platform</th>\n",
       "      <th>ms_played</th>\n",
       "      <th>conn_country</th>\n",
       "      <th>track_name</th>\n",
       "      <th>artist_name</th>\n",
       "      <th>album_name</th>\n",
       "      <th>track_id</th>\n",
       "      <th>episode_name</th>\n",
       "      <th>episode_show_name</th>\n",
       "      <th>spotify_episode_uri</th>\n",
       "      <th>reason_start</th>\n",
       "      <th>reason_end</th>\n",
       "      <th>shuffle</th>\n",
       "      <th>skipped</th>\n",
       "      <th>offline</th>\n",
       "      <th>offline_timestamp</th>\n",
       "      <th>incognito_mode</th>\n",
       "    </tr>\n",
       "  </thead>\n",
       "  <tbody>\n",
       "    <tr>\n",
       "      <th>6799</th>\n",
       "      <td>2021-10-25T13:14:50Z</td>\n",
       "      <td>android</td>\n",
       "      <td>238865</td>\n",
       "      <td>JP</td>\n",
       "      <td>Heartbreak</td>\n",
       "      <td>Us The Duo</td>\n",
       "      <td>No Matter Where You Are</td>\n",
       "      <td>4YPQOtDXYB0o4BfPkDFKwR</td>\n",
       "      <td>None</td>\n",
       "      <td>None</td>\n",
       "      <td>None</td>\n",
       "      <td>appload</td>\n",
       "      <td>fwdbtn</td>\n",
       "      <td>True</td>\n",
       "      <td>NaN</td>\n",
       "      <td>False</td>\n",
       "      <td>1635167446701</td>\n",
       "      <td>False</td>\n",
       "    </tr>\n",
       "    <tr>\n",
       "      <th>10852</th>\n",
       "      <td>2019-04-10T19:57:01Z</td>\n",
       "      <td>android</td>\n",
       "      <td>143853</td>\n",
       "      <td>JP</td>\n",
       "      <td>Something</td>\n",
       "      <td>The Willowz</td>\n",
       "      <td>The Willowz</td>\n",
       "      <td>5R82jE5XcydOWEbT08r7ud</td>\n",
       "      <td>NaN</td>\n",
       "      <td>NaN</td>\n",
       "      <td>NaN</td>\n",
       "      <td>trackdone</td>\n",
       "      <td>trackdone</td>\n",
       "      <td>True</td>\n",
       "      <td>NaN</td>\n",
       "      <td>False</td>\n",
       "      <td>1554926076542</td>\n",
       "      <td>False</td>\n",
       "    </tr>\n",
       "    <tr>\n",
       "      <th>5391</th>\n",
       "      <td>2022-07-13T09:40:24Z</td>\n",
       "      <td>android</td>\n",
       "      <td>196939</td>\n",
       "      <td>ID</td>\n",
       "      <td>Did It To Myself</td>\n",
       "      <td>Orla Gartland</td>\n",
       "      <td>Did It to Myself</td>\n",
       "      <td>0bPB8TqrB1xBYzGEcpC7Q8</td>\n",
       "      <td>None</td>\n",
       "      <td>None</td>\n",
       "      <td>None</td>\n",
       "      <td>trackdone</td>\n",
       "      <td>trackdone</td>\n",
       "      <td>False</td>\n",
       "      <td>NaN</td>\n",
       "      <td>False</td>\n",
       "      <td>1657705024183</td>\n",
       "      <td>False</td>\n",
       "    </tr>\n",
       "    <tr>\n",
       "      <th>6194</th>\n",
       "      <td>2019-01-16T09:23:50Z</td>\n",
       "      <td>android</td>\n",
       "      <td>193986</td>\n",
       "      <td>JP</td>\n",
       "      <td>Tempt My Trouble</td>\n",
       "      <td>Bishop Briggs</td>\n",
       "      <td>Church Of Scars</td>\n",
       "      <td>3ki2sYrrJ9bOW5hLF8oRI8</td>\n",
       "      <td>NaN</td>\n",
       "      <td>NaN</td>\n",
       "      <td>NaN</td>\n",
       "      <td>appload</td>\n",
       "      <td>trackdone</td>\n",
       "      <td>False</td>\n",
       "      <td>NaN</td>\n",
       "      <td>False</td>\n",
       "      <td>1547630436210</td>\n",
       "      <td>False</td>\n",
       "    </tr>\n",
       "    <tr>\n",
       "      <th>12673</th>\n",
       "      <td>2022-11-08T11:08:36Z</td>\n",
       "      <td>android</td>\n",
       "      <td>202435</td>\n",
       "      <td>JP</td>\n",
       "      <td>Got Weird</td>\n",
       "      <td>dodie</td>\n",
       "      <td>Hot Mess</td>\n",
       "      <td>3sTZqO3R6OT1SSScoaL1U6</td>\n",
       "      <td>None</td>\n",
       "      <td>None</td>\n",
       "      <td>None</td>\n",
       "      <td>trackdone</td>\n",
       "      <td>trackdone</td>\n",
       "      <td>True</td>\n",
       "      <td>0.0</td>\n",
       "      <td>False</td>\n",
       "      <td>1667905513</td>\n",
       "      <td>False</td>\n",
       "    </tr>\n",
       "  </tbody>\n",
       "</table>\n",
       "</div>"
      ],
      "text/plain": [
       "                         ts platform  ms_played conn_country  \\\n",
       "6799   2021-10-25T13:14:50Z  android     238865           JP   \n",
       "10852  2019-04-10T19:57:01Z  android     143853           JP   \n",
       "5391   2022-07-13T09:40:24Z  android     196939           ID   \n",
       "6194   2019-01-16T09:23:50Z  android     193986           JP   \n",
       "12673  2022-11-08T11:08:36Z  android     202435           JP   \n",
       "\n",
       "             track_name    artist_name               album_name  \\\n",
       "6799         Heartbreak     Us The Duo  No Matter Where You Are   \n",
       "10852         Something    The Willowz              The Willowz   \n",
       "5391   Did It To Myself  Orla Gartland         Did It to Myself   \n",
       "6194   Tempt My Trouble  Bishop Briggs          Church Of Scars   \n",
       "12673         Got Weird          dodie                 Hot Mess   \n",
       "\n",
       "                     track_id episode_name episode_show_name  \\\n",
       "6799   4YPQOtDXYB0o4BfPkDFKwR         None              None   \n",
       "10852  5R82jE5XcydOWEbT08r7ud          NaN               NaN   \n",
       "5391   0bPB8TqrB1xBYzGEcpC7Q8         None              None   \n",
       "6194   3ki2sYrrJ9bOW5hLF8oRI8          NaN               NaN   \n",
       "12673  3sTZqO3R6OT1SSScoaL1U6         None              None   \n",
       "\n",
       "      spotify_episode_uri reason_start reason_end  shuffle skipped  offline  \\\n",
       "6799                 None      appload     fwdbtn     True     NaN    False   \n",
       "10852                 NaN    trackdone  trackdone     True     NaN    False   \n",
       "5391                 None    trackdone  trackdone    False     NaN    False   \n",
       "6194                  NaN      appload  trackdone    False     NaN    False   \n",
       "12673                None    trackdone  trackdone     True     0.0    False   \n",
       "\n",
       "       offline_timestamp  incognito_mode  \n",
       "6799       1635167446701           False  \n",
       "10852      1554926076542           False  \n",
       "5391       1657705024183           False  \n",
       "6194       1547630436210           False  \n",
       "12673         1667905513           False  "
      ]
     },
     "execution_count": 66,
     "metadata": {},
     "output_type": "execute_result"
    }
   ],
   "source": [
    "tracks_df.sample(5)"
   ]
  },
  {
   "cell_type": "markdown",
   "metadata": {},
   "source": [
    "### handling platform columns"
   ]
  },
  {
   "cell_type": "code",
   "execution_count": 59,
   "metadata": {},
   "outputs": [
    {
     "name": "stderr",
     "output_type": "stream",
     "text": [
      "C:\\Users\\Kim\\AppData\\Local\\Temp\\ipykernel_20844\\3229200066.py:2: SettingWithCopyWarning: \n",
      "A value is trying to be set on a copy of a slice from a DataFrame.\n",
      "Try using .loc[row_indexer,col_indexer] = value instead\n",
      "\n",
      "See the caveats in the documentation: https://pandas.pydata.org/pandas-docs/stable/user_guide/indexing.html#returning-a-view-versus-a-copy\n",
      "  tracks_df['platform'] = tracks_df['platform'].str.split().str[0].str.lower()\n"
     ]
    }
   ],
   "source": [
    "# trim the platform values to only the first word and make it lowercase\n",
    "tracks_df['platform'] = tracks_df['platform'].str.split().str[0].str.lower()"
   ]
  },
  {
   "cell_type": "code",
   "execution_count": 60,
   "metadata": {},
   "outputs": [
    {
     "name": "stderr",
     "output_type": "stream",
     "text": [
      "C:\\Users\\Kim\\AppData\\Local\\Temp\\ipykernel_20844\\1858928285.py:2: SettingWithCopyWarning: \n",
      "A value is trying to be set on a copy of a slice from a DataFrame\n",
      "\n",
      "See the caveats in the documentation: https://pandas.pydata.org/pandas-docs/stable/user_guide/indexing.html#returning-a-view-versus-a-copy\n",
      "  tracks_df['platform'].replace('partner', 'web_player', inplace=True)\n"
     ]
    }
   ],
   "source": [
    "# replace 'partner' value in platform column with 'web_player'\n",
    "tracks_df['platform'].replace('partner', 'web_player', inplace=True)"
   ]
  },
  {
   "cell_type": "code",
   "execution_count": 61,
   "metadata": {},
   "outputs": [
    {
     "data": {
      "text/plain": [
       "platform\n",
       "android       97301\n",
       "windows       32015\n",
       "web_player       77\n",
       "Name: count, dtype: int64"
      ]
     },
     "execution_count": 61,
     "metadata": {},
     "output_type": "execute_result"
    }
   ],
   "source": [
    "tracks_df['platform'].value_counts()"
   ]
  },
  {
   "cell_type": "markdown",
   "metadata": {},
   "source": [
    "### handling spotify_track_uri to only track_id"
   ]
  },
  {
   "cell_type": "code",
   "execution_count": 62,
   "metadata": {},
   "outputs": [
    {
     "name": "stderr",
     "output_type": "stream",
     "text": [
      "C:\\Users\\Kim\\AppData\\Local\\Temp\\ipykernel_20844\\992810565.py:2: SettingWithCopyWarning: \n",
      "A value is trying to be set on a copy of a slice from a DataFrame.\n",
      "Try using .loc[row_indexer,col_indexer] = value instead\n",
      "\n",
      "See the caveats in the documentation: https://pandas.pydata.org/pandas-docs/stable/user_guide/indexing.html#returning-a-view-versus-a-copy\n",
      "  tracks_df['spotify_track_uri'] = tracks_df['spotify_track_uri'].str.split(':').str[2]\n",
      "C:\\Users\\Kim\\AppData\\Local\\Temp\\ipykernel_20844\\992810565.py:3: SettingWithCopyWarning: \n",
      "A value is trying to be set on a copy of a slice from a DataFrame\n",
      "\n",
      "See the caveats in the documentation: https://pandas.pydata.org/pandas-docs/stable/user_guide/indexing.html#returning-a-view-versus-a-copy\n",
      "  tracks_df.rename(columns={'spotify_track_uri':'track_id'}, inplace=True)\n"
     ]
    }
   ],
   "source": [
    "# trim spotify_track_uri to only the track id and rename the column into track_id\n",
    "tracks_df['spotify_track_uri'] = tracks_df['spotify_track_uri'].str.split(':').str[2]\n",
    "tracks_df.rename(columns={'spotify_track_uri':'track_id'}, inplace=True)"
   ]
  },
  {
   "cell_type": "code",
   "execution_count": 63,
   "metadata": {},
   "outputs": [
    {
     "data": {
      "text/html": [
       "<div>\n",
       "<style scoped>\n",
       "    .dataframe tbody tr th:only-of-type {\n",
       "        vertical-align: middle;\n",
       "    }\n",
       "\n",
       "    .dataframe tbody tr th {\n",
       "        vertical-align: top;\n",
       "    }\n",
       "\n",
       "    .dataframe thead th {\n",
       "        text-align: right;\n",
       "    }\n",
       "</style>\n",
       "<table border=\"1\" class=\"dataframe\">\n",
       "  <thead>\n",
       "    <tr style=\"text-align: right;\">\n",
       "      <th></th>\n",
       "      <th>ts</th>\n",
       "      <th>platform</th>\n",
       "      <th>ms_played</th>\n",
       "      <th>conn_country</th>\n",
       "      <th>master_metadata_track_name</th>\n",
       "      <th>master_metadata_album_artist_name</th>\n",
       "      <th>master_metadata_album_album_name</th>\n",
       "      <th>track_id</th>\n",
       "      <th>episode_name</th>\n",
       "      <th>episode_show_name</th>\n",
       "      <th>spotify_episode_uri</th>\n",
       "      <th>reason_start</th>\n",
       "      <th>reason_end</th>\n",
       "      <th>shuffle</th>\n",
       "      <th>skipped</th>\n",
       "      <th>offline</th>\n",
       "      <th>offline_timestamp</th>\n",
       "      <th>incognito_mode</th>\n",
       "    </tr>\n",
       "  </thead>\n",
       "  <tbody>\n",
       "    <tr>\n",
       "      <th>11045</th>\n",
       "      <td>2022-10-06T16:00:29Z</td>\n",
       "      <td>android</td>\n",
       "      <td>196939</td>\n",
       "      <td>SG</td>\n",
       "      <td>Did It To Myself</td>\n",
       "      <td>Orla Gartland</td>\n",
       "      <td>Did It to Myself</td>\n",
       "      <td>0bPB8TqrB1xBYzGEcpC7Q8</td>\n",
       "      <td>None</td>\n",
       "      <td>None</td>\n",
       "      <td>None</td>\n",
       "      <td>trackdone</td>\n",
       "      <td>trackdone</td>\n",
       "      <td>False</td>\n",
       "      <td>NaN</td>\n",
       "      <td>False</td>\n",
       "      <td>1665071832194</td>\n",
       "      <td>False</td>\n",
       "    </tr>\n",
       "    <tr>\n",
       "      <th>3179</th>\n",
       "      <td>2018-02-12T02:04:19Z</td>\n",
       "      <td>windows</td>\n",
       "      <td>252121</td>\n",
       "      <td>ID</td>\n",
       "      <td>Flowers</td>\n",
       "      <td>In Love With a Ghost</td>\n",
       "      <td>Let's Go</td>\n",
       "      <td>5VnaOLeK1lKfULuNwet8ck</td>\n",
       "      <td>None</td>\n",
       "      <td>None</td>\n",
       "      <td>None</td>\n",
       "      <td>trackdone</td>\n",
       "      <td>None</td>\n",
       "      <td>True</td>\n",
       "      <td>NaN</td>\n",
       "      <td>False</td>\n",
       "      <td>1518400813706</td>\n",
       "      <td>False</td>\n",
       "    </tr>\n",
       "    <tr>\n",
       "      <th>1261</th>\n",
       "      <td>2019-08-13T05:37:12Z</td>\n",
       "      <td>android</td>\n",
       "      <td>171827</td>\n",
       "      <td>JP</td>\n",
       "      <td>A Whole New World</td>\n",
       "      <td>Mena Massoud</td>\n",
       "      <td>Aladdin</td>\n",
       "      <td>5viFjDGTnrApmUY5c8qkfw</td>\n",
       "      <td>None</td>\n",
       "      <td>None</td>\n",
       "      <td>None</td>\n",
       "      <td>trackdone</td>\n",
       "      <td>endplay</td>\n",
       "      <td>False</td>\n",
       "      <td>NaN</td>\n",
       "      <td>False</td>\n",
       "      <td>1565674456751</td>\n",
       "      <td>False</td>\n",
       "    </tr>\n",
       "    <tr>\n",
       "      <th>4622</th>\n",
       "      <td>2018-05-01T13:15:52Z</td>\n",
       "      <td>android</td>\n",
       "      <td>148816</td>\n",
       "      <td>JP</td>\n",
       "      <td>Lvbnr5 Weiß</td>\n",
       "      <td>Cranky</td>\n",
       "      <td>Cytus-Chapter S-</td>\n",
       "      <td>5mPznK0Q7bPc0zLwmPNlGL</td>\n",
       "      <td>None</td>\n",
       "      <td>None</td>\n",
       "      <td>None</td>\n",
       "      <td>trackdone</td>\n",
       "      <td>trackdone</td>\n",
       "      <td>True</td>\n",
       "      <td>NaN</td>\n",
       "      <td>False</td>\n",
       "      <td>1525180401968</td>\n",
       "      <td>False</td>\n",
       "    </tr>\n",
       "    <tr>\n",
       "      <th>12146</th>\n",
       "      <td>2019-04-28T12:51:40Z</td>\n",
       "      <td>android</td>\n",
       "      <td>171182</td>\n",
       "      <td>JP</td>\n",
       "      <td>Crystal</td>\n",
       "      <td>In Love With a Ghost</td>\n",
       "      <td>Compilation BPM 2014</td>\n",
       "      <td>6SFV8lSwWqAOtitaFzEoaF</td>\n",
       "      <td>NaN</td>\n",
       "      <td>NaN</td>\n",
       "      <td>NaN</td>\n",
       "      <td>trackdone</td>\n",
       "      <td>trackdone</td>\n",
       "      <td>True</td>\n",
       "      <td>NaN</td>\n",
       "      <td>False</td>\n",
       "      <td>1556455725963</td>\n",
       "      <td>False</td>\n",
       "    </tr>\n",
       "  </tbody>\n",
       "</table>\n",
       "</div>"
      ],
      "text/plain": [
       "                         ts platform  ms_played conn_country  \\\n",
       "11045  2022-10-06T16:00:29Z  android     196939           SG   \n",
       "3179   2018-02-12T02:04:19Z  windows     252121           ID   \n",
       "1261   2019-08-13T05:37:12Z  android     171827           JP   \n",
       "4622   2018-05-01T13:15:52Z  android     148816           JP   \n",
       "12146  2019-04-28T12:51:40Z  android     171182           JP   \n",
       "\n",
       "      master_metadata_track_name master_metadata_album_artist_name  \\\n",
       "11045           Did It To Myself                     Orla Gartland   \n",
       "3179                     Flowers              In Love With a Ghost   \n",
       "1261           A Whole New World                      Mena Massoud   \n",
       "4622                 Lvbnr5 Weiß                            Cranky   \n",
       "12146                    Crystal              In Love With a Ghost   \n",
       "\n",
       "      master_metadata_album_album_name                track_id episode_name  \\\n",
       "11045                 Did It to Myself  0bPB8TqrB1xBYzGEcpC7Q8         None   \n",
       "3179                          Let's Go  5VnaOLeK1lKfULuNwet8ck         None   \n",
       "1261                           Aladdin  5viFjDGTnrApmUY5c8qkfw         None   \n",
       "4622                  Cytus-Chapter S-  5mPznK0Q7bPc0zLwmPNlGL         None   \n",
       "12146             Compilation BPM 2014  6SFV8lSwWqAOtitaFzEoaF          NaN   \n",
       "\n",
       "      episode_show_name spotify_episode_uri reason_start reason_end  shuffle  \\\n",
       "11045              None                None    trackdone  trackdone    False   \n",
       "3179               None                None    trackdone       None     True   \n",
       "1261               None                None    trackdone    endplay    False   \n",
       "4622               None                None    trackdone  trackdone     True   \n",
       "12146               NaN                 NaN    trackdone  trackdone     True   \n",
       "\n",
       "      skipped  offline  offline_timestamp  incognito_mode  \n",
       "11045     NaN    False      1665071832194           False  \n",
       "3179      NaN    False      1518400813706           False  \n",
       "1261      NaN    False      1565674456751           False  \n",
       "4622      NaN    False      1525180401968           False  \n",
       "12146     NaN    False      1556455725963           False  "
      ]
     },
     "execution_count": 63,
     "metadata": {},
     "output_type": "execute_result"
    }
   ],
   "source": [
    "tracks_df.sample(5)"
   ]
  },
  {
   "cell_type": "code",
   "execution_count": 71,
   "metadata": {},
   "outputs": [],
   "source": [
    "#save tracks_df into csv\n",
    "tracks_df.to_csv('datasets/tracks_df_processed.csv', index=False)"
   ]
  }
 ],
 "metadata": {
  "kernelspec": {
   "display_name": "Python 3",
   "language": "python",
   "name": "python3"
  },
  "language_info": {
   "codemirror_mode": {
    "name": "ipython",
    "version": 3
   },
   "file_extension": ".py",
   "mimetype": "text/x-python",
   "name": "python",
   "nbconvert_exporter": "python",
   "pygments_lexer": "ipython3",
   "version": "3.11.5"
  }
 },
 "nbformat": 4,
 "nbformat_minor": 2
}
