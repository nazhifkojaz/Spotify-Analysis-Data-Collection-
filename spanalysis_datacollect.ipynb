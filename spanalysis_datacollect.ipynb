{
 "cells": [
  {
   "cell_type": "markdown",
   "metadata": {},
   "source": [
    "# Library Imports"
   ]
  },
  {
   "cell_type": "code",
   "execution_count": 199,
   "metadata": {},
   "outputs": [],
   "source": [
    "import pandas as pd\n",
    "import glob\n",
    "import requests\n",
    "import time"
   ]
  },
  {
   "cell_type": "code",
   "execution_count": 200,
   "metadata": {},
   "outputs": [],
   "source": [
    "import seaborn as sns"
   ]
  },
  {
   "cell_type": "markdown",
   "metadata": {},
   "source": [
    "# Data Imports / Exports"
   ]
  },
  {
   "cell_type": "code",
   "execution_count": 23,
   "metadata": {},
   "outputs": [],
   "source": [
    "# THESE FILES ARE EXCLUDED FROM THE REPOSITORY\n",
    "stream_json = glob.glob('datasets/v2/Streaming_History_Audio*.json')"
   ]
  },
  {
   "cell_type": "code",
   "execution_count": 24,
   "metadata": {},
   "outputs": [
    {
     "data": {
      "text/plain": [
       "['datasets/v2\\\\Streaming_History_Audio_2016-2017_0.json',\n",
       " 'datasets/v2\\\\Streaming_History_Audio_2017-2018_1.json',\n",
       " 'datasets/v2\\\\Streaming_History_Audio_2018-2019_2.json',\n",
       " 'datasets/v2\\\\Streaming_History_Audio_2019-2020_3.json',\n",
       " 'datasets/v2\\\\Streaming_History_Audio_2020-2021_4.json',\n",
       " 'datasets/v2\\\\Streaming_History_Audio_2021-2022_5.json',\n",
       " 'datasets/v2\\\\Streaming_History_Audio_2022-2023_6.json',\n",
       " 'datasets/v2\\\\Streaming_History_Audio_2023_7.json',\n",
       " 'datasets/v2\\\\Streaming_History_Audio_2023_8.json']"
      ]
     },
     "execution_count": 24,
     "metadata": {},
     "output_type": "execute_result"
    }
   ],
   "source": [
    "# see the list of globbed files\n",
    "stream_json"
   ]
  },
  {
   "cell_type": "code",
   "execution_count": 25,
   "metadata": {},
   "outputs": [],
   "source": [
    "# load the globbed files into a dataframe\n",
    "stream_df = pd.concat([pd.read_json(f) for f in stream_json])"
   ]
  },
  {
   "cell_type": "code",
   "execution_count": 3,
   "metadata": {},
   "outputs": [
    {
     "name": "stderr",
     "output_type": "stream",
     "text": [
      "C:\\Users\\Kim\\AppData\\Local\\Temp\\ipykernel_20844\\2056156176.py:1: DtypeWarning: Columns (14) have mixed types. Specify dtype option on import or set low_memory=False.\n",
      "  tracks_df = pd.read_csv('datasets/tracks_df.csv')\n"
     ]
    }
   ],
   "source": [
    "tracks_df = pd.read_csv('datasets/tracks_df.csv')\n",
    "podcasts_df = pd.read_csv('datasets/podcasts_df.csv')"
   ]
  },
  {
   "cell_type": "markdown",
   "metadata": {},
   "source": [
    "# Preparing for Data Collection\n",
    "we need 4 things here.\n",
    "1. tracks streaming history\n",
    "2. podcasts streaming history\n",
    "3. list of unique tracks streamed\n",
    "4. ~~list of unique podcasts streamed~~ not really needed actually"
   ]
  },
  {
   "cell_type": "code",
   "execution_count": 26,
   "metadata": {},
   "outputs": [
    {
     "name": "stdout",
     "output_type": "stream",
     "text": [
      "(130209, 21)\n",
      "Index(['ts', 'username', 'platform', 'ms_played', 'conn_country',\n",
      "       'ip_addr_decrypted', 'user_agent_decrypted',\n",
      "       'master_metadata_track_name', 'master_metadata_album_artist_name',\n",
      "       'master_metadata_album_album_name', 'spotify_track_uri', 'episode_name',\n",
      "       'episode_show_name', 'spotify_episode_uri', 'reason_start',\n",
      "       'reason_end', 'shuffle', 'skipped', 'offline', 'offline_timestamp',\n",
      "       'incognito_mode'],\n",
      "      dtype='object')\n"
     ]
    }
   ],
   "source": [
    "print(stream_df.shape)\n",
    "print(stream_df.columns)"
   ]
  },
  {
   "cell_type": "code",
   "execution_count": 27,
   "metadata": {},
   "outputs": [
    {
     "name": "stdout",
     "output_type": "stream",
     "text": [
      "<class 'pandas.core.frame.DataFrame'>\n",
      "Index: 130209 entries, 0 to 2979\n",
      "Data columns (total 21 columns):\n",
      " #   Column                             Non-Null Count   Dtype \n",
      "---  ------                             --------------   ----- \n",
      " 0   ts                                 130209 non-null  object\n",
      " 1   username                           130209 non-null  object\n",
      " 2   platform                           130209 non-null  object\n",
      " 3   ms_played                          130209 non-null  int64 \n",
      " 4   conn_country                       130209 non-null  object\n",
      " 5   ip_addr_decrypted                  109601 non-null  object\n",
      " 6   user_agent_decrypted               109601 non-null  object\n",
      " 7   master_metadata_track_name         129393 non-null  object\n",
      " 8   master_metadata_album_artist_name  129393 non-null  object\n",
      " 9   master_metadata_album_album_name   129393 non-null  object\n",
      " 10  spotify_track_uri                  129393 non-null  object\n",
      " 11  episode_name                       641 non-null     object\n",
      " 12  episode_show_name                  641 non-null     object\n",
      " 13  spotify_episode_uri                641 non-null     object\n",
      " 14  reason_start                       130209 non-null  object\n",
      " 15  reason_end                         109601 non-null  object\n",
      " 16  shuffle                            130209 non-null  bool  \n",
      " 17  skipped                            24014 non-null   object\n",
      " 18  offline                            130209 non-null  bool  \n",
      " 19  offline_timestamp                  130209 non-null  int64 \n",
      " 20  incognito_mode                     130209 non-null  bool  \n",
      "dtypes: bool(3), int64(2), object(16)\n",
      "memory usage: 19.2+ MB\n"
     ]
    }
   ],
   "source": [
    "stream_df.info()"
   ]
  },
  {
   "cell_type": "code",
   "execution_count": 28,
   "metadata": {},
   "outputs": [
    {
     "data": {
      "text/plain": [
       "ts                                   122712\n",
       "username                                  1\n",
       "platform                                 33\n",
       "ms_played                             27030\n",
       "conn_country                              9\n",
       "ip_addr_decrypted                      2750\n",
       "user_agent_decrypted                      6\n",
       "master_metadata_track_name             4783\n",
       "master_metadata_album_artist_name      1646\n",
       "master_metadata_album_album_name       2700\n",
       "spotify_track_uri                      5245\n",
       "episode_name                            297\n",
       "episode_show_name                        31\n",
       "spotify_episode_uri                     297\n",
       "reason_start                              8\n",
       "reason_end                               10\n",
       "shuffle                                   2\n",
       "skipped                                   2\n",
       "offline                                   2\n",
       "offline_timestamp                    128332\n",
       "incognito_mode                            2\n",
       "dtype: int64"
      ]
     },
     "execution_count": 28,
     "metadata": {},
     "output_type": "execute_result"
    }
   ],
   "source": [
    "# number of unique values in each column\n",
    "stream_df.nunique()"
   ]
  },
  {
   "cell_type": "code",
   "execution_count": 29,
   "metadata": {},
   "outputs": [
    {
     "data": {
      "text/plain": [
       "ts                                        0\n",
       "username                                  0\n",
       "platform                                  0\n",
       "ms_played                                 0\n",
       "conn_country                              0\n",
       "ip_addr_decrypted                     20608\n",
       "user_agent_decrypted                  20608\n",
       "master_metadata_track_name              816\n",
       "master_metadata_album_artist_name       816\n",
       "master_metadata_album_album_name        816\n",
       "spotify_track_uri                       816\n",
       "episode_name                         129568\n",
       "episode_show_name                    129568\n",
       "spotify_episode_uri                  129568\n",
       "reason_start                              0\n",
       "reason_end                            20608\n",
       "shuffle                                   0\n",
       "skipped                              106195\n",
       "offline                                   0\n",
       "offline_timestamp                         0\n",
       "incognito_mode                            0\n",
       "dtype: int64"
      ]
     },
     "execution_count": 29,
     "metadata": {},
     "output_type": "execute_result"
    }
   ],
   "source": [
    "stream_df.isna().sum()"
   ]
  },
  {
   "cell_type": "code",
   "execution_count": 30,
   "metadata": {},
   "outputs": [
    {
     "data": {
      "text/plain": [
       "user_agent_decrypted\n",
       "unknown                                                                                                                                                                  109525\n",
       "Mozilla%2F5.0%20(Windows%20NT%2010.0;%20Win64;%20x64)%20AppleWebKit%2F537.36%20(KHTML,%20like%20Gecko)%20Chrome%2F95.0.4638.54%20Safari%2F537.36%20Edg%2F95.0.1020.40        66\n",
       "Mozilla%2F5.0%20(Windows%20NT%2010.0;%20Win64;%20x64;%20rv:84.0)%20Gecko%2F20100101%20Firefox%2F84.0                                                                          6\n",
       "Mozilla%2F5.0%20(Windows%20NT%2010.0;%20Win64;%20x64;%20rv:61.0)%20Gecko%2F20100101%20Firefox%2F61.0                                                                          2\n",
       "Mozilla%2F5.0%20(Windows%20NT%2010.0;%20Win64;%20x64;%20rv:69.0)%20Gecko%2F20100101%20Firefox%2F69.0                                                                          1\n",
       "Mozilla%2F5.0%20(Windows%20NT%2010.0;%20Win64;%20x64;%20rv:83.0)%20Gecko%2F20100101%20Firefox%2F83.0                                                                          1\n",
       "Name: count, dtype: int64"
      ]
     },
     "execution_count": 30,
     "metadata": {},
     "output_type": "execute_result"
    }
   ],
   "source": [
    "stream_df['user_agent_decrypted'].value_counts()"
   ]
  },
  {
   "cell_type": "code",
   "execution_count": 31,
   "metadata": {},
   "outputs": [],
   "source": [
    "# dropping some columns that might cnotain sensitive information or just not useful\n",
    "stream_df.drop(columns=['username', 'ip_addr_decrypted', 'user_agent_decrypted'], inplace=True)"
   ]
  },
  {
   "cell_type": "markdown",
   "metadata": {},
   "source": [
    "there are a huge number of null value of 'spotify_episode_uri', indicating that tracks/songs and podcasts don't share same uri, we need to separate this into its own dataframe (for tracks and podcasts)"
   ]
  },
  {
   "cell_type": "code",
   "execution_count": 32,
   "metadata": {},
   "outputs": [
    {
     "name": "stdout",
     "output_type": "stream",
     "text": [
      "(175, 18)\n",
      "(0, 18)\n"
     ]
    }
   ],
   "source": [
    "# rows with null in both spotify_track_uri and spotify_episode_uri\n",
    "print(stream_df[stream_df['spotify_episode_uri'].isna() & stream_df['spotify_track_uri'].isna()].shape)\n",
    "print(stream_df[stream_df['spotify_episode_uri'].notna() & stream_df['spotify_track_uri'].notna()].shape)"
   ]
  },
  {
   "cell_type": "markdown",
   "metadata": {},
   "source": [
    "so apparently there exists some rows are null on both spotify_episode_uri and spotify_track_uri, so those should be excluded as well"
   ]
  },
  {
   "cell_type": "code",
   "execution_count": 33,
   "metadata": {},
   "outputs": [],
   "source": [
    "# get rows with null values in 'spotify_episode_uri' column and put it into a new dataframe\n",
    "tracks_df = stream_df[stream_df['spotify_track_uri'].notna()]\n",
    "podcasts_df = stream_df[stream_df['spotify_episode_uri'].notna()]"
   ]
  },
  {
   "cell_type": "code",
   "execution_count": 34,
   "metadata": {},
   "outputs": [
    {
     "name": "stdout",
     "output_type": "stream",
     "text": [
      "(129393, 18)\n",
      "(641, 18)\n"
     ]
    }
   ],
   "source": [
    "print(tracks_df.shape)\n",
    "print(podcasts_df.shape)"
   ]
  },
  {
   "cell_type": "code",
   "execution_count": 35,
   "metadata": {},
   "outputs": [],
   "source": [
    "# list of tracks, containing unique values in 'spotify_track_uri' column\n",
    "tracks_uri_list = tracks_df['spotify_track_uri'].unique().tolist()\n",
    "podcasts_uri_list = podcasts_df['spotify_episode_uri'].unique().tolist()"
   ]
  },
  {
   "cell_type": "code",
   "execution_count": 36,
   "metadata": {},
   "outputs": [
    {
     "name": "stdout",
     "output_type": "stream",
     "text": [
      "5245\n",
      "297\n"
     ]
    }
   ],
   "source": [
    "print(len(tracks_uri_list))\n",
    "print(len(podcasts_uri_list))"
   ]
  },
  {
   "cell_type": "code",
   "execution_count": 37,
   "metadata": {},
   "outputs": [],
   "source": [
    "# save tracks_df and podcasts_df into csv\n",
    "tracks_df.to_csv('datasets/tracks_df.csv', index=False)\n",
    "podcasts_df.to_csv('datasets/podcasts_df.csv', index=False)"
   ]
  },
  {
   "cell_type": "markdown",
   "metadata": {},
   "source": [
    "# Data Collection (Spotipy)\n",
    "now we're going to collect the using [Spotipy](https://spotipy.readthedocs.io/en/2.22.1/), it'll require user credentials (client_id and client_secret) which you can get [here](https://developer.spotify.com/dashboard) by registering your app at the dashboard"
   ]
  },
  {
   "cell_type": "code",
   "execution_count": 38,
   "metadata": {},
   "outputs": [],
   "source": [
    "import spotipy\n",
    "from spotipy.oauth2 import SpotifyClientCredentials"
   ]
  },
  {
   "cell_type": "code",
   "execution_count": 72,
   "metadata": {},
   "outputs": [],
   "source": [
    "# Spotify API credentials (client_id and client_secret used will be excluded from the repository)\n",
    "client_id = 'INSERT CLIENT ID HERE'\n",
    "client_secret = 'INSERT CLIENT SECRET HERE'"
   ]
  },
  {
   "cell_type": "code",
   "execution_count": 40,
   "metadata": {},
   "outputs": [],
   "source": [
    "#Authentication - without user\n",
    "client_credentials_manager = SpotifyClientCredentials(client_id=client_id, client_secret=client_secret)\n",
    "sp = spotipy.Spotify(client_credentials_manager = client_credentials_manager)"
   ]
  },
  {
   "cell_type": "markdown",
   "metadata": {},
   "source": [
    "## get track info"
   ]
  },
  {
   "cell_type": "code",
   "execution_count": 41,
   "metadata": {},
   "outputs": [],
   "source": [
    "# since they have the batch request limit of 50, we need to split the list into batches of 50\n",
    "track_info = {}\n",
    "for i in range(0, len(tracks_uri_list), 50):\n",
    "    track_batch = tracks_uri_list[i:i+50]\n",
    "    sapi = sp.tracks(track_batch)\n",
    "    for track in sapi['tracks']:\n",
    "        track_info[track['id']] = {'name':track['name'], 'artistName':track['artists'][0]['name'], 'release_date':track['album']['release_date'], 'popularity':track['popularity'], 'duration_ms':track['duration_ms']}\n",
    "    time.sleep(1)\n",
    "    "
   ]
  },
  {
   "cell_type": "code",
   "execution_count": 42,
   "metadata": {},
   "outputs": [
    {
     "data": {
      "text/plain": [
       "5245"
      ]
     },
     "execution_count": 42,
     "metadata": {},
     "output_type": "execute_result"
    }
   ],
   "source": [
    "len(track_info)"
   ]
  },
  {
   "cell_type": "code",
   "execution_count": 43,
   "metadata": {},
   "outputs": [
    {
     "data": {
      "text/plain": [
       "[('6tAM5c0bJOwRqGAEgiNMpI',\n",
       "  {'name': 'Solace Album Mix',\n",
       "   'artistName': 'Monstercat',\n",
       "   'release_date': '2012-06-06',\n",
       "   'popularity': 0,\n",
       "   'duration_ms': 3538579}),\n",
       " ('4mjgNE8R31AzxWfPNGtVMf',\n",
       "  {'name': 'Best of 2015 (Album Mix)',\n",
       "   'artistName': 'Monstercat',\n",
       "   'release_date': '2016-01-22',\n",
       "   'popularity': 0,\n",
       "   'duration_ms': 9158194}),\n",
       " ('5Q0P0cX3e42PgKd8LLS3ms',\n",
       "  {'name': 'Horizon Album Mix',\n",
       "   'artistName': 'Monstercat',\n",
       "   'release_date': '2014-08-06',\n",
       "   'popularity': 0,\n",
       "   'duration_ms': 3623121}),\n",
       " ('6jvMmRtSzoEibQGrQkSISQ',\n",
       "  {'name': 'Monstercat Best of 2012',\n",
       "   'artistName': 'Monstercat',\n",
       "   'release_date': '2013-02-04',\n",
       "   'popularity': 0,\n",
       "   'duration_ms': 6348017}),\n",
       " ('1KzLyjpjIRHuuj4iX8QsC2',\n",
       "  {'name': 'Monstercat Podcast EP. 100',\n",
       "   'artistName': 'Monstercat',\n",
       "   'release_date': '2016-04-05',\n",
       "   'popularity': 0,\n",
       "   'duration_ms': 9744610})]"
      ]
     },
     "execution_count": 43,
     "metadata": {},
     "output_type": "execute_result"
    }
   ],
   "source": [
    "list(track_info.items())[:5]"
   ]
  },
  {
   "cell_type": "code",
   "execution_count": 44,
   "metadata": {},
   "outputs": [],
   "source": [
    "track_info_df = pd.DataFrame.from_dict(track_info, orient='index')"
   ]
  },
  {
   "cell_type": "code",
   "execution_count": 45,
   "metadata": {},
   "outputs": [],
   "source": [
    "track_info_df.to_csv('datasets/tracks_info_df.csv')"
   ]
  },
  {
   "cell_type": "markdown",
   "metadata": {},
   "source": [
    "## get track features"
   ]
  },
  {
   "cell_type": "code",
   "execution_count": 46,
   "metadata": {},
   "outputs": [],
   "source": [
    "track_features = {}\n",
    "for i in range(0, len(tracks_uri_list), 50):\n",
    "    track_batch = tracks_uri_list[i:i+50]\n",
    "    sapi = sp.audio_features(track_batch)\n",
    "    for track in sapi:\n",
    "        if track is not None:\n",
    "            track_features[track['id']] = {'danceability':track['danceability'], 'energy':track['energy'], 'key':track['key'], 'loudness':track['loudness'], 'mode':track['mode'], 'speechiness':track['speechiness'], 'acousticness':track['acousticness'], 'instrumentalness':track['instrumentalness'], 'liveness':track['liveness'], 'valence':track['valence'], 'tempo':track['tempo'], 'time_signature':track['time_signature']}\n",
    "        # we'll skip it if the track has no audio features data\n",
    "    time.sleep(1)"
   ]
  },
  {
   "cell_type": "code",
   "execution_count": 47,
   "metadata": {},
   "outputs": [
    {
     "data": {
      "text/plain": [
       "5238"
      ]
     },
     "execution_count": 47,
     "metadata": {},
     "output_type": "execute_result"
    }
   ],
   "source": [
    "len(track_features)"
   ]
  },
  {
   "cell_type": "code",
   "execution_count": 48,
   "metadata": {},
   "outputs": [
    {
     "data": {
      "text/plain": [
       "[('6tAM5c0bJOwRqGAEgiNMpI',\n",
       "  {'danceability': 0.446,\n",
       "   'energy': 0.823,\n",
       "   'key': 11,\n",
       "   'loudness': -5.279,\n",
       "   'mode': 0,\n",
       "   'speechiness': 0.0859,\n",
       "   'acousticness': 0.00256,\n",
       "   'instrumentalness': 0.0748,\n",
       "   'liveness': 0.117,\n",
       "   'valence': 0.263,\n",
       "   'tempo': 128.198,\n",
       "   'time_signature': 4}),\n",
       " ('5Q0P0cX3e42PgKd8LLS3ms',\n",
       "  {'danceability': 0.402,\n",
       "   'energy': 0.856,\n",
       "   'key': 1,\n",
       "   'loudness': -4.256,\n",
       "   'mode': 1,\n",
       "   'speechiness': 0.0659,\n",
       "   'acousticness': 0.00504,\n",
       "   'instrumentalness': 0.0164,\n",
       "   'liveness': 0.253,\n",
       "   'valence': 0.247,\n",
       "   'tempo': 140.028,\n",
       "   'time_signature': 4}),\n",
       " ('4VrdksXJVhAOLW49qV0VTQ',\n",
       "  {'danceability': 0.426,\n",
       "   'energy': 0.915,\n",
       "   'key': 11,\n",
       "   'loudness': -3.881,\n",
       "   'mode': 0,\n",
       "   'speechiness': 0.143,\n",
       "   'acousticness': 0.000899,\n",
       "   'instrumentalness': 0.108,\n",
       "   'liveness': 0.495,\n",
       "   'valence': 0.271,\n",
       "   'tempo': 130.405,\n",
       "   'time_signature': 4}),\n",
       " ('0ng42pTjKgskmobNzhnEUa',\n",
       "  {'danceability': 0.434,\n",
       "   'energy': 0.839,\n",
       "   'key': 8,\n",
       "   'loudness': -4.493,\n",
       "   'mode': 1,\n",
       "   'speechiness': 0.119,\n",
       "   'acousticness': 0.0284,\n",
       "   'instrumentalness': 0.00103,\n",
       "   'liveness': 0.605,\n",
       "   'valence': 0.4,\n",
       "   'tempo': 127.67,\n",
       "   'time_signature': 4}),\n",
       " ('1ip1SN4tWX0qMgE1KgIF52',\n",
       "  {'danceability': 0.457,\n",
       "   'energy': 0.911,\n",
       "   'key': 1,\n",
       "   'loudness': -3.315,\n",
       "   'mode': 1,\n",
       "   'speechiness': 0.0498,\n",
       "   'acousticness': 0.00339,\n",
       "   'instrumentalness': 0.592,\n",
       "   'liveness': 0.0752,\n",
       "   'valence': 0.33,\n",
       "   'tempo': 175.002,\n",
       "   'time_signature': 4})]"
      ]
     },
     "execution_count": 48,
     "metadata": {},
     "output_type": "execute_result"
    }
   ],
   "source": [
    "# get first 5 items in the dictionary\n",
    "list(track_features.items())[:5]"
   ]
  },
  {
   "cell_type": "code",
   "execution_count": 49,
   "metadata": {},
   "outputs": [],
   "source": [
    "track_features_df = pd.DataFrame.from_dict(track_features, orient='index')\n",
    "track_features_df.to_csv('datasets/tracks_features_df.csv')"
   ]
  },
  {
   "cell_type": "markdown",
   "metadata": {},
   "source": [
    "# Tracks Streaming Data"
   ]
  },
  {
   "cell_type": "markdown",
   "metadata": {},
   "source": [
    "## Data Exploration / EDA"
   ]
  },
  {
   "cell_type": "code",
   "execution_count": 201,
   "metadata": {},
   "outputs": [
    {
     "name": "stderr",
     "output_type": "stream",
     "text": [
      "C:\\Users\\Kim\\AppData\\Local\\Temp\\ipykernel_8132\\4189168743.py:2: DtypeWarning: Columns (14) have mixed types. Specify dtype option on import or set low_memory=False.\n",
      "  tracks_df = pd.read_csv('datasets/tracks_df.csv')\n"
     ]
    },
    {
     "data": {
      "text/html": [
       "<div>\n",
       "<style scoped>\n",
       "    .dataframe tbody tr th:only-of-type {\n",
       "        vertical-align: middle;\n",
       "    }\n",
       "\n",
       "    .dataframe tbody tr th {\n",
       "        vertical-align: top;\n",
       "    }\n",
       "\n",
       "    .dataframe thead th {\n",
       "        text-align: right;\n",
       "    }\n",
       "</style>\n",
       "<table border=\"1\" class=\"dataframe\">\n",
       "  <thead>\n",
       "    <tr style=\"text-align: right;\">\n",
       "      <th></th>\n",
       "      <th>ts</th>\n",
       "      <th>platform</th>\n",
       "      <th>ms_played</th>\n",
       "      <th>conn_country</th>\n",
       "      <th>master_metadata_track_name</th>\n",
       "      <th>master_metadata_album_artist_name</th>\n",
       "      <th>master_metadata_album_album_name</th>\n",
       "      <th>spotify_track_uri</th>\n",
       "      <th>episode_name</th>\n",
       "      <th>episode_show_name</th>\n",
       "      <th>spotify_episode_uri</th>\n",
       "      <th>reason_start</th>\n",
       "      <th>reason_end</th>\n",
       "      <th>shuffle</th>\n",
       "      <th>skipped</th>\n",
       "      <th>offline</th>\n",
       "      <th>offline_timestamp</th>\n",
       "      <th>incognito_mode</th>\n",
       "    </tr>\n",
       "  </thead>\n",
       "  <tbody>\n",
       "    <tr>\n",
       "      <th>111495</th>\n",
       "      <td>2023-02-08T07:21:00Z</td>\n",
       "      <td>android</td>\n",
       "      <td>26504</td>\n",
       "      <td>ID</td>\n",
       "      <td>oh GOD</td>\n",
       "      <td>Orla Gartland</td>\n",
       "      <td>Freckle Season</td>\n",
       "      <td>spotify:track:78x4xRisFJS0eniXD3rIhk</td>\n",
       "      <td>NaN</td>\n",
       "      <td>NaN</td>\n",
       "      <td>NaN</td>\n",
       "      <td>trackdone</td>\n",
       "      <td>logout</td>\n",
       "      <td>True</td>\n",
       "      <td>False</td>\n",
       "      <td>False</td>\n",
       "      <td>1675839348</td>\n",
       "      <td>False</td>\n",
       "    </tr>\n",
       "    <tr>\n",
       "      <th>117418</th>\n",
       "      <td>2023-05-20T07:18:54Z</td>\n",
       "      <td>windows</td>\n",
       "      <td>248498</td>\n",
       "      <td>JP</td>\n",
       "      <td>Harder, Better, Faster, Stronger</td>\n",
       "      <td>Pomplamoose</td>\n",
       "      <td>Best of 2019</td>\n",
       "      <td>spotify:track:1s2LrYFnrFdG2LCtyvwBmv</td>\n",
       "      <td>NaN</td>\n",
       "      <td>NaN</td>\n",
       "      <td>NaN</td>\n",
       "      <td>clickrow</td>\n",
       "      <td>trackdone</td>\n",
       "      <td>True</td>\n",
       "      <td>False</td>\n",
       "      <td>False</td>\n",
       "      <td>1684566886</td>\n",
       "      <td>False</td>\n",
       "    </tr>\n",
       "    <tr>\n",
       "      <th>89222</th>\n",
       "      <td>2021-12-25T03:55:16Z</td>\n",
       "      <td>Android OS 11 API 30 (OnePlus, HD1910)</td>\n",
       "      <td>230993</td>\n",
       "      <td>JP</td>\n",
       "      <td>Take Care</td>\n",
       "      <td>Daniela Andrade</td>\n",
       "      <td>Covers, Vol. 1</td>\n",
       "      <td>spotify:track:15321C1s96D4A8D8QOqWwu</td>\n",
       "      <td>NaN</td>\n",
       "      <td>NaN</td>\n",
       "      <td>NaN</td>\n",
       "      <td>trackdone</td>\n",
       "      <td>trackdone</td>\n",
       "      <td>False</td>\n",
       "      <td>NaN</td>\n",
       "      <td>False</td>\n",
       "      <td>1640404283653</td>\n",
       "      <td>False</td>\n",
       "    </tr>\n",
       "    <tr>\n",
       "      <th>66007</th>\n",
       "      <td>2020-09-14T02:25:34Z</td>\n",
       "      <td>Windows 10 (10.0.18363; x64)</td>\n",
       "      <td>70412</td>\n",
       "      <td>JP</td>\n",
       "      <td>Fast Slow Disco</td>\n",
       "      <td>St. Vincent</td>\n",
       "      <td>Fast Slow Disco</td>\n",
       "      <td>spotify:track:6Xk5AaN4n4SnW71473GI7A</td>\n",
       "      <td>NaN</td>\n",
       "      <td>NaN</td>\n",
       "      <td>NaN</td>\n",
       "      <td>trackdone</td>\n",
       "      <td>remote</td>\n",
       "      <td>True</td>\n",
       "      <td>NaN</td>\n",
       "      <td>False</td>\n",
       "      <td>1600049763013</td>\n",
       "      <td>False</td>\n",
       "    </tr>\n",
       "    <tr>\n",
       "      <th>81498</th>\n",
       "      <td>2021-08-23T04:17:00Z</td>\n",
       "      <td>Windows 10 (10.0.18363; x64)</td>\n",
       "      <td>158699</td>\n",
       "      <td>JP</td>\n",
       "      <td>Wisteria Arbour</td>\n",
       "      <td>Raimu</td>\n",
       "      <td>Sons of the Dew</td>\n",
       "      <td>spotify:track:7cD91rFWaaQGrnKzHoJ2vi</td>\n",
       "      <td>NaN</td>\n",
       "      <td>NaN</td>\n",
       "      <td>NaN</td>\n",
       "      <td>trackdone</td>\n",
       "      <td>trackdone</td>\n",
       "      <td>False</td>\n",
       "      <td>NaN</td>\n",
       "      <td>False</td>\n",
       "      <td>1629692058804</td>\n",
       "      <td>False</td>\n",
       "    </tr>\n",
       "  </tbody>\n",
       "</table>\n",
       "</div>"
      ],
      "text/plain": [
       "                          ts                                platform  \\\n",
       "111495  2023-02-08T07:21:00Z                                 android   \n",
       "117418  2023-05-20T07:18:54Z                                 windows   \n",
       "89222   2021-12-25T03:55:16Z  Android OS 11 API 30 (OnePlus, HD1910)   \n",
       "66007   2020-09-14T02:25:34Z            Windows 10 (10.0.18363; x64)   \n",
       "81498   2021-08-23T04:17:00Z            Windows 10 (10.0.18363; x64)   \n",
       "\n",
       "        ms_played conn_country        master_metadata_track_name  \\\n",
       "111495      26504           ID                            oh GOD   \n",
       "117418     248498           JP  Harder, Better, Faster, Stronger   \n",
       "89222      230993           JP                         Take Care   \n",
       "66007       70412           JP                   Fast Slow Disco   \n",
       "81498      158699           JP                   Wisteria Arbour   \n",
       "\n",
       "       master_metadata_album_artist_name master_metadata_album_album_name  \\\n",
       "111495                     Orla Gartland                   Freckle Season   \n",
       "117418                       Pomplamoose                     Best of 2019   \n",
       "89222                    Daniela Andrade                   Covers, Vol. 1   \n",
       "66007                        St. Vincent                  Fast Slow Disco   \n",
       "81498                              Raimu                  Sons of the Dew   \n",
       "\n",
       "                           spotify_track_uri  episode_name  episode_show_name  \\\n",
       "111495  spotify:track:78x4xRisFJS0eniXD3rIhk           NaN                NaN   \n",
       "117418  spotify:track:1s2LrYFnrFdG2LCtyvwBmv           NaN                NaN   \n",
       "89222   spotify:track:15321C1s96D4A8D8QOqWwu           NaN                NaN   \n",
       "66007   spotify:track:6Xk5AaN4n4SnW71473GI7A           NaN                NaN   \n",
       "81498   spotify:track:7cD91rFWaaQGrnKzHoJ2vi           NaN                NaN   \n",
       "\n",
       "        spotify_episode_uri reason_start reason_end  shuffle skipped  offline  \\\n",
       "111495                  NaN    trackdone     logout     True   False    False   \n",
       "117418                  NaN     clickrow  trackdone     True   False    False   \n",
       "89222                   NaN    trackdone  trackdone    False     NaN    False   \n",
       "66007                   NaN    trackdone     remote     True     NaN    False   \n",
       "81498                   NaN    trackdone  trackdone    False     NaN    False   \n",
       "\n",
       "        offline_timestamp  incognito_mode  \n",
       "111495         1675839348           False  \n",
       "117418         1684566886           False  \n",
       "89222       1640404283653           False  \n",
       "66007       1600049763013           False  \n",
       "81498       1629692058804           False  "
      ]
     },
     "execution_count": 201,
     "metadata": {},
     "output_type": "execute_result"
    }
   ],
   "source": [
    "# let's load the tracks_df again\n",
    "tracks_df = pd.read_csv('datasets/tracks_df.csv')\n",
    "tracks_df.sample(5)"
   ]
  },
  {
   "cell_type": "code",
   "execution_count": 202,
   "metadata": {},
   "outputs": [
    {
     "name": "stdout",
     "output_type": "stream",
     "text": [
      "(129393, 18)\n",
      "Index(['ts', 'platform', 'ms_played', 'conn_country',\n",
      "       'master_metadata_track_name', 'master_metadata_album_artist_name',\n",
      "       'master_metadata_album_album_name', 'spotify_track_uri', 'episode_name',\n",
      "       'episode_show_name', 'spotify_episode_uri', 'reason_start',\n",
      "       'reason_end', 'shuffle', 'skipped', 'offline', 'offline_timestamp',\n",
      "       'incognito_mode'],\n",
      "      dtype='object')\n"
     ]
    }
   ],
   "source": [
    "print(tracks_df.shape)\n",
    "print(tracks_df.columns)"
   ]
  },
  {
   "cell_type": "code",
   "execution_count": 203,
   "metadata": {},
   "outputs": [
    {
     "name": "stdout",
     "output_type": "stream",
     "text": [
      "<class 'pandas.core.frame.DataFrame'>\n",
      "RangeIndex: 129393 entries, 0 to 129392\n",
      "Data columns (total 18 columns):\n",
      " #   Column                             Non-Null Count   Dtype  \n",
      "---  ------                             --------------   -----  \n",
      " 0   ts                                 129393 non-null  object \n",
      " 1   platform                           129393 non-null  object \n",
      " 2   ms_played                          129393 non-null  int64  \n",
      " 3   conn_country                       129393 non-null  object \n",
      " 4   master_metadata_track_name         129393 non-null  object \n",
      " 5   master_metadata_album_artist_name  129393 non-null  object \n",
      " 6   master_metadata_album_album_name   129393 non-null  object \n",
      " 7   spotify_track_uri                  129393 non-null  object \n",
      " 8   episode_name                       0 non-null       float64\n",
      " 9   episode_show_name                  0 non-null       float64\n",
      " 10  spotify_episode_uri                0 non-null       float64\n",
      " 11  reason_start                       129393 non-null  object \n",
      " 12  reason_end                         108855 non-null  object \n",
      " 13  shuffle                            129393 non-null  bool   \n",
      " 14  skipped                            23972 non-null   object \n",
      " 15  offline                            129393 non-null  bool   \n",
      " 16  offline_timestamp                  129393 non-null  int64  \n",
      " 17  incognito_mode                     129393 non-null  bool   \n",
      "dtypes: bool(3), float64(3), int64(2), object(10)\n",
      "memory usage: 15.2+ MB\n"
     ]
    }
   ],
   "source": [
    "# let's take a look at the tracks_df again\n",
    "tracks_df.info()"
   ]
  },
  {
   "cell_type": "markdown",
   "metadata": {},
   "source": [
    "Columns description\n",
    "- ts : timestamp played\n",
    "- ms_played : duration the track is played (ms)\n",
    "- conn_country : country where the track was played\n",
    "- master_metadata_track_name / artist_name / album_name : self explained\n",
    "- spotify_track_uri : unique identifier for each track\n",
    "- episode_name, episode_show_name, spotify_episode_uri : columns used for podcasts-related rows, might need to remove this later\n",
    "- reason_start / end : a value telling why track is played\n",
    "- shuffle / skipped / offline / incognito_mode : value whether the track if shuffle mode is used when the track is played, track skipped or when the track is played in offline mode or incognito_mode\n",
    "- offline_timestamp : timestamp when the offline mode is used"
   ]
  },
  {
   "cell_type": "code",
   "execution_count": 204,
   "metadata": {},
   "outputs": [
    {
     "data": {
      "text/plain": [
       "ts                                   121914\n",
       "platform                                 32\n",
       "ms_played                             26468\n",
       "conn_country                              9\n",
       "master_metadata_track_name             4783\n",
       "master_metadata_album_artist_name      1646\n",
       "master_metadata_album_album_name       2700\n",
       "spotify_track_uri                      5245\n",
       "episode_name                              0\n",
       "episode_show_name                         0\n",
       "spotify_episode_uri                       0\n",
       "reason_start                              8\n",
       "reason_end                               10\n",
       "shuffle                                   2\n",
       "skipped                                   4\n",
       "offline                                   2\n",
       "offline_timestamp                    127519\n",
       "incognito_mode                            2\n",
       "dtype: int64"
      ]
     },
     "execution_count": 204,
     "metadata": {},
     "output_type": "execute_result"
    }
   ],
   "source": [
    "# checking the number of unique from each column\n",
    "tracks_df.nunique()"
   ]
  },
  {
   "cell_type": "code",
   "execution_count": 205,
   "metadata": {},
   "outputs": [
    {
     "data": {
      "text/html": [
       "<div>\n",
       "<style scoped>\n",
       "    .dataframe tbody tr th:only-of-type {\n",
       "        vertical-align: middle;\n",
       "    }\n",
       "\n",
       "    .dataframe tbody tr th {\n",
       "        vertical-align: top;\n",
       "    }\n",
       "\n",
       "    .dataframe thead th {\n",
       "        text-align: right;\n",
       "    }\n",
       "</style>\n",
       "<table border=\"1\" class=\"dataframe\">\n",
       "  <thead>\n",
       "    <tr style=\"text-align: right;\">\n",
       "      <th></th>\n",
       "      <th>ts</th>\n",
       "      <th>platform</th>\n",
       "      <th>conn_country</th>\n",
       "      <th>master_metadata_track_name</th>\n",
       "      <th>master_metadata_album_artist_name</th>\n",
       "      <th>master_metadata_album_album_name</th>\n",
       "      <th>spotify_track_uri</th>\n",
       "      <th>reason_start</th>\n",
       "      <th>reason_end</th>\n",
       "      <th>skipped</th>\n",
       "    </tr>\n",
       "  </thead>\n",
       "  <tbody>\n",
       "    <tr>\n",
       "      <th>count</th>\n",
       "      <td>129393</td>\n",
       "      <td>129393</td>\n",
       "      <td>129393</td>\n",
       "      <td>129393</td>\n",
       "      <td>129393</td>\n",
       "      <td>129393</td>\n",
       "      <td>129393</td>\n",
       "      <td>129393</td>\n",
       "      <td>108855</td>\n",
       "      <td>23972</td>\n",
       "    </tr>\n",
       "    <tr>\n",
       "      <th>unique</th>\n",
       "      <td>121914</td>\n",
       "      <td>32</td>\n",
       "      <td>9</td>\n",
       "      <td>4783</td>\n",
       "      <td>1646</td>\n",
       "      <td>2700</td>\n",
       "      <td>5245</td>\n",
       "      <td>8</td>\n",
       "      <td>10</td>\n",
       "      <td>4</td>\n",
       "    </tr>\n",
       "    <tr>\n",
       "      <th>top</th>\n",
       "      <td>2019-06-28T06:57:01Z</td>\n",
       "      <td>Android OS 11 API 30 (OnePlus, HD1910)</td>\n",
       "      <td>JP</td>\n",
       "      <td>Interdimensional Portal Leading to a Cute Plac...</td>\n",
       "      <td>In Love With a Ghost</td>\n",
       "      <td>Church Of Scars</td>\n",
       "      <td>spotify:track:1HW1arhhmKY3jI7QyARvsf</td>\n",
       "      <td>trackdone</td>\n",
       "      <td>trackdone</td>\n",
       "      <td>False</td>\n",
       "    </tr>\n",
       "    <tr>\n",
       "      <th>freq</th>\n",
       "      <td>208</td>\n",
       "      <td>21563</td>\n",
       "      <td>103209</td>\n",
       "      <td>762</td>\n",
       "      <td>11074</td>\n",
       "      <td>3173</td>\n",
       "      <td>762</td>\n",
       "      <td>96588</td>\n",
       "      <td>82153</td>\n",
       "      <td>17475</td>\n",
       "    </tr>\n",
       "  </tbody>\n",
       "</table>\n",
       "</div>"
      ],
      "text/plain": [
       "                          ts                                platform  \\\n",
       "count                 129393                                  129393   \n",
       "unique                121914                                      32   \n",
       "top     2019-06-28T06:57:01Z  Android OS 11 API 30 (OnePlus, HD1910)   \n",
       "freq                     208                                   21563   \n",
       "\n",
       "       conn_country                         master_metadata_track_name  \\\n",
       "count        129393                                             129393   \n",
       "unique            9                                               4783   \n",
       "top              JP  Interdimensional Portal Leading to a Cute Plac...   \n",
       "freq         103209                                                762   \n",
       "\n",
       "       master_metadata_album_artist_name master_metadata_album_album_name  \\\n",
       "count                             129393                           129393   \n",
       "unique                              1646                             2700   \n",
       "top                 In Love With a Ghost                  Church Of Scars   \n",
       "freq                               11074                             3173   \n",
       "\n",
       "                           spotify_track_uri reason_start reason_end skipped  \n",
       "count                                 129393       129393     108855   23972  \n",
       "unique                                  5245            8         10       4  \n",
       "top     spotify:track:1HW1arhhmKY3jI7QyARvsf    trackdone  trackdone   False  \n",
       "freq                                     762        96588      82153   17475  "
      ]
     },
     "execution_count": 205,
     "metadata": {},
     "output_type": "execute_result"
    }
   ],
   "source": [
    "# descriptive analysis for categorical data\n",
    "tracks_df.describe(include='object')"
   ]
  },
  {
   "cell_type": "code",
   "execution_count": 206,
   "metadata": {},
   "outputs": [
    {
     "data": {
      "text/html": [
       "<div>\n",
       "<style scoped>\n",
       "    .dataframe tbody tr th:only-of-type {\n",
       "        vertical-align: middle;\n",
       "    }\n",
       "\n",
       "    .dataframe tbody tr th {\n",
       "        vertical-align: top;\n",
       "    }\n",
       "\n",
       "    .dataframe thead th {\n",
       "        text-align: right;\n",
       "    }\n",
       "</style>\n",
       "<table border=\"1\" class=\"dataframe\">\n",
       "  <thead>\n",
       "    <tr style=\"text-align: right;\">\n",
       "      <th></th>\n",
       "      <th>ms_played</th>\n",
       "      <th>episode_name</th>\n",
       "      <th>episode_show_name</th>\n",
       "      <th>spotify_episode_uri</th>\n",
       "      <th>offline_timestamp</th>\n",
       "    </tr>\n",
       "  </thead>\n",
       "  <tbody>\n",
       "    <tr>\n",
       "      <th>count</th>\n",
       "      <td>1.293930e+05</td>\n",
       "      <td>0.0</td>\n",
       "      <td>0.0</td>\n",
       "      <td>0.0</td>\n",
       "      <td>1.293930e+05</td>\n",
       "    </tr>\n",
       "    <tr>\n",
       "      <th>mean</th>\n",
       "      <td>1.569280e+05</td>\n",
       "      <td>NaN</td>\n",
       "      <td>NaN</td>\n",
       "      <td>NaN</td>\n",
       "      <td>1.268591e+12</td>\n",
       "    </tr>\n",
       "    <tr>\n",
       "      <th>std</th>\n",
       "      <td>9.212008e+04</td>\n",
       "      <td>NaN</td>\n",
       "      <td>NaN</td>\n",
       "      <td>NaN</td>\n",
       "      <td>6.274175e+11</td>\n",
       "    </tr>\n",
       "    <tr>\n",
       "      <th>min</th>\n",
       "      <td>0.000000e+00</td>\n",
       "      <td>NaN</td>\n",
       "      <td>NaN</td>\n",
       "      <td>NaN</td>\n",
       "      <td>0.000000e+00</td>\n",
       "    </tr>\n",
       "    <tr>\n",
       "      <th>25%</th>\n",
       "      <td>9.120000e+04</td>\n",
       "      <td>NaN</td>\n",
       "      <td>NaN</td>\n",
       "      <td>NaN</td>\n",
       "      <td>1.498709e+12</td>\n",
       "    </tr>\n",
       "    <tr>\n",
       "      <th>50%</th>\n",
       "      <td>1.829730e+05</td>\n",
       "      <td>NaN</td>\n",
       "      <td>NaN</td>\n",
       "      <td>NaN</td>\n",
       "      <td>1.551874e+12</td>\n",
       "    </tr>\n",
       "    <tr>\n",
       "      <th>75%</th>\n",
       "      <td>2.162130e+05</td>\n",
       "      <td>NaN</td>\n",
       "      <td>NaN</td>\n",
       "      <td>NaN</td>\n",
       "      <td>1.610864e+12</td>\n",
       "    </tr>\n",
       "    <tr>\n",
       "      <th>max</th>\n",
       "      <td>1.082813e+06</td>\n",
       "      <td>NaN</td>\n",
       "      <td>NaN</td>\n",
       "      <td>NaN</td>\n",
       "      <td>1.665763e+12</td>\n",
       "    </tr>\n",
       "  </tbody>\n",
       "</table>\n",
       "</div>"
      ],
      "text/plain": [
       "          ms_played  episode_name  episode_show_name  spotify_episode_uri  \\\n",
       "count  1.293930e+05           0.0                0.0                  0.0   \n",
       "mean   1.569280e+05           NaN                NaN                  NaN   \n",
       "std    9.212008e+04           NaN                NaN                  NaN   \n",
       "min    0.000000e+00           NaN                NaN                  NaN   \n",
       "25%    9.120000e+04           NaN                NaN                  NaN   \n",
       "50%    1.829730e+05           NaN                NaN                  NaN   \n",
       "75%    2.162130e+05           NaN                NaN                  NaN   \n",
       "max    1.082813e+06           NaN                NaN                  NaN   \n",
       "\n",
       "       offline_timestamp  \n",
       "count       1.293930e+05  \n",
       "mean        1.268591e+12  \n",
       "std         6.274175e+11  \n",
       "min         0.000000e+00  \n",
       "25%         1.498709e+12  \n",
       "50%         1.551874e+12  \n",
       "75%         1.610864e+12  \n",
       "max         1.665763e+12  "
      ]
     },
     "execution_count": 206,
     "metadata": {},
     "output_type": "execute_result"
    }
   ],
   "source": [
    "# descriptive analysis for numerical data\n",
    "tracks_df.describe()"
   ]
  },
  {
   "cell_type": "code",
   "execution_count": 207,
   "metadata": {},
   "outputs": [
    {
     "data": {
      "text/plain": [
       "<Axes: xlabel='ms_played', ylabel='Count'>"
      ]
     },
     "execution_count": 207,
     "metadata": {},
     "output_type": "execute_result"
    },
    {
     "data": {
      "image/png": "[encoded data removed]",
      "text/plain": [
       "<Figure size 640x480 with 1 Axes>"
      ]
     },
     "metadata": {},
     "output_type": "display_data"
    }
   ],
   "source": [
    "# histogram for ms_played rounded to nearest 1000 (in seconds) to see the distribution\n",
    "sns.histplot(tracks_df['ms_played'].round(-3), kde = True, bins=100)"
   ]
  },
  {
   "cell_type": "code",
   "execution_count": 208,
   "metadata": {},
   "outputs": [
    {
     "data": {
      "text/html": [
       "<div>\n",
       "<style scoped>\n",
       "    .dataframe tbody tr th:only-of-type {\n",
       "        vertical-align: middle;\n",
       "    }\n",
       "\n",
       "    .dataframe tbody tr th {\n",
       "        vertical-align: top;\n",
       "    }\n",
       "\n",
       "    .dataframe thead th {\n",
       "        text-align: right;\n",
       "    }\n",
       "</style>\n",
       "<table border=\"1\" class=\"dataframe\">\n",
       "  <thead>\n",
       "    <tr style=\"text-align: right;\">\n",
       "      <th></th>\n",
       "      <th>ts</th>\n",
       "      <th>platform</th>\n",
       "      <th>ms_played</th>\n",
       "      <th>conn_country</th>\n",
       "      <th>master_metadata_track_name</th>\n",
       "      <th>master_metadata_album_artist_name</th>\n",
       "      <th>master_metadata_album_album_name</th>\n",
       "      <th>spotify_track_uri</th>\n",
       "      <th>episode_name</th>\n",
       "      <th>episode_show_name</th>\n",
       "      <th>spotify_episode_uri</th>\n",
       "      <th>reason_start</th>\n",
       "      <th>reason_end</th>\n",
       "      <th>shuffle</th>\n",
       "      <th>skipped</th>\n",
       "      <th>offline</th>\n",
       "      <th>offline_timestamp</th>\n",
       "      <th>incognito_mode</th>\n",
       "    </tr>\n",
       "  </thead>\n",
       "  <tbody>\n",
       "    <tr>\n",
       "      <th>40627</th>\n",
       "      <td>2019-03-05T05:57:19Z</td>\n",
       "      <td>Android OS 9 API 28 (OnePlus, ONEPLUS A5010)</td>\n",
       "      <td>0</td>\n",
       "      <td>JP</td>\n",
       "      <td>I'm So</td>\n",
       "      <td>Andrew Applepie</td>\n",
       "      <td>Andrew Applepie</td>\n",
       "      <td>spotify:track:6gQI4RLH0RLwNMyyz8JIQ3</td>\n",
       "      <td>NaN</td>\n",
       "      <td>NaN</td>\n",
       "      <td>NaN</td>\n",
       "      <td>backbtn</td>\n",
       "      <td>backbtn</td>\n",
       "      <td>False</td>\n",
       "      <td>NaN</td>\n",
       "      <td>False</td>\n",
       "      <td>1551765435673</td>\n",
       "      <td>False</td>\n",
       "    </tr>\n",
       "    <tr>\n",
       "      <th>40105</th>\n",
       "      <td>2019-02-24T10:42:29Z</td>\n",
       "      <td>Android OS 9 API 28 (OnePlus, ONEPLUS A5010)</td>\n",
       "      <td>0</td>\n",
       "      <td>JP</td>\n",
       "      <td>Friends</td>\n",
       "      <td>Hyper Potions</td>\n",
       "      <td>Friends</td>\n",
       "      <td>spotify:track:1HlumBvclGhCA2PwRlrFP5</td>\n",
       "      <td>NaN</td>\n",
       "      <td>NaN</td>\n",
       "      <td>NaN</td>\n",
       "      <td>backbtn</td>\n",
       "      <td>backbtn</td>\n",
       "      <td>True</td>\n",
       "      <td>NaN</td>\n",
       "      <td>False</td>\n",
       "      <td>1551004948220</td>\n",
       "      <td>False</td>\n",
       "    </tr>\n",
       "    <tr>\n",
       "      <th>24106</th>\n",
       "      <td>2018-06-09T08:32:12Z</td>\n",
       "      <td>Android OS 8.1.0 API 27 (OnePlus, ONEPLUS A5010)</td>\n",
       "      <td>0</td>\n",
       "      <td>JP</td>\n",
       "      <td>The Fox (What Does the Fox Say?)</td>\n",
       "      <td>Ylvis</td>\n",
       "      <td>The Fox (What Does the Fox Say?)</td>\n",
       "      <td>spotify:track:5HOpkTTVcmZHnthgyxrIL8</td>\n",
       "      <td>NaN</td>\n",
       "      <td>NaN</td>\n",
       "      <td>NaN</td>\n",
       "      <td>backbtn</td>\n",
       "      <td>backbtn</td>\n",
       "      <td>False</td>\n",
       "      <td>NaN</td>\n",
       "      <td>False</td>\n",
       "      <td>1528533129097</td>\n",
       "      <td>False</td>\n",
       "    </tr>\n",
       "    <tr>\n",
       "      <th>46589</th>\n",
       "      <td>2019-06-28T06:57:02Z</td>\n",
       "      <td>Android OS 9 API 28 (OnePlus, ONEPLUS A5010)</td>\n",
       "      <td>0</td>\n",
       "      <td>JP</td>\n",
       "      <td>Elephant Parade - From \"Eternal Sunshine of th...</td>\n",
       "      <td>Jon Brion</td>\n",
       "      <td>Eternal Sunshine Of The Spotless Mind</td>\n",
       "      <td>spotify:track:2b40pJq5O9M2SPFwFrblqC</td>\n",
       "      <td>NaN</td>\n",
       "      <td>NaN</td>\n",
       "      <td>NaN</td>\n",
       "      <td>fwdbtn</td>\n",
       "      <td>fwdbtn</td>\n",
       "      <td>False</td>\n",
       "      <td>NaN</td>\n",
       "      <td>True</td>\n",
       "      <td>1561389369652</td>\n",
       "      <td>False</td>\n",
       "    </tr>\n",
       "    <tr>\n",
       "      <th>31003</th>\n",
       "      <td>2018-09-27T07:29:21Z</td>\n",
       "      <td>Android OS 8.1.0 API 27 (OnePlus, ONEPLUS A5010)</td>\n",
       "      <td>0</td>\n",
       "      <td>JP</td>\n",
       "      <td>Immigrant Song - Remaster</td>\n",
       "      <td>Led Zeppelin</td>\n",
       "      <td>Led Zeppelin III</td>\n",
       "      <td>spotify:track:78lgmZwycJ3nzsdgmPPGNx</td>\n",
       "      <td>NaN</td>\n",
       "      <td>NaN</td>\n",
       "      <td>NaN</td>\n",
       "      <td>backbtn</td>\n",
       "      <td>backbtn</td>\n",
       "      <td>False</td>\n",
       "      <td>NaN</td>\n",
       "      <td>False</td>\n",
       "      <td>1538033360108</td>\n",
       "      <td>False</td>\n",
       "    </tr>\n",
       "  </tbody>\n",
       "</table>\n",
       "</div>"
      ],
      "text/plain": [
       "                         ts                                          platform  \\\n",
       "40627  2019-03-05T05:57:19Z      Android OS 9 API 28 (OnePlus, ONEPLUS A5010)   \n",
       "40105  2019-02-24T10:42:29Z      Android OS 9 API 28 (OnePlus, ONEPLUS A5010)   \n",
       "24106  2018-06-09T08:32:12Z  Android OS 8.1.0 API 27 (OnePlus, ONEPLUS A5010)   \n",
       "46589  2019-06-28T06:57:02Z      Android OS 9 API 28 (OnePlus, ONEPLUS A5010)   \n",
       "31003  2018-09-27T07:29:21Z  Android OS 8.1.0 API 27 (OnePlus, ONEPLUS A5010)   \n",
       "\n",
       "       ms_played conn_country  \\\n",
       "40627          0           JP   \n",
       "40105          0           JP   \n",
       "24106          0           JP   \n",
       "46589          0           JP   \n",
       "31003          0           JP   \n",
       "\n",
       "                              master_metadata_track_name  \\\n",
       "40627                                             I'm So   \n",
       "40105                                            Friends   \n",
       "24106                   The Fox (What Does the Fox Say?)   \n",
       "46589  Elephant Parade - From \"Eternal Sunshine of th...   \n",
       "31003                          Immigrant Song - Remaster   \n",
       "\n",
       "      master_metadata_album_artist_name  \\\n",
       "40627                   Andrew Applepie   \n",
       "40105                     Hyper Potions   \n",
       "24106                             Ylvis   \n",
       "46589                         Jon Brion   \n",
       "31003                      Led Zeppelin   \n",
       "\n",
       "            master_metadata_album_album_name  \\\n",
       "40627                        Andrew Applepie   \n",
       "40105                                Friends   \n",
       "24106       The Fox (What Does the Fox Say?)   \n",
       "46589  Eternal Sunshine Of The Spotless Mind   \n",
       "31003                       Led Zeppelin III   \n",
       "\n",
       "                          spotify_track_uri  episode_name  episode_show_name  \\\n",
       "40627  spotify:track:6gQI4RLH0RLwNMyyz8JIQ3           NaN                NaN   \n",
       "40105  spotify:track:1HlumBvclGhCA2PwRlrFP5           NaN                NaN   \n",
       "24106  spotify:track:5HOpkTTVcmZHnthgyxrIL8           NaN                NaN   \n",
       "46589  spotify:track:2b40pJq5O9M2SPFwFrblqC           NaN                NaN   \n",
       "31003  spotify:track:78lgmZwycJ3nzsdgmPPGNx           NaN                NaN   \n",
       "\n",
       "       spotify_episode_uri reason_start reason_end  shuffle skipped  offline  \\\n",
       "40627                  NaN      backbtn    backbtn    False     NaN    False   \n",
       "40105                  NaN      backbtn    backbtn     True     NaN    False   \n",
       "24106                  NaN      backbtn    backbtn    False     NaN    False   \n",
       "46589                  NaN       fwdbtn     fwdbtn    False     NaN     True   \n",
       "31003                  NaN      backbtn    backbtn    False     NaN    False   \n",
       "\n",
       "       offline_timestamp  incognito_mode  \n",
       "40627      1551765435673           False  \n",
       "40105      1551004948220           False  \n",
       "24106      1528533129097           False  \n",
       "46589      1561389369652           False  \n",
       "31003      1538033360108           False  "
      ]
     },
     "metadata": {},
     "output_type": "display_data"
    },
    {
     "name": "stdout",
     "output_type": "stream",
     "text": [
      "(3759, 18)\n"
     ]
    }
   ],
   "source": [
    "display(tracks_df[tracks_df['ms_played'] == 0].sample(5))\n",
    "print(tracks_df[tracks_df['ms_played'] == 0].shape)"
   ]
  },
  {
   "cell_type": "markdown",
   "metadata": {},
   "source": [
    "there are surprisingly a lot of rows with 0 ms_played, might need to check it later"
   ]
  },
  {
   "cell_type": "code",
   "execution_count": 209,
   "metadata": {},
   "outputs": [
    {
     "data": {
      "text/plain": [
       "platform\n",
       "Android OS 11 API 30 (OnePlus, HD1910)                       21563\n",
       "android                                                      20780\n",
       "Android OS 9 API 28 (OnePlus, ONEPLUS A5010)                 15578\n",
       "Android OS 10 API 29 (OnePlus, ONEPLUS A5010)                15124\n",
       "Android OS 8.1.0 API 27 (OnePlus, ONEPLUS A5010)             10919\n",
       "Windows 10 (10.0.17134; x64)                                  7099\n",
       "Android OS 7.1.1 API 25 (Sony, E6683)                         6847\n",
       "Windows 10 (10.0.14393; x64)                                  6764\n",
       "Windows 10 (10.0.18363; x64)                                  6702\n",
       "Android OS 7.0 API 24 (Sony, E6683)                           4074\n",
       "windows                                                       3192\n",
       "Windows 10 (10.0.18362; x64)                                  2858\n",
       "Android OS 8.0.0 API 26 (OnePlus, ONEPLUS A5010)              1049\n",
       "Windows 10 (10.0.16299; x64)                                  1011\n",
       "Android OS 6.0.1 API 23 (Sony, E6683)                          896\n",
       "Windows 10 (10.0.19044; x64; AppX)                             812\n",
       "Windows 10 (10.0.22000; x64)                                   733\n",
       "Windows 10 (10.0.18362; x64; AppX)                             591\n",
       "Windows 10 (10.0.17134; x64; AppX)                             520\n",
       "Android OS 7.1.1 API 25 (OnePlus, ONEPLUS A5010)               463\n",
       "Windows 10 (10.0.16299; x64; AppX)                             408\n",
       "Windows 10 (10.0.22621; x64)                                   368\n",
       "Windows 10 (10.0.19042; x64)                                   367\n",
       "Windows 10 (10.0.10586; x64)                                   234\n",
       "Windows 10 (10.0.22622; x64)                                   200\n",
       "Windows 10 (10.0.22598; x64)                                   156\n",
       "web_player windows 10;microsoft edge 95.0.1020.40;desktop       66\n",
       "Android OS 6.0 API 23 (Sony, E6683)                              8\n",
       "web_player windows 10;firefox 84.0;desktop                       6\n",
       "Partner spotify web_player                                       2\n",
       "web_player windows 10;firefox 61.0;desktop                       2\n",
       "web_player windows 10;firefox 69.0;desktop                       1\n",
       "Name: count, dtype: int64"
      ]
     },
     "execution_count": 209,
     "metadata": {},
     "output_type": "execute_result"
    }
   ],
   "source": [
    "# checking platform unique values\n",
    "tracks_df['platform'].value_counts(dropna=False)"
   ]
  },
  {
   "cell_type": "markdown",
   "metadata": {},
   "source": [
    "it seems there are just 3 unique values in platform column (android, windows, web_player), we need to handle this value"
   ]
  },
  {
   "cell_type": "code",
   "execution_count": 210,
   "metadata": {},
   "outputs": [
    {
     "data": {
      "text/plain": [
       "skipped\n",
       "NaN      105421\n",
       "False     17475\n",
       "0.0        3581\n",
       "True       2065\n",
       "1.0         851\n",
       "Name: count, dtype: int64"
      ]
     },
     "execution_count": 210,
     "metadata": {},
     "output_type": "execute_result"
    }
   ],
   "source": [
    "# checking the unique values in 'skipped' column, including 'NaN'\n",
    "tracks_df['skipped'].value_counts(dropna=False)"
   ]
  },
  {
   "cell_type": "code",
   "execution_count": 211,
   "metadata": {},
   "outputs": [
    {
     "data": {
      "text/plain": [
       "reason_end\n",
       "trackdone                       62298\n",
       "NaN                             20538\n",
       "fwdbtn                           9239\n",
       "backbtn                          4805\n",
       "logout                           3845\n",
       "endplay                          3118\n",
       "remote                            966\n",
       "unexpected-exit-while-paused      433\n",
       "unexpected-exit                    64\n",
       "trackerror                         63\n",
       "unknown                            52\n",
       "Name: count, dtype: int64"
      ]
     },
     "execution_count": 211,
     "metadata": {},
     "output_type": "execute_result"
    }
   ],
   "source": [
    "# show the rows with 'skipped' value of 'NaN'\n",
    "tracks_df[tracks_df['skipped'].isna()]['reason_end'].value_counts(dropna=False)"
   ]
  },
  {
   "cell_type": "code",
   "execution_count": 212,
   "metadata": {},
   "outputs": [
    {
     "data": {
      "text/html": [
       "<div>\n",
       "<style scoped>\n",
       "    .dataframe tbody tr th:only-of-type {\n",
       "        vertical-align: middle;\n",
       "    }\n",
       "\n",
       "    .dataframe tbody tr th {\n",
       "        vertical-align: top;\n",
       "    }\n",
       "\n",
       "    .dataframe thead th {\n",
       "        text-align: right;\n",
       "    }\n",
       "</style>\n",
       "<table border=\"1\" class=\"dataframe\">\n",
       "  <thead>\n",
       "    <tr style=\"text-align: right;\">\n",
       "      <th></th>\n",
       "      <th>ts</th>\n",
       "      <th>platform</th>\n",
       "      <th>ms_played</th>\n",
       "      <th>conn_country</th>\n",
       "      <th>master_metadata_track_name</th>\n",
       "      <th>master_metadata_album_artist_name</th>\n",
       "      <th>master_metadata_album_album_name</th>\n",
       "      <th>spotify_track_uri</th>\n",
       "      <th>episode_name</th>\n",
       "      <th>episode_show_name</th>\n",
       "      <th>spotify_episode_uri</th>\n",
       "      <th>reason_start</th>\n",
       "      <th>reason_end</th>\n",
       "      <th>shuffle</th>\n",
       "      <th>skipped</th>\n",
       "      <th>offline</th>\n",
       "      <th>offline_timestamp</th>\n",
       "      <th>incognito_mode</th>\n",
       "    </tr>\n",
       "  </thead>\n",
       "  <tbody>\n",
       "    <tr>\n",
       "      <th>6848</th>\n",
       "      <td>2017-05-22T12:39:01Z</td>\n",
       "      <td>Windows 10 (10.0.14393; x64)</td>\n",
       "      <td>12297</td>\n",
       "      <td>ID</td>\n",
       "      <td>Healing</td>\n",
       "      <td>In Love With a Ghost</td>\n",
       "      <td>Healing</td>\n",
       "      <td>spotify:track:0GbSslWDNItJQPA788gr20</td>\n",
       "      <td>NaN</td>\n",
       "      <td>NaN</td>\n",
       "      <td>NaN</td>\n",
       "      <td>clickrow</td>\n",
       "      <td>NaN</td>\n",
       "      <td>True</td>\n",
       "      <td>NaN</td>\n",
       "      <td>False</td>\n",
       "      <td>1495456732686</td>\n",
       "      <td>False</td>\n",
       "    </tr>\n",
       "    <tr>\n",
       "      <th>1891</th>\n",
       "      <td>2017-03-03T06:07:41Z</td>\n",
       "      <td>Android OS 7.0 API 24 (Sony, E6683)</td>\n",
       "      <td>190253</td>\n",
       "      <td>ID</td>\n",
       "      <td>I'm Beginning To Think You Prefer Beverly Hill...</td>\n",
       "      <td>Fight Like Apes</td>\n",
       "      <td>Fight Like Apes and The Mystery of The Golden ...</td>\n",
       "      <td>spotify:track:0SxZpiF1BfbLiKJAamelYz</td>\n",
       "      <td>NaN</td>\n",
       "      <td>NaN</td>\n",
       "      <td>NaN</td>\n",
       "      <td>trackdone</td>\n",
       "      <td>NaN</td>\n",
       "      <td>False</td>\n",
       "      <td>NaN</td>\n",
       "      <td>False</td>\n",
       "      <td>1488516359676</td>\n",
       "      <td>False</td>\n",
       "    </tr>\n",
       "    <tr>\n",
       "      <th>6582</th>\n",
       "      <td>2017-05-18T10:02:38Z</td>\n",
       "      <td>Android OS 7.0 API 24 (Sony, E6683)</td>\n",
       "      <td>0</td>\n",
       "      <td>ID</td>\n",
       "      <td>Stryman</td>\n",
       "      <td>baaskaT</td>\n",
       "      <td>Chillhop Essentials Spring 2017</td>\n",
       "      <td>spotify:track:2oFQqo6YyVeQDTpVjhUfwE</td>\n",
       "      <td>NaN</td>\n",
       "      <td>NaN</td>\n",
       "      <td>NaN</td>\n",
       "      <td>backbtn</td>\n",
       "      <td>NaN</td>\n",
       "      <td>False</td>\n",
       "      <td>NaN</td>\n",
       "      <td>False</td>\n",
       "      <td>1495101755549</td>\n",
       "      <td>False</td>\n",
       "    </tr>\n",
       "    <tr>\n",
       "      <th>6793</th>\n",
       "      <td>2017-05-21T12:15:38Z</td>\n",
       "      <td>Android OS 7.0 API 24 (Sony, E6683)</td>\n",
       "      <td>132413</td>\n",
       "      <td>ID</td>\n",
       "      <td>Sorry for Not Answering the Phone I'm Too Busy...</td>\n",
       "      <td>In Love With a Ghost</td>\n",
       "      <td>Let's Go</td>\n",
       "      <td>spotify:track:3PqWJMsNn4yh9lFqBbYhuE</td>\n",
       "      <td>NaN</td>\n",
       "      <td>NaN</td>\n",
       "      <td>NaN</td>\n",
       "      <td>trackdone</td>\n",
       "      <td>NaN</td>\n",
       "      <td>True</td>\n",
       "      <td>NaN</td>\n",
       "      <td>False</td>\n",
       "      <td>1495368804196</td>\n",
       "      <td>False</td>\n",
       "    </tr>\n",
       "    <tr>\n",
       "      <th>9615</th>\n",
       "      <td>2017-07-26T05:35:48Z</td>\n",
       "      <td>Android OS 7.1.1 API 25 (Sony, E6683)</td>\n",
       "      <td>270000</td>\n",
       "      <td>ID</td>\n",
       "      <td>Into the Limelight (feat. Danyka Nadeau)</td>\n",
       "      <td>Trivecta</td>\n",
       "      <td>Monstercat 027 - Cataclysm</td>\n",
       "      <td>spotify:track:1Kny6fGX5BzfhI3emVgMVz</td>\n",
       "      <td>NaN</td>\n",
       "      <td>NaN</td>\n",
       "      <td>NaN</td>\n",
       "      <td>trackdone</td>\n",
       "      <td>NaN</td>\n",
       "      <td>True</td>\n",
       "      <td>NaN</td>\n",
       "      <td>False</td>\n",
       "      <td>1501047050375</td>\n",
       "      <td>False</td>\n",
       "    </tr>\n",
       "  </tbody>\n",
       "</table>\n",
       "</div>"
      ],
      "text/plain": [
       "                        ts                               platform  ms_played  \\\n",
       "6848  2017-05-22T12:39:01Z           Windows 10 (10.0.14393; x64)      12297   \n",
       "1891  2017-03-03T06:07:41Z    Android OS 7.0 API 24 (Sony, E6683)     190253   \n",
       "6582  2017-05-18T10:02:38Z    Android OS 7.0 API 24 (Sony, E6683)          0   \n",
       "6793  2017-05-21T12:15:38Z    Android OS 7.0 API 24 (Sony, E6683)     132413   \n",
       "9615  2017-07-26T05:35:48Z  Android OS 7.1.1 API 25 (Sony, E6683)     270000   \n",
       "\n",
       "     conn_country                         master_metadata_track_name  \\\n",
       "6848           ID                                            Healing   \n",
       "1891           ID  I'm Beginning To Think You Prefer Beverly Hill...   \n",
       "6582           ID                                            Stryman   \n",
       "6793           ID  Sorry for Not Answering the Phone I'm Too Busy...   \n",
       "9615           ID           Into the Limelight (feat. Danyka Nadeau)   \n",
       "\n",
       "     master_metadata_album_artist_name  \\\n",
       "6848              In Love With a Ghost   \n",
       "1891                   Fight Like Apes   \n",
       "6582                           baaskaT   \n",
       "6793              In Love With a Ghost   \n",
       "9615                          Trivecta   \n",
       "\n",
       "                       master_metadata_album_album_name  \\\n",
       "6848                                            Healing   \n",
       "1891  Fight Like Apes and The Mystery of The Golden ...   \n",
       "6582                    Chillhop Essentials Spring 2017   \n",
       "6793                                           Let's Go   \n",
       "9615                         Monstercat 027 - Cataclysm   \n",
       "\n",
       "                         spotify_track_uri  episode_name  episode_show_name  \\\n",
       "6848  spotify:track:0GbSslWDNItJQPA788gr20           NaN                NaN   \n",
       "1891  spotify:track:0SxZpiF1BfbLiKJAamelYz           NaN                NaN   \n",
       "6582  spotify:track:2oFQqo6YyVeQDTpVjhUfwE           NaN                NaN   \n",
       "6793  spotify:track:3PqWJMsNn4yh9lFqBbYhuE           NaN                NaN   \n",
       "9615  spotify:track:1Kny6fGX5BzfhI3emVgMVz           NaN                NaN   \n",
       "\n",
       "      spotify_episode_uri reason_start reason_end  shuffle skipped  offline  \\\n",
       "6848                  NaN     clickrow        NaN     True     NaN    False   \n",
       "1891                  NaN    trackdone        NaN    False     NaN    False   \n",
       "6582                  NaN      backbtn        NaN    False     NaN    False   \n",
       "6793                  NaN    trackdone        NaN     True     NaN    False   \n",
       "9615                  NaN    trackdone        NaN     True     NaN    False   \n",
       "\n",
       "      offline_timestamp  incognito_mode  \n",
       "6848      1495456732686           False  \n",
       "1891      1488516359676           False  \n",
       "6582      1495101755549           False  \n",
       "6793      1495368804196           False  \n",
       "9615      1501047050375           False  "
      ]
     },
     "execution_count": 212,
     "metadata": {},
     "output_type": "execute_result"
    }
   ],
   "source": [
    "tracks_df[tracks_df['skipped'].isna() & tracks_df['reason_end'].isna()].sample(5)"
   ]
  },
  {
   "cell_type": "markdown",
   "metadata": {},
   "source": [
    "we also need to handle 'skipped' value as it seems they are just a boolean data type and handle the NaN values"
   ]
  },
  {
   "cell_type": "code",
   "execution_count": 213,
   "metadata": {},
   "outputs": [
    {
     "data": {
      "text/plain": [
       "shuffle\n",
       "True     77246\n",
       "False    52147\n",
       "Name: count, dtype: int64"
      ]
     },
     "execution_count": 213,
     "metadata": {},
     "output_type": "execute_result"
    }
   ],
   "source": [
    "# checking the unique values in 'shuffle' column\n",
    "tracks_df['shuffle'].value_counts(dropna=False)"
   ]
  },
  {
   "cell_type": "code",
   "execution_count": 214,
   "metadata": {},
   "outputs": [
    {
     "data": {
      "text/plain": [
       "offline\n",
       "False    123422\n",
       "True       5971\n",
       "Name: count, dtype: int64"
      ]
     },
     "execution_count": 214,
     "metadata": {},
     "output_type": "execute_result"
    }
   ],
   "source": [
    "# checking the unique values in 'offline' column\n",
    "tracks_df['offline'].value_counts(dropna=False)"
   ]
  },
  {
   "cell_type": "code",
   "execution_count": 215,
   "metadata": {},
   "outputs": [
    {
     "data": {
      "text/plain": [
       "incognito_mode\n",
       "False    129076\n",
       "True        317\n",
       "Name: count, dtype: int64"
      ]
     },
     "execution_count": 215,
     "metadata": {},
     "output_type": "execute_result"
    }
   ],
   "source": [
    "# checking the unique values in 'incognito_mode' column\n",
    "tracks_df['incognito_mode'].value_counts(dropna=False)"
   ]
  },
  {
   "cell_type": "markdown",
   "metadata": {},
   "source": [
    "shuffle, offline and incognito_mode's value are pretty much complete and has no NaN values, but we need to convert them into 1/0 as well"
   ]
  },
  {
   "cell_type": "code",
   "execution_count": 216,
   "metadata": {},
   "outputs": [
    {
     "name": "stdout",
     "output_type": "stream",
     "text": [
      "reason_start\n",
      "trackdone     96588\n",
      "fwdbtn        13695\n",
      "backbtn        7344\n",
      "clickrow       5919\n",
      "appload        4161\n",
      "remote          690\n",
      "playbtn         649\n",
      "trackerror      347\n",
      "Name: count, dtype: int64\n"
     ]
    }
   ],
   "source": [
    "# checking the unique values in 'reason_start' column\n",
    "print(tracks_df['reason_start'].value_counts(dropna=False))"
   ]
  },
  {
   "cell_type": "code",
   "execution_count": 217,
   "metadata": {},
   "outputs": [
    {
     "name": "stdout",
     "output_type": "stream",
     "text": [
      "reason_end\n",
      "trackdone                       82153\n",
      "NaN                             20538\n",
      "fwdbtn                          11078\n",
      "backbtn                          5250\n",
      "logout                           4835\n",
      "endplay                          3750\n",
      "remote                           1071\n",
      "unexpected-exit-while-paused      533\n",
      "unexpected-exit                    68\n",
      "trackerror                         63\n",
      "unknown                            54\n",
      "Name: count, dtype: int64\n"
     ]
    }
   ],
   "source": [
    "# checking the unique values in 'reason_end' column\n",
    "print(tracks_df['reason_end'].value_counts(dropna=False))"
   ]
  },
  {
   "cell_type": "markdown",
   "metadata": {},
   "source": [
    "based on what we've seen, there are some things that we need to handle:\n",
    "- drop podcasts related columns [DONE]\n",
    "- drop offline_timestamp column [DONE]\n",
    "- ~~drop conn_country column since I think what _platform_ the track was streamed is more important than the _country_ it was streamed~~\n",
    "- convert 'ts' column into datetime datatype [DONE]\n",
    "- convert 'ts' based on the conn_country [DONE]\n",
    "- rename columns with long label (master_metadata_artist_name, etc) into shorter form [DONE]\n",
    "- trim spotify_track_uri to only track ids [DONE]\n",
    "- handle _platform_ into three values (web_player, android, windows) [DONE]\n",
    "- convert _shuffle, offline and incognito mode_ to 1 and 0 format [DONE]\n",
    "- handle _skipped_ into 1 or 0 (convert True to 1, False to 0, and turn them into just integer values of 1 or 0)\n",
    "- handle _skipped_'s NaN value based on _reason end_\n",
    "- take a look on rows with 0 ms_played "
   ]
  },
  {
   "cell_type": "markdown",
   "metadata": {},
   "source": [
    "## Data Preprocessing"
   ]
  },
  {
   "cell_type": "markdown",
   "metadata": {},
   "source": [
    "### dropping unimportant columns"
   ]
  },
  {
   "cell_type": "code",
   "execution_count": 218,
   "metadata": {},
   "outputs": [],
   "source": [
    "# dropping the columns that are not useful\n",
    "tracks_df.drop(columns=['offline_timestamp', 'episode_name', 'episode_show_name', 'spotify_episode_uri'], inplace=True)\n"
   ]
  },
  {
   "cell_type": "markdown",
   "metadata": {},
   "source": [
    "### handling 'ts' and 'conn_country' column\n",
    "there are some things that we need to do here:\n",
    "- convert 'ts' to datetime\n",
    "- check unique values of conn_country\n",
    "- fix the mislabelled rows\n",
    "- convert 'ts' into its proper timezone"
   ]
  },
  {
   "cell_type": "code",
   "execution_count": 219,
   "metadata": {},
   "outputs": [],
   "source": [
    "# converting 'ts' to datetime format\n",
    "tracks_df['ts'] = pd.to_datetime(tracks_df['ts'])"
   ]
  },
  {
   "cell_type": "code",
   "execution_count": 220,
   "metadata": {},
   "outputs": [
    {
     "data": {
      "text/plain": [
       "conn_country\n",
       "JP    103209\n",
       "ID     24904\n",
       "SG       614\n",
       "MY       334\n",
       "PH       279\n",
       "CA        32\n",
       "US        13\n",
       "ZZ         5\n",
       "BV         3\n",
       "Name: count, dtype: int64"
      ]
     },
     "execution_count": 220,
     "metadata": {},
     "output_type": "execute_result"
    }
   ],
   "source": [
    "tracks_df['conn_country'].value_counts(dropna=False)"
   ]
  },
  {
   "cell_type": "markdown",
   "metadata": {},
   "source": [
    "it appears that conn_country are mislabelled, because I have never been to CA / US / ZZ / BV.\n",
    "this mislabelling might caused by some error or because I happened to be on vpn while listening to spotify.\n",
    "since the quantity of mislabelled rows are not that significant, we can just remove these rows.\n",
    "\n",
    "but I will see if we can assign them accordingly (since the quantity is also not that many)"
   ]
  },
  {
   "cell_type": "code",
   "execution_count": 221,
   "metadata": {},
   "outputs": [],
   "source": [
    "# store the date of rows with 'conn_country' value of CA, US, ZZ and BV into a list\n",
    "mislabelled_conn_country_date = tracks_df[tracks_df['conn_country'].isin(['CA', 'US', 'ZZ', 'BV'])]['ts'].dt.date.unique().tolist()"
   ]
  },
  {
   "cell_type": "code",
   "execution_count": 222,
   "metadata": {},
   "outputs": [
    {
     "data": {
      "text/plain": [
       "[datetime.date(2017, 8, 25),\n",
       " datetime.date(2017, 11, 6),\n",
       " datetime.date(2018, 7, 27),\n",
       " datetime.date(2019, 10, 22),\n",
       " datetime.date(2021, 8, 31),\n",
       " datetime.date(2021, 9, 1),\n",
       " datetime.date(2021, 11, 28),\n",
       " datetime.date(2021, 12, 2),\n",
       " datetime.date(2022, 6, 17),\n",
       " datetime.date(2022, 7, 17),\n",
       " datetime.date(2022, 8, 25),\n",
       " datetime.date(2022, 12, 10),\n",
       " datetime.date(2023, 1, 19),\n",
       " datetime.date(2023, 1, 29)]"
      ]
     },
     "execution_count": 222,
     "metadata": {},
     "output_type": "execute_result"
    }
   ],
   "source": [
    "mislabelled_conn_country_date"
   ]
  },
  {
   "cell_type": "code",
   "execution_count": 223,
   "metadata": {},
   "outputs": [],
   "source": [
    "# show the unique value of conn_country on each day in the list and store the most frequent value into a dictionary of date:country\n",
    "conn_country_dict = {}\n",
    "for date in mislabelled_conn_country_date:\n",
    "    conn_country_dict[date] = tracks_df[tracks_df['ts'].dt.date == date]['conn_country'].value_counts().index[0]"
   ]
  },
  {
   "cell_type": "code",
   "execution_count": 224,
   "metadata": {},
   "outputs": [
    {
     "data": {
      "text/plain": [
       "{datetime.date(2017, 8, 25): 'ID',\n",
       " datetime.date(2017, 11, 6): 'ID',\n",
       " datetime.date(2018, 7, 27): 'JP',\n",
       " datetime.date(2019, 10, 22): 'JP',\n",
       " datetime.date(2021, 8, 31): 'JP',\n",
       " datetime.date(2021, 9, 1): 'JP',\n",
       " datetime.date(2021, 11, 28): 'JP',\n",
       " datetime.date(2021, 12, 2): 'JP',\n",
       " datetime.date(2022, 6, 17): 'JP',\n",
       " datetime.date(2022, 7, 17): 'ID',\n",
       " datetime.date(2022, 8, 25): 'JP',\n",
       " datetime.date(2022, 12, 10): 'JP',\n",
       " datetime.date(2023, 1, 19): 'JP',\n",
       " datetime.date(2023, 1, 29): 'JP'}"
      ]
     },
     "execution_count": 224,
     "metadata": {},
     "output_type": "execute_result"
    }
   ],
   "source": [
    "conn_country_dict"
   ]
  },
  {
   "cell_type": "code",
   "execution_count": 225,
   "metadata": {},
   "outputs": [],
   "source": [
    "# replace the mislabelled conn_country with the correct country\n",
    "tracks_df['conn_country'] = tracks_df.apply(lambda x: conn_country_dict[x['ts'].date()] if x['conn_country'] in ['CA', 'US', 'ZZ', 'BV'] else x['conn_country'], axis=1)"
   ]
  },
  {
   "cell_type": "code",
   "execution_count": 226,
   "metadata": {},
   "outputs": [
    {
     "data": {
      "text/plain": [
       "conn_country\n",
       "JP    103256\n",
       "ID     24910\n",
       "SG       614\n",
       "MY       334\n",
       "PH       279\n",
       "Name: count, dtype: int64"
      ]
     },
     "execution_count": 226,
     "metadata": {},
     "output_type": "execute_result"
    }
   ],
   "source": [
    "# check the unique values in 'conn_country' column again\n",
    "tracks_df['conn_country'].value_counts(dropna=False)"
   ]
  },
  {
   "cell_type": "code",
   "execution_count": 242,
   "metadata": {},
   "outputs": [],
   "source": [
    "# convert 'ts' from UTC to its respective conn_country timezone using pytz\n",
    "import pytz\n",
    "tracks_df['ts_local'] = tracks_df.apply(lambda x: x['ts'].tz_convert(pytz.timezone(pytz.country_timezones(x['conn_country'])[0])), axis=1)"
   ]
  },
  {
   "cell_type": "code",
   "execution_count": 243,
   "metadata": {},
   "outputs": [
    {
     "name": "stdout",
     "output_type": "stream",
     "text": [
      "ID\n"
     ]
    },
    {
     "data": {
      "text/html": [
       "<div>\n",
       "<style scoped>\n",
       "    .dataframe tbody tr th:only-of-type {\n",
       "        vertical-align: middle;\n",
       "    }\n",
       "\n",
       "    .dataframe tbody tr th {\n",
       "        vertical-align: top;\n",
       "    }\n",
       "\n",
       "    .dataframe thead th {\n",
       "        text-align: right;\n",
       "    }\n",
       "</style>\n",
       "<table border=\"1\" class=\"dataframe\">\n",
       "  <thead>\n",
       "    <tr style=\"text-align: right;\">\n",
       "      <th></th>\n",
       "      <th>ts</th>\n",
       "      <th>ts_local</th>\n",
       "      <th>conn_country</th>\n",
       "    </tr>\n",
       "  </thead>\n",
       "  <tbody>\n",
       "    <tr>\n",
       "      <th>7672</th>\n",
       "      <td>2017-06-06 02:39:39+00:00</td>\n",
       "      <td>2017-06-06 09:39:39+07:00</td>\n",
       "      <td>ID</td>\n",
       "    </tr>\n",
       "    <tr>\n",
       "      <th>18036</th>\n",
       "      <td>2018-01-11 13:24:10+00:00</td>\n",
       "      <td>2018-01-11 20:24:10+07:00</td>\n",
       "      <td>ID</td>\n",
       "    </tr>\n",
       "    <tr>\n",
       "      <th>5840</th>\n",
       "      <td>2017-05-09 05:45:07+00:00</td>\n",
       "      <td>2017-05-09 12:45:07+07:00</td>\n",
       "      <td>ID</td>\n",
       "    </tr>\n",
       "    <tr>\n",
       "      <th>17283</th>\n",
       "      <td>2017-12-29 07:36:12+00:00</td>\n",
       "      <td>2017-12-29 14:36:12+07:00</td>\n",
       "      <td>ID</td>\n",
       "    </tr>\n",
       "    <tr>\n",
       "      <th>19842</th>\n",
       "      <td>2018-03-18 01:51:28+00:00</td>\n",
       "      <td>2018-03-18 08:51:28+07:00</td>\n",
       "      <td>ID</td>\n",
       "    </tr>\n",
       "  </tbody>\n",
       "</table>\n",
       "</div>"
      ],
      "text/plain": [
       "                             ts                   ts_local conn_country\n",
       "7672  2017-06-06 02:39:39+00:00  2017-06-06 09:39:39+07:00           ID\n",
       "18036 2018-01-11 13:24:10+00:00  2018-01-11 20:24:10+07:00           ID\n",
       "5840  2017-05-09 05:45:07+00:00  2017-05-09 12:45:07+07:00           ID\n",
       "17283 2017-12-29 07:36:12+00:00  2017-12-29 14:36:12+07:00           ID\n",
       "19842 2018-03-18 01:51:28+00:00  2018-03-18 08:51:28+07:00           ID"
      ]
     },
     "metadata": {},
     "output_type": "display_data"
    },
    {
     "name": "stdout",
     "output_type": "stream",
     "text": [
      "JP\n"
     ]
    },
    {
     "data": {
      "text/html": [
       "<div>\n",
       "<style scoped>\n",
       "    .dataframe tbody tr th:only-of-type {\n",
       "        vertical-align: middle;\n",
       "    }\n",
       "\n",
       "    .dataframe tbody tr th {\n",
       "        vertical-align: top;\n",
       "    }\n",
       "\n",
       "    .dataframe thead th {\n",
       "        text-align: right;\n",
       "    }\n",
       "</style>\n",
       "<table border=\"1\" class=\"dataframe\">\n",
       "  <thead>\n",
       "    <tr style=\"text-align: right;\">\n",
       "      <th></th>\n",
       "      <th>ts</th>\n",
       "      <th>ts_local</th>\n",
       "      <th>conn_country</th>\n",
       "    </tr>\n",
       "  </thead>\n",
       "  <tbody>\n",
       "    <tr>\n",
       "      <th>66886</th>\n",
       "      <td>2020-09-28 01:35:37+00:00</td>\n",
       "      <td>2020-09-28 10:35:37+09:00</td>\n",
       "      <td>JP</td>\n",
       "    </tr>\n",
       "    <tr>\n",
       "      <th>103721</th>\n",
       "      <td>2022-09-15 07:36:13+00:00</td>\n",
       "      <td>2022-09-15 16:36:13+09:00</td>\n",
       "      <td>JP</td>\n",
       "    </tr>\n",
       "    <tr>\n",
       "      <th>109486</th>\n",
       "      <td>2023-01-09 19:10:50+00:00</td>\n",
       "      <td>2023-01-10 04:10:50+09:00</td>\n",
       "      <td>JP</td>\n",
       "    </tr>\n",
       "    <tr>\n",
       "      <th>116030</th>\n",
       "      <td>2023-04-30 05:05:41+00:00</td>\n",
       "      <td>2023-04-30 14:05:41+09:00</td>\n",
       "      <td>JP</td>\n",
       "    </tr>\n",
       "    <tr>\n",
       "      <th>123006</th>\n",
       "      <td>2023-07-23 10:19:15+00:00</td>\n",
       "      <td>2023-07-23 19:19:15+09:00</td>\n",
       "      <td>JP</td>\n",
       "    </tr>\n",
       "  </tbody>\n",
       "</table>\n",
       "</div>"
      ],
      "text/plain": [
       "                              ts                   ts_local conn_country\n",
       "66886  2020-09-28 01:35:37+00:00  2020-09-28 10:35:37+09:00           JP\n",
       "103721 2022-09-15 07:36:13+00:00  2022-09-15 16:36:13+09:00           JP\n",
       "109486 2023-01-09 19:10:50+00:00  2023-01-10 04:10:50+09:00           JP\n",
       "116030 2023-04-30 05:05:41+00:00  2023-04-30 14:05:41+09:00           JP\n",
       "123006 2023-07-23 10:19:15+00:00  2023-07-23 19:19:15+09:00           JP"
      ]
     },
     "metadata": {},
     "output_type": "display_data"
    },
    {
     "name": "stdout",
     "output_type": "stream",
     "text": [
      "MY\n"
     ]
    },
    {
     "data": {
      "text/html": [
       "<div>\n",
       "<style scoped>\n",
       "    .dataframe tbody tr th:only-of-type {\n",
       "        vertical-align: middle;\n",
       "    }\n",
       "\n",
       "    .dataframe tbody tr th {\n",
       "        vertical-align: top;\n",
       "    }\n",
       "\n",
       "    .dataframe thead th {\n",
       "        text-align: right;\n",
       "    }\n",
       "</style>\n",
       "<table border=\"1\" class=\"dataframe\">\n",
       "  <thead>\n",
       "    <tr style=\"text-align: right;\">\n",
       "      <th></th>\n",
       "      <th>ts</th>\n",
       "      <th>ts_local</th>\n",
       "      <th>conn_country</th>\n",
       "    </tr>\n",
       "  </thead>\n",
       "  <tbody>\n",
       "    <tr>\n",
       "      <th>43221</th>\n",
       "      <td>2019-04-15 19:53:10+00:00</td>\n",
       "      <td>2019-04-16 03:53:10+08:00</td>\n",
       "      <td>MY</td>\n",
       "    </tr>\n",
       "    <tr>\n",
       "      <th>43216</th>\n",
       "      <td>2019-04-15 19:53:10+00:00</td>\n",
       "      <td>2019-04-16 03:53:10+08:00</td>\n",
       "      <td>MY</td>\n",
       "    </tr>\n",
       "    <tr>\n",
       "      <th>43199</th>\n",
       "      <td>2019-04-15 19:53:10+00:00</td>\n",
       "      <td>2019-04-16 03:53:10+08:00</td>\n",
       "      <td>MY</td>\n",
       "    </tr>\n",
       "    <tr>\n",
       "      <th>43227</th>\n",
       "      <td>2019-04-15 19:53:10+00:00</td>\n",
       "      <td>2019-04-16 03:53:10+08:00</td>\n",
       "      <td>MY</td>\n",
       "    </tr>\n",
       "    <tr>\n",
       "      <th>43827</th>\n",
       "      <td>2019-04-28 03:15:37+00:00</td>\n",
       "      <td>2019-04-28 11:15:37+08:00</td>\n",
       "      <td>MY</td>\n",
       "    </tr>\n",
       "  </tbody>\n",
       "</table>\n",
       "</div>"
      ],
      "text/plain": [
       "                             ts                   ts_local conn_country\n",
       "43221 2019-04-15 19:53:10+00:00  2019-04-16 03:53:10+08:00           MY\n",
       "43216 2019-04-15 19:53:10+00:00  2019-04-16 03:53:10+08:00           MY\n",
       "43199 2019-04-15 19:53:10+00:00  2019-04-16 03:53:10+08:00           MY\n",
       "43227 2019-04-15 19:53:10+00:00  2019-04-16 03:53:10+08:00           MY\n",
       "43827 2019-04-28 03:15:37+00:00  2019-04-28 11:15:37+08:00           MY"
      ]
     },
     "metadata": {},
     "output_type": "display_data"
    },
    {
     "name": "stdout",
     "output_type": "stream",
     "text": [
      "SG\n"
     ]
    },
    {
     "data": {
      "text/html": [
       "<div>\n",
       "<style scoped>\n",
       "    .dataframe tbody tr th:only-of-type {\n",
       "        vertical-align: middle;\n",
       "    }\n",
       "\n",
       "    .dataframe tbody tr th {\n",
       "        vertical-align: top;\n",
       "    }\n",
       "\n",
       "    .dataframe thead th {\n",
       "        text-align: right;\n",
       "    }\n",
       "</style>\n",
       "<table border=\"1\" class=\"dataframe\">\n",
       "  <thead>\n",
       "    <tr style=\"text-align: right;\">\n",
       "      <th></th>\n",
       "      <th>ts</th>\n",
       "      <th>ts_local</th>\n",
       "      <th>conn_country</th>\n",
       "    </tr>\n",
       "  </thead>\n",
       "  <tbody>\n",
       "    <tr>\n",
       "      <th>121080</th>\n",
       "      <td>2023-06-27 01:10:08+00:00</td>\n",
       "      <td>2023-06-27 09:10:08+08:00</td>\n",
       "      <td>SG</td>\n",
       "    </tr>\n",
       "    <tr>\n",
       "      <th>120061</th>\n",
       "      <td>2023-06-15 23:51:35+00:00</td>\n",
       "      <td>2023-06-16 07:51:35+08:00</td>\n",
       "      <td>SG</td>\n",
       "    </tr>\n",
       "    <tr>\n",
       "      <th>120102</th>\n",
       "      <td>2023-06-16 23:45:28+00:00</td>\n",
       "      <td>2023-06-17 07:45:28+08:00</td>\n",
       "      <td>SG</td>\n",
       "    </tr>\n",
       "    <tr>\n",
       "      <th>120099</th>\n",
       "      <td>2023-06-16 23:36:56+00:00</td>\n",
       "      <td>2023-06-17 07:36:56+08:00</td>\n",
       "      <td>SG</td>\n",
       "    </tr>\n",
       "    <tr>\n",
       "      <th>88960</th>\n",
       "      <td>2021-12-23 19:46:40+00:00</td>\n",
       "      <td>2021-12-24 03:46:40+08:00</td>\n",
       "      <td>SG</td>\n",
       "    </tr>\n",
       "  </tbody>\n",
       "</table>\n",
       "</div>"
      ],
      "text/plain": [
       "                              ts                   ts_local conn_country\n",
       "121080 2023-06-27 01:10:08+00:00  2023-06-27 09:10:08+08:00           SG\n",
       "120061 2023-06-15 23:51:35+00:00  2023-06-16 07:51:35+08:00           SG\n",
       "120102 2023-06-16 23:45:28+00:00  2023-06-17 07:45:28+08:00           SG\n",
       "120099 2023-06-16 23:36:56+00:00  2023-06-17 07:36:56+08:00           SG\n",
       "88960  2021-12-23 19:46:40+00:00  2021-12-24 03:46:40+08:00           SG"
      ]
     },
     "metadata": {},
     "output_type": "display_data"
    },
    {
     "name": "stdout",
     "output_type": "stream",
     "text": [
      "PH\n"
     ]
    },
    {
     "data": {
      "text/html": [
       "<div>\n",
       "<style scoped>\n",
       "    .dataframe tbody tr th:only-of-type {\n",
       "        vertical-align: middle;\n",
       "    }\n",
       "\n",
       "    .dataframe tbody tr th {\n",
       "        vertical-align: top;\n",
       "    }\n",
       "\n",
       "    .dataframe thead th {\n",
       "        text-align: right;\n",
       "    }\n",
       "</style>\n",
       "<table border=\"1\" class=\"dataframe\">\n",
       "  <thead>\n",
       "    <tr style=\"text-align: right;\">\n",
       "      <th></th>\n",
       "      <th>ts</th>\n",
       "      <th>ts_local</th>\n",
       "      <th>conn_country</th>\n",
       "    </tr>\n",
       "  </thead>\n",
       "  <tbody>\n",
       "    <tr>\n",
       "      <th>97307</th>\n",
       "      <td>2022-06-19 11:55:55+00:00</td>\n",
       "      <td>2022-06-19 19:55:55+08:00</td>\n",
       "      <td>PH</td>\n",
       "    </tr>\n",
       "    <tr>\n",
       "      <th>99827</th>\n",
       "      <td>2022-07-20 23:26:05+00:00</td>\n",
       "      <td>2022-07-21 07:26:05+08:00</td>\n",
       "      <td>PH</td>\n",
       "    </tr>\n",
       "    <tr>\n",
       "      <th>99825</th>\n",
       "      <td>2022-07-20 23:26:05+00:00</td>\n",
       "      <td>2022-07-21 07:26:05+08:00</td>\n",
       "      <td>PH</td>\n",
       "    </tr>\n",
       "    <tr>\n",
       "      <th>99881</th>\n",
       "      <td>2022-07-20 23:26:05+00:00</td>\n",
       "      <td>2022-07-21 07:26:05+08:00</td>\n",
       "      <td>PH</td>\n",
       "    </tr>\n",
       "    <tr>\n",
       "      <th>99883</th>\n",
       "      <td>2022-07-20 23:26:05+00:00</td>\n",
       "      <td>2022-07-21 07:26:05+08:00</td>\n",
       "      <td>PH</td>\n",
       "    </tr>\n",
       "  </tbody>\n",
       "</table>\n",
       "</div>"
      ],
      "text/plain": [
       "                             ts                   ts_local conn_country\n",
       "97307 2022-06-19 11:55:55+00:00  2022-06-19 19:55:55+08:00           PH\n",
       "99827 2022-07-20 23:26:05+00:00  2022-07-21 07:26:05+08:00           PH\n",
       "99825 2022-07-20 23:26:05+00:00  2022-07-21 07:26:05+08:00           PH\n",
       "99881 2022-07-20 23:26:05+00:00  2022-07-21 07:26:05+08:00           PH\n",
       "99883 2022-07-20 23:26:05+00:00  2022-07-21 07:26:05+08:00           PH"
      ]
     },
     "metadata": {},
     "output_type": "display_data"
    }
   ],
   "source": [
    "# show 5 rows for each conn_country\n",
    "for country in tracks_df['conn_country'].unique():\n",
    "    print(country)\n",
    "    display(tracks_df[tracks_df['conn_country'] == country][['ts', 'ts_local', 'conn_country']].sample(5))"
   ]
  },
  {
   "cell_type": "markdown",
   "metadata": {},
   "source": [
    "### renaming columns with long label"
   ]
  },
  {
   "cell_type": "code",
   "execution_count": 229,
   "metadata": {},
   "outputs": [],
   "source": [
    "# renaming master_metadata_track_name, master_metadata_album_artist_name, and master_metadata_album_album_name into track_name, artist_name, and album_name\n",
    "tracks_df.rename(columns={'master_metadata_track_name':'track_name', 'master_metadata_album_artist_name':'artist_name', 'master_metadata_album_album_name':'album_name'}, inplace=True)"
   ]
  },
  {
   "cell_type": "code",
   "execution_count": 230,
   "metadata": {},
   "outputs": [
    {
     "data": {
      "text/html": [
       "<div>\n",
       "<style scoped>\n",
       "    .dataframe tbody tr th:only-of-type {\n",
       "        vertical-align: middle;\n",
       "    }\n",
       "\n",
       "    .dataframe tbody tr th {\n",
       "        vertical-align: top;\n",
       "    }\n",
       "\n",
       "    .dataframe thead th {\n",
       "        text-align: right;\n",
       "    }\n",
       "</style>\n",
       "<table border=\"1\" class=\"dataframe\">\n",
       "  <thead>\n",
       "    <tr style=\"text-align: right;\">\n",
       "      <th></th>\n",
       "      <th>ts</th>\n",
       "      <th>platform</th>\n",
       "      <th>ms_played</th>\n",
       "      <th>conn_country</th>\n",
       "      <th>track_name</th>\n",
       "      <th>artist_name</th>\n",
       "      <th>album_name</th>\n",
       "      <th>spotify_track_uri</th>\n",
       "      <th>reason_start</th>\n",
       "      <th>reason_end</th>\n",
       "      <th>shuffle</th>\n",
       "      <th>skipped</th>\n",
       "      <th>offline</th>\n",
       "      <th>incognito_mode</th>\n",
       "    </tr>\n",
       "  </thead>\n",
       "  <tbody>\n",
       "    <tr>\n",
       "      <th>5559</th>\n",
       "      <td>2017-05-07 15:34:42+07:00</td>\n",
       "      <td>Windows 10 (10.0.14393; x64)</td>\n",
       "      <td>2950</td>\n",
       "      <td>ID</td>\n",
       "      <td>I Know It's Not Easy but You're Not Alone Anymore</td>\n",
       "      <td>In Love With a Ghost</td>\n",
       "      <td>Healing</td>\n",
       "      <td>spotify:track:7xRfZ4bQgEg60LQa3vgx02</td>\n",
       "      <td>fwdbtn</td>\n",
       "      <td>NaN</td>\n",
       "      <td>True</td>\n",
       "      <td>NaN</td>\n",
       "      <td>False</td>\n",
       "      <td>False</td>\n",
       "    </tr>\n",
       "    <tr>\n",
       "      <th>84503</th>\n",
       "      <td>2021-10-13 05:08:41+09:00</td>\n",
       "      <td>Android OS 11 API 30 (OnePlus, HD1910)</td>\n",
       "      <td>243497</td>\n",
       "      <td>JP</td>\n",
       "      <td>drivers license</td>\n",
       "      <td>Us The Duo</td>\n",
       "      <td>drivers license</td>\n",
       "      <td>spotify:track:6i8lDXu86pOsPwGbxoD4RI</td>\n",
       "      <td>trackdone</td>\n",
       "      <td>trackdone</td>\n",
       "      <td>True</td>\n",
       "      <td>NaN</td>\n",
       "      <td>False</td>\n",
       "      <td>False</td>\n",
       "    </tr>\n",
       "    <tr>\n",
       "      <th>8492</th>\n",
       "      <td>2017-06-30 23:07:53+07:00</td>\n",
       "      <td>Windows 10 (10.0.14393; x64)</td>\n",
       "      <td>234666</td>\n",
       "      <td>ID</td>\n",
       "      <td>We'll Be Together</td>\n",
       "      <td>In Love With a Ghost</td>\n",
       "      <td>Discography 2015-2016</td>\n",
       "      <td>spotify:track:3nhBvq3wC6zsNf23cYvXFT</td>\n",
       "      <td>trackdone</td>\n",
       "      <td>NaN</td>\n",
       "      <td>True</td>\n",
       "      <td>NaN</td>\n",
       "      <td>False</td>\n",
       "      <td>False</td>\n",
       "    </tr>\n",
       "    <tr>\n",
       "      <th>51731</th>\n",
       "      <td>2019-10-15 14:11:24+09:00</td>\n",
       "      <td>Android OS 9 API 28 (OnePlus, ONEPLUS A5010)</td>\n",
       "      <td>8620</td>\n",
       "      <td>JP</td>\n",
       "      <td>Graves</td>\n",
       "      <td>CHVRCHES</td>\n",
       "      <td>Love Is Dead</td>\n",
       "      <td>spotify:track:4j1CYpZbbN26VKTby9nnet</td>\n",
       "      <td>appload</td>\n",
       "      <td>trackdone</td>\n",
       "      <td>False</td>\n",
       "      <td>NaN</td>\n",
       "      <td>False</td>\n",
       "      <td>False</td>\n",
       "    </tr>\n",
       "    <tr>\n",
       "      <th>40833</th>\n",
       "      <td>2019-03-09 19:31:11+09:00</td>\n",
       "      <td>Android OS 9 API 28 (OnePlus, ONEPLUS A5010)</td>\n",
       "      <td>198800</td>\n",
       "      <td>JP</td>\n",
       "      <td>Ada Di Sana</td>\n",
       "      <td>Danilla</td>\n",
       "      <td>Telisik</td>\n",
       "      <td>spotify:track:7e3JeMmuteFbUJuUjH1RfS</td>\n",
       "      <td>trackdone</td>\n",
       "      <td>trackdone</td>\n",
       "      <td>False</td>\n",
       "      <td>NaN</td>\n",
       "      <td>False</td>\n",
       "      <td>False</td>\n",
       "    </tr>\n",
       "  </tbody>\n",
       "</table>\n",
       "</div>"
      ],
      "text/plain": [
       "                              ts  \\\n",
       "5559   2017-05-07 15:34:42+07:00   \n",
       "84503  2021-10-13 05:08:41+09:00   \n",
       "8492   2017-06-30 23:07:53+07:00   \n",
       "51731  2019-10-15 14:11:24+09:00   \n",
       "40833  2019-03-09 19:31:11+09:00   \n",
       "\n",
       "                                           platform  ms_played conn_country  \\\n",
       "5559                   Windows 10 (10.0.14393; x64)       2950           ID   \n",
       "84503        Android OS 11 API 30 (OnePlus, HD1910)     243497           JP   \n",
       "8492                   Windows 10 (10.0.14393; x64)     234666           ID   \n",
       "51731  Android OS 9 API 28 (OnePlus, ONEPLUS A5010)       8620           JP   \n",
       "40833  Android OS 9 API 28 (OnePlus, ONEPLUS A5010)     198800           JP   \n",
       "\n",
       "                                              track_name  \\\n",
       "5559   I Know It's Not Easy but You're Not Alone Anymore   \n",
       "84503                                    drivers license   \n",
       "8492                                   We'll Be Together   \n",
       "51731                                             Graves   \n",
       "40833                                        Ada Di Sana   \n",
       "\n",
       "                artist_name             album_name  \\\n",
       "5559   In Love With a Ghost                Healing   \n",
       "84503            Us The Duo        drivers license   \n",
       "8492   In Love With a Ghost  Discography 2015-2016   \n",
       "51731              CHVRCHES           Love Is Dead   \n",
       "40833               Danilla                Telisik   \n",
       "\n",
       "                          spotify_track_uri reason_start reason_end  shuffle  \\\n",
       "5559   spotify:track:7xRfZ4bQgEg60LQa3vgx02       fwdbtn        NaN     True   \n",
       "84503  spotify:track:6i8lDXu86pOsPwGbxoD4RI    trackdone  trackdone     True   \n",
       "8492   spotify:track:3nhBvq3wC6zsNf23cYvXFT    trackdone        NaN     True   \n",
       "51731  spotify:track:4j1CYpZbbN26VKTby9nnet      appload  trackdone    False   \n",
       "40833  spotify:track:7e3JeMmuteFbUJuUjH1RfS    trackdone  trackdone    False   \n",
       "\n",
       "      skipped  offline  incognito_mode  \n",
       "5559      NaN    False           False  \n",
       "84503     NaN    False           False  \n",
       "8492      NaN    False           False  \n",
       "51731     NaN    False           False  \n",
       "40833     NaN    False           False  "
      ]
     },
     "execution_count": 230,
     "metadata": {},
     "output_type": "execute_result"
    }
   ],
   "source": [
    "tracks_df.sample(5)"
   ]
  },
  {
   "cell_type": "markdown",
   "metadata": {},
   "source": [
    "### handling platform columns"
   ]
  },
  {
   "cell_type": "code",
   "execution_count": 231,
   "metadata": {},
   "outputs": [],
   "source": [
    "# trim the platform values to only the first word and make it lowercase\n",
    "tracks_df['platform'] = tracks_df['platform'].str.split().str[0].str.lower()"
   ]
  },
  {
   "cell_type": "code",
   "execution_count": 232,
   "metadata": {},
   "outputs": [],
   "source": [
    "# replace 'partner' value in platform column with 'web_player'\n",
    "tracks_df['platform'].replace('partner', 'web_player', inplace=True)"
   ]
  },
  {
   "cell_type": "code",
   "execution_count": 233,
   "metadata": {},
   "outputs": [
    {
     "data": {
      "text/plain": [
       "platform\n",
       "android       97301\n",
       "windows       32015\n",
       "web_player       77\n",
       "Name: count, dtype: int64"
      ]
     },
     "execution_count": 233,
     "metadata": {},
     "output_type": "execute_result"
    }
   ],
   "source": [
    "tracks_df['platform'].value_counts()"
   ]
  },
  {
   "cell_type": "markdown",
   "metadata": {},
   "source": [
    "### handling spotify_track_uri to only track_id"
   ]
  },
  {
   "cell_type": "code",
   "execution_count": 234,
   "metadata": {},
   "outputs": [],
   "source": [
    "# trim spotify_track_uri to only the track id and rename the column into track_id\n",
    "tracks_df['spotify_track_uri'] = tracks_df['spotify_track_uri'].str.split(':').str[2]\n",
    "tracks_df.rename(columns={'spotify_track_uri':'track_id'}, inplace=True)"
   ]
  },
  {
   "cell_type": "code",
   "execution_count": 235,
   "metadata": {},
   "outputs": [
    {
     "data": {
      "text/html": [
       "<div>\n",
       "<style scoped>\n",
       "    .dataframe tbody tr th:only-of-type {\n",
       "        vertical-align: middle;\n",
       "    }\n",
       "\n",
       "    .dataframe tbody tr th {\n",
       "        vertical-align: top;\n",
       "    }\n",
       "\n",
       "    .dataframe thead th {\n",
       "        text-align: right;\n",
       "    }\n",
       "</style>\n",
       "<table border=\"1\" class=\"dataframe\">\n",
       "  <thead>\n",
       "    <tr style=\"text-align: right;\">\n",
       "      <th></th>\n",
       "      <th>ts</th>\n",
       "      <th>platform</th>\n",
       "      <th>ms_played</th>\n",
       "      <th>conn_country</th>\n",
       "      <th>track_name</th>\n",
       "      <th>artist_name</th>\n",
       "      <th>album_name</th>\n",
       "      <th>track_id</th>\n",
       "      <th>reason_start</th>\n",
       "      <th>reason_end</th>\n",
       "      <th>shuffle</th>\n",
       "      <th>skipped</th>\n",
       "      <th>offline</th>\n",
       "      <th>incognito_mode</th>\n",
       "    </tr>\n",
       "  </thead>\n",
       "  <tbody>\n",
       "    <tr>\n",
       "      <th>97714</th>\n",
       "      <td>2022-06-22 08:38:05+07:00</td>\n",
       "      <td>android</td>\n",
       "      <td>37293</td>\n",
       "      <td>ID</td>\n",
       "      <td>You're Not Special, Babe</td>\n",
       "      <td>Orla Gartland</td>\n",
       "      <td>Woman on the Internet</td>\n",
       "      <td>0GaVSVifeBSwnNTNordPGC</td>\n",
       "      <td>appload</td>\n",
       "      <td>trackdone</td>\n",
       "      <td>False</td>\n",
       "      <td>NaN</td>\n",
       "      <td>False</td>\n",
       "      <td>False</td>\n",
       "    </tr>\n",
       "    <tr>\n",
       "      <th>114998</th>\n",
       "      <td>2023-04-14 04:59:06+09:00</td>\n",
       "      <td>android</td>\n",
       "      <td>197278</td>\n",
       "      <td>JP</td>\n",
       "      <td>Secret For The Mad</td>\n",
       "      <td>dodie</td>\n",
       "      <td>You - EP</td>\n",
       "      <td>2Uk0aFqYCtecHL5MCq2we0</td>\n",
       "      <td>trackdone</td>\n",
       "      <td>trackdone</td>\n",
       "      <td>True</td>\n",
       "      <td>False</td>\n",
       "      <td>True</td>\n",
       "      <td>False</td>\n",
       "    </tr>\n",
       "    <tr>\n",
       "      <th>23613</th>\n",
       "      <td>2018-06-04 10:30:08+09:00</td>\n",
       "      <td>android</td>\n",
       "      <td>2706</td>\n",
       "      <td>JP</td>\n",
       "      <td>I Miss You</td>\n",
       "      <td>Burbank</td>\n",
       "      <td>Bedroom</td>\n",
       "      <td>3LqERNkL9HK3yPmkVYFB3I</td>\n",
       "      <td>backbtn</td>\n",
       "      <td>fwdbtn</td>\n",
       "      <td>False</td>\n",
       "      <td>NaN</td>\n",
       "      <td>False</td>\n",
       "      <td>False</td>\n",
       "    </tr>\n",
       "    <tr>\n",
       "      <th>53071</th>\n",
       "      <td>2019-11-27 19:55:33+09:00</td>\n",
       "      <td>android</td>\n",
       "      <td>162082</td>\n",
       "      <td>JP</td>\n",
       "      <td>Haru ni yuraredo kimi omou</td>\n",
       "      <td>kobasolo</td>\n",
       "      <td>Clumsy</td>\n",
       "      <td>0o7ArBihcyH8nv4Bhfb2uM</td>\n",
       "      <td>appload</td>\n",
       "      <td>trackdone</td>\n",
       "      <td>False</td>\n",
       "      <td>NaN</td>\n",
       "      <td>False</td>\n",
       "      <td>False</td>\n",
       "    </tr>\n",
       "    <tr>\n",
       "      <th>91182</th>\n",
       "      <td>2022-02-01 22:41:16+09:00</td>\n",
       "      <td>android</td>\n",
       "      <td>119759</td>\n",
       "      <td>JP</td>\n",
       "      <td>(Stop) Just Love</td>\n",
       "      <td>Us The Duo</td>\n",
       "      <td>Just Love</td>\n",
       "      <td>4hGgIRtsp9nvgMCmUz0n37</td>\n",
       "      <td>trackdone</td>\n",
       "      <td>logout</td>\n",
       "      <td>True</td>\n",
       "      <td>NaN</td>\n",
       "      <td>False</td>\n",
       "      <td>False</td>\n",
       "    </tr>\n",
       "  </tbody>\n",
       "</table>\n",
       "</div>"
      ],
      "text/plain": [
       "                               ts platform  ms_played conn_country  \\\n",
       "97714   2022-06-22 08:38:05+07:00  android      37293           ID   \n",
       "114998  2023-04-14 04:59:06+09:00  android     197278           JP   \n",
       "23613   2018-06-04 10:30:08+09:00  android       2706           JP   \n",
       "53071   2019-11-27 19:55:33+09:00  android     162082           JP   \n",
       "91182   2022-02-01 22:41:16+09:00  android     119759           JP   \n",
       "\n",
       "                        track_name    artist_name             album_name  \\\n",
       "97714     You're Not Special, Babe  Orla Gartland  Woman on the Internet   \n",
       "114998          Secret For The Mad          dodie               You - EP   \n",
       "23613                   I Miss You        Burbank                Bedroom   \n",
       "53071   Haru ni yuraredo kimi omou       kobasolo                 Clumsy   \n",
       "91182             (Stop) Just Love     Us The Duo              Just Love   \n",
       "\n",
       "                      track_id reason_start reason_end  shuffle skipped  \\\n",
       "97714   0GaVSVifeBSwnNTNordPGC      appload  trackdone    False     NaN   \n",
       "114998  2Uk0aFqYCtecHL5MCq2we0    trackdone  trackdone     True   False   \n",
       "23613   3LqERNkL9HK3yPmkVYFB3I      backbtn     fwdbtn    False     NaN   \n",
       "53071   0o7ArBihcyH8nv4Bhfb2uM      appload  trackdone    False     NaN   \n",
       "91182   4hGgIRtsp9nvgMCmUz0n37    trackdone     logout     True     NaN   \n",
       "\n",
       "        offline  incognito_mode  \n",
       "97714     False           False  \n",
       "114998     True           False  \n",
       "23613     False           False  \n",
       "53071     False           False  \n",
       "91182     False           False  "
      ]
     },
     "execution_count": 235,
     "metadata": {},
     "output_type": "execute_result"
    }
   ],
   "source": [
    "tracks_df.sample(5)"
   ]
  },
  {
   "cell_type": "markdown",
   "metadata": {},
   "source": [
    "### handling shuffle, offline and incognito mode columns"
   ]
  },
  {
   "cell_type": "code",
   "execution_count": 236,
   "metadata": {},
   "outputs": [],
   "source": [
    "# convert True and False values in 'shuffle' column into 1 and 0\n",
    "tracks_df['shuffle'] = tracks_df['shuffle'].astype(int)"
   ]
  },
  {
   "cell_type": "code",
   "execution_count": 237,
   "metadata": {},
   "outputs": [],
   "source": [
    "# convert True and False values in 'offline' column into 1 and 0\n",
    "tracks_df['offline'] = tracks_df['offline'].astype(int)"
   ]
  },
  {
   "cell_type": "code",
   "execution_count": 238,
   "metadata": {},
   "outputs": [],
   "source": [
    "# convert True and False values in 'incognito_mode' column into 1 and 0\n",
    "tracks_df['incognito_mode'] = tracks_df['incognito_mode'].astype(int)"
   ]
  },
  {
   "cell_type": "markdown",
   "metadata": {},
   "source": [
    "### handling 'skipped' column\n",
    "there are few things that we need to do here:\n",
    "- convert True/False to 1/0, as well as 1.0/0.0 to 1/0\n",
    "- assign NaN rows with its correct value as many as possible using reason_end and track's duration "
   ]
  },
  {
   "cell_type": "markdown",
   "metadata": {},
   "source": [
    "## saving the processed data"
   ]
  },
  {
   "cell_type": "code",
   "execution_count": 245,
   "metadata": {},
   "outputs": [
    {
     "data": {
      "text/html": [
       "<div>\n",
       "<style scoped>\n",
       "    .dataframe tbody tr th:only-of-type {\n",
       "        vertical-align: middle;\n",
       "    }\n",
       "\n",
       "    .dataframe tbody tr th {\n",
       "        vertical-align: top;\n",
       "    }\n",
       "\n",
       "    .dataframe thead th {\n",
       "        text-align: right;\n",
       "    }\n",
       "</style>\n",
       "<table border=\"1\" class=\"dataframe\">\n",
       "  <thead>\n",
       "    <tr style=\"text-align: right;\">\n",
       "      <th></th>\n",
       "      <th>ts</th>\n",
       "      <th>platform</th>\n",
       "      <th>ms_played</th>\n",
       "      <th>conn_country</th>\n",
       "      <th>track_name</th>\n",
       "      <th>artist_name</th>\n",
       "      <th>album_name</th>\n",
       "      <th>track_id</th>\n",
       "      <th>reason_start</th>\n",
       "      <th>reason_end</th>\n",
       "      <th>shuffle</th>\n",
       "      <th>skipped</th>\n",
       "      <th>offline</th>\n",
       "      <th>incognito_mode</th>\n",
       "      <th>ts_local</th>\n",
       "    </tr>\n",
       "  </thead>\n",
       "  <tbody>\n",
       "    <tr>\n",
       "      <th>22798</th>\n",
       "      <td>2018-05-26 12:48:56+00:00</td>\n",
       "      <td>android</td>\n",
       "      <td>78720</td>\n",
       "      <td>JP</td>\n",
       "      <td>Good Morning Qt</td>\n",
       "      <td>In Love With a Ghost</td>\n",
       "      <td>Discography 2015-2016</td>\n",
       "      <td>3HO8tYJGwNdOlctYzGhzkH</td>\n",
       "      <td>trackdone</td>\n",
       "      <td>trackdone</td>\n",
       "      <td>1</td>\n",
       "      <td>NaN</td>\n",
       "      <td>0</td>\n",
       "      <td>0</td>\n",
       "      <td>2018-05-26 21:48:56+09:00</td>\n",
       "    </tr>\n",
       "    <tr>\n",
       "      <th>19939</th>\n",
       "      <td>2018-03-18 16:11:33+00:00</td>\n",
       "      <td>windows</td>\n",
       "      <td>223064</td>\n",
       "      <td>ID</td>\n",
       "      <td>Dragon Night</td>\n",
       "      <td>SEKAI NO OWARI</td>\n",
       "      <td>Dragon Night</td>\n",
       "      <td>24lfxhAGqFbxMWCPg23wOV</td>\n",
       "      <td>fwdbtn</td>\n",
       "      <td>NaN</td>\n",
       "      <td>1</td>\n",
       "      <td>NaN</td>\n",
       "      <td>0</td>\n",
       "      <td>0</td>\n",
       "      <td>2018-03-18 23:11:33+07:00</td>\n",
       "    </tr>\n",
       "    <tr>\n",
       "      <th>37337</th>\n",
       "      <td>2019-01-01 18:03:25+00:00</td>\n",
       "      <td>android</td>\n",
       "      <td>133764</td>\n",
       "      <td>JP</td>\n",
       "      <td>Baby</td>\n",
       "      <td>Bishop Briggs</td>\n",
       "      <td>Baby</td>\n",
       "      <td>21vwWfS6qvxh8TN3lgHvZr</td>\n",
       "      <td>appload</td>\n",
       "      <td>trackdone</td>\n",
       "      <td>1</td>\n",
       "      <td>NaN</td>\n",
       "      <td>0</td>\n",
       "      <td>0</td>\n",
       "      <td>2019-01-02 03:03:25+09:00</td>\n",
       "    </tr>\n",
       "    <tr>\n",
       "      <th>76172</th>\n",
       "      <td>2021-04-18 09:11:39+00:00</td>\n",
       "      <td>android</td>\n",
       "      <td>210917</td>\n",
       "      <td>JP</td>\n",
       "      <td>Us Against the World</td>\n",
       "      <td>Daniela Andrade</td>\n",
       "      <td>Covers, Vol. 1</td>\n",
       "      <td>6bIOb9jMS0Fh01zTdQYfdt</td>\n",
       "      <td>trackdone</td>\n",
       "      <td>trackdone</td>\n",
       "      <td>0</td>\n",
       "      <td>NaN</td>\n",
       "      <td>0</td>\n",
       "      <td>0</td>\n",
       "      <td>2021-04-18 18:11:39+09:00</td>\n",
       "    </tr>\n",
       "    <tr>\n",
       "      <th>98653</th>\n",
       "      <td>2022-07-03 03:25:16+00:00</td>\n",
       "      <td>android</td>\n",
       "      <td>187185</td>\n",
       "      <td>ID</td>\n",
       "      <td>Knock Me Off My Feet</td>\n",
       "      <td>SOAK</td>\n",
       "      <td>Grim Town</td>\n",
       "      <td>3adNtom9Dn2NXmgHf0OwZR</td>\n",
       "      <td>trackdone</td>\n",
       "      <td>trackdone</td>\n",
       "      <td>0</td>\n",
       "      <td>NaN</td>\n",
       "      <td>0</td>\n",
       "      <td>0</td>\n",
       "      <td>2022-07-03 10:25:16+07:00</td>\n",
       "    </tr>\n",
       "  </tbody>\n",
       "</table>\n",
       "</div>"
      ],
      "text/plain": [
       "                             ts platform  ms_played conn_country  \\\n",
       "22798 2018-05-26 12:48:56+00:00  android      78720           JP   \n",
       "19939 2018-03-18 16:11:33+00:00  windows     223064           ID   \n",
       "37337 2019-01-01 18:03:25+00:00  android     133764           JP   \n",
       "76172 2021-04-18 09:11:39+00:00  android     210917           JP   \n",
       "98653 2022-07-03 03:25:16+00:00  android     187185           ID   \n",
       "\n",
       "                 track_name           artist_name             album_name  \\\n",
       "22798       Good Morning Qt  In Love With a Ghost  Discography 2015-2016   \n",
       "19939          Dragon Night        SEKAI NO OWARI           Dragon Night   \n",
       "37337                  Baby         Bishop Briggs                   Baby   \n",
       "76172  Us Against the World       Daniela Andrade         Covers, Vol. 1   \n",
       "98653  Knock Me Off My Feet                  SOAK              Grim Town   \n",
       "\n",
       "                     track_id reason_start reason_end  shuffle skipped  \\\n",
       "22798  3HO8tYJGwNdOlctYzGhzkH    trackdone  trackdone        1     NaN   \n",
       "19939  24lfxhAGqFbxMWCPg23wOV       fwdbtn        NaN        1     NaN   \n",
       "37337  21vwWfS6qvxh8TN3lgHvZr      appload  trackdone        1     NaN   \n",
       "76172  6bIOb9jMS0Fh01zTdQYfdt    trackdone  trackdone        0     NaN   \n",
       "98653  3adNtom9Dn2NXmgHf0OwZR    trackdone  trackdone        0     NaN   \n",
       "\n",
       "       offline  incognito_mode                   ts_local  \n",
       "22798        0               0  2018-05-26 21:48:56+09:00  \n",
       "19939        0               0  2018-03-18 23:11:33+07:00  \n",
       "37337        0               0  2019-01-02 03:03:25+09:00  \n",
       "76172        0               0  2021-04-18 18:11:39+09:00  \n",
       "98653        0               0  2022-07-03 10:25:16+07:00  "
      ]
     },
     "execution_count": 245,
     "metadata": {},
     "output_type": "execute_result"
    }
   ],
   "source": [
    "tracks_df.sample(5)"
   ]
  },
  {
   "cell_type": "code",
   "execution_count": 246,
   "metadata": {},
   "outputs": [],
   "source": [
    "#save tracks_df into csv\n",
    "tracks_df.to_csv('datasets/tracks_df_processed.csv', index=False)"
   ]
  }
 ],
 "metadata": {
  "kernelspec": {
   "display_name": "Python 3",
   "language": "python",
   "name": "python3"
  },
  "language_info": {
   "codemirror_mode": {
    "name": "ipython",
    "version": 3
   },
   "file_extension": ".py",
   "mimetype": "text/x-python",
   "name": "python",
   "nbconvert_exporter": "python",
   "pygments_lexer": "ipython3",
   "version": "3.11.5"
  }
 },
 "nbformat": 4,
 "nbformat_minor": 2
}
