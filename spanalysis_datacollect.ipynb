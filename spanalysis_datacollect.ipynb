{
 "cells": [
  {
   "cell_type": "markdown",
   "metadata": {},
   "source": [
    "# Library Imports"
   ]
  },
  {
   "cell_type": "code",
   "execution_count": 2,
   "metadata": {},
   "outputs": [],
   "source": [
    "import pandas as pd\n",
    "import glob\n",
    "import requests\n",
    "import time"
   ]
  },
  {
   "cell_type": "code",
   "execution_count": 112,
   "metadata": {},
   "outputs": [],
   "source": [
    "import seaborn as sns"
   ]
  },
  {
   "cell_type": "markdown",
   "metadata": {},
   "source": [
    "# Data Imports / Exports"
   ]
  },
  {
   "cell_type": "code",
   "execution_count": 35,
   "metadata": {},
   "outputs": [],
   "source": [
    "# THESE FILES ARE EXCLUDED FROM THE REPOSITORY\n",
    "stream_json = glob.glob('datasets/Streaming_History_Audio*.json')"
   ]
  },
  {
   "cell_type": "code",
   "execution_count": 36,
   "metadata": {},
   "outputs": [
    {
     "data": {
      "text/plain": [
       "['datasets\\\\Streaming_History_Audio_2016-2017_0.json',\n",
       " 'datasets\\\\Streaming_History_Audio_2017-2018_1.json',\n",
       " 'datasets\\\\Streaming_History_Audio_2018-2019_2.json',\n",
       " 'datasets\\\\Streaming_History_Audio_2019-2020_3.json',\n",
       " 'datasets\\\\Streaming_History_Audio_2020-2021_4.json',\n",
       " 'datasets\\\\Streaming_History_Audio_2021-2022_5.json',\n",
       " 'datasets\\\\Streaming_History_Audio_2022-2023_6.json',\n",
       " 'datasets\\\\Streaming_History_Audio_2023_7.json',\n",
       " 'datasets\\\\Streaming_History_Audio_2023_8.json']"
      ]
     },
     "execution_count": 36,
     "metadata": {},
     "output_type": "execute_result"
    }
   ],
   "source": [
    "# see the list of globbed files\n",
    "stream_json"
   ]
  },
  {
   "cell_type": "code",
   "execution_count": 40,
   "metadata": {},
   "outputs": [],
   "source": [
    "# load the globbed files into a dataframe\n",
    "stream_df = pd.concat([pd.read_json(f) for f in stream_json])"
   ]
  },
  {
   "cell_type": "code",
   "execution_count": 3,
   "metadata": {},
   "outputs": [
    {
     "name": "stderr",
     "output_type": "stream",
     "text": [
      "C:\\Users\\Kim\\AppData\\Local\\Temp\\ipykernel_20844\\2056156176.py:1: DtypeWarning: Columns (14) have mixed types. Specify dtype option on import or set low_memory=False.\n",
      "  tracks_df = pd.read_csv('datasets/tracks_df.csv')\n"
     ]
    }
   ],
   "source": [
    "tracks_df = pd.read_csv('datasets/tracks_df.csv')\n",
    "podcasts_df = pd.read_csv('datasets/podcasts_df.csv')"
   ]
  },
  {
   "cell_type": "markdown",
   "metadata": {},
   "source": [
    "# Preparing for Data Collection\n",
    "we need 4 things here.\n",
    "1. tracks streaming history\n",
    "2. podcasts streaming history\n",
    "3. list of unique tracks streamed\n",
    "4. ~~list of unique podcasts streamed~~ not really needed actually"
   ]
  },
  {
   "cell_type": "code",
   "execution_count": 41,
   "metadata": {},
   "outputs": [
    {
     "name": "stdout",
     "output_type": "stream",
     "text": [
      "(128775, 21)\n",
      "Index(['ts', 'username', 'platform', 'ms_played', 'conn_country',\n",
      "       'ip_addr_decrypted', 'user_agent_decrypted',\n",
      "       'master_metadata_track_name', 'master_metadata_album_artist_name',\n",
      "       'master_metadata_album_album_name', 'spotify_track_uri', 'episode_name',\n",
      "       'episode_show_name', 'spotify_episode_uri', 'reason_start',\n",
      "       'reason_end', 'shuffle', 'skipped', 'offline', 'offline_timestamp',\n",
      "       'incognito_mode'],\n",
      "      dtype='object')\n"
     ]
    }
   ],
   "source": [
    "print(stream_df.shape)\n",
    "print(stream_df.columns)"
   ]
  },
  {
   "cell_type": "code",
   "execution_count": 42,
   "metadata": {},
   "outputs": [
    {
     "name": "stdout",
     "output_type": "stream",
     "text": [
      "<class 'pandas.core.frame.DataFrame'>\n",
      "Index: 128775 entries, 0 to 1545\n",
      "Data columns (total 21 columns):\n",
      " #   Column                             Non-Null Count   Dtype \n",
      "---  ------                             --------------   ----- \n",
      " 0   ts                                 128775 non-null  object\n",
      " 1   username                           128775 non-null  object\n",
      " 2   platform                           128775 non-null  object\n",
      " 3   ms_played                          128775 non-null  int64 \n",
      " 4   conn_country                       128775 non-null  object\n",
      " 5   ip_addr_decrypted                  108167 non-null  object\n",
      " 6   user_agent_decrypted               108167 non-null  object\n",
      " 7   master_metadata_track_name         127961 non-null  object\n",
      " 8   master_metadata_album_artist_name  127961 non-null  object\n",
      " 9   master_metadata_album_album_name   127961 non-null  object\n",
      " 10  spotify_track_uri                  127961 non-null  object\n",
      " 11  episode_name                       639 non-null     object\n",
      " 12  episode_show_name                  639 non-null     object\n",
      " 13  spotify_episode_uri                639 non-null     object\n",
      " 14  reason_start                       128775 non-null  object\n",
      " 15  reason_end                         108167 non-null  object\n",
      " 16  shuffle                            128775 non-null  bool  \n",
      " 17  skipped                            22580 non-null   object\n",
      " 18  offline                            128775 non-null  bool  \n",
      " 19  offline_timestamp                  128775 non-null  int64 \n",
      " 20  incognito_mode                     128775 non-null  bool  \n",
      "dtypes: bool(3), int64(2), object(16)\n",
      "memory usage: 19.0+ MB\n"
     ]
    }
   ],
   "source": [
    "stream_df.info()"
   ]
  },
  {
   "cell_type": "code",
   "execution_count": 43,
   "metadata": {},
   "outputs": [
    {
     "data": {
      "text/plain": [
       "ts                                   121283\n",
       "username                                  1\n",
       "platform                                 33\n",
       "ms_played                             26836\n",
       "conn_country                              9\n",
       "ip_addr_decrypted                      2737\n",
       "user_agent_decrypted                      6\n",
       "master_metadata_track_name             4714\n",
       "master_metadata_album_artist_name      1639\n",
       "master_metadata_album_album_name       2680\n",
       "spotify_track_uri                      5172\n",
       "episode_name                            295\n",
       "episode_show_name                        31\n",
       "spotify_episode_uri                     295\n",
       "reason_start                              8\n",
       "reason_end                               10\n",
       "shuffle                                   2\n",
       "skipped                                   2\n",
       "offline                                   2\n",
       "offline_timestamp                    126902\n",
       "incognito_mode                            2\n",
       "dtype: int64"
      ]
     },
     "execution_count": 43,
     "metadata": {},
     "output_type": "execute_result"
    }
   ],
   "source": [
    "# number of unique values in each column\n",
    "stream_df.nunique()"
   ]
  },
  {
   "cell_type": "code",
   "execution_count": 44,
   "metadata": {},
   "outputs": [
    {
     "data": {
      "text/plain": [
       "ts                                        0\n",
       "username                                  0\n",
       "platform                                  0\n",
       "ms_played                                 0\n",
       "conn_country                              0\n",
       "ip_addr_decrypted                     20608\n",
       "user_agent_decrypted                  20608\n",
       "master_metadata_track_name              814\n",
       "master_metadata_album_artist_name       814\n",
       "master_metadata_album_album_name        814\n",
       "spotify_track_uri                       814\n",
       "episode_name                         128136\n",
       "episode_show_name                    128136\n",
       "spotify_episode_uri                  128136\n",
       "reason_start                              0\n",
       "reason_end                            20608\n",
       "shuffle                                   0\n",
       "skipped                              106195\n",
       "offline                                   0\n",
       "offline_timestamp                         0\n",
       "incognito_mode                            0\n",
       "dtype: int64"
      ]
     },
     "execution_count": 44,
     "metadata": {},
     "output_type": "execute_result"
    }
   ],
   "source": [
    "stream_df.isna().sum()"
   ]
  },
  {
   "cell_type": "code",
   "execution_count": 45,
   "metadata": {},
   "outputs": [
    {
     "data": {
      "text/plain": [
       "user_agent_decrypted\n",
       "unknown                                                                                                                                                                  108091\n",
       "Mozilla%2F5.0%20(Windows%20NT%2010.0;%20Win64;%20x64)%20AppleWebKit%2F537.36%20(KHTML,%20like%20Gecko)%20Chrome%2F95.0.4638.54%20Safari%2F537.36%20Edg%2F95.0.1020.40        66\n",
       "Mozilla%2F5.0%20(Windows%20NT%2010.0;%20Win64;%20x64;%20rv:84.0)%20Gecko%2F20100101%20Firefox%2F84.0                                                                          6\n",
       "Mozilla%2F5.0%20(Windows%20NT%2010.0;%20Win64;%20x64;%20rv:61.0)%20Gecko%2F20100101%20Firefox%2F61.0                                                                          2\n",
       "Mozilla%2F5.0%20(Windows%20NT%2010.0;%20Win64;%20x64;%20rv:69.0)%20Gecko%2F20100101%20Firefox%2F69.0                                                                          1\n",
       "Mozilla%2F5.0%20(Windows%20NT%2010.0;%20Win64;%20x64;%20rv:83.0)%20Gecko%2F20100101%20Firefox%2F83.0                                                                          1\n",
       "Name: count, dtype: int64"
      ]
     },
     "execution_count": 45,
     "metadata": {},
     "output_type": "execute_result"
    }
   ],
   "source": [
    "stream_df['user_agent_decrypted'].value_counts()"
   ]
  },
  {
   "cell_type": "code",
   "execution_count": 46,
   "metadata": {},
   "outputs": [],
   "source": [
    "# dropping some columns that might cnotain sensitive information or just not useful\n",
    "stream_df.drop(columns=['username', 'ip_addr_decrypted', 'user_agent_decrypted'], inplace=True)"
   ]
  },
  {
   "cell_type": "markdown",
   "metadata": {},
   "source": [
    "there are a huge number of null value of 'spotify_episode_uri', indicating that tracks/songs and podcasts don't share same uri, we need to separate this into its own dataframe (for tracks and podcasts)"
   ]
  },
  {
   "cell_type": "code",
   "execution_count": 55,
   "metadata": {},
   "outputs": [
    {
     "name": "stdout",
     "output_type": "stream",
     "text": [
      "(175, 18)\n",
      "(0, 18)\n"
     ]
    }
   ],
   "source": [
    "# rows with null in both spotify_track_uri and spotify_episode_uri\n",
    "print(stream_df[stream_df['spotify_episode_uri'].isna() & stream_df['spotify_track_uri'].isna()].shape)\n",
    "print(stream_df[stream_df['spotify_episode_uri'].notna() & stream_df['spotify_track_uri'].notna()].shape)"
   ]
  },
  {
   "cell_type": "markdown",
   "metadata": {},
   "source": [
    "so apparently there exists some rows are null on both spotify_episode_uri and spotify_track_uri, so those should be excluded as well"
   ]
  },
  {
   "cell_type": "code",
   "execution_count": 56,
   "metadata": {},
   "outputs": [],
   "source": [
    "# get rows with null values in 'spotify_episode_uri' column and put it into a new dataframe\n",
    "tracks_df = stream_df[stream_df['spotify_track_uri'].notna()]\n",
    "podcasts_df = stream_df[stream_df['spotify_episode_uri'].notna()]"
   ]
  },
  {
   "cell_type": "code",
   "execution_count": 4,
   "metadata": {},
   "outputs": [
    {
     "name": "stdout",
     "output_type": "stream",
     "text": [
      "(127961, 18)\n",
      "(639, 18)\n"
     ]
    }
   ],
   "source": [
    "print(tracks_df.shape)\n",
    "print(podcasts_df.shape)"
   ]
  },
  {
   "cell_type": "code",
   "execution_count": 5,
   "metadata": {},
   "outputs": [],
   "source": [
    "# list of tracks, containing unique values in 'spotify_track_uri' column\n",
    "tracks_uri_list = tracks_df['spotify_track_uri'].unique().tolist()\n",
    "podcasts_uri_list = podcasts_df['spotify_episode_uri'].unique().tolist()"
   ]
  },
  {
   "cell_type": "code",
   "execution_count": 59,
   "metadata": {},
   "outputs": [
    {
     "name": "stdout",
     "output_type": "stream",
     "text": [
      "5172\n",
      "295\n"
     ]
    }
   ],
   "source": [
    "print(len(tracks_uri_list))\n",
    "print(len(podcasts_uri_list))"
   ]
  },
  {
   "cell_type": "code",
   "execution_count": 60,
   "metadata": {},
   "outputs": [],
   "source": [
    "# save tracks_df and podcasts_df into csv\n",
    "tracks_df.to_csv('datasets/tracks_df.csv', index=False)\n",
    "podcasts_df.to_csv('datasets/podcasts_df.csv', index=False)"
   ]
  },
  {
   "cell_type": "markdown",
   "metadata": {},
   "source": [
    "# Data Collection (Spotipy)\n",
    "now we're going to collect the using [Spotipy](https://spotipy.readthedocs.io/en/2.22.1/), it'll require user credentials (client_id and client_secret) which you can get [here](https://developer.spotify.com/dashboard) by registering your app at the dashboard"
   ]
  },
  {
   "cell_type": "code",
   "execution_count": 6,
   "metadata": {},
   "outputs": [],
   "source": [
    "import spotipy\n",
    "from spotipy.oauth2 import SpotifyClientCredentials"
   ]
  },
  {
   "cell_type": "code",
   "execution_count": 7,
   "metadata": {},
   "outputs": [],
   "source": [
    "# Spotify API credentials (client_id and client_secret used will be excluded from the repository)\n",
    "client_id = '7ba18f5bf5a947508d0354a128f17ad8'\n",
    "client_secret = '0209cd1fc99a42dc887d14b9b4586843'"
   ]
  },
  {
   "cell_type": "code",
   "execution_count": 8,
   "metadata": {},
   "outputs": [],
   "source": [
    "#Authentication - without user\n",
    "client_credentials_manager = SpotifyClientCredentials(client_id=client_id, client_secret=client_secret)\n",
    "sp = spotipy.Spotify(client_credentials_manager = client_credentials_manager)"
   ]
  },
  {
   "cell_type": "markdown",
   "metadata": {},
   "source": [
    "## get track info"
   ]
  },
  {
   "cell_type": "code",
   "execution_count": 9,
   "metadata": {},
   "outputs": [],
   "source": [
    "# since they have the batch request limit of 50, we need to split the list into batches of 50\n",
    "track_info = {}\n",
    "for i in range(0, len(tracks_uri_list), 50):\n",
    "    track_batch = tracks_uri_list[i:i+50]\n",
    "    sapi = sp.tracks(track_batch)\n",
    "    for track in sapi['tracks']:\n",
    "        track_info[track['id']] = {'name':track['name'], 'artistName':track['artists'][0]['name'], 'release_date':track['album']['release_date'], 'popularity':track['popularity'], 'duration_ms':track['duration_ms']}\n",
    "    time.sleep(1)\n",
    "    "
   ]
  },
  {
   "cell_type": "code",
   "execution_count": 10,
   "metadata": {},
   "outputs": [
    {
     "data": {
      "text/plain": [
       "5172"
      ]
     },
     "execution_count": 10,
     "metadata": {},
     "output_type": "execute_result"
    }
   ],
   "source": [
    "len(track_info)"
   ]
  },
  {
   "cell_type": "code",
   "execution_count": 11,
   "metadata": {},
   "outputs": [
    {
     "data": {
      "text/plain": [
       "[('6tAM5c0bJOwRqGAEgiNMpI',\n",
       "  {'name': 'Solace Album Mix',\n",
       "   'artistName': 'Monstercat',\n",
       "   'release_date': '2012-06-06',\n",
       "   'popularity': 0,\n",
       "   'duration_ms': 3538579}),\n",
       " ('4mjgNE8R31AzxWfPNGtVMf',\n",
       "  {'name': 'Best of 2015 (Album Mix)',\n",
       "   'artistName': 'Monstercat',\n",
       "   'release_date': '2016-01-22',\n",
       "   'popularity': 0,\n",
       "   'duration_ms': 9158194}),\n",
       " ('5Q0P0cX3e42PgKd8LLS3ms',\n",
       "  {'name': 'Horizon Album Mix',\n",
       "   'artistName': 'Monstercat',\n",
       "   'release_date': '2014-08-06',\n",
       "   'popularity': 0,\n",
       "   'duration_ms': 3623121}),\n",
       " ('6jvMmRtSzoEibQGrQkSISQ',\n",
       "  {'name': 'Monstercat Best of 2012',\n",
       "   'artistName': 'Monstercat',\n",
       "   'release_date': '2013-02-04',\n",
       "   'popularity': 0,\n",
       "   'duration_ms': 6348017}),\n",
       " ('1KzLyjpjIRHuuj4iX8QsC2',\n",
       "  {'name': 'Monstercat Podcast EP. 100',\n",
       "   'artistName': 'Monstercat',\n",
       "   'release_date': '2016-04-05',\n",
       "   'popularity': 0,\n",
       "   'duration_ms': 9744610})]"
      ]
     },
     "execution_count": 11,
     "metadata": {},
     "output_type": "execute_result"
    }
   ],
   "source": [
    "list(track_info.items())[:5]"
   ]
  },
  {
   "cell_type": "code",
   "execution_count": 12,
   "metadata": {},
   "outputs": [],
   "source": [
    "track_info_df = pd.DataFrame.from_dict(track_info, orient='index')"
   ]
  },
  {
   "cell_type": "code",
   "execution_count": 13,
   "metadata": {},
   "outputs": [],
   "source": [
    "track_info_df.to_csv('datasets/tracks_info_df.csv')"
   ]
  },
  {
   "cell_type": "markdown",
   "metadata": {},
   "source": [
    "## get track features"
   ]
  },
  {
   "cell_type": "code",
   "execution_count": 14,
   "metadata": {},
   "outputs": [],
   "source": [
    "track_features = {}\n",
    "for i in range(0, len(tracks_uri_list), 50):\n",
    "    track_batch = tracks_uri_list[i:i+50]\n",
    "    sapi = sp.audio_features(track_batch)\n",
    "    for track in sapi:\n",
    "        if track is not None:\n",
    "            track_features[track['id']] = {'danceability':track['danceability'], 'energy':track['energy'], 'key':track['key'], 'loudness':track['loudness'], 'mode':track['mode'], 'speechiness':track['speechiness'], 'acousticness':track['acousticness'], 'instrumentalness':track['instrumentalness'], 'liveness':track['liveness'], 'valence':track['valence'], 'tempo':track['tempo'], 'time_signature':track['time_signature']}\n",
    "        # we'll skip it if the track has no audio features data\n",
    "    time.sleep(1)"
   ]
  },
  {
   "cell_type": "code",
   "execution_count": 15,
   "metadata": {},
   "outputs": [
    {
     "data": {
      "text/plain": [
       "5165"
      ]
     },
     "execution_count": 15,
     "metadata": {},
     "output_type": "execute_result"
    }
   ],
   "source": [
    "len(track_features)"
   ]
  },
  {
   "cell_type": "code",
   "execution_count": 16,
   "metadata": {},
   "outputs": [
    {
     "data": {
      "text/plain": [
       "[('6tAM5c0bJOwRqGAEgiNMpI',\n",
       "  {'danceability': 0.446,\n",
       "   'energy': 0.823,\n",
       "   'key': 11,\n",
       "   'loudness': -5.279,\n",
       "   'mode': 0,\n",
       "   'speechiness': 0.0859,\n",
       "   'acousticness': 0.00256,\n",
       "   'instrumentalness': 0.0748,\n",
       "   'liveness': 0.117,\n",
       "   'valence': 0.263,\n",
       "   'tempo': 128.198,\n",
       "   'time_signature': 4}),\n",
       " ('5Q0P0cX3e42PgKd8LLS3ms',\n",
       "  {'danceability': 0.402,\n",
       "   'energy': 0.856,\n",
       "   'key': 1,\n",
       "   'loudness': -4.256,\n",
       "   'mode': 1,\n",
       "   'speechiness': 0.0659,\n",
       "   'acousticness': 0.00504,\n",
       "   'instrumentalness': 0.0164,\n",
       "   'liveness': 0.253,\n",
       "   'valence': 0.247,\n",
       "   'tempo': 140.028,\n",
       "   'time_signature': 4}),\n",
       " ('4VrdksXJVhAOLW49qV0VTQ',\n",
       "  {'danceability': 0.426,\n",
       "   'energy': 0.915,\n",
       "   'key': 11,\n",
       "   'loudness': -3.881,\n",
       "   'mode': 0,\n",
       "   'speechiness': 0.143,\n",
       "   'acousticness': 0.000899,\n",
       "   'instrumentalness': 0.108,\n",
       "   'liveness': 0.495,\n",
       "   'valence': 0.271,\n",
       "   'tempo': 130.405,\n",
       "   'time_signature': 4}),\n",
       " ('0ng42pTjKgskmobNzhnEUa',\n",
       "  {'danceability': 0.434,\n",
       "   'energy': 0.839,\n",
       "   'key': 8,\n",
       "   'loudness': -4.493,\n",
       "   'mode': 1,\n",
       "   'speechiness': 0.119,\n",
       "   'acousticness': 0.0284,\n",
       "   'instrumentalness': 0.00103,\n",
       "   'liveness': 0.605,\n",
       "   'valence': 0.4,\n",
       "   'tempo': 127.67,\n",
       "   'time_signature': 4}),\n",
       " ('1ip1SN4tWX0qMgE1KgIF52',\n",
       "  {'danceability': 0.457,\n",
       "   'energy': 0.911,\n",
       "   'key': 1,\n",
       "   'loudness': -3.315,\n",
       "   'mode': 1,\n",
       "   'speechiness': 0.0498,\n",
       "   'acousticness': 0.00339,\n",
       "   'instrumentalness': 0.592,\n",
       "   'liveness': 0.0752,\n",
       "   'valence': 0.33,\n",
       "   'tempo': 175.002,\n",
       "   'time_signature': 4})]"
      ]
     },
     "execution_count": 16,
     "metadata": {},
     "output_type": "execute_result"
    }
   ],
   "source": [
    "# get first 5 items in the dictionary\n",
    "list(track_features.items())[:5]"
   ]
  },
  {
   "cell_type": "code",
   "execution_count": 17,
   "metadata": {},
   "outputs": [],
   "source": [
    "track_features_df = pd.DataFrame.from_dict(track_features, orient='index')\n",
    "track_features_df.to_csv('datasets/tracks_features_df.csv')"
   ]
  },
  {
   "cell_type": "markdown",
   "metadata": {},
   "source": [
    "# Tracks Streaming Data"
   ]
  },
  {
   "cell_type": "markdown",
   "metadata": {},
   "source": [
    "## Data Exploration / EDA"
   ]
  },
  {
   "cell_type": "code",
   "execution_count": 172,
   "metadata": {},
   "outputs": [
    {
     "name": "stderr",
     "output_type": "stream",
     "text": [
      "C:\\Users\\Kim\\AppData\\Local\\Temp\\ipykernel_14320\\4189168743.py:2: DtypeWarning: Columns (14) have mixed types. Specify dtype option on import or set low_memory=False.\n",
      "  tracks_df = pd.read_csv('datasets/tracks_df.csv')\n"
     ]
    },
    {
     "data": {
      "text/html": [
       "<div>\n",
       "<style scoped>\n",
       "    .dataframe tbody tr th:only-of-type {\n",
       "        vertical-align: middle;\n",
       "    }\n",
       "\n",
       "    .dataframe tbody tr th {\n",
       "        vertical-align: top;\n",
       "    }\n",
       "\n",
       "    .dataframe thead th {\n",
       "        text-align: right;\n",
       "    }\n",
       "</style>\n",
       "<table border=\"1\" class=\"dataframe\">\n",
       "  <thead>\n",
       "    <tr style=\"text-align: right;\">\n",
       "      <th></th>\n",
       "      <th>ts</th>\n",
       "      <th>platform</th>\n",
       "      <th>ms_played</th>\n",
       "      <th>conn_country</th>\n",
       "      <th>master_metadata_track_name</th>\n",
       "      <th>master_metadata_album_artist_name</th>\n",
       "      <th>master_metadata_album_album_name</th>\n",
       "      <th>spotify_track_uri</th>\n",
       "      <th>episode_name</th>\n",
       "      <th>episode_show_name</th>\n",
       "      <th>spotify_episode_uri</th>\n",
       "      <th>reason_start</th>\n",
       "      <th>reason_end</th>\n",
       "      <th>shuffle</th>\n",
       "      <th>skipped</th>\n",
       "      <th>offline</th>\n",
       "      <th>offline_timestamp</th>\n",
       "      <th>incognito_mode</th>\n",
       "    </tr>\n",
       "  </thead>\n",
       "  <tbody>\n",
       "    <tr>\n",
       "      <th>116162</th>\n",
       "      <td>2023-05-02T03:58:50Z</td>\n",
       "      <td>android</td>\n",
       "      <td>267300</td>\n",
       "      <td>JP</td>\n",
       "      <td>Sick of Losing Soulmates</td>\n",
       "      <td>dodie</td>\n",
       "      <td>Intertwined - EP</td>\n",
       "      <td>spotify:track:7a9udNo0GU97xnMAkjLdmE</td>\n",
       "      <td>NaN</td>\n",
       "      <td>NaN</td>\n",
       "      <td>NaN</td>\n",
       "      <td>trackdone</td>\n",
       "      <td>trackdone</td>\n",
       "      <td>True</td>\n",
       "      <td>False</td>\n",
       "      <td>False</td>\n",
       "      <td>1682999662</td>\n",
       "      <td>False</td>\n",
       "    </tr>\n",
       "    <tr>\n",
       "      <th>95640</th>\n",
       "      <td>2022-05-30T08:35:40Z</td>\n",
       "      <td>Android OS 11 API 30 (OnePlus, HD1910)</td>\n",
       "      <td>5048</td>\n",
       "      <td>JP</td>\n",
       "      <td>おもかげ (produced by Vaundy)</td>\n",
       "      <td>milet</td>\n",
       "      <td>おもかげ (produced by Vaundy)</td>\n",
       "      <td>spotify:track:6ts1KCOudfDYXYfyWtq0k1</td>\n",
       "      <td>NaN</td>\n",
       "      <td>NaN</td>\n",
       "      <td>NaN</td>\n",
       "      <td>trackdone</td>\n",
       "      <td>backbtn</td>\n",
       "      <td>False</td>\n",
       "      <td>NaN</td>\n",
       "      <td>False</td>\n",
       "      <td>1653899732733</td>\n",
       "      <td>False</td>\n",
       "    </tr>\n",
       "    <tr>\n",
       "      <th>3438</th>\n",
       "      <td>2017-03-26T21:06:11Z</td>\n",
       "      <td>Windows 10 (10.0.10586; x64)</td>\n",
       "      <td>178124</td>\n",
       "      <td>ID</td>\n",
       "      <td>Swordland (From \"Sword Art Online\")</td>\n",
       "      <td>Taylor Davis</td>\n",
       "      <td>Swordland (From \"Sword Art Online\")</td>\n",
       "      <td>spotify:track:1IbqahgWSIgMcgUxbupT19</td>\n",
       "      <td>NaN</td>\n",
       "      <td>NaN</td>\n",
       "      <td>NaN</td>\n",
       "      <td>trackdone</td>\n",
       "      <td>NaN</td>\n",
       "      <td>False</td>\n",
       "      <td>NaN</td>\n",
       "      <td>False</td>\n",
       "      <td>1490562191806</td>\n",
       "      <td>False</td>\n",
       "    </tr>\n",
       "    <tr>\n",
       "      <th>35760</th>\n",
       "      <td>2018-12-12T08:00:55Z</td>\n",
       "      <td>Windows 10 (10.0.17134; x64)</td>\n",
       "      <td>198693</td>\n",
       "      <td>JP</td>\n",
       "      <td>Dream - Acoustic</td>\n",
       "      <td>Bishop Briggs</td>\n",
       "      <td>Dream</td>\n",
       "      <td>spotify:track:67l1tytshju3Ily8uIAVKH</td>\n",
       "      <td>NaN</td>\n",
       "      <td>NaN</td>\n",
       "      <td>NaN</td>\n",
       "      <td>trackdone</td>\n",
       "      <td>trackdone</td>\n",
       "      <td>True</td>\n",
       "      <td>NaN</td>\n",
       "      <td>False</td>\n",
       "      <td>1544601453776</td>\n",
       "      <td>False</td>\n",
       "    </tr>\n",
       "    <tr>\n",
       "      <th>55510</th>\n",
       "      <td>2020-02-03T10:00:36Z</td>\n",
       "      <td>Windows 10 (10.0.18362; x64; AppX)</td>\n",
       "      <td>189346</td>\n",
       "      <td>JP</td>\n",
       "      <td>Wild Horses</td>\n",
       "      <td>Bishop Briggs</td>\n",
       "      <td>Bishop Briggs</td>\n",
       "      <td>spotify:track:0XyeD5XgusMHQlEVlUfxSn</td>\n",
       "      <td>NaN</td>\n",
       "      <td>NaN</td>\n",
       "      <td>NaN</td>\n",
       "      <td>trackdone</td>\n",
       "      <td>trackdone</td>\n",
       "      <td>True</td>\n",
       "      <td>NaN</td>\n",
       "      <td>False</td>\n",
       "      <td>1580723846279</td>\n",
       "      <td>False</td>\n",
       "    </tr>\n",
       "  </tbody>\n",
       "</table>\n",
       "</div>"
      ],
      "text/plain": [
       "                          ts                                platform  \\\n",
       "116162  2023-05-02T03:58:50Z                                 android   \n",
       "95640   2022-05-30T08:35:40Z  Android OS 11 API 30 (OnePlus, HD1910)   \n",
       "3438    2017-03-26T21:06:11Z            Windows 10 (10.0.10586; x64)   \n",
       "35760   2018-12-12T08:00:55Z            Windows 10 (10.0.17134; x64)   \n",
       "55510   2020-02-03T10:00:36Z      Windows 10 (10.0.18362; x64; AppX)   \n",
       "\n",
       "        ms_played conn_country           master_metadata_track_name  \\\n",
       "116162     267300           JP             Sick of Losing Soulmates   \n",
       "95640        5048           JP            おもかげ (produced by Vaundy)   \n",
       "3438       178124           ID  Swordland (From \"Sword Art Online\")   \n",
       "35760      198693           JP                     Dream - Acoustic   \n",
       "55510      189346           JP                          Wild Horses   \n",
       "\n",
       "       master_metadata_album_artist_name     master_metadata_album_album_name  \\\n",
       "116162                             dodie                     Intertwined - EP   \n",
       "95640                              milet            おもかげ (produced by Vaundy)   \n",
       "3438                        Taylor Davis  Swordland (From \"Sword Art Online\")   \n",
       "35760                      Bishop Briggs                                Dream   \n",
       "55510                      Bishop Briggs                        Bishop Briggs   \n",
       "\n",
       "                           spotify_track_uri  episode_name  episode_show_name  \\\n",
       "116162  spotify:track:7a9udNo0GU97xnMAkjLdmE           NaN                NaN   \n",
       "95640   spotify:track:6ts1KCOudfDYXYfyWtq0k1           NaN                NaN   \n",
       "3438    spotify:track:1IbqahgWSIgMcgUxbupT19           NaN                NaN   \n",
       "35760   spotify:track:67l1tytshju3Ily8uIAVKH           NaN                NaN   \n",
       "55510   spotify:track:0XyeD5XgusMHQlEVlUfxSn           NaN                NaN   \n",
       "\n",
       "        spotify_episode_uri reason_start reason_end  shuffle skipped  offline  \\\n",
       "116162                  NaN    trackdone  trackdone     True   False    False   \n",
       "95640                   NaN    trackdone    backbtn    False     NaN    False   \n",
       "3438                    NaN    trackdone        NaN    False     NaN    False   \n",
       "35760                   NaN    trackdone  trackdone     True     NaN    False   \n",
       "55510                   NaN    trackdone  trackdone     True     NaN    False   \n",
       "\n",
       "        offline_timestamp  incognito_mode  \n",
       "116162         1682999662           False  \n",
       "95640       1653899732733           False  \n",
       "3438        1490562191806           False  \n",
       "35760       1544601453776           False  \n",
       "55510       1580723846279           False  "
      ]
     },
     "execution_count": 172,
     "metadata": {},
     "output_type": "execute_result"
    }
   ],
   "source": [
    "# let's load the tracks_df again\n",
    "tracks_df = pd.read_csv('datasets/tracks_df.csv')\n",
    "tracks_df.sample(5)"
   ]
  },
  {
   "cell_type": "code",
   "execution_count": 173,
   "metadata": {},
   "outputs": [
    {
     "name": "stdout",
     "output_type": "stream",
     "text": [
      "(127961, 18)\n",
      "Index(['ts', 'platform', 'ms_played', 'conn_country',\n",
      "       'master_metadata_track_name', 'master_metadata_album_artist_name',\n",
      "       'master_metadata_album_album_name', 'spotify_track_uri', 'episode_name',\n",
      "       'episode_show_name', 'spotify_episode_uri', 'reason_start',\n",
      "       'reason_end', 'shuffle', 'skipped', 'offline', 'offline_timestamp',\n",
      "       'incognito_mode'],\n",
      "      dtype='object')\n"
     ]
    }
   ],
   "source": [
    "print(tracks_df.shape)\n",
    "print(tracks_df.columns)"
   ]
  },
  {
   "cell_type": "code",
   "execution_count": 174,
   "metadata": {},
   "outputs": [
    {
     "name": "stdout",
     "output_type": "stream",
     "text": [
      "<class 'pandas.core.frame.DataFrame'>\n",
      "RangeIndex: 127961 entries, 0 to 127960\n",
      "Data columns (total 18 columns):\n",
      " #   Column                             Non-Null Count   Dtype  \n",
      "---  ------                             --------------   -----  \n",
      " 0   ts                                 127961 non-null  object \n",
      " 1   platform                           127961 non-null  object \n",
      " 2   ms_played                          127961 non-null  int64  \n",
      " 3   conn_country                       127961 non-null  object \n",
      " 4   master_metadata_track_name         127961 non-null  object \n",
      " 5   master_metadata_album_artist_name  127961 non-null  object \n",
      " 6   master_metadata_album_album_name   127961 non-null  object \n",
      " 7   spotify_track_uri                  127961 non-null  object \n",
      " 8   episode_name                       0 non-null       float64\n",
      " 9   episode_show_name                  0 non-null       float64\n",
      " 10  spotify_episode_uri                0 non-null       float64\n",
      " 11  reason_start                       127961 non-null  object \n",
      " 12  reason_end                         107423 non-null  object \n",
      " 13  shuffle                            127961 non-null  bool   \n",
      " 14  skipped                            22540 non-null   object \n",
      " 15  offline                            127961 non-null  bool   \n",
      " 16  offline_timestamp                  127961 non-null  int64  \n",
      " 17  incognito_mode                     127961 non-null  bool   \n",
      "dtypes: bool(3), float64(3), int64(2), object(10)\n",
      "memory usage: 15.0+ MB\n"
     ]
    }
   ],
   "source": [
    "# let's take a look at the tracks_df again\n",
    "tracks_df.info()"
   ]
  },
  {
   "cell_type": "markdown",
   "metadata": {},
   "source": [
    "Columns description\n",
    "- ts : timestamp played\n",
    "- ms_played : duration the track is played (ms)\n",
    "- conn_country : country where the track was played\n",
    "- master_metadata_track_name / artist_name / album_name : self explained\n",
    "- spotify_track_uri : unique identifier for each track\n",
    "- episode_name, episode_show_name, spotify_episode_uri : columns used for podcasts-related rows, might need to remove this later\n",
    "- reason_start / end : a value telling why track is played\n",
    "- shuffle / skipped / offline / incognito_mode : value whether the track if shuffle mode is used when the track is played, track skipped or when the track is played in offline mode or incognito_mode\n",
    "- offline_timestamp : timestamp when the offline mode is used"
   ]
  },
  {
   "cell_type": "code",
   "execution_count": 175,
   "metadata": {},
   "outputs": [
    {
     "data": {
      "text/plain": [
       "ts                                   120487\n",
       "platform                                 32\n",
       "ms_played                             26276\n",
       "conn_country                              9\n",
       "master_metadata_track_name             4714\n",
       "master_metadata_album_artist_name      1639\n",
       "master_metadata_album_album_name       2680\n",
       "spotify_track_uri                      5172\n",
       "episode_name                              0\n",
       "episode_show_name                         0\n",
       "spotify_episode_uri                       0\n",
       "reason_start                              8\n",
       "reason_end                               10\n",
       "shuffle                                   2\n",
       "skipped                                   4\n",
       "offline                                   2\n",
       "offline_timestamp                    126091\n",
       "incognito_mode                            2\n",
       "dtype: int64"
      ]
     },
     "execution_count": 175,
     "metadata": {},
     "output_type": "execute_result"
    }
   ],
   "source": [
    "# checking the number of unique from each column\n",
    "tracks_df.nunique()"
   ]
  },
  {
   "cell_type": "code",
   "execution_count": 176,
   "metadata": {},
   "outputs": [
    {
     "data": {
      "text/html": [
       "<div>\n",
       "<style scoped>\n",
       "    .dataframe tbody tr th:only-of-type {\n",
       "        vertical-align: middle;\n",
       "    }\n",
       "\n",
       "    .dataframe tbody tr th {\n",
       "        vertical-align: top;\n",
       "    }\n",
       "\n",
       "    .dataframe thead th {\n",
       "        text-align: right;\n",
       "    }\n",
       "</style>\n",
       "<table border=\"1\" class=\"dataframe\">\n",
       "  <thead>\n",
       "    <tr style=\"text-align: right;\">\n",
       "      <th></th>\n",
       "      <th>ts</th>\n",
       "      <th>platform</th>\n",
       "      <th>conn_country</th>\n",
       "      <th>master_metadata_track_name</th>\n",
       "      <th>master_metadata_album_artist_name</th>\n",
       "      <th>master_metadata_album_album_name</th>\n",
       "      <th>spotify_track_uri</th>\n",
       "      <th>reason_start</th>\n",
       "      <th>reason_end</th>\n",
       "      <th>skipped</th>\n",
       "    </tr>\n",
       "  </thead>\n",
       "  <tbody>\n",
       "    <tr>\n",
       "      <th>count</th>\n",
       "      <td>127961</td>\n",
       "      <td>127961</td>\n",
       "      <td>127961</td>\n",
       "      <td>127961</td>\n",
       "      <td>127961</td>\n",
       "      <td>127961</td>\n",
       "      <td>127961</td>\n",
       "      <td>127961</td>\n",
       "      <td>107423</td>\n",
       "      <td>22540</td>\n",
       "    </tr>\n",
       "    <tr>\n",
       "      <th>unique</th>\n",
       "      <td>120487</td>\n",
       "      <td>32</td>\n",
       "      <td>9</td>\n",
       "      <td>4714</td>\n",
       "      <td>1639</td>\n",
       "      <td>2680</td>\n",
       "      <td>5172</td>\n",
       "      <td>8</td>\n",
       "      <td>10</td>\n",
       "      <td>4</td>\n",
       "    </tr>\n",
       "    <tr>\n",
       "      <th>top</th>\n",
       "      <td>2019-06-28T06:57:01Z</td>\n",
       "      <td>Android OS 11 API 30 (OnePlus, HD1910)</td>\n",
       "      <td>JP</td>\n",
       "      <td>Interdimensional Portal Leading to a Cute Plac...</td>\n",
       "      <td>In Love With a Ghost</td>\n",
       "      <td>Church Of Scars</td>\n",
       "      <td>spotify:track:1HW1arhhmKY3jI7QyARvsf</td>\n",
       "      <td>trackdone</td>\n",
       "      <td>trackdone</td>\n",
       "      <td>False</td>\n",
       "    </tr>\n",
       "    <tr>\n",
       "      <th>freq</th>\n",
       "      <td>208</td>\n",
       "      <td>21563</td>\n",
       "      <td>101777</td>\n",
       "      <td>762</td>\n",
       "      <td>11074</td>\n",
       "      <td>3173</td>\n",
       "      <td>762</td>\n",
       "      <td>95329</td>\n",
       "      <td>80894</td>\n",
       "      <td>16142</td>\n",
       "    </tr>\n",
       "  </tbody>\n",
       "</table>\n",
       "</div>"
      ],
      "text/plain": [
       "                          ts                                platform  \\\n",
       "count                 127961                                  127961   \n",
       "unique                120487                                      32   \n",
       "top     2019-06-28T06:57:01Z  Android OS 11 API 30 (OnePlus, HD1910)   \n",
       "freq                     208                                   21563   \n",
       "\n",
       "       conn_country                         master_metadata_track_name  \\\n",
       "count        127961                                             127961   \n",
       "unique            9                                               4714   \n",
       "top              JP  Interdimensional Portal Leading to a Cute Plac...   \n",
       "freq         101777                                                762   \n",
       "\n",
       "       master_metadata_album_artist_name master_metadata_album_album_name  \\\n",
       "count                             127961                           127961   \n",
       "unique                              1639                             2680   \n",
       "top                 In Love With a Ghost                  Church Of Scars   \n",
       "freq                               11074                             3173   \n",
       "\n",
       "                           spotify_track_uri reason_start reason_end skipped  \n",
       "count                                 127961       127961     107423   22540  \n",
       "unique                                  5172            8         10       4  \n",
       "top     spotify:track:1HW1arhhmKY3jI7QyARvsf    trackdone  trackdone   False  \n",
       "freq                                     762        95329      80894   16142  "
      ]
     },
     "execution_count": 176,
     "metadata": {},
     "output_type": "execute_result"
    }
   ],
   "source": [
    "# descriptive analysis for categorical data\n",
    "tracks_df.describe(include='object')"
   ]
  },
  {
   "cell_type": "code",
   "execution_count": 177,
   "metadata": {},
   "outputs": [
    {
     "data": {
      "text/html": [
       "<div>\n",
       "<style scoped>\n",
       "    .dataframe tbody tr th:only-of-type {\n",
       "        vertical-align: middle;\n",
       "    }\n",
       "\n",
       "    .dataframe tbody tr th {\n",
       "        vertical-align: top;\n",
       "    }\n",
       "\n",
       "    .dataframe thead th {\n",
       "        text-align: right;\n",
       "    }\n",
       "</style>\n",
       "<table border=\"1\" class=\"dataframe\">\n",
       "  <thead>\n",
       "    <tr style=\"text-align: right;\">\n",
       "      <th></th>\n",
       "      <th>ms_played</th>\n",
       "      <th>episode_name</th>\n",
       "      <th>episode_show_name</th>\n",
       "      <th>spotify_episode_uri</th>\n",
       "      <th>offline_timestamp</th>\n",
       "    </tr>\n",
       "  </thead>\n",
       "  <tbody>\n",
       "    <tr>\n",
       "      <th>count</th>\n",
       "      <td>1.279610e+05</td>\n",
       "      <td>0.0</td>\n",
       "      <td>0.0</td>\n",
       "      <td>0.0</td>\n",
       "      <td>1.279610e+05</td>\n",
       "    </tr>\n",
       "    <tr>\n",
       "      <th>mean</th>\n",
       "      <td>1.565101e+05</td>\n",
       "      <td>NaN</td>\n",
       "      <td>NaN</td>\n",
       "      <td>NaN</td>\n",
       "      <td>1.282769e+12</td>\n",
       "    </tr>\n",
       "    <tr>\n",
       "      <th>std</th>\n",
       "      <td>9.224121e+04</td>\n",
       "      <td>NaN</td>\n",
       "      <td>NaN</td>\n",
       "      <td>NaN</td>\n",
       "      <td>6.163565e+11</td>\n",
       "    </tr>\n",
       "    <tr>\n",
       "      <th>min</th>\n",
       "      <td>0.000000e+00</td>\n",
       "      <td>NaN</td>\n",
       "      <td>NaN</td>\n",
       "      <td>NaN</td>\n",
       "      <td>0.000000e+00</td>\n",
       "    </tr>\n",
       "    <tr>\n",
       "      <th>25%</th>\n",
       "      <td>8.919200e+04</td>\n",
       "      <td>NaN</td>\n",
       "      <td>NaN</td>\n",
       "      <td>NaN</td>\n",
       "      <td>1.500296e+12</td>\n",
       "    </tr>\n",
       "    <tr>\n",
       "      <th>50%</th>\n",
       "      <td>1.822600e+05</td>\n",
       "      <td>NaN</td>\n",
       "      <td>NaN</td>\n",
       "      <td>NaN</td>\n",
       "      <td>1.553139e+12</td>\n",
       "    </tr>\n",
       "    <tr>\n",
       "      <th>75%</th>\n",
       "      <td>2.161330e+05</td>\n",
       "      <td>NaN</td>\n",
       "      <td>NaN</td>\n",
       "      <td>NaN</td>\n",
       "      <td>1.611910e+12</td>\n",
       "    </tr>\n",
       "    <tr>\n",
       "      <th>max</th>\n",
       "      <td>1.082813e+06</td>\n",
       "      <td>NaN</td>\n",
       "      <td>NaN</td>\n",
       "      <td>NaN</td>\n",
       "      <td>1.665763e+12</td>\n",
       "    </tr>\n",
       "  </tbody>\n",
       "</table>\n",
       "</div>"
      ],
      "text/plain": [
       "          ms_played  episode_name  episode_show_name  spotify_episode_uri  \\\n",
       "count  1.279610e+05           0.0                0.0                  0.0   \n",
       "mean   1.565101e+05           NaN                NaN                  NaN   \n",
       "std    9.224121e+04           NaN                NaN                  NaN   \n",
       "min    0.000000e+00           NaN                NaN                  NaN   \n",
       "25%    8.919200e+04           NaN                NaN                  NaN   \n",
       "50%    1.822600e+05           NaN                NaN                  NaN   \n",
       "75%    2.161330e+05           NaN                NaN                  NaN   \n",
       "max    1.082813e+06           NaN                NaN                  NaN   \n",
       "\n",
       "       offline_timestamp  \n",
       "count       1.279610e+05  \n",
       "mean        1.282769e+12  \n",
       "std         6.163565e+11  \n",
       "min         0.000000e+00  \n",
       "25%         1.500296e+12  \n",
       "50%         1.553139e+12  \n",
       "75%         1.611910e+12  \n",
       "max         1.665763e+12  "
      ]
     },
     "execution_count": 177,
     "metadata": {},
     "output_type": "execute_result"
    }
   ],
   "source": [
    "# descriptive analysis for numerical data\n",
    "tracks_df.describe()"
   ]
  },
  {
   "cell_type": "code",
   "execution_count": 178,
   "metadata": {},
   "outputs": [
    {
     "data": {
      "text/plain": [
       "<Axes: xlabel='ms_played', ylabel='Count'>"
      ]
     },
     "execution_count": 178,
     "metadata": {},
     "output_type": "execute_result"
    },
    {
     "data": {
      "image/png": "[encoded data removed]",
      "text/plain": [
       "<Figure size 640x480 with 1 Axes>"
      ]
     },
     "metadata": {},
     "output_type": "display_data"
    }
   ],
   "source": [
    "# histogram for ms_played rounded to nearest 1000 (in seconds) to see the distribution\n",
    "sns.histplot(tracks_df['ms_played'].round(-3), kde = True, bins=100)"
   ]
  },
  {
   "cell_type": "code",
   "execution_count": 179,
   "metadata": {},
   "outputs": [
    {
     "data": {
      "text/html": [
       "<div>\n",
       "<style scoped>\n",
       "    .dataframe tbody tr th:only-of-type {\n",
       "        vertical-align: middle;\n",
       "    }\n",
       "\n",
       "    .dataframe tbody tr th {\n",
       "        vertical-align: top;\n",
       "    }\n",
       "\n",
       "    .dataframe thead th {\n",
       "        text-align: right;\n",
       "    }\n",
       "</style>\n",
       "<table border=\"1\" class=\"dataframe\">\n",
       "  <thead>\n",
       "    <tr style=\"text-align: right;\">\n",
       "      <th></th>\n",
       "      <th>ts</th>\n",
       "      <th>platform</th>\n",
       "      <th>ms_played</th>\n",
       "      <th>conn_country</th>\n",
       "      <th>master_metadata_track_name</th>\n",
       "      <th>master_metadata_album_artist_name</th>\n",
       "      <th>master_metadata_album_album_name</th>\n",
       "      <th>spotify_track_uri</th>\n",
       "      <th>episode_name</th>\n",
       "      <th>episode_show_name</th>\n",
       "      <th>spotify_episode_uri</th>\n",
       "      <th>reason_start</th>\n",
       "      <th>reason_end</th>\n",
       "      <th>shuffle</th>\n",
       "      <th>skipped</th>\n",
       "      <th>offline</th>\n",
       "      <th>offline_timestamp</th>\n",
       "      <th>incognito_mode</th>\n",
       "    </tr>\n",
       "  </thead>\n",
       "  <tbody>\n",
       "    <tr>\n",
       "      <th>3247</th>\n",
       "      <td>2017-03-24T13:18:38Z</td>\n",
       "      <td>Android OS 7.0 API 24 (Sony, E6683)</td>\n",
       "      <td>0</td>\n",
       "      <td>ID</td>\n",
       "      <td>Inside (feat. Danyka Nadeau)</td>\n",
       "      <td>Au5</td>\n",
       "      <td>Monstercat 023 - Voyage</td>\n",
       "      <td>spotify:track:204PudWeSLHxVwOkune8mr</td>\n",
       "      <td>NaN</td>\n",
       "      <td>NaN</td>\n",
       "      <td>NaN</td>\n",
       "      <td>backbtn</td>\n",
       "      <td>NaN</td>\n",
       "      <td>True</td>\n",
       "      <td>NaN</td>\n",
       "      <td>False</td>\n",
       "      <td>1490361516943</td>\n",
       "      <td>False</td>\n",
       "    </tr>\n",
       "    <tr>\n",
       "      <th>46244</th>\n",
       "      <td>2019-06-15T07:56:19Z</td>\n",
       "      <td>Android OS 9 API 28 (OnePlus, ONEPLUS A5010)</td>\n",
       "      <td>0</td>\n",
       "      <td>JP</td>\n",
       "      <td>Row - From \"Eternal Sunshine of the Spotless M...</td>\n",
       "      <td>Jon Brion</td>\n",
       "      <td>Eternal Sunshine Of The Spotless Mind</td>\n",
       "      <td>spotify:track:1MAeLzBF3xsg6fpRZztyCD</td>\n",
       "      <td>NaN</td>\n",
       "      <td>NaN</td>\n",
       "      <td>NaN</td>\n",
       "      <td>trackdone</td>\n",
       "      <td>fwdbtn</td>\n",
       "      <td>True</td>\n",
       "      <td>NaN</td>\n",
       "      <td>False</td>\n",
       "      <td>1560585377559</td>\n",
       "      <td>False</td>\n",
       "    </tr>\n",
       "    <tr>\n",
       "      <th>11165</th>\n",
       "      <td>2017-09-22T12:18:15Z</td>\n",
       "      <td>Android OS 7.1.1 API 25 (Sony, E6683)</td>\n",
       "      <td>0</td>\n",
       "      <td>ID</td>\n",
       "      <td>Castle on the Hill</td>\n",
       "      <td>Ed Sheeran</td>\n",
       "      <td>÷</td>\n",
       "      <td>spotify:track:6PCUP3dWmTjcTtXY02oFdT</td>\n",
       "      <td>NaN</td>\n",
       "      <td>NaN</td>\n",
       "      <td>NaN</td>\n",
       "      <td>fwdbtn</td>\n",
       "      <td>NaN</td>\n",
       "      <td>True</td>\n",
       "      <td>NaN</td>\n",
       "      <td>False</td>\n",
       "      <td>1506082693692</td>\n",
       "      <td>False</td>\n",
       "    </tr>\n",
       "    <tr>\n",
       "      <th>58070</th>\n",
       "      <td>2020-05-10T03:45:15Z</td>\n",
       "      <td>Android OS 9 API 28 (OnePlus, ONEPLUS A5010)</td>\n",
       "      <td>0</td>\n",
       "      <td>JP</td>\n",
       "      <td>LONELY</td>\n",
       "      <td>Bishop Briggs</td>\n",
       "      <td>CHAMPION</td>\n",
       "      <td>spotify:track:1GGxW9kSgEtr7QgjCpP1U5</td>\n",
       "      <td>NaN</td>\n",
       "      <td>NaN</td>\n",
       "      <td>NaN</td>\n",
       "      <td>fwdbtn</td>\n",
       "      <td>fwdbtn</td>\n",
       "      <td>True</td>\n",
       "      <td>NaN</td>\n",
       "      <td>False</td>\n",
       "      <td>1589082312216</td>\n",
       "      <td>False</td>\n",
       "    </tr>\n",
       "    <tr>\n",
       "      <th>88569</th>\n",
       "      <td>2021-12-14T18:42:20Z</td>\n",
       "      <td>Android OS 11 API 30 (OnePlus, HD1910)</td>\n",
       "      <td>0</td>\n",
       "      <td>JP</td>\n",
       "      <td>Rambling Rose</td>\n",
       "      <td>THREE1989</td>\n",
       "      <td>KISS</td>\n",
       "      <td>spotify:track:3oEYT3sty2KeJL0geWPRTu</td>\n",
       "      <td>NaN</td>\n",
       "      <td>NaN</td>\n",
       "      <td>NaN</td>\n",
       "      <td>fwdbtn</td>\n",
       "      <td>fwdbtn</td>\n",
       "      <td>True</td>\n",
       "      <td>NaN</td>\n",
       "      <td>False</td>\n",
       "      <td>1639507337652</td>\n",
       "      <td>False</td>\n",
       "    </tr>\n",
       "  </tbody>\n",
       "</table>\n",
       "</div>"
      ],
      "text/plain": [
       "                         ts                                      platform  \\\n",
       "3247   2017-03-24T13:18:38Z           Android OS 7.0 API 24 (Sony, E6683)   \n",
       "46244  2019-06-15T07:56:19Z  Android OS 9 API 28 (OnePlus, ONEPLUS A5010)   \n",
       "11165  2017-09-22T12:18:15Z         Android OS 7.1.1 API 25 (Sony, E6683)   \n",
       "58070  2020-05-10T03:45:15Z  Android OS 9 API 28 (OnePlus, ONEPLUS A5010)   \n",
       "88569  2021-12-14T18:42:20Z        Android OS 11 API 30 (OnePlus, HD1910)   \n",
       "\n",
       "       ms_played conn_country  \\\n",
       "3247           0           ID   \n",
       "46244          0           JP   \n",
       "11165          0           ID   \n",
       "58070          0           JP   \n",
       "88569          0           JP   \n",
       "\n",
       "                              master_metadata_track_name  \\\n",
       "3247                        Inside (feat. Danyka Nadeau)   \n",
       "46244  Row - From \"Eternal Sunshine of the Spotless M...   \n",
       "11165                                 Castle on the Hill   \n",
       "58070                                             LONELY   \n",
       "88569                                      Rambling Rose   \n",
       "\n",
       "      master_metadata_album_artist_name  \\\n",
       "3247                                Au5   \n",
       "46244                         Jon Brion   \n",
       "11165                        Ed Sheeran   \n",
       "58070                     Bishop Briggs   \n",
       "88569                         THREE1989   \n",
       "\n",
       "            master_metadata_album_album_name  \\\n",
       "3247                 Monstercat 023 - Voyage   \n",
       "46244  Eternal Sunshine Of The Spotless Mind   \n",
       "11165                                      ÷   \n",
       "58070                               CHAMPION   \n",
       "88569                                   KISS   \n",
       "\n",
       "                          spotify_track_uri  episode_name  episode_show_name  \\\n",
       "3247   spotify:track:204PudWeSLHxVwOkune8mr           NaN                NaN   \n",
       "46244  spotify:track:1MAeLzBF3xsg6fpRZztyCD           NaN                NaN   \n",
       "11165  spotify:track:6PCUP3dWmTjcTtXY02oFdT           NaN                NaN   \n",
       "58070  spotify:track:1GGxW9kSgEtr7QgjCpP1U5           NaN                NaN   \n",
       "88569  spotify:track:3oEYT3sty2KeJL0geWPRTu           NaN                NaN   \n",
       "\n",
       "       spotify_episode_uri reason_start reason_end  shuffle skipped  offline  \\\n",
       "3247                   NaN      backbtn        NaN     True     NaN    False   \n",
       "46244                  NaN    trackdone     fwdbtn     True     NaN    False   \n",
       "11165                  NaN       fwdbtn        NaN     True     NaN    False   \n",
       "58070                  NaN       fwdbtn     fwdbtn     True     NaN    False   \n",
       "88569                  NaN       fwdbtn     fwdbtn     True     NaN    False   \n",
       "\n",
       "       offline_timestamp  incognito_mode  \n",
       "3247       1490361516943           False  \n",
       "46244      1560585377559           False  \n",
       "11165      1506082693692           False  \n",
       "58070      1589082312216           False  \n",
       "88569      1639507337652           False  "
      ]
     },
     "metadata": {},
     "output_type": "display_data"
    },
    {
     "name": "stdout",
     "output_type": "stream",
     "text": [
      "(3755, 18)\n"
     ]
    }
   ],
   "source": [
    "display(tracks_df[tracks_df['ms_played'] == 0].sample(5))\n",
    "print(tracks_df[tracks_df['ms_played'] == 0].shape)"
   ]
  },
  {
   "cell_type": "markdown",
   "metadata": {},
   "source": [
    "there are surprisingly a lot of rows with 0 ms_played, might need to check it later"
   ]
  },
  {
   "cell_type": "code",
   "execution_count": 181,
   "metadata": {},
   "outputs": [
    {
     "data": {
      "text/plain": [
       "platform\n",
       "Android OS 11 API 30 (OnePlus, HD1910)                       21563\n",
       "android                                                      19404\n",
       "Android OS 9 API 28 (OnePlus, ONEPLUS A5010)                 15578\n",
       "Android OS 10 API 29 (OnePlus, ONEPLUS A5010)                15124\n",
       "Android OS 8.1.0 API 27 (OnePlus, ONEPLUS A5010)             10919\n",
       "Windows 10 (10.0.17134; x64)                                  7099\n",
       "Android OS 7.1.1 API 25 (Sony, E6683)                         6847\n",
       "Windows 10 (10.0.14393; x64)                                  6764\n",
       "Windows 10 (10.0.18363; x64)                                  6702\n",
       "Android OS 7.0 API 24 (Sony, E6683)                           4074\n",
       "windows                                                       3136\n",
       "Windows 10 (10.0.18362; x64)                                  2858\n",
       "Android OS 8.0.0 API 26 (OnePlus, ONEPLUS A5010)              1049\n",
       "Windows 10 (10.0.16299; x64)                                  1011\n",
       "Android OS 6.0.1 API 23 (Sony, E6683)                          896\n",
       "Windows 10 (10.0.19044; x64; AppX)                             812\n",
       "Windows 10 (10.0.22000; x64)                                   733\n",
       "Windows 10 (10.0.18362; x64; AppX)                             591\n",
       "Windows 10 (10.0.17134; x64; AppX)                             520\n",
       "Android OS 7.1.1 API 25 (OnePlus, ONEPLUS A5010)               463\n",
       "Windows 10 (10.0.16299; x64; AppX)                             408\n",
       "Windows 10 (10.0.22621; x64)                                   368\n",
       "Windows 10 (10.0.19042; x64)                                   367\n",
       "Windows 10 (10.0.10586; x64)                                   234\n",
       "Windows 10 (10.0.22622; x64)                                   200\n",
       "Windows 10 (10.0.22598; x64)                                   156\n",
       "web_player windows 10;microsoft edge 95.0.1020.40;desktop       66\n",
       "Android OS 6.0 API 23 (Sony, E6683)                              8\n",
       "web_player windows 10;firefox 84.0;desktop                       6\n",
       "Partner spotify web_player                                       2\n",
       "web_player windows 10;firefox 61.0;desktop                       2\n",
       "web_player windows 10;firefox 69.0;desktop                       1\n",
       "Name: count, dtype: int64"
      ]
     },
     "execution_count": 181,
     "metadata": {},
     "output_type": "execute_result"
    }
   ],
   "source": [
    "# checking platform unique values\n",
    "tracks_df['platform'].value_counts()"
   ]
  },
  {
   "cell_type": "markdown",
   "metadata": {},
   "source": [
    "in hindsight, it seems there are just 3 unique values in platform column (android, windows, web_player), we need to handle this value"
   ]
  },
  {
   "cell_type": "code",
   "execution_count": null,
   "metadata": {},
   "outputs": [],
   "source": []
  },
  {
   "cell_type": "markdown",
   "metadata": {},
   "source": [
    "based on what we've seen, there are some things that we need to handle:\n",
    "- drop podcasts related columns\n",
    "- drop offline_timestamp column\n",
    "- drop conn_country column since I think what _platform_ the track was streamed is more important than the _country_ it was streamed\n",
    "- drop incognito_mode column\n",
    "- convert 'ts' column into datetime datatype\n",
    "- rename columns with long label (master_metadata_artist_name, etc) into shorter form\n",
    "- trim spotify_track_uri to only track ids\n",
    "- handle _platform_ into three values (web_player, android, windows)\n",
    "- take a look on rows with 0 ms_played "
   ]
  },
  {
   "cell_type": "markdown",
   "metadata": {},
   "source": [
    "## Data Preprocessing"
   ]
  },
  {
   "cell_type": "markdown",
   "metadata": {},
   "source": [
    "### dropping unimportant columns"
   ]
  },
  {
   "cell_type": "code",
   "execution_count": 182,
   "metadata": {},
   "outputs": [],
   "source": [
    "# dropping the columns that are not useful\n",
    "tracks_df.drop(columns=['conn_country', 'offline_timestamp', 'episode_name', 'episode_show_name', 'spotify_episode_uri'], inplace=True)\n"
   ]
  },
  {
   "cell_type": "code",
   "execution_count": 198,
   "metadata": {},
   "outputs": [],
   "source": [
    "tracks_df.drop(columns=['incognito_mode'], inplace=True)"
   ]
  },
  {
   "cell_type": "markdown",
   "metadata": {},
   "source": [
    "### converting 'ts' column to datetime datatype"
   ]
  },
  {
   "cell_type": "code",
   "execution_count": 183,
   "metadata": {},
   "outputs": [],
   "source": [
    "# converting 'ts' to datetime format\n",
    "tracks_df['ts'] = pd.to_datetime(tracks_df['ts'])"
   ]
  },
  {
   "cell_type": "markdown",
   "metadata": {},
   "source": [
    "### renaming columns with long label"
   ]
  },
  {
   "cell_type": "code",
   "execution_count": 186,
   "metadata": {},
   "outputs": [],
   "source": [
    "# renaming master_metadata_track_name, master_metadata_album_artist_name, and master_metadata_album_album_name into track_name, artist_name, and album_name\n",
    "tracks_df.rename(columns={'master_metadata_track_name':'track_name', 'master_metadata_album_artist_name':'artist_name', 'master_metadata_album_album_name':'album_name'}, inplace=True)"
   ]
  },
  {
   "cell_type": "code",
   "execution_count": 187,
   "metadata": {},
   "outputs": [
    {
     "data": {
      "text/html": [
       "<div>\n",
       "<style scoped>\n",
       "    .dataframe tbody tr th:only-of-type {\n",
       "        vertical-align: middle;\n",
       "    }\n",
       "\n",
       "    .dataframe tbody tr th {\n",
       "        vertical-align: top;\n",
       "    }\n",
       "\n",
       "    .dataframe thead th {\n",
       "        text-align: right;\n",
       "    }\n",
       "</style>\n",
       "<table border=\"1\" class=\"dataframe\">\n",
       "  <thead>\n",
       "    <tr style=\"text-align: right;\">\n",
       "      <th></th>\n",
       "      <th>ts</th>\n",
       "      <th>platform</th>\n",
       "      <th>ms_played</th>\n",
       "      <th>track_name</th>\n",
       "      <th>artist_name</th>\n",
       "      <th>album_name</th>\n",
       "      <th>spotify_track_uri</th>\n",
       "      <th>reason_start</th>\n",
       "      <th>reason_end</th>\n",
       "      <th>shuffle</th>\n",
       "      <th>skipped</th>\n",
       "      <th>offline</th>\n",
       "      <th>incognito_mode</th>\n",
       "    </tr>\n",
       "  </thead>\n",
       "  <tbody>\n",
       "    <tr>\n",
       "      <th>37631</th>\n",
       "      <td>2019-01-08 17:30:18+00:00</td>\n",
       "      <td>Windows 10 (10.0.17134; x64)</td>\n",
       "      <td>201253</td>\n",
       "      <td>Baby - Acoustic</td>\n",
       "      <td>Bishop Briggs</td>\n",
       "      <td>Baby</td>\n",
       "      <td>spotify:track:65Wza2OBkKGIW17fome7pk</td>\n",
       "      <td>trackdone</td>\n",
       "      <td>trackdone</td>\n",
       "      <td>True</td>\n",
       "      <td>NaN</td>\n",
       "      <td>False</td>\n",
       "      <td>False</td>\n",
       "    </tr>\n",
       "    <tr>\n",
       "      <th>117674</th>\n",
       "      <td>2023-05-23 02:50:47+00:00</td>\n",
       "      <td>android</td>\n",
       "      <td>184273</td>\n",
       "      <td>Wild World</td>\n",
       "      <td>Scary Pockets</td>\n",
       "      <td>Funk Box</td>\n",
       "      <td>spotify:track:1lcOlGIVfGB36aeheTC3GN</td>\n",
       "      <td>clickrow</td>\n",
       "      <td>trackdone</td>\n",
       "      <td>True</td>\n",
       "      <td>False</td>\n",
       "      <td>False</td>\n",
       "      <td>False</td>\n",
       "    </tr>\n",
       "    <tr>\n",
       "      <th>108179</th>\n",
       "      <td>2022-12-13 07:39:58+00:00</td>\n",
       "      <td>android</td>\n",
       "      <td>208092</td>\n",
       "      <td>Hate Myself</td>\n",
       "      <td>dodie</td>\n",
       "      <td>Build A Problem</td>\n",
       "      <td>spotify:track:4ILUKveMdxak81RIB0iyhH</td>\n",
       "      <td>trackdone</td>\n",
       "      <td>trackdone</td>\n",
       "      <td>True</td>\n",
       "      <td>0.0</td>\n",
       "      <td>False</td>\n",
       "      <td>False</td>\n",
       "    </tr>\n",
       "    <tr>\n",
       "      <th>78647</th>\n",
       "      <td>2021-06-19 22:42:00+00:00</td>\n",
       "      <td>Android OS 10 API 29 (OnePlus, ONEPLUS A5010)</td>\n",
       "      <td>666</td>\n",
       "      <td>City Lounge</td>\n",
       "      <td>Saib</td>\n",
       "      <td>City Lounge</td>\n",
       "      <td>spotify:track:1hxcBxHHWA57B1xiDPZpNs</td>\n",
       "      <td>fwdbtn</td>\n",
       "      <td>fwdbtn</td>\n",
       "      <td>True</td>\n",
       "      <td>NaN</td>\n",
       "      <td>False</td>\n",
       "      <td>False</td>\n",
       "    </tr>\n",
       "    <tr>\n",
       "      <th>109832</th>\n",
       "      <td>2023-01-17 10:41:26+00:00</td>\n",
       "      <td>android</td>\n",
       "      <td>1502</td>\n",
       "      <td>Hate Myself (Voice Memo)</td>\n",
       "      <td>dodie</td>\n",
       "      <td>Hate Myself (Voice Memo)</td>\n",
       "      <td>spotify:track:5op5f1pZvU7Vj0KDSYSYdK</td>\n",
       "      <td>fwdbtn</td>\n",
       "      <td>fwdbtn</td>\n",
       "      <td>True</td>\n",
       "      <td>1.0</td>\n",
       "      <td>False</td>\n",
       "      <td>False</td>\n",
       "    </tr>\n",
       "  </tbody>\n",
       "</table>\n",
       "</div>"
      ],
      "text/plain": [
       "                              ts  \\\n",
       "37631  2019-01-08 17:30:18+00:00   \n",
       "117674 2023-05-23 02:50:47+00:00   \n",
       "108179 2022-12-13 07:39:58+00:00   \n",
       "78647  2021-06-19 22:42:00+00:00   \n",
       "109832 2023-01-17 10:41:26+00:00   \n",
       "\n",
       "                                             platform  ms_played  \\\n",
       "37631                    Windows 10 (10.0.17134; x64)     201253   \n",
       "117674                                        android     184273   \n",
       "108179                                        android     208092   \n",
       "78647   Android OS 10 API 29 (OnePlus, ONEPLUS A5010)        666   \n",
       "109832                                        android       1502   \n",
       "\n",
       "                      track_name    artist_name                album_name  \\\n",
       "37631            Baby - Acoustic  Bishop Briggs                      Baby   \n",
       "117674                Wild World  Scary Pockets                  Funk Box   \n",
       "108179               Hate Myself          dodie           Build A Problem   \n",
       "78647                City Lounge           Saib               City Lounge   \n",
       "109832  Hate Myself (Voice Memo)          dodie  Hate Myself (Voice Memo)   \n",
       "\n",
       "                           spotify_track_uri reason_start reason_end  shuffle  \\\n",
       "37631   spotify:track:65Wza2OBkKGIW17fome7pk    trackdone  trackdone     True   \n",
       "117674  spotify:track:1lcOlGIVfGB36aeheTC3GN     clickrow  trackdone     True   \n",
       "108179  spotify:track:4ILUKveMdxak81RIB0iyhH    trackdone  trackdone     True   \n",
       "78647   spotify:track:1hxcBxHHWA57B1xiDPZpNs       fwdbtn     fwdbtn     True   \n",
       "109832  spotify:track:5op5f1pZvU7Vj0KDSYSYdK       fwdbtn     fwdbtn     True   \n",
       "\n",
       "       skipped  offline  incognito_mode  \n",
       "37631      NaN    False           False  \n",
       "117674   False    False           False  \n",
       "108179     0.0    False           False  \n",
       "78647      NaN    False           False  \n",
       "109832     1.0    False           False  "
      ]
     },
     "execution_count": 187,
     "metadata": {},
     "output_type": "execute_result"
    }
   ],
   "source": [
    "tracks_df.sample(5)"
   ]
  },
  {
   "cell_type": "markdown",
   "metadata": {},
   "source": [
    "### handling platform columns"
   ]
  },
  {
   "cell_type": "code",
   "execution_count": 188,
   "metadata": {},
   "outputs": [
    {
     "data": {
      "text/plain": [
       "platform\n",
       "Android OS 11 API 30 (OnePlus, HD1910)                       21563\n",
       "android                                                      19404\n",
       "Android OS 9 API 28 (OnePlus, ONEPLUS A5010)                 15578\n",
       "Android OS 10 API 29 (OnePlus, ONEPLUS A5010)                15124\n",
       "Android OS 8.1.0 API 27 (OnePlus, ONEPLUS A5010)             10919\n",
       "Windows 10 (10.0.17134; x64)                                  7099\n",
       "Android OS 7.1.1 API 25 (Sony, E6683)                         6847\n",
       "Windows 10 (10.0.14393; x64)                                  6764\n",
       "Windows 10 (10.0.18363; x64)                                  6702\n",
       "Android OS 7.0 API 24 (Sony, E6683)                           4074\n",
       "windows                                                       3136\n",
       "Windows 10 (10.0.18362; x64)                                  2858\n",
       "Android OS 8.0.0 API 26 (OnePlus, ONEPLUS A5010)              1049\n",
       "Windows 10 (10.0.16299; x64)                                  1011\n",
       "Android OS 6.0.1 API 23 (Sony, E6683)                          896\n",
       "Windows 10 (10.0.19044; x64; AppX)                             812\n",
       "Windows 10 (10.0.22000; x64)                                   733\n",
       "Windows 10 (10.0.18362; x64; AppX)                             591\n",
       "Windows 10 (10.0.17134; x64; AppX)                             520\n",
       "Android OS 7.1.1 API 25 (OnePlus, ONEPLUS A5010)               463\n",
       "Windows 10 (10.0.16299; x64; AppX)                             408\n",
       "Windows 10 (10.0.22621; x64)                                   368\n",
       "Windows 10 (10.0.19042; x64)                                   367\n",
       "Windows 10 (10.0.10586; x64)                                   234\n",
       "Windows 10 (10.0.22622; x64)                                   200\n",
       "Windows 10 (10.0.22598; x64)                                   156\n",
       "web_player windows 10;microsoft edge 95.0.1020.40;desktop       66\n",
       "Android OS 6.0 API 23 (Sony, E6683)                              8\n",
       "web_player windows 10;firefox 84.0;desktop                       6\n",
       "Partner spotify web_player                                       2\n",
       "web_player windows 10;firefox 61.0;desktop                       2\n",
       "web_player windows 10;firefox 69.0;desktop                       1\n",
       "Name: count, dtype: int64"
      ]
     },
     "execution_count": 188,
     "metadata": {},
     "output_type": "execute_result"
    }
   ],
   "source": [
    "tracks_df['platform'].value_counts()"
   ]
  },
  {
   "cell_type": "code",
   "execution_count": 189,
   "metadata": {},
   "outputs": [],
   "source": [
    "# trim the platform values to only the first word and make it lowercase\n",
    "tracks_df['platform'] = tracks_df['platform'].str.split().str[0].str.lower()"
   ]
  },
  {
   "cell_type": "code",
   "execution_count": 191,
   "metadata": {},
   "outputs": [],
   "source": [
    "# replace 'partner' value in platform column with 'web_player'\n",
    "tracks_df['platform'].replace('partner', 'web_player', inplace=True)"
   ]
  },
  {
   "cell_type": "code",
   "execution_count": 192,
   "metadata": {},
   "outputs": [
    {
     "data": {
      "text/plain": [
       "platform\n",
       "android       95925\n",
       "windows       31959\n",
       "web_player       77\n",
       "Name: count, dtype: int64"
      ]
     },
     "execution_count": 192,
     "metadata": {},
     "output_type": "execute_result"
    }
   ],
   "source": [
    "tracks_df['platform'].value_counts()"
   ]
  },
  {
   "cell_type": "markdown",
   "metadata": {},
   "source": [
    "### handling spotify_track_uri to only track_id"
   ]
  },
  {
   "cell_type": "code",
   "execution_count": 195,
   "metadata": {},
   "outputs": [],
   "source": [
    "# trim spotify_track_uri to only the track id and rename the column into track_id\n",
    "tracks_df['spotify_track_uri'] = tracks_df['spotify_track_uri'].str.split(':').str[2]\n",
    "tracks_df.rename(columns={'spotify_track_uri':'track_id'}, inplace=True)"
   ]
  },
  {
   "cell_type": "code",
   "execution_count": 199,
   "metadata": {},
   "outputs": [
    {
     "data": {
      "text/html": [
       "<div>\n",
       "<style scoped>\n",
       "    .dataframe tbody tr th:only-of-type {\n",
       "        vertical-align: middle;\n",
       "    }\n",
       "\n",
       "    .dataframe tbody tr th {\n",
       "        vertical-align: top;\n",
       "    }\n",
       "\n",
       "    .dataframe thead th {\n",
       "        text-align: right;\n",
       "    }\n",
       "</style>\n",
       "<table border=\"1\" class=\"dataframe\">\n",
       "  <thead>\n",
       "    <tr style=\"text-align: right;\">\n",
       "      <th></th>\n",
       "      <th>ts</th>\n",
       "      <th>platform</th>\n",
       "      <th>ms_played</th>\n",
       "      <th>track_name</th>\n",
       "      <th>artist_name</th>\n",
       "      <th>album_name</th>\n",
       "      <th>track_id</th>\n",
       "      <th>reason_start</th>\n",
       "      <th>reason_end</th>\n",
       "      <th>shuffle</th>\n",
       "      <th>skipped</th>\n",
       "      <th>offline</th>\n",
       "    </tr>\n",
       "  </thead>\n",
       "  <tbody>\n",
       "    <tr>\n",
       "      <th>112914</th>\n",
       "      <td>2023-03-05 05:08:01+00:00</td>\n",
       "      <td>android</td>\n",
       "      <td>202435</td>\n",
       "      <td>Got Weird</td>\n",
       "      <td>dodie</td>\n",
       "      <td>Hot Mess</td>\n",
       "      <td>3sTZqO3R6OT1SSScoaL1U6</td>\n",
       "      <td>trackdone</td>\n",
       "      <td>trackdone</td>\n",
       "      <td>True</td>\n",
       "      <td>False</td>\n",
       "      <td>False</td>\n",
       "    </tr>\n",
       "    <tr>\n",
       "      <th>63129</th>\n",
       "      <td>2020-08-05 04:20:44+00:00</td>\n",
       "      <td>android</td>\n",
       "      <td>56646</td>\n",
       "      <td>In Hell I'll Be in Good Company</td>\n",
       "      <td>The Dead South</td>\n",
       "      <td>Good Company</td>\n",
       "      <td>4eMxLQtSdgxdA1Hs6D2YuN</td>\n",
       "      <td>fwdbtn</td>\n",
       "      <td>fwdbtn</td>\n",
       "      <td>False</td>\n",
       "      <td>NaN</td>\n",
       "      <td>False</td>\n",
       "    </tr>\n",
       "    <tr>\n",
       "      <th>110686</th>\n",
       "      <td>2023-01-28 11:16:03+00:00</td>\n",
       "      <td>android</td>\n",
       "      <td>124415</td>\n",
       "      <td>Words Ain't Enough</td>\n",
       "      <td>Tessa Violet</td>\n",
       "      <td>Words Ain't Enough</td>\n",
       "      <td>7lMzNAybmy1UNPsgflbVcE</td>\n",
       "      <td>trackdone</td>\n",
       "      <td>trackdone</td>\n",
       "      <td>True</td>\n",
       "      <td>False</td>\n",
       "      <td>False</td>\n",
       "    </tr>\n",
       "    <tr>\n",
       "      <th>65860</th>\n",
       "      <td>2020-09-12 12:50:25+00:00</td>\n",
       "      <td>windows</td>\n",
       "      <td>197005</td>\n",
       "      <td>Fast Slow Disco</td>\n",
       "      <td>St. Vincent</td>\n",
       "      <td>Fast Slow Disco</td>\n",
       "      <td>6Xk5AaN4n4SnW71473GI7A</td>\n",
       "      <td>trackdone</td>\n",
       "      <td>trackdone</td>\n",
       "      <td>False</td>\n",
       "      <td>NaN</td>\n",
       "      <td>False</td>\n",
       "    </tr>\n",
       "    <tr>\n",
       "      <th>93821</th>\n",
       "      <td>2022-04-14 05:31:22+00:00</td>\n",
       "      <td>windows</td>\n",
       "      <td>189267</td>\n",
       "      <td>High Water</td>\n",
       "      <td>Bishop Briggs</td>\n",
       "      <td>High Water / Art of Survival</td>\n",
       "      <td>0ZrHaA9ei55Km65yBodElf</td>\n",
       "      <td>trackdone</td>\n",
       "      <td>trackdone</td>\n",
       "      <td>True</td>\n",
       "      <td>NaN</td>\n",
       "      <td>False</td>\n",
       "    </tr>\n",
       "  </tbody>\n",
       "</table>\n",
       "</div>"
      ],
      "text/plain": [
       "                              ts platform  ms_played  \\\n",
       "112914 2023-03-05 05:08:01+00:00  android     202435   \n",
       "63129  2020-08-05 04:20:44+00:00  android      56646   \n",
       "110686 2023-01-28 11:16:03+00:00  android     124415   \n",
       "65860  2020-09-12 12:50:25+00:00  windows     197005   \n",
       "93821  2022-04-14 05:31:22+00:00  windows     189267   \n",
       "\n",
       "                             track_name     artist_name  \\\n",
       "112914                        Got Weird           dodie   \n",
       "63129   In Hell I'll Be in Good Company  The Dead South   \n",
       "110686               Words Ain't Enough    Tessa Violet   \n",
       "65860                   Fast Slow Disco     St. Vincent   \n",
       "93821                        High Water   Bishop Briggs   \n",
       "\n",
       "                          album_name                track_id reason_start  \\\n",
       "112914                      Hot Mess  3sTZqO3R6OT1SSScoaL1U6    trackdone   \n",
       "63129                   Good Company  4eMxLQtSdgxdA1Hs6D2YuN       fwdbtn   \n",
       "110686            Words Ain't Enough  7lMzNAybmy1UNPsgflbVcE    trackdone   \n",
       "65860                Fast Slow Disco  6Xk5AaN4n4SnW71473GI7A    trackdone   \n",
       "93821   High Water / Art of Survival  0ZrHaA9ei55Km65yBodElf    trackdone   \n",
       "\n",
       "       reason_end  shuffle skipped  offline  \n",
       "112914  trackdone     True   False    False  \n",
       "63129      fwdbtn    False     NaN    False  \n",
       "110686  trackdone     True   False    False  \n",
       "65860   trackdone    False     NaN    False  \n",
       "93821   trackdone     True     NaN    False  "
      ]
     },
     "execution_count": 199,
     "metadata": {},
     "output_type": "execute_result"
    }
   ],
   "source": [
    "tracks_df.sample(5)"
   ]
  },
  {
   "cell_type": "code",
   "execution_count": 200,
   "metadata": {},
   "outputs": [],
   "source": [
    "#save tracks_df into csv\n",
    "tracks_df.to_csv('datasets/tracks_df_processed.csv', index=False)"
   ]
  }
 ],
 "metadata": {
  "kernelspec": {
   "display_name": "Python 3",
   "language": "python",
   "name": "python3"
  },
  "language_info": {
   "codemirror_mode": {
    "name": "ipython",
    "version": 3
   },
   "file_extension": ".py",
   "mimetype": "text/x-python",
   "name": "python",
   "nbconvert_exporter": "python",
   "pygments_lexer": "ipython3",
   "version": "3.11.5"
  }
 },
 "nbformat": 4,
 "nbformat_minor": 2
}
