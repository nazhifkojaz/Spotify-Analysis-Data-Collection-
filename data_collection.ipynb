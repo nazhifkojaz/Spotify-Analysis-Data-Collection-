{
 "cells": [
  {
   "cell_type": "markdown",
   "metadata": {},
   "source": [
    "# Library Imports"
   ]
  },
  {
   "cell_type": "code",
   "execution_count": 1,
   "metadata": {},
   "outputs": [],
   "source": [
    "import pandas as pd\n",
    "import glob\n",
    "import requests\n",
    "import time"
   ]
  },
  {
   "cell_type": "code",
   "execution_count": 2,
   "metadata": {},
   "outputs": [],
   "source": [
    "import seaborn as sns"
   ]
  },
  {
   "cell_type": "code",
   "execution_count": 3,
   "metadata": {},
   "outputs": [],
   "source": [
    "from credentials import SPOTIFY_API_CLIENT_ID, SPOTIFY_API_CLIENT_SECRET, GENIUS_ACCESS_TOKEN, MUSIXMATCH_API_KEY"
   ]
  },
  {
   "cell_type": "markdown",
   "metadata": {},
   "source": [
    "# How to get the data? and which data I'm using?"
   ]
  },
  {
   "cell_type": "markdown",
   "metadata": {},
   "source": [
    "<div style=\"float: left\">\n",
    "<img style=\"float: right\" src=\"datasets/privacy_page.jpg\" alt=\"screenshot\" width=\"600\"/>\n",
    "Good question! I actually just found this out recently myself that you can request your streaming data from Spotify! \n",
    "\n",
    "The process is quite simple, All you need to do is to access [your account's privacy page](https://www.spotify.com/us/account/privacy/) , put a tick on the data that you want to request from spotify (see the screenshot on the right)\n",
    "\n",
    "The data I'm using in this project is the streaming hisotry (from Extended Streaming History option) where it consists of multiple .json files of your spotify streaming history (for both music and podcasts)\n",
    "I chose the Extended Streaming History because the data includes your entire lifetime of your account, and it also includes _spotify_track_uri_, a unique identifier for each spotify tracks that we can use to collect even more information about the tracks (such as audio features, track info, etc) using [Spotify Web API](https://developer.spotify.com/) later.\n",
    "\n",
    "Account Data only conists of one-year length of data and it does not have the _spotify_track_uri_ information, technically you can still collect the tracks' info, audio features data using only artists' name and tracks' name but it adds more work and can be quite unreliable (plus, extended streaming history gives you MORE data, so why not?)\n",
    "\n",
    "Based on my experience, it took about 10 days to receive the Account Data and about 3 weeks to get Extended Streaming History from the time I requested the data.\n",
    "</div>\n"
   ]
  },
  {
   "cell_type": "markdown",
   "metadata": {},
   "source": [
    "# Data Imports / Exports"
   ]
  },
  {
   "cell_type": "code",
   "execution_count": 23,
   "metadata": {},
   "outputs": [],
   "source": [
    "# THESE FILES ARE EXCLUDED FROM THE REPOSITORY\n",
    "stream_json = glob.glob('datasets/v2/Streaming_History_Audio*.json')"
   ]
  },
  {
   "cell_type": "code",
   "execution_count": 24,
   "metadata": {},
   "outputs": [
    {
     "data": {
      "text/plain": [
       "['datasets/v2\\\\Streaming_History_Audio_2016-2017_0.json',\n",
       " 'datasets/v2\\\\Streaming_History_Audio_2017-2018_1.json',\n",
       " 'datasets/v2\\\\Streaming_History_Audio_2018-2019_2.json',\n",
       " 'datasets/v2\\\\Streaming_History_Audio_2019-2020_3.json',\n",
       " 'datasets/v2\\\\Streaming_History_Audio_2020-2021_4.json',\n",
       " 'datasets/v2\\\\Streaming_History_Audio_2021-2022_5.json',\n",
       " 'datasets/v2\\\\Streaming_History_Audio_2022-2023_6.json',\n",
       " 'datasets/v2\\\\Streaming_History_Audio_2023_7.json',\n",
       " 'datasets/v2\\\\Streaming_History_Audio_2023_8.json']"
      ]
     },
     "execution_count": 24,
     "metadata": {},
     "output_type": "execute_result"
    }
   ],
   "source": [
    "# see the list of globbed files\n",
    "stream_json"
   ]
  },
  {
   "cell_type": "code",
   "execution_count": 25,
   "metadata": {},
   "outputs": [],
   "source": [
    "# load the globbed files into a dataframe\n",
    "stream_df = pd.concat([pd.read_json(f) for f in stream_json])"
   ]
  },
  {
   "cell_type": "code",
   "execution_count": 9,
   "metadata": {},
   "outputs": [
    {
     "name": "stderr",
     "output_type": "stream",
     "text": [
      "C:\\Users\\nazhi\\AppData\\Local\\Temp\\ipykernel_5344\\2056156176.py:1: DtypeWarning: Columns (14) have mixed types. Specify dtype option on import or set low_memory=False.\n",
      "  tracks_df = pd.read_csv('datasets/tracks_df.csv')\n"
     ]
    }
   ],
   "source": [
    "tracks_df = pd.read_csv('datasets/tracks_df.csv')\n",
    "podcasts_df = pd.read_csv('datasets/podcasts_df.csv')"
   ]
  },
  {
   "cell_type": "markdown",
   "metadata": {},
   "source": [
    "# Preparing for Data Collection\n",
    "we need 4 things here.\n",
    "1. tracks streaming history\n",
    "2. podcasts streaming history\n",
    "3. list of unique tracks streamed\n",
    "4. ~~list of unique podcasts streamed~~ not really needed actually"
   ]
  },
  {
   "cell_type": "code",
   "execution_count": 26,
   "metadata": {},
   "outputs": [
    {
     "name": "stdout",
     "output_type": "stream",
     "text": [
      "(130209, 21)\n",
      "Index(['ts', 'username', 'platform', 'ms_played', 'conn_country',\n",
      "       'ip_addr_decrypted', 'user_agent_decrypted',\n",
      "       'master_metadata_track_name', 'master_metadata_album_artist_name',\n",
      "       'master_metadata_album_album_name', 'spotify_track_uri', 'episode_name',\n",
      "       'episode_show_name', 'spotify_episode_uri', 'reason_start',\n",
      "       'reason_end', 'shuffle', 'skipped', 'offline', 'offline_timestamp',\n",
      "       'incognito_mode'],\n",
      "      dtype='object')\n"
     ]
    }
   ],
   "source": [
    "print(stream_df.shape)\n",
    "print(stream_df.columns)"
   ]
  },
  {
   "cell_type": "code",
   "execution_count": 27,
   "metadata": {},
   "outputs": [
    {
     "name": "stdout",
     "output_type": "stream",
     "text": [
      "<class 'pandas.core.frame.DataFrame'>\n",
      "Index: 130209 entries, 0 to 2979\n",
      "Data columns (total 21 columns):\n",
      " #   Column                             Non-Null Count   Dtype \n",
      "---  ------                             --------------   ----- \n",
      " 0   ts                                 130209 non-null  object\n",
      " 1   username                           130209 non-null  object\n",
      " 2   platform                           130209 non-null  object\n",
      " 3   ms_played                          130209 non-null  int64 \n",
      " 4   conn_country                       130209 non-null  object\n",
      " 5   ip_addr_decrypted                  109601 non-null  object\n",
      " 6   user_agent_decrypted               109601 non-null  object\n",
      " 7   master_metadata_track_name         129393 non-null  object\n",
      " 8   master_metadata_album_artist_name  129393 non-null  object\n",
      " 9   master_metadata_album_album_name   129393 non-null  object\n",
      " 10  spotify_track_uri                  129393 non-null  object\n",
      " 11  episode_name                       641 non-null     object\n",
      " 12  episode_show_name                  641 non-null     object\n",
      " 13  spotify_episode_uri                641 non-null     object\n",
      " 14  reason_start                       130209 non-null  object\n",
      " 15  reason_end                         109601 non-null  object\n",
      " 16  shuffle                            130209 non-null  bool  \n",
      " 17  skipped                            24014 non-null   object\n",
      " 18  offline                            130209 non-null  bool  \n",
      " 19  offline_timestamp                  130209 non-null  int64 \n",
      " 20  incognito_mode                     130209 non-null  bool  \n",
      "dtypes: bool(3), int64(2), object(16)\n",
      "memory usage: 19.2+ MB\n"
     ]
    }
   ],
   "source": [
    "stream_df.info()"
   ]
  },
  {
   "cell_type": "code",
   "execution_count": 28,
   "metadata": {},
   "outputs": [
    {
     "data": {
      "text/plain": [
       "ts                                   122712\n",
       "username                                  1\n",
       "platform                                 33\n",
       "ms_played                             27030\n",
       "conn_country                              9\n",
       "ip_addr_decrypted                      2750\n",
       "user_agent_decrypted                      6\n",
       "master_metadata_track_name             4783\n",
       "master_metadata_album_artist_name      1646\n",
       "master_metadata_album_album_name       2700\n",
       "spotify_track_uri                      5245\n",
       "episode_name                            297\n",
       "episode_show_name                        31\n",
       "spotify_episode_uri                     297\n",
       "reason_start                              8\n",
       "reason_end                               10\n",
       "shuffle                                   2\n",
       "skipped                                   2\n",
       "offline                                   2\n",
       "offline_timestamp                    128332\n",
       "incognito_mode                            2\n",
       "dtype: int64"
      ]
     },
     "execution_count": 28,
     "metadata": {},
     "output_type": "execute_result"
    }
   ],
   "source": [
    "# number of unique values in each column\n",
    "stream_df.nunique()"
   ]
  },
  {
   "cell_type": "code",
   "execution_count": 29,
   "metadata": {},
   "outputs": [
    {
     "data": {
      "text/plain": [
       "ts                                        0\n",
       "username                                  0\n",
       "platform                                  0\n",
       "ms_played                                 0\n",
       "conn_country                              0\n",
       "ip_addr_decrypted                     20608\n",
       "user_agent_decrypted                  20608\n",
       "master_metadata_track_name              816\n",
       "master_metadata_album_artist_name       816\n",
       "master_metadata_album_album_name        816\n",
       "spotify_track_uri                       816\n",
       "episode_name                         129568\n",
       "episode_show_name                    129568\n",
       "spotify_episode_uri                  129568\n",
       "reason_start                              0\n",
       "reason_end                            20608\n",
       "shuffle                                   0\n",
       "skipped                              106195\n",
       "offline                                   0\n",
       "offline_timestamp                         0\n",
       "incognito_mode                            0\n",
       "dtype: int64"
      ]
     },
     "execution_count": 29,
     "metadata": {},
     "output_type": "execute_result"
    }
   ],
   "source": [
    "stream_df.isna().sum()"
   ]
  },
  {
   "cell_type": "code",
   "execution_count": 30,
   "metadata": {},
   "outputs": [
    {
     "data": {
      "text/plain": [
       "user_agent_decrypted\n",
       "unknown                                                                                                                                                                  109525\n",
       "Mozilla%2F5.0%20(Windows%20NT%2010.0;%20Win64;%20x64)%20AppleWebKit%2F537.36%20(KHTML,%20like%20Gecko)%20Chrome%2F95.0.4638.54%20Safari%2F537.36%20Edg%2F95.0.1020.40        66\n",
       "Mozilla%2F5.0%20(Windows%20NT%2010.0;%20Win64;%20x64;%20rv:84.0)%20Gecko%2F20100101%20Firefox%2F84.0                                                                          6\n",
       "Mozilla%2F5.0%20(Windows%20NT%2010.0;%20Win64;%20x64;%20rv:61.0)%20Gecko%2F20100101%20Firefox%2F61.0                                                                          2\n",
       "Mozilla%2F5.0%20(Windows%20NT%2010.0;%20Win64;%20x64;%20rv:69.0)%20Gecko%2F20100101%20Firefox%2F69.0                                                                          1\n",
       "Mozilla%2F5.0%20(Windows%20NT%2010.0;%20Win64;%20x64;%20rv:83.0)%20Gecko%2F20100101%20Firefox%2F83.0                                                                          1\n",
       "Name: count, dtype: int64"
      ]
     },
     "execution_count": 30,
     "metadata": {},
     "output_type": "execute_result"
    }
   ],
   "source": [
    "stream_df['user_agent_decrypted'].value_counts()"
   ]
  },
  {
   "cell_type": "code",
   "execution_count": 31,
   "metadata": {},
   "outputs": [],
   "source": [
    "# dropping some columns that might cnotain sensitive information or just not useful\n",
    "stream_df.drop(columns=['username', 'ip_addr_decrypted', 'user_agent_decrypted'], inplace=True)"
   ]
  },
  {
   "cell_type": "markdown",
   "metadata": {},
   "source": [
    "there are a huge number of null value of 'spotify_episode_uri', indicating that tracks/songs and podcasts don't share same uri, we need to separate this into its own dataframe (for tracks and podcasts)"
   ]
  },
  {
   "cell_type": "code",
   "execution_count": 32,
   "metadata": {},
   "outputs": [
    {
     "name": "stdout",
     "output_type": "stream",
     "text": [
      "(175, 18)\n",
      "(0, 18)\n"
     ]
    }
   ],
   "source": [
    "# rows with null in both spotify_track_uri and spotify_episode_uri\n",
    "print(stream_df[stream_df['spotify_episode_uri'].isna() & stream_df['spotify_track_uri'].isna()].shape)\n",
    "print(stream_df[stream_df['spotify_episode_uri'].notna() & stream_df['spotify_track_uri'].notna()].shape)"
   ]
  },
  {
   "cell_type": "markdown",
   "metadata": {},
   "source": [
    "so apparently there exists some rows are null on both spotify_episode_uri and spotify_track_uri, so those should be excluded as well"
   ]
  },
  {
   "cell_type": "code",
   "execution_count": 33,
   "metadata": {},
   "outputs": [],
   "source": [
    "# get rows with null values in 'spotify_episode_uri' column and put it into a new dataframe\n",
    "tracks_df = stream_df[stream_df['spotify_track_uri'].notna()]\n",
    "podcasts_df = stream_df[stream_df['spotify_episode_uri'].notna()]"
   ]
  },
  {
   "cell_type": "code",
   "execution_count": 34,
   "metadata": {},
   "outputs": [
    {
     "name": "stdout",
     "output_type": "stream",
     "text": [
      "(129393, 18)\n",
      "(641, 18)\n"
     ]
    }
   ],
   "source": [
    "print(tracks_df.shape)\n",
    "print(podcasts_df.shape)"
   ]
  },
  {
   "cell_type": "code",
   "execution_count": 10,
   "metadata": {},
   "outputs": [],
   "source": [
    "# list of tracks, containing unique values in 'spotify_track_uri' column\n",
    "tracks_uri_list = tracks_df['spotify_track_uri'].unique().tolist()\n",
    "podcasts_uri_list = podcasts_df['spotify_episode_uri'].unique().tolist()"
   ]
  },
  {
   "cell_type": "code",
   "execution_count": 11,
   "metadata": {},
   "outputs": [
    {
     "name": "stdout",
     "output_type": "stream",
     "text": [
      "5245\n",
      "297\n"
     ]
    }
   ],
   "source": [
    "print(len(tracks_uri_list))\n",
    "print(len(podcasts_uri_list))"
   ]
  },
  {
   "cell_type": "code",
   "execution_count": 37,
   "metadata": {},
   "outputs": [],
   "source": [
    "# save tracks_df and podcasts_df into csv\n",
    "tracks_df.to_csv('datasets/tracks_df.csv', index=False)\n",
    "podcasts_df.to_csv('datasets/podcasts_df.csv', index=False)"
   ]
  },
  {
   "cell_type": "markdown",
   "metadata": {},
   "source": [
    "# Prepping for Data Collection with Spotipy\n",
    "now we're going to collect the using [Spotipy](https://spotipy.readthedocs.io/en/2.22.1/), it'll require user credentials (client_id and client_secret) which you can get [here](https://developer.spotify.com/dashboard) by registering your app at the dashboard"
   ]
  },
  {
   "cell_type": "code",
   "execution_count": 4,
   "metadata": {},
   "outputs": [],
   "source": [
    "import spotipy\n",
    "from spotipy.oauth2 import SpotifyClientCredentials"
   ]
  },
  {
   "cell_type": "code",
   "execution_count": 2,
   "metadata": {},
   "outputs": [],
   "source": [
    "# Spotify API credentials (client_id and client_secret used will be excluded from the repository)\n",
    "client_id = SPOTIFY_API_CLIENT_ID\n",
    "client_secret = SPOTIFY_API_CLIENT_SECRET"
   ]
  },
  {
   "cell_type": "code",
   "execution_count": 5,
   "metadata": {},
   "outputs": [],
   "source": [
    "#Authentication - without user\n",
    "client_credentials_manager = SpotifyClientCredentials(client_id=client_id, client_secret=client_secret)\n",
    "sp = spotipy.Spotify(client_credentials_manager = client_credentials_manager)"
   ]
  },
  {
   "cell_type": "markdown",
   "metadata": {},
   "source": [
    "## Collecting Track Info"
   ]
  },
  {
   "cell_type": "code",
   "execution_count": 12,
   "metadata": {},
   "outputs": [],
   "source": [
    "# since they have the batch request limit of 50, we need to split the list into batches of 50\n",
    "track_info = {}\n",
    "for i in range(0, len(tracks_uri_list), 50):\n",
    "    track_batch = tracks_uri_list[i:i+50]\n",
    "    sapi = sp.tracks(track_batch)\n",
    "    for track in sapi['tracks']:\n",
    "        track_info[track['id']] = {'name':track['name'], 'artistName':track['artists'][0]['name'], 'release_date':track['album']['release_date'], 'popularity':track['popularity'], 'duration_ms':track['duration_ms'], 'isrc':track['external_ids'].get('isrc', None)}\n",
    "    time.sleep(1)\n",
    "    "
   ]
  },
  {
   "cell_type": "code",
   "execution_count": 6,
   "metadata": {},
   "outputs": [
    {
     "data": {
      "text/plain": [
       "{'album': {'album_type': 'compilation',\n",
       "  'artists': [{'external_urls': {'spotify': 'https://open.spotify.com/artist/0LyfQWJT6nXafLPZqxe9Of'},\n",
       "    'href': 'https://api.spotify.com/v1/artists/0LyfQWJT6nXafLPZqxe9Of',\n",
       "    'id': '0LyfQWJT6nXafLPZqxe9Of',\n",
       "    'name': 'Various Artists',\n",
       "    'type': 'artist',\n",
       "    'uri': 'spotify:artist:0LyfQWJT6nXafLPZqxe9Of'}],\n",
       "  'available_markets': [],\n",
       "  'external_urls': {'spotify': 'https://open.spotify.com/album/7dArkHuO5wkus2TJTu6Ytx'},\n",
       "  'href': 'https://api.spotify.com/v1/albums/7dArkHuO5wkus2TJTu6Ytx',\n",
       "  'id': '7dArkHuO5wkus2TJTu6Ytx',\n",
       "  'images': [{'url': 'https://i.scdn.co/image/ab67616d0000b273da7770b79a66bc42de93d8e7',\n",
       "    'width': 640,\n",
       "    'height': 640},\n",
       "   {'url': 'https://i.scdn.co/image/ab67616d00001e02da7770b79a66bc42de93d8e7',\n",
       "    'width': 300,\n",
       "    'height': 300},\n",
       "   {'url': 'https://i.scdn.co/image/ab67616d00004851da7770b79a66bc42de93d8e7',\n",
       "    'width': 64,\n",
       "    'height': 64}],\n",
       "  'name': 'Monstercat 007 - Solace',\n",
       "  'release_date': '2012-06-06',\n",
       "  'release_date_precision': 'day',\n",
       "  'total_tracks': 21,\n",
       "  'type': 'album',\n",
       "  'uri': 'spotify:album:7dArkHuO5wkus2TJTu6Ytx'},\n",
       " 'artists': [{'external_urls': {'spotify': 'https://open.spotify.com/artist/4YwB41gFHCxY5bcNR3CcIH'},\n",
       "   'href': 'https://api.spotify.com/v1/artists/4YwB41gFHCxY5bcNR3CcIH',\n",
       "   'id': '4YwB41gFHCxY5bcNR3CcIH',\n",
       "   'name': 'Monstercat',\n",
       "   'type': 'artist',\n",
       "   'uri': 'spotify:artist:4YwB41gFHCxY5bcNR3CcIH'}],\n",
       " 'available_markets': [],\n",
       " 'disc_number': 1,\n",
       " 'duration_ms': 3538579,\n",
       " 'explicit': False,\n",
       " 'external_ids': {'isrc': 'TCABG1284815'},\n",
       " 'external_urls': {'spotify': 'https://open.spotify.com/track/6tAM5c0bJOwRqGAEgiNMpI'},\n",
       " 'href': 'https://api.spotify.com/v1/tracks/6tAM5c0bJOwRqGAEgiNMpI',\n",
       " 'id': '6tAM5c0bJOwRqGAEgiNMpI',\n",
       " 'is_local': False,\n",
       " 'name': 'Solace Album Mix',\n",
       " 'popularity': 0,\n",
       " 'preview_url': 'https://p.scdn.co/mp3-preview/e3aa6bab232f53c12e150a9801582b81066d5586?cid=55ea99efe9744c7cae37a4edfe381511',\n",
       " 'track_number': 21,\n",
       " 'type': 'track',\n",
       " 'uri': 'spotify:track:6tAM5c0bJOwRqGAEgiNMpI'}"
      ]
     },
     "execution_count": 6,
     "metadata": {},
     "output_type": "execute_result"
    }
   ],
   "source": [
    "sp.track('6tAM5c0bJOwRqGAEgiNMpI')"
   ]
  },
  {
   "cell_type": "code",
   "execution_count": 13,
   "metadata": {},
   "outputs": [
    {
     "data": {
      "text/plain": [
       "5245"
      ]
     },
     "execution_count": 13,
     "metadata": {},
     "output_type": "execute_result"
    }
   ],
   "source": [
    "len(track_info)"
   ]
  },
  {
   "cell_type": "code",
   "execution_count": 14,
   "metadata": {},
   "outputs": [
    {
     "data": {
      "text/plain": [
       "[('6tAM5c0bJOwRqGAEgiNMpI',\n",
       "  {'name': 'Solace Album Mix',\n",
       "   'artistName': 'Monstercat',\n",
       "   'release_date': '2012-06-06',\n",
       "   'popularity': 0,\n",
       "   'duration_ms': 3538579,\n",
       "   'isrc': 'TCABG1284815'}),\n",
       " ('4mjgNE8R31AzxWfPNGtVMf',\n",
       "  {'name': 'Best of 2015 (Album Mix)',\n",
       "   'artistName': 'Monstercat',\n",
       "   'release_date': '2016-01-22',\n",
       "   'popularity': 0,\n",
       "   'duration_ms': 9158194,\n",
       "   'isrc': 'CA6D21600007'}),\n",
       " ('5Q0P0cX3e42PgKd8LLS3ms',\n",
       "  {'name': 'Horizon Album Mix',\n",
       "   'artistName': 'Monstercat',\n",
       "   'release_date': '2014-08-06',\n",
       "   'popularity': 0,\n",
       "   'duration_ms': 3623121,\n",
       "   'isrc': 'TCABY1492585'}),\n",
       " ('6jvMmRtSzoEibQGrQkSISQ',\n",
       "  {'name': 'Monstercat Best of 2012',\n",
       "   'artistName': 'Monstercat',\n",
       "   'release_date': '2013-02-04',\n",
       "   'popularity': 0,\n",
       "   'duration_ms': 6348017,\n",
       "   'isrc': 'TCABL1374362'}),\n",
       " ('1KzLyjpjIRHuuj4iX8QsC2',\n",
       "  {'name': 'Monstercat Podcast EP. 100',\n",
       "   'artistName': 'Monstercat',\n",
       "   'release_date': '2016-04-05',\n",
       "   'popularity': 0,\n",
       "   'duration_ms': 9744610,\n",
       "   'isrc': 'CA6D21600120'})]"
      ]
     },
     "execution_count": 14,
     "metadata": {},
     "output_type": "execute_result"
    }
   ],
   "source": [
    "list(track_info.items())[:5]"
   ]
  },
  {
   "cell_type": "markdown",
   "metadata": {},
   "source": [
    "### Convert the dict to dataframe and save it to csv"
   ]
  },
  {
   "cell_type": "code",
   "execution_count": 15,
   "metadata": {},
   "outputs": [],
   "source": [
    "track_info_df = pd.DataFrame.from_dict(track_info, orient='index')"
   ]
  },
  {
   "cell_type": "code",
   "execution_count": 16,
   "metadata": {},
   "outputs": [],
   "source": [
    "track_info_df.to_csv('datasets/tracks_info_df_isrc.csv')"
   ]
  },
  {
   "cell_type": "code",
   "execution_count": null,
   "metadata": {},
   "outputs": [],
   "source": [
    "# show rows with duplicate values in 'isrc' column\n",
    "track_info_df[track_info_df['isrc'].duplicated(keep=False)].sort_values('isrc')\n"
   ]
  },
  {
   "cell_type": "markdown",
   "metadata": {},
   "source": [
    "## Collecting Track Audio Features"
   ]
  },
  {
   "cell_type": "code",
   "execution_count": 46,
   "metadata": {},
   "outputs": [],
   "source": [
    "track_features = {}\n",
    "for i in range(0, len(tracks_uri_list), 50):\n",
    "    track_batch = tracks_uri_list[i:i+50]\n",
    "    sapi = sp.audio_features(track_batch)\n",
    "    for track in sapi:\n",
    "        if track is not None:\n",
    "            track_features[track['id']] = {'danceability':track['danceability'], 'energy':track['energy'], 'key':track['key'], 'loudness':track['loudness'], 'mode':track['mode'], 'speechiness':track['speechiness'], 'acousticness':track['acousticness'], 'instrumentalness':track['instrumentalness'], 'liveness':track['liveness'], 'valence':track['valence'], 'tempo':track['tempo'], 'time_signature':track['time_signature']}\n",
    "        # we'll skip it if the track has no audio features data\n",
    "    time.sleep(1)"
   ]
  },
  {
   "cell_type": "code",
   "execution_count": 47,
   "metadata": {},
   "outputs": [
    {
     "data": {
      "text/plain": [
       "5238"
      ]
     },
     "execution_count": 47,
     "metadata": {},
     "output_type": "execute_result"
    }
   ],
   "source": [
    "len(track_features)"
   ]
  },
  {
   "cell_type": "code",
   "execution_count": 48,
   "metadata": {},
   "outputs": [
    {
     "data": {
      "text/plain": [
       "[('6tAM5c0bJOwRqGAEgiNMpI',\n",
       "  {'danceability': 0.446,\n",
       "   'energy': 0.823,\n",
       "   'key': 11,\n",
       "   'loudness': -5.279,\n",
       "   'mode': 0,\n",
       "   'speechiness': 0.0859,\n",
       "   'acousticness': 0.00256,\n",
       "   'instrumentalness': 0.0748,\n",
       "   'liveness': 0.117,\n",
       "   'valence': 0.263,\n",
       "   'tempo': 128.198,\n",
       "   'time_signature': 4}),\n",
       " ('5Q0P0cX3e42PgKd8LLS3ms',\n",
       "  {'danceability': 0.402,\n",
       "   'energy': 0.856,\n",
       "   'key': 1,\n",
       "   'loudness': -4.256,\n",
       "   'mode': 1,\n",
       "   'speechiness': 0.0659,\n",
       "   'acousticness': 0.00504,\n",
       "   'instrumentalness': 0.0164,\n",
       "   'liveness': 0.253,\n",
       "   'valence': 0.247,\n",
       "   'tempo': 140.028,\n",
       "   'time_signature': 4}),\n",
       " ('4VrdksXJVhAOLW49qV0VTQ',\n",
       "  {'danceability': 0.426,\n",
       "   'energy': 0.915,\n",
       "   'key': 11,\n",
       "   'loudness': -3.881,\n",
       "   'mode': 0,\n",
       "   'speechiness': 0.143,\n",
       "   'acousticness': 0.000899,\n",
       "   'instrumentalness': 0.108,\n",
       "   'liveness': 0.495,\n",
       "   'valence': 0.271,\n",
       "   'tempo': 130.405,\n",
       "   'time_signature': 4}),\n",
       " ('0ng42pTjKgskmobNzhnEUa',\n",
       "  {'danceability': 0.434,\n",
       "   'energy': 0.839,\n",
       "   'key': 8,\n",
       "   'loudness': -4.493,\n",
       "   'mode': 1,\n",
       "   'speechiness': 0.119,\n",
       "   'acousticness': 0.0284,\n",
       "   'instrumentalness': 0.00103,\n",
       "   'liveness': 0.605,\n",
       "   'valence': 0.4,\n",
       "   'tempo': 127.67,\n",
       "   'time_signature': 4}),\n",
       " ('1ip1SN4tWX0qMgE1KgIF52',\n",
       "  {'danceability': 0.457,\n",
       "   'energy': 0.911,\n",
       "   'key': 1,\n",
       "   'loudness': -3.315,\n",
       "   'mode': 1,\n",
       "   'speechiness': 0.0498,\n",
       "   'acousticness': 0.00339,\n",
       "   'instrumentalness': 0.592,\n",
       "   'liveness': 0.0752,\n",
       "   'valence': 0.33,\n",
       "   'tempo': 175.002,\n",
       "   'time_signature': 4})]"
      ]
     },
     "execution_count": 48,
     "metadata": {},
     "output_type": "execute_result"
    }
   ],
   "source": [
    "# get first 5 items in the dictionary\n",
    "list(track_features.items())[:5]"
   ]
  },
  {
   "cell_type": "markdown",
   "metadata": {},
   "source": [
    "### Convert the dict to dataframe and save it to csv"
   ]
  },
  {
   "cell_type": "code",
   "execution_count": 49,
   "metadata": {},
   "outputs": [],
   "source": [
    "track_features_df = pd.DataFrame.from_dict(track_features, orient='index')\n",
    "track_features_df.to_csv('datasets/tracks_features_df.csv')"
   ]
  },
  {
   "cell_type": "markdown",
   "metadata": {},
   "source": [
    "## Collecting Track Lyrics (using LyricsGenius / Genius API)"
   ]
  },
  {
   "cell_type": "markdown",
   "metadata": {},
   "source": [
    "here, we are going to use [Genius API](https://genius.com/developers) through [LyricsGenius](https://github.com/johnwmillr/LyricsGenius) to get the lyrics of the tracks, you can get the API key by registering at the website."
   ]
  },
  {
   "cell_type": "code",
   "execution_count": 20,
   "metadata": {},
   "outputs": [],
   "source": [
    "import lyricsgenius\n",
    "import re\n",
    "import time"
   ]
  },
  {
   "cell_type": "code",
   "execution_count": 10,
   "metadata": {},
   "outputs": [],
   "source": [
    "lyricsgenius_client = lyricsgenius.Genius(GENIUS_ACCESS_TOKEN)"
   ]
  },
  {
   "cell_type": "code",
   "execution_count": 7,
   "metadata": {},
   "outputs": [
    {
     "name": "stdout",
     "output_type": "stream",
     "text": [
      "(5245, 6)\n"
     ]
    }
   ],
   "source": [
    "tracks_info_df = pd.read_csv('datasets/tracks_info_df.csv')\n",
    "print(tracks_info_df.shape)"
   ]
  },
  {
   "cell_type": "code",
   "execution_count": 8,
   "metadata": {},
   "outputs": [
    {
     "name": "stdout",
     "output_type": "stream",
     "text": [
      "(5243, 6)\n"
     ]
    }
   ],
   "source": [
    "tracks_info_df = tracks_info_df[~tracks_info_df.isna().any(axis=1)].drop_duplicates(subset='track_id')\n",
    "print(tracks_info_df.shape)"
   ]
  },
  {
   "cell_type": "code",
   "execution_count": 37,
   "metadata": {},
   "outputs": [
    {
     "data": {
      "text/html": [
       "<div>\n",
       "<style scoped>\n",
       "    .dataframe tbody tr th:only-of-type {\n",
       "        vertical-align: middle;\n",
       "    }\n",
       "\n",
       "    .dataframe tbody tr th {\n",
       "        vertical-align: top;\n",
       "    }\n",
       "\n",
       "    .dataframe thead th {\n",
       "        text-align: right;\n",
       "    }\n",
       "</style>\n",
       "<table border=\"1\" class=\"dataframe\">\n",
       "  <thead>\n",
       "    <tr style=\"text-align: right;\">\n",
       "      <th></th>\n",
       "      <th>track_id</th>\n",
       "      <th>name</th>\n",
       "      <th>artistName</th>\n",
       "      <th>release_date</th>\n",
       "      <th>popularity</th>\n",
       "      <th>duration_ms</th>\n",
       "    </tr>\n",
       "  </thead>\n",
       "  <tbody>\n",
       "    <tr>\n",
       "      <th>0</th>\n",
       "      <td>6tAM5c0bJOwRqGAEgiNMpI</td>\n",
       "      <td>Solace Album Mix</td>\n",
       "      <td>Monstercat</td>\n",
       "      <td>2012-06-06</td>\n",
       "      <td>0</td>\n",
       "      <td>3538579</td>\n",
       "    </tr>\n",
       "    <tr>\n",
       "      <th>1</th>\n",
       "      <td>4mjgNE8R31AzxWfPNGtVMf</td>\n",
       "      <td>Best of 2015 (Album Mix)</td>\n",
       "      <td>Monstercat</td>\n",
       "      <td>2016-01-22</td>\n",
       "      <td>0</td>\n",
       "      <td>9158194</td>\n",
       "    </tr>\n",
       "    <tr>\n",
       "      <th>2</th>\n",
       "      <td>5Q0P0cX3e42PgKd8LLS3ms</td>\n",
       "      <td>Horizon Album Mix</td>\n",
       "      <td>Monstercat</td>\n",
       "      <td>2014-08-06</td>\n",
       "      <td>0</td>\n",
       "      <td>3623121</td>\n",
       "    </tr>\n",
       "    <tr>\n",
       "      <th>3</th>\n",
       "      <td>6jvMmRtSzoEibQGrQkSISQ</td>\n",
       "      <td>Monstercat Best of 2012</td>\n",
       "      <td>Monstercat</td>\n",
       "      <td>2013-02-04</td>\n",
       "      <td>0</td>\n",
       "      <td>6348017</td>\n",
       "    </tr>\n",
       "    <tr>\n",
       "      <th>4</th>\n",
       "      <td>1KzLyjpjIRHuuj4iX8QsC2</td>\n",
       "      <td>Monstercat Podcast EP. 100</td>\n",
       "      <td>Monstercat</td>\n",
       "      <td>2016-04-05</td>\n",
       "      <td>0</td>\n",
       "      <td>9744610</td>\n",
       "    </tr>\n",
       "  </tbody>\n",
       "</table>\n",
       "</div>"
      ],
      "text/plain": [
       "                 track_id                        name  artistName  \\\n",
       "0  6tAM5c0bJOwRqGAEgiNMpI            Solace Album Mix  Monstercat   \n",
       "1  4mjgNE8R31AzxWfPNGtVMf    Best of 2015 (Album Mix)  Monstercat   \n",
       "2  5Q0P0cX3e42PgKd8LLS3ms           Horizon Album Mix  Monstercat   \n",
       "3  6jvMmRtSzoEibQGrQkSISQ     Monstercat Best of 2012  Monstercat   \n",
       "4  1KzLyjpjIRHuuj4iX8QsC2  Monstercat Podcast EP. 100  Monstercat   \n",
       "\n",
       "  release_date  popularity  duration_ms  \n",
       "0   2012-06-06           0      3538579  \n",
       "1   2016-01-22           0      9158194  \n",
       "2   2014-08-06           0      3623121  \n",
       "3   2013-02-04           0      6348017  \n",
       "4   2016-04-05           0      9744610  "
      ]
     },
     "execution_count": 37,
     "metadata": {},
     "output_type": "execute_result"
    }
   ],
   "source": [
    "tracks_info_df.head(5)"
   ]
  },
  {
   "cell_type": "code",
   "execution_count": null,
   "metadata": {},
   "outputs": [
    {
     "name": "stdout",
     "output_type": "stream",
     "text": [
      "Searching for \"Solace Album Mix\" by Monstercat...\n",
      "An error occurred: [Errno 429] 429 Client Error: Too Many Requests for url: https://genius.com/api/search/multi?q=Solace+Album+Mix+Monstercat\n",
      "Rate limit reached. Waiting for 60 seconds...\n"
     ]
    }
   ],
   "source": [
    "lyrics_data = {}\n",
    "rate_limit_reached = False\n",
    "\n",
    "# Loop through the list of unique isrc values\n",
    "for i in range(95, len(tracks_info_df)):\n",
    "    while True:\n",
    "        try:\n",
    "            song = lyricsgenius_client.search_song(tracks_info_df.iloc[i]['name'], tracks_info_df.iloc[i]['artistName'])\n",
    "            track_id = tracks_info_df.iloc[i]['track_id']\n",
    "\n",
    "            if song is not None:\n",
    "                lyrics_data[track_id] = {\n",
    "                    'title_genius': song.title,\n",
    "                    'artist_genius': song.artist,\n",
    "                    'title_spotify': tracks_info_df.iloc[i]['name'],\n",
    "                    'artist_spotify': tracks_info_df.iloc[i]['artistName'],\n",
    "\n",
    "                    # remove garbage character from ads in the lyrics\n",
    "                    'lyrics': re.sub(r\"(?<!\\n)\\n(\\[)\", r\"\\n\\n\\1\", song.lyrics)\n",
    "                }\n",
    "            else:\n",
    "                lyrics_data[track_id] = {\n",
    "                    'title_genius': None,\n",
    "                    'artist_genius': None,\n",
    "                    'title_spotify': tracks_info_df.iloc[i]['name'],\n",
    "                    'artist_spotify': tracks_info_df.iloc[i]['artistName'],\n",
    "                    'lyrics': None\n",
    "                }\n",
    "\n",
    "            rate_limit_reached = False\n",
    "            break  # Exit the retry loop if the request is successful\n",
    "\n",
    "        except Exception as e:\n",
    "            print(f\"An error occurred: {e}\")\n",
    "            if not rate_limit_reached:\n",
    "                print(\"Rate limit reached. Waiting for 60 seconds...\")\n",
    "                rate_limit_reached = True\n",
    "            time.sleep(60)  # Wait for 60 seconds before retrying\n",
    "\n",
    "# Save the data to a CSV file\n",
    "lyrics_data_df = pd.DataFrame.from_dict(lyrics_data, orient='index')\n",
    "lyrics_data_df.to_csv('datasets/lyrics_data.csv')"
   ]
  }
 ],
 "metadata": {
  "kernelspec": {
   "display_name": "Python 3",
   "language": "python",
   "name": "python3"
  },
  "language_info": {
   "codemirror_mode": {
    "name": "ipython",
    "version": 3
   },
   "file_extension": ".py",
   "mimetype": "text/x-python",
   "name": "python",
   "nbconvert_exporter": "python",
   "pygments_lexer": "ipython3",
   "version": "3.11.7"
  }
 },
 "nbformat": 4,
 "nbformat_minor": 2
}
