{
 "cells": [
  {
   "cell_type": "markdown",
   "metadata": {},
   "source": [
    "# Libraries"
   ]
  },
  {
   "cell_type": "code",
   "execution_count": 1,
   "metadata": {},
   "outputs": [],
   "source": [
    "import pandas as pd\n",
    "import glob\n",
    "import requests\n",
    "import time"
   ]
  },
  {
   "cell_type": "markdown",
   "metadata": {},
   "source": [
    "# Data Loading"
   ]
  },
  {
   "cell_type": "code",
   "execution_count": 4,
   "metadata": {},
   "outputs": [
    {
     "name": "stderr",
     "output_type": "stream",
     "text": [
      "C:\\Users\\Kim\\AppData\\Local\\Temp\\ipykernel_2228\\2996977402.py:2: DtypeWarning: Columns (10) have mixed types. Specify dtype option on import or set low_memory=False.\n",
      "  stream_df = pd.read_csv('datasets/tracks_df_processed.csv')\n"
     ]
    }
   ],
   "source": [
    "# load the streaming history data\n",
    "stream_df = pd.read_csv('datasets/tracks_df_processed.csv')"
   ]
  },
  {
   "cell_type": "code",
   "execution_count": 9,
   "metadata": {},
   "outputs": [
    {
     "name": "stdout",
     "output_type": "stream",
     "text": [
      "(127961, 12)\n",
      "Index(['ts', 'platform', 'ms_played', 'track_name', 'artist_name',\n",
      "       'album_name', 'track_id', 'reason_start', 'reason_end', 'shuffle',\n",
      "       'skipped', 'offline'],\n",
      "      dtype='object')\n"
     ]
    }
   ],
   "source": [
    "print(stream_df.shape)\n",
    "print(stream_df.columns)"
   ]
  },
  {
   "cell_type": "code",
   "execution_count": 6,
   "metadata": {},
   "outputs": [],
   "source": [
    "# load the track info data\n",
    "track_info_df = pd.read_csv('datasets/tracks_info_df.csv')"
   ]
  },
  {
   "cell_type": "code",
   "execution_count": 10,
   "metadata": {},
   "outputs": [
    {
     "name": "stdout",
     "output_type": "stream",
     "text": [
      "(5172, 5)\n",
      "Index(['name', 'artistName', 'release_date', 'popularity', 'duration_ms'], dtype='object')\n"
     ]
    }
   ],
   "source": [
    "print(track_info_df.shape)\n",
    "print(track_info_df.columns)"
   ]
  },
  {
   "cell_type": "code",
   "execution_count": 7,
   "metadata": {},
   "outputs": [],
   "source": [
    "# load the track features data\n",
    "track_features_df = pd.read_csv('datasets/tracks_features_df.csv')"
   ]
  },
  {
   "cell_type": "code",
   "execution_count": 11,
   "metadata": {},
   "outputs": [
    {
     "name": "stdout",
     "output_type": "stream",
     "text": [
      "(5165, 12)\n",
      "Index(['danceability', 'energy', 'key', 'loudness', 'mode', 'speechiness',\n",
      "       'acousticness', 'instrumentalness', 'liveness', 'valence', 'tempo',\n",
      "       'time_signature'],\n",
      "      dtype='object')\n"
     ]
    }
   ],
   "source": [
    "print(track_features_df.shape)\n",
    "print(track_features_df.columns)"
   ]
  }
 ],
 "metadata": {
  "kernelspec": {
   "display_name": "Python 3",
   "language": "python",
   "name": "python3"
  },
  "language_info": {
   "codemirror_mode": {
    "name": "ipython",
    "version": 3
   },
   "file_extension": ".py",
   "mimetype": "text/x-python",
   "name": "python",
   "nbconvert_exporter": "python",
   "pygments_lexer": "ipython3",
   "version": "3.11.5"
  }
 },
 "nbformat": 4,
 "nbformat_minor": 2
}
