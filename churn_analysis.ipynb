{
 "cells": [
  {
   "cell_type": "markdown",
   "metadata": {},
   "source": [
    "# Libraries"
   ]
  },
  {
   "cell_type": "code",
   "execution_count": 1,
   "metadata": {},
   "outputs": [],
   "source": [
    "import pandas as pd\n",
    "import matplotlib.pyplot as plt\n",
    "import seaborn as sns\n",
    "import numpy as np"
   ]
  },
  {
   "cell_type": "markdown",
   "metadata": {},
   "source": [
    "# Data Loading"
   ]
  },
  {
   "cell_type": "code",
   "execution_count": 2,
   "metadata": {},
   "outputs": [
    {
     "name": "stdout",
     "output_type": "stream",
     "text": [
      "(129393, 24)\n"
     ]
    }
   ],
   "source": [
    "stream_df = pd.read_csv('datasets/tracks_df_cleaned.csv')\n",
    "print(stream_df.shape)"
   ]
  },
  {
   "cell_type": "markdown",
   "metadata": {},
   "source": [
    "# Feature Engineering"
   ]
  },
  {
   "cell_type": "markdown",
   "metadata": {},
   "source": [
    "## converting rows into its appropriate dtype"
   ]
  },
  {
   "cell_type": "code",
   "execution_count": 3,
   "metadata": {},
   "outputs": [],
   "source": [
    "# get the columns that we might need only\n",
    "stream_df = stream_df[['track_id', 'local_year', 'local_month', 'local_date', \\\n",
    "                        'artist_name', 'track_name', 'ms_played', 'duration_ms']].copy()"
   ]
  },
  {
   "cell_type": "code",
   "execution_count": 4,
   "metadata": {},
   "outputs": [
    {
     "data": {
      "text/plain": [
       "Index(['track_id', 'local_year', 'local_month', 'local_date', 'artist_name',\n",
       "       'track_name', 'ms_played', 'duration_ms'],\n",
       "      dtype='object')"
      ]
     },
     "execution_count": 4,
     "metadata": {},
     "output_type": "execute_result"
    }
   ],
   "source": [
    "stream_df.columns"
   ]
  },
  {
   "cell_type": "code",
   "execution_count": 5,
   "metadata": {},
   "outputs": [
    {
     "name": "stdout",
     "output_type": "stream",
     "text": [
      "<class 'pandas.core.frame.DataFrame'>\n",
      "RangeIndex: 129393 entries, 0 to 129392\n",
      "Data columns (total 8 columns):\n",
      " #   Column       Non-Null Count   Dtype \n",
      "---  ------       --------------   ----- \n",
      " 0   track_id     129393 non-null  object\n",
      " 1   local_year   129393 non-null  int64 \n",
      " 2   local_month  129393 non-null  int64 \n",
      " 3   local_date   129393 non-null  int64 \n",
      " 4   artist_name  129393 non-null  object\n",
      " 5   track_name   129393 non-null  object\n",
      " 6   ms_played    129393 non-null  int64 \n",
      " 7   duration_ms  129393 non-null  int64 \n",
      "dtypes: int64(5), object(3)\n",
      "memory usage: 7.9+ MB\n"
     ]
    }
   ],
   "source": [
    "stream_df.info()"
   ]
  },
  {
   "cell_type": "code",
   "execution_count": 6,
   "metadata": {},
   "outputs": [],
   "source": [
    "# convert the column into its appropriate data type\n",
    "stream_df['local_date'] = stream_df['local_date'].astype(str).str.zfill(2)\n",
    "stream_df['local_month'] = stream_df['local_month'].astype(str).str.zfill(2)\n",
    "stream_df['local_year'] = stream_df['local_year'].astype(str)\n",
    "\n",
    "stream_df['local_datetime'] = pd.to_datetime(stream_df['local_year'] + '-' + stream_df['local_month'] + '-' + stream_df['local_date'])\n",
    "stream_df.drop(['local_year', 'local_month', 'local_date'], axis=1, inplace=True)"
   ]
  },
  {
   "cell_type": "code",
   "execution_count": 12,
   "metadata": {},
   "outputs": [],
   "source": [
    "# aggregate the data into daily\n",
    "agg_stream_df = stream_df.groupby(['local_datetime', 'track_id']).agg(\n",
    "    {\n",
    "        'artist_name': 'first',\n",
    "        'track_name': 'first',\n",
    "        'duration_ms': 'first',\n",
    "        'ms_played': 'sum'\n",
    "    }\n",
    ").reset_index()\n",
    "\n",
    "# calculate the ms_played_ratio\n",
    "agg_stream_df['ms_played_ratio'] = agg_stream_df['ms_played'] / agg_stream_df['duration_ms']"
   ]
  },
  {
   "cell_type": "code",
   "execution_count": 13,
   "metadata": {},
   "outputs": [
    {
     "data": {
      "text/plain": [
       "(56168, 7)"
      ]
     },
     "execution_count": 13,
     "metadata": {},
     "output_type": "execute_result"
    }
   ],
   "source": [
    "agg_stream_df.shape"
   ]
  },
  {
   "cell_type": "markdown",
   "metadata": {},
   "source": [
    "## (optional) further cleaning"
   ]
  },
  {
   "cell_type": "code",
   "execution_count": 14,
   "metadata": {},
   "outputs": [],
   "source": [
    "# there are some rows with 0 duration_ms which is not possible, so we will remove them\n",
    "agg_stream_df = agg_stream_df[~((agg_stream_df['duration_ms'] == 0) | (agg_stream_df['ms_played_ratio'] == np.inf))].copy()"
   ]
  },
  {
   "cell_type": "code",
   "execution_count": 15,
   "metadata": {},
   "outputs": [
    {
     "name": "stdout",
     "output_type": "stream",
     "text": [
      "(56166, 7)\n"
     ]
    }
   ],
   "source": [
    "print(agg_stream_df.shape)"
   ]
  },
  {
   "cell_type": "markdown",
   "metadata": {},
   "source": [
    "## identifying 'churn' criteria"
   ]
  },
  {
   "cell_type": "code",
   "execution_count": 16,
   "metadata": {},
   "outputs": [
    {
     "data": {
      "text/html": [
       "<div>\n",
       "<style scoped>\n",
       "    .dataframe tbody tr th:only-of-type {\n",
       "        vertical-align: middle;\n",
       "    }\n",
       "\n",
       "    .dataframe tbody tr th {\n",
       "        vertical-align: top;\n",
       "    }\n",
       "\n",
       "    .dataframe thead th {\n",
       "        text-align: right;\n",
       "    }\n",
       "</style>\n",
       "<table border=\"1\" class=\"dataframe\">\n",
       "  <thead>\n",
       "    <tr style=\"text-align: right;\">\n",
       "      <th></th>\n",
       "      <th>local_datetime</th>\n",
       "      <th>track_id</th>\n",
       "      <th>artist_name</th>\n",
       "      <th>track_name</th>\n",
       "      <th>duration_ms</th>\n",
       "      <th>ms_played</th>\n",
       "      <th>ms_played_ratio</th>\n",
       "    </tr>\n",
       "  </thead>\n",
       "  <tbody>\n",
       "    <tr>\n",
       "      <th>25064</th>\n",
       "      <td>2020-07-13</td>\n",
       "      <td>2sekwUeZc97gGIcB0RVYBB</td>\n",
       "      <td>sad boy with a laptop</td>\n",
       "      <td>False Oasis</td>\n",
       "      <td>167190</td>\n",
       "      <td>167190</td>\n",
       "      <td>1.000000</td>\n",
       "    </tr>\n",
       "    <tr>\n",
       "      <th>28726</th>\n",
       "      <td>2021-01-12</td>\n",
       "      <td>4b7k4nNURGCRKlZqHXQV5g</td>\n",
       "      <td>Darren Korb</td>\n",
       "      <td>Mouth of Styx</td>\n",
       "      <td>466133</td>\n",
       "      <td>466118</td>\n",
       "      <td>0.999968</td>\n",
       "    </tr>\n",
       "    <tr>\n",
       "      <th>37636</th>\n",
       "      <td>2022-01-05</td>\n",
       "      <td>08RAd7JCZsIGOBHWj7bIXQ</td>\n",
       "      <td>Us The Duo</td>\n",
       "      <td>What Is Love</td>\n",
       "      <td>201310</td>\n",
       "      <td>201310</td>\n",
       "      <td>1.000000</td>\n",
       "    </tr>\n",
       "    <tr>\n",
       "      <th>25810</th>\n",
       "      <td>2020-08-05</td>\n",
       "      <td>3eYHhoaTGFYJ5XAjRFduUd</td>\n",
       "      <td>A Look At Yesterday</td>\n",
       "      <td>Who's That Knocking</td>\n",
       "      <td>137920</td>\n",
       "      <td>25541</td>\n",
       "      <td>0.185187</td>\n",
       "    </tr>\n",
       "    <tr>\n",
       "      <th>10950</th>\n",
       "      <td>2018-08-20</td>\n",
       "      <td>6g93YtKKHU2H1qIqhLIL0Y</td>\n",
       "      <td>Aimer</td>\n",
       "      <td>カタオモイ</td>\n",
       "      <td>207360</td>\n",
       "      <td>207360</td>\n",
       "      <td>1.000000</td>\n",
       "    </tr>\n",
       "  </tbody>\n",
       "</table>\n",
       "</div>"
      ],
      "text/plain": [
       "      local_datetime                track_id            artist_name  \\\n",
       "25064     2020-07-13  2sekwUeZc97gGIcB0RVYBB  sad boy with a laptop   \n",
       "28726     2021-01-12  4b7k4nNURGCRKlZqHXQV5g            Darren Korb   \n",
       "37636     2022-01-05  08RAd7JCZsIGOBHWj7bIXQ             Us The Duo   \n",
       "25810     2020-08-05  3eYHhoaTGFYJ5XAjRFduUd    A Look At Yesterday   \n",
       "10950     2018-08-20  6g93YtKKHU2H1qIqhLIL0Y                  Aimer   \n",
       "\n",
       "                track_name  duration_ms  ms_played  ms_played_ratio  \n",
       "25064          False Oasis       167190     167190         1.000000  \n",
       "28726        Mouth of Styx       466133     466118         0.999968  \n",
       "37636         What Is Love       201310     201310         1.000000  \n",
       "25810  Who's That Knocking       137920      25541         0.185187  \n",
       "10950                カタオモイ       207360     207360         1.000000  "
      ]
     },
     "execution_count": 16,
     "metadata": {},
     "output_type": "execute_result"
    }
   ],
   "source": [
    "agg_stream_df.sample(5)"
   ]
  },
  {
   "cell_type": "code",
   "execution_count": 17,
   "metadata": {},
   "outputs": [],
   "source": [
    "# calculate the difference between consecutive stream for each track daily\n",
    "def calculate_differences(df):\n",
    "    df['prev_play_time'] = df.groupby('track_id')['local_datetime'].shift(1)\n",
    "    df['time_diff'] = df['local_datetime'] - df['prev_play_time']\n",
    "\n",
    "    df['prev_ms_played'] = df.groupby('track_id')['ms_played'].shift(1)\n",
    "    df['duration_change'] = df['ms_played'] - df['prev_ms_played']\n",
    "    \n",
    "    df['prev_ratio'] = df.groupby('track_id')['ms_played_ratio'].shift(1)\n",
    "    df['ratio_change'] = df['ms_played_ratio'] - df['prev_ratio']\n",
    "    \n",
    "    return df"
   ]
  },
  {
   "cell_type": "code",
   "execution_count": 19,
   "metadata": {},
   "outputs": [
    {
     "data": {
      "text/html": [
       "<div>\n",
       "<style scoped>\n",
       "    .dataframe tbody tr th:only-of-type {\n",
       "        vertical-align: middle;\n",
       "    }\n",
       "\n",
       "    .dataframe tbody tr th {\n",
       "        vertical-align: top;\n",
       "    }\n",
       "\n",
       "    .dataframe thead th {\n",
       "        text-align: right;\n",
       "    }\n",
       "</style>\n",
       "<table border=\"1\" class=\"dataframe\">\n",
       "  <thead>\n",
       "    <tr style=\"text-align: right;\">\n",
       "      <th></th>\n",
       "      <th>local_datetime</th>\n",
       "      <th>track_id</th>\n",
       "      <th>artist_name</th>\n",
       "      <th>track_name</th>\n",
       "      <th>duration_ms</th>\n",
       "      <th>ms_played</th>\n",
       "      <th>ms_played_ratio</th>\n",
       "      <th>prev_play_time</th>\n",
       "      <th>time_diff</th>\n",
       "      <th>prev_ms_played</th>\n",
       "      <th>duration_change</th>\n",
       "      <th>prev_ratio</th>\n",
       "      <th>ratio_change</th>\n",
       "    </tr>\n",
       "  </thead>\n",
       "  <tbody>\n",
       "    <tr>\n",
       "      <th>5420</th>\n",
       "      <td>2017-10-07</td>\n",
       "      <td>3b1gPWKiAsWXe6bPjE2rm1</td>\n",
       "      <td>Four Tet</td>\n",
       "      <td>My Angel Rocks Back And Forth</td>\n",
       "      <td>307333</td>\n",
       "      <td>5999</td>\n",
       "      <td>0.019520</td>\n",
       "      <td>NaT</td>\n",
       "      <td>NaT</td>\n",
       "      <td>NaN</td>\n",
       "      <td>NaN</td>\n",
       "      <td>NaN</td>\n",
       "      <td>NaN</td>\n",
       "    </tr>\n",
       "    <tr>\n",
       "      <th>21669</th>\n",
       "      <td>2020-02-02</td>\n",
       "      <td>50ZYOlB1HZqYZTzhUhOr3f</td>\n",
       "      <td>frad</td>\n",
       "      <td>The Girl I Have a Crush On</td>\n",
       "      <td>137534</td>\n",
       "      <td>2341</td>\n",
       "      <td>0.017021</td>\n",
       "      <td>2020-01-08</td>\n",
       "      <td>25 days</td>\n",
       "      <td>275399.0</td>\n",
       "      <td>-273058.0</td>\n",
       "      <td>2.002407</td>\n",
       "      <td>-1.985385</td>\n",
       "    </tr>\n",
       "    <tr>\n",
       "      <th>41012</th>\n",
       "      <td>2022-08-04</td>\n",
       "      <td>40xywqW4aDWTdh8OIY3ZfT</td>\n",
       "      <td>Wasia Project</td>\n",
       "      <td>Burning Eyes R Calling</td>\n",
       "      <td>313491</td>\n",
       "      <td>73153</td>\n",
       "      <td>0.233350</td>\n",
       "      <td>2022-08-03</td>\n",
       "      <td>1 days</td>\n",
       "      <td>335851.0</td>\n",
       "      <td>-262698.0</td>\n",
       "      <td>1.071326</td>\n",
       "      <td>-0.837976</td>\n",
       "    </tr>\n",
       "    <tr>\n",
       "      <th>20668</th>\n",
       "      <td>2019-12-24</td>\n",
       "      <td>50ZYOlB1HZqYZTzhUhOr3f</td>\n",
       "      <td>frad</td>\n",
       "      <td>The Girl I Have a Crush On</td>\n",
       "      <td>137534</td>\n",
       "      <td>137534</td>\n",
       "      <td>1.000000</td>\n",
       "      <td>2019-12-21</td>\n",
       "      <td>3 days</td>\n",
       "      <td>137534.0</td>\n",
       "      <td>0.0</td>\n",
       "      <td>1.000000</td>\n",
       "      <td>0.000000</td>\n",
       "    </tr>\n",
       "    <tr>\n",
       "      <th>1069</th>\n",
       "      <td>2017-03-22</td>\n",
       "      <td>5IJbTPhcj0IjdzUaYqwe2I</td>\n",
       "      <td>Pink Guy</td>\n",
       "      <td>Stfu</td>\n",
       "      <td>224493</td>\n",
       "      <td>224493</td>\n",
       "      <td>1.000000</td>\n",
       "      <td>2017-03-21</td>\n",
       "      <td>1 days</td>\n",
       "      <td>675298.0</td>\n",
       "      <td>-450805.0</td>\n",
       "      <td>3.008103</td>\n",
       "      <td>-2.008103</td>\n",
       "    </tr>\n",
       "  </tbody>\n",
       "</table>\n",
       "</div>"
      ],
      "text/plain": [
       "      local_datetime                track_id    artist_name  \\\n",
       "5420      2017-10-07  3b1gPWKiAsWXe6bPjE2rm1       Four Tet   \n",
       "21669     2020-02-02  50ZYOlB1HZqYZTzhUhOr3f           frad   \n",
       "41012     2022-08-04  40xywqW4aDWTdh8OIY3ZfT  Wasia Project   \n",
       "20668     2019-12-24  50ZYOlB1HZqYZTzhUhOr3f           frad   \n",
       "1069      2017-03-22  5IJbTPhcj0IjdzUaYqwe2I       Pink Guy   \n",
       "\n",
       "                          track_name  duration_ms  ms_played  ms_played_ratio  \\\n",
       "5420   My Angel Rocks Back And Forth       307333       5999         0.019520   \n",
       "21669     The Girl I Have a Crush On       137534       2341         0.017021   \n",
       "41012         Burning Eyes R Calling       313491      73153         0.233350   \n",
       "20668     The Girl I Have a Crush On       137534     137534         1.000000   \n",
       "1069                            Stfu       224493     224493         1.000000   \n",
       "\n",
       "      prev_play_time time_diff  prev_ms_played  duration_change  prev_ratio  \\\n",
       "5420             NaT       NaT             NaN              NaN         NaN   \n",
       "21669     2020-01-08   25 days        275399.0        -273058.0    2.002407   \n",
       "41012     2022-08-03    1 days        335851.0        -262698.0    1.071326   \n",
       "20668     2019-12-21    3 days        137534.0              0.0    1.000000   \n",
       "1069      2017-03-21    1 days        675298.0        -450805.0    3.008103   \n",
       "\n",
       "       ratio_change  \n",
       "5420            NaN  \n",
       "21669     -1.985385  \n",
       "41012     -0.837976  \n",
       "20668      0.000000  \n",
       "1069      -2.008103  "
      ]
     },
     "execution_count": 19,
     "metadata": {},
     "output_type": "execute_result"
    }
   ],
   "source": [
    "agg_stream_interactions = calculate_differences(agg_stream_df.copy())\n",
    "agg_stream_interactions.sample(5)"
   ]
  },
  {
   "cell_type": "code",
   "execution_count": 20,
   "metadata": {},
   "outputs": [
    {
     "data": {
      "text/plain": [
       "count    45827.000000\n",
       "mean         4.018308\n",
       "std          5.126654\n",
       "min          1.000000\n",
       "25%          1.000000\n",
       "50%          2.000000\n",
       "75%          5.000000\n",
       "max         29.000000\n",
       "Name: time_diff, dtype: float64"
      ]
     },
     "execution_count": 20,
     "metadata": {},
     "output_type": "execute_result"
    }
   ],
   "source": [
    "time_diff_days = agg_stream_interactions['time_diff'].dropna().dt.days\n",
    "time_diff_days[time_diff_days < 30].describe()\n"
   ]
  },
  {
   "cell_type": "code",
   "execution_count": 21,
   "metadata": {},
   "outputs": [
    {
     "data": {
      "image/png": "[encoded data removed]",
      "text/plain": [
       "<Figure size 1000x600 with 1 Axes>"
      ]
     },
     "metadata": {},
     "output_type": "display_data"
    }
   ],
   "source": [
    "# visualize the distribution of time_diff with less than 30 days\n",
    "plt.figure(figsize=(10, 6))\n",
    "sns.histplot(time_diff_days[time_diff_days < 30], bins=30, kde=True)\n",
    "plt.title('Distribution of time_diff in days')\n",
    "plt.xlabel('Days')\n",
    "plt.ylabel('Frequency')\n",
    "plt.show()"
   ]
  },
  {
   "cell_type": "code",
   "execution_count": 22,
   "metadata": {},
   "outputs": [
    {
     "data": {
      "text/plain": [
       "count    18584.000000\n",
       "mean        -1.367194\n",
       "std          1.502783\n",
       "min         -9.999871\n",
       "25%         -1.731661\n",
       "50%         -0.999925\n",
       "75%         -0.573260\n",
       "max         -0.000003\n",
       "Name: ratio_change, dtype: float64"
      ]
     },
     "execution_count": 22,
     "metadata": {},
     "output_type": "execute_result"
    }
   ],
   "source": [
    "agg_stream_interactions[(agg_stream_interactions['ratio_change'] < 0) &\n",
    "                    (agg_stream_interactions['ratio_change'] > -10)]['ratio_change'].describe()"
   ]
  },
  {
   "cell_type": "code",
   "execution_count": 23,
   "metadata": {},
   "outputs": [
    {
     "data": {
      "image/png": "[encoded data removed]",
      "text/plain": [
       "<Figure size 1000x600 with 1 Axes>"
      ]
     },
     "metadata": {},
     "output_type": "display_data"
    }
   ],
   "source": [
    "# Visualize the distribution of ratio_change\n",
    "plt.figure(figsize=(10, 6))\n",
    "filtered_data = agg_stream_interactions[(agg_stream_interactions['ratio_change'] > -10) \n",
    "                                    & (agg_stream_interactions['ratio_change'] < 0)]\n",
    "sns.histplot(filtered_data['ratio_change'], bins=30, kde=True)\n",
    "plt.title('Distribution of ratio_change')\n",
    "plt.xlabel('Ratio Change')\n",
    "plt.ylabel('Frequency')\n",
    "plt.show()\n"
   ]
  }
 ],
 "metadata": {
  "kernelspec": {
   "display_name": "my-spotify-usage-analysis-NVlvvVsM-py3.11",
   "language": "python",
   "name": "python3"
  },
  "language_info": {
   "codemirror_mode": {
    "name": "ipython",
    "version": 3
   },
   "file_extension": ".py",
   "mimetype": "text/x-python",
   "name": "python",
   "nbconvert_exporter": "python",
   "pygments_lexer": "ipython3",
   "version": "3.11.9"
  }
 },
 "nbformat": 4,
 "nbformat_minor": 2
}
